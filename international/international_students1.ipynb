{
 "cells": [
  {
   "attachments": {},
   "cell_type": "markdown",
   "metadata": {},
   "source": [
    "Please watch all the YouTube videos introduced on this page and take the test on the specified site. Attendance will be considered by answering the quiz.\n",
    "\n",
    "\n",
    "<iframe width=\"640\" height=\"360\" src=\"https://web.microsoftstream.com/embed/video/d91367cb-32a9-465a-84ab-13c1817f0845?autoplay=false&showinfo=true\" allowfullscreen style=\"border:none;\"></iframe>\n",
    "\n",
    "<iframe width=\"640\" height=\"360\" src=\"https://web.microsoftstream.com/embed/video/f2769757-e911-4c70-ad34-40f47098e845?autoplay=false&showinfo=true\" allowfullscreen style=\"border:none;\"></iframe>\n",
    "\n",
    "\n",
    "## 1.4 What is data science?\n",
    "\n",
    "\n",
    "### How it differs from ChatGPT\n",
    "\n",
    "ChatGPT, which is currently a hot topic, is an artificial intelligence called **generative AI**. \n",
    "Recent AI processes large amounts of data and acquires that information as knowledge. \n",
    "\n",
    "AI can draw or write like a human. Furthermore, AI can handle programming that is difficult for ordinary people.\n",
    "\n",
    "Data science, on the other hand, also processes data to derive knowledge. Until the advent of generative AI, A major AI challenge was classification and regression. Classification refers to, for example, distinguishing subjects in photographs as people, dogs, cars, buildings, and so on. Regression, on the other hand, means predicting a number, such as tomorrow's temperature or next year's stock index. In this regard, there was little difference between data science and AI.   \n",
    "\n",
    "\n",
    "<iframe width=\"560\" height=\"315\" src=\"https://www.youtube.com/embed/9rRLo4nFc3A\" title=\"YouTube video player\" frameborder=\"0\" allow=\"accelerometer; autoplay; clipboard-write; encrypted-media; gyroscope; picture-in-picture; web-share\" allowfullscreen></iframe>\n",
    "\n",
    "\n",
    "On the other hand, one of the challenges of data science is to elucidate the relationship between cause and effect (causality). \n",
    "\n",
    "\n",
    "<iframe width=\"560\" height=\"315\" src=\"https://www.youtube.com/embed/Od6oAz1Op2k\" title=\"YouTube video player\" frameborder=\"0\" allow=\"accelerometer; autoplay; clipboard-write; encrypted-media; gyroscope; picture-in-picture; web-share\" allowfullscreen></iframe>\n",
    "\n",
    "\n",
    "For example, considering the relationship between lung cancer and tobacco based on clinical and experimental data is an important issue for data science. Currently, AI is not good at considering causal relationships. Of course, for events whose causal relationships are already known as knowledge, as long as they are provided as information on the Internet, AI can align the cause and effect. However, it seems difficult for current AI to find out the cause of newly encountered events. AI cannot output what it has not learned from data in the first place. However, even if a person encounters an event that they have never experienced in the past, they can infer the cause to some extent from their past knowledge and experience (however, following experience often leads to a judgment based on prejudice or misunderstanding). \n",
    "\n",
    "However, recent advances in AI technology are rapid, and the day may soon come when AI will acquire the same ability as humans in recognizing causal relationships. If you are interested in this area, please read the following books.\n",
    "\n",
    "\n",
    "\n",
    "\n",
    "![The science of causal inference How to answer the question \"Why?\"](https://m.media-amazon.com/images/I/513O3cWwnsL._SX344_BO1,204,203,200_.jpg)\n",
    "![The Book of Why: The New Science of Cause and Effect ](https://m.media-amazon.com/images/I/41xnPwF3LEL._SY291_BO1,204,203,200_QL40_ML2_.jpg)"
   ]
  },
  {
   "attachments": {},
   "cell_type": "markdown",
   "metadata": {},
   "source": [
    "## Purpose of this course\n",
    "\n",
    "\n",
    "In this course, you will learn about the application of data analysis that is slightly different from the generative AI that is currently popular. It is a way to have evidence in your judgment when you do professional research at university or when you become a member of society. Evidence here refers to the data and the proper handling of the data.\n",
    "\n",
    "Evidence is grounds.\n",
    "\n",
    "There is an expression \"Evidence-Based\". For example, the abbreviations EBM (Evidence-Based Medicine) and **EBPM** (Evidence-Based Policy Making) are often used.\n",
    "EBPM was made famous by the “Commission on Evidence-based Policymaking Act of 2016” passed in 2016 with the support of bipartisan lawmakers under the Obama administration in the United States.\n",
    "\n",
    "[External site: US Congress site](https://www.congress.gov/bill/114th-congress/house-bill/1831/text)\n",
    "\n",
    "When we say evidence in these bills and experimental verifications, we mean data. It verifies the size of the effect of a certain measure based on the actual observed values.\n",
    "Comments such as \"Society has improved thanks to volunteers\" or \"Thanks to the free distribution of textbooks in school, I was able to go on to higher education\" are very important, but it is not possible to judge whether or not there was an overall effect. It's just that there are people who evaluate the measures, and such voices may come from the proponents and vendors of the measures.\n",
    "Evidence-Based can also be called \"Data-Driven\". It means making decisions based on data.\n",
    "\n"
   ]
  },
  {
   "attachments": {},
   "cell_type": "markdown",
   "metadata": {},
   "source": [
    "## Big Data\n",
    "\n",
    "\n",
    "\n",
    "In today's world, where computers have increased processing power and extremely large storage capacities, not only a database of words (also called a corpus) but also a large amount of various data are stored. For example, convenience stores have long stored when and where items were purchased in association with purchaser attributes (age and gender) (POS system).\n",
    "\n",
    "<iframe width=\"560\" height=\"315\" src=\"https://www.youtube.com/embed/Uipj8i2zqP0\" title=\"YouTube video player\" frameborder=\"0\" allow=\"accelerometer; autoplay; clipboard-write; encrypted-media; gyroscope; picture-in-picture; web-share\" allowfullscreen></iframe>\n",
    "\n",
    "\n",
    "A POS system is a system that records the customer's attributes (gender and age), including the month, day, time, and minute, and what store the customer purchased. Convenience stores and supermarkets analyze this information and actively promote the confirmation of products that sell well and the development of services and products. As a famous example, when a major American supermarket analyzed POS data, it was found that \"beer\" and \"diapers\" are often bought together before holidays.\n",
    "\n",
    "Also, from the history data of customers who use convenience store cards or smartphone apps to make purchases, we can see that the same customer has purchased a certain product over and over again. Repeat customers are important targets for the convenience store industry.\n",
    "\n",
    "\n",
    "This huge amount of data is called **big data**.\n",
    "\n"
   ]
  },
  {
   "attachments": {},
   "cell_type": "markdown",
   "metadata": {},
   "source": [
    "## Image recognition \n",
    "\n",
    "Image recognition is already established as a technology and is used in every situation. If you use Facebook, Google Photos, etc., uploaded images will be automatically sorted, and payment by face recognition is being introduced at convenience stores. At online shopping Amazon, customers who enter the store select products, complete the payment and leave the store, which is completely unmanned. \n",
    "\n",
    "[External site: Amazon](https://www.amazon.jobs/jp/business_categories/amazongo)\n",
    "\n",
    "\n",
    "<iframe width=\"560\" height=\"315\" src=\"https://www.youtube.com/embed/NrmMk1Myrxc\" frameborder=\"0\" allow=\"accelerometer; autoplay; encrypted-media; gyroscope; picture-in -picture\"allowfullscreen></iframe>\n",
    "\n",
    "AmazonGo does not attach tags to the products, but rather, the numerous cameras installed in the store recognize the faces of the customers and list the products that the customers have picked up and decided to purchase (or are judged to have decided to purchase). Then, when the store opens, it will be withdrawn from the registered cash card.\n",
    "\n",
    "(In addition, there is an opinion that cashless payment is discriminatory against people who do not have a credit card, so employees are currently assigned to Amazon Go stores and payments are also m\n",
    "\n",
    "\n",
    "\n",
    "Also, Generative AI generates words or images from the results of learning based on a large amount of image and language data.\n",
    "\n",
    "\n",
    "\n",
    "<iframe width=\"560\" height=\"315\" src=\"https://www.youtube.com/embed/EPdC3Wn20nQ\" title=\"YouTube video player\" frameborder=\"0\" allow=\"accelerometer; autoplay; clipboard-write; encrypted-media; gyroscope; picture-in-picture; web-share\" allowfullscreen></iframe>\n",
    "\n"
   ]
  },
  {
   "attachments": {},
   "cell_type": "markdown",
   "metadata": {},
   "source": [
    "## AI and Data Science\n",
    "\n",
    "\n",
    "AI is a technology developed to reproduce human intelligence in machines. For example, in image recognition technology, it can be said that we have reproduced the function of processing information that humans receive through their eyes. In addition, machine translation, which replaces human language ability, and speech recognition, which attempts to mechanically process information received by ear, originally started from attempts to realize the mechanism of human cognition by machines. \n",
    "\n",
    "AI and data science originally developed separately, but recently they are often used interchangeably. This is because AI and data science have common purposes and methods in terms of application. In the early days of AI research, research focused on what kind of model human intelligence can be reproduced and how it can be programmed.\n",
    "\n",
    "Most of today's AI uses a technique called \"Deep learning\". On the other hand, in data science, a technique called \"machine learning\" is often used.\n",
    "Deep learning is also a type of machine learning.\n",
    "\n",
    "\n",
    "Machine learning is a powerful tool for classifying data or predicting the future from data using the concepts of probability and statistics. However, data science often uses statistical methods that have developed as methods for analyzing small-scale data (tens or hundreds of pieces). Especially in the field of experimental systems, there are still many cases where deep learning and machine learning methods cannot be applied due to the small amount of data that can be obtained.\n",
    "\n",
    "\n",
    "In this course, we will introduce a wide range of theories, methods, and applications of data science, from statistics in a narrow sense to the field of artificial intelligence."
   ]
  },
  {
   "attachments": {},
   "cell_type": "markdown",
   "metadata": {},
   "source": [
    "## Please answer the quiz\n",
    "\n",
    "After reading this content, go to [manaba's page](https://manaba.lms.tokushima-u.ac.jp/ct/course_894354_queryadm_preview_961204?showqid=1), which is a university class site. please login with your c account. \n",
    "And answer the **\"1st week quiz (everyone must answer)\"** . By answering, it is assumed that you attended the first week's lecture. \n"
   ]
  }
 ],
 "metadata": {
  "kernelspec": {
   "display_name": "Python 3",
   "language": "python",
   "name": "python3"
  },
  "language_info": {
   "codemirror_mode": {
    "name": "ipython",
    "version": 3
   },
   "file_extension": ".py",
   "mimetype": "text/x-python",
   "name": "python",
   "nbconvert_exporter": "python",
   "pygments_lexer": "ipython3",
   "version": "3.10.10"
  },
  "orig_nbformat": 4
 },
 "nbformat": 4,
 "nbformat_minor": 2
}
