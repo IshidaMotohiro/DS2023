{
 "cells": [
  {
   "attachments": {},
   "cell_type": "markdown",
   "id": "ce67a836",
   "metadata": {},
   "source": [
    "# Week 7: Machine Learning"
   ]
  },
  {
   "attachments": {},
   "cell_type": "markdown",
   "id": "39f3fc1a",
   "metadata": {},
   "source": [
    "<span style=\"color: red; \">Key Points of Today's Lecture</span>\n",
    "\n",
    "<iframe width=\"560\" height=\"315\" src=\"https://www.youtube.com/embed/EuBBz3bI-aA\" frameborder=\"0\" allow=\"accelerometer; autoplay; encrypted-media; gyroscope; picture-in-picture\" allowfullscreen></iframe>"
   ]
  },
  {
   "attachments": {},
   "cell_type": "markdown",
   "id": "38004726",
   "metadata": {},
   "source": [
    "In the following, URLs to videos (Youtube) explaining the content of this lecture in about 5 minutes are inserted here and there for the benefit of international students.\n",
    "\n",
    "We have chosen short videos that are easy to listen to in English and easy to understand, so we hope that Japanese native students will enjoy watching them as well."
   ]
  },
  {
   "attachments": {},
   "cell_type": "markdown",
   "id": "d9a46e28",
   "metadata": {},
   "source": [
    "## What is Machine Learning?"
   ]
  },
  {
   "attachments": {},
   "cell_type": "markdown",
   "id": "1b0a1fa5",
   "metadata": {},
   "source": [
    "The term AI, artificial intelligence, is being used more and more frequently. In fact, when we speak of AI in general, it almost always includes the statistical tests we learned last week and the machine learning techniques we are learning today."
   ]
  },
  {
   "attachments": {},
   "cell_type": "markdown",
   "id": "94e42068",
   "metadata": {},
   "source": [
    "The term \"machine learning\" may be unfamiliar to you, but it is a technology that is already used in many aspects of our daily lives. Examples of applications are countless, including anti-spam measures for e-mail, credit card fraud detection, image recognition, product recommendations on Amazon, etc., medical diagnosis, stock trading, customer segmentation, and many more.\n",
    "\n",
    "<span style=\"color: red; \">Key Points of Today's Lecture</span>\n",
    "\n",
    "<iframe width=\"560\" height=\"315\" src=\"https://www.youtube.com/embed/ukzFI9rgwfU\" frameborder=\"0\" allow=\"accelerometer; autoplay; encrypted-media; gyroscope; picture-in-picture\" allowfullscreen></iframe>\n",
    "\n",
    "(If you have trouble hearing English, turn on subtitles in the lower right corner of the screen.)"
   ]
  },
  {
   "attachments": {},
   "cell_type": "markdown",
   "id": "ad1e4c77",
   "metadata": {},
   "source": [
    "Just as humans acquire knowledge by learning from experience (data), machine learning acquires knowledge by learning from accumulated data. However, because it is a machine, it can handle a large amount of data at once, which humans cannot process. On the other hand, while humans are good at grasping the characteristics of things through perception, machines are able to find features that cannot be captured by human perception. On the other hand, machines still have difficulty doing things that humans do easily in everyday life (e.g., \"reading the air\" in Japanese is something machines will not be able to do...probably not for a while).\n",
    "\n",
    "Machine learning is realized by a combination of mathematical theory, the technology to realize it on computers, and a large amount of data. In this class, we will focus on the technology to realize machine learning on computers and introduce some simple applications."
   ]
  },
  {
   "attachments": {},
   "cell_type": "markdown",
   "id": "a975bca5",
   "metadata": {},
   "source": [
    "## Core Data Science Technologies"
   ]
  },
  {
   "attachments": {},
   "cell_type": "markdown",
   "id": "9e798f04",
   "metadata": {},
   "source": [
    "Statistical tests have been developed for the analysis of rather small data (sample size of about two digits). In small-scale data, it is difficult to distinguish meaningful differences from meaningless differences, but in traditional statistics, assumptions about probability distributions and rigorous analysis procedures enable decision-making based on the data.\n",
    "\n",
    "Machine learning, on the other hand, targets relatively large data sets. The goal of machine learning is to **learn** data and then **predict** from newly available data based on the learned results (models). Machine learning is a core technology in data science and has an extremely wide range of applications."
   ]
  },
  {
   "attachments": {},
   "cell_type": "markdown",
   "id": "bcb86cf2",
   "metadata": {},
   "source": [
    "## Learning"
   ]
  },
  {
   "attachments": {},
   "cell_type": "markdown",
   "id": "209f0d67",
   "metadata": {},
   "source": [
    "Machine learning is a technique for learning from data, which can be divided into three main categories in terms of how the learning is performed.\n",
    "\n",
    "1. supervised learning\n",
    "2. unsupervised learning\n",
    "3. reinforcement learning"
   ]
  },
  {
   "attachments": {},
   "cell_type": "markdown",
   "id": "7005292b",
   "metadata": {},
   "source": [
    "### supervised learning"
   ]
  },
  {
   "attachments": {},
   "cell_type": "markdown",
   "id": "e8dcf245",
   "metadata": {},
   "source": [
    "For example, let us assume that we want to predict which party a voter will vote for in an election based on the attributes of the voters. Here, attributes include age, gender, education, income, place of residence, and so on. Another way to look at it is to know what attributes are common to those who vote for a particular party. The idea is that individuals with similar attributes will have similar political parties (or voting behavior) to vote for.\n",
    "\n",
    "Suppose we have **Attribute Data A** that records these attributes for the voting behavior of 1,000 voters. On the other hand, we have **Vote Data B**, which records the names of the political parties that the voters registered in Data A have voted for in the past. Machine learning is used to learn the relationship between attribute data A and voting data B. Here, we call the parties they voted for in the past as labels. Machine learning learns the relationship between **labels** and various attributes from the data. It is **supervised learning** that discovers the rules that lead to the correct answer, voting data B, from attribute data A.\n",
    "\n",
    "Once the results of such learning (called a learned model, etc., but \"model\" is discussed below) have been obtained, given another set of people's **attribute data C**, it becomes possible to predict the party they will vote for (voting result D) based on the attribute information of the voters registered in data C. In other words, the people in attribute data C can be used as the \"voting results\" of the voters in data C. In other words, it is equivalent to dividing the people in attribute data C into \"Liberal Democratic Party,\" \"Constitutional Democratic Party,\" \"Communist Party,\" etc. Such an assignment is called **classification**.\n",
    "\n",
    "On the other hand, suppose that information on the annual income of all the voters registered in attribute data A is obtained as **annual income data E**. In this case, the relationship between attribute data A and annual income data E can be learned. If the learning is successful, we can predict their annual income from attribute data C for another group of people. For example, if a woman has a graduate degree in actuarial sciences, we can predict what her annual income would be. This assignment is not about which label (party) they belong to, but about predicting how much of a number (annual income) they will have. This task is called **regression**.\n",
    "\n",
    "In other words, in supervised learning, we learn from the data the relationship between some input (attribute data A) and an already existing output (vote data B or income data E), and based on this learning, we attempt to predict an unknown, unobtainable output (label or number) from a new input (attribute data C)."
   ]
  },
  {
   "attachments": {},
   "cell_type": "markdown",
   "id": "d04ec7fd",
   "metadata": {},
   "source": [
    "### Unsupervised learning"
   ]
  },
  {
   "attachments": {},
   "cell_type": "markdown",
   "id": "a207dd68",
   "metadata": {},
   "source": [
    "In the unsupervised learning described above, for the data to be learned (attribute data A), political party data B and annual income data E were given at the same time. In contrast, in **unsupervised learning**, no data other than the data to be learned (attribute data A) is given.\n",
    "\n",
    "However, from the attribute data A, we want to group people who seem to share the same hobbies and preferences. Or, we want to find a group of people who are likely to become a couple within the next few years, or even a pair of people who are compatible as a couple. We want to find a group of people who are likely to go bankrupt within the next few years, or who are likely to become obese within the next few years. We want to find a group of people whose annual income is likely to double from what it is now, or other such issues. In each case, the given data does not contain the correct answer. Unsupervised learning is the process of finding rules to derive the correct answer from the given data alone.\n",
    "\n",
    "A well-known example is determining whether an email is spam or not. The email itself does not (of course) contain labels such as \"this email is spam\" or \"this email is not spam. In unsupervised learning, learning is performed to determine whether an incoming email is or is not spam based on the text and other characteristics of the email. (If a historical data set of unsolicited and non-unsolicited e-mails is provided from the beginning and the system learns from that data, it is called supervised learning. However, since unsolicited e-mails are often cleverly expressed in different ways to avoid detection by anti-virus software, it will be difficult to determine whether an e-mail is unsolicited or not if the model learned once is used as it is.)\n",
    "\n",
    "Another somewhat special example of unsupervised learning is to predict the irregular increase in the percentage of defective products in a certain production line. In this case, the system is expected to predict signs of an increase in the percentage of defective products using attributes from the manufacturing machinery and environment (e.g., time of day, motor speed, room temperature, etc.) as input. This is called anomaly detection."
   ]
  },
  {
   "attachments": {},
   "cell_type": "markdown",
   "id": "e1132294",
   "metadata": {},
   "source": [
    "### Reinforcement Learning"
   ]
  },
  {
   "attachments": {},
   "cell_type": "markdown",
   "id": "7e09bd8a",
   "metadata": {},
   "source": [
    "Reinforcement learning is similar to supervised learning, but the label itself is not given. The learning model takes some action in a certain state (environment) and obtains a reward for that action (processing). The learning model learns to maximize the reward by itself. The basic idea of reinforcement learning is that, through this process, a method to maximize prediction accuracy is acquired.\n",
    "\n",
    "Reinforcement learning is used in Google's AlphaGo, which defeated the human Go world champion, and is also applied in self-driving technology.\n",
    "\n",
    "This book does not explain reinforcement learning, but interested readers may look it up on search engines using keywords such as \"AlphaGo\"."
   ]
  },
  {
   "attachments": {},
   "cell_type": "markdown",
   "id": "2345242b",
   "metadata": {},
   "source": [
    "### Regression and Clustering"
   ]
  },
  {
   "attachments": {},
   "cell_type": "markdown",
   "id": "cb3b170f",
   "metadata": {},
   "source": [
    "This week, we will introduce regression analysis and cluster analysis as representative methods for predicting numerical values or labels. However, neither regression analysis nor cluster analysis is very accurate in terms of prediction. In machine learning, many methods with higher prediction accuracy have been devised.\n",
    "\n",
    "However, simply changing the analysis method to a more advanced method is generally not sufficient to improve prediction accuracy. Before applying an analytical method, preliminary work such as selection and adjustment of input data is also very important. These tasks will be presented in the next week's statistical modeling. First, we will learn the concept of fitting models to data."
   ]
  },
  {
   "attachments": {},
   "cell_type": "markdown",
   "id": "21bcc121",
   "metadata": {},
   "source": [
    "### *Summary video 1 so far (this is a recording of a past lecture)\n",
    "\n",
    "<font color=\"red\">Recording of Ishida's lecture</font>\n",
    "<iframe width=\"640\" height=\"360\" src=\"https://web.microsoftstream.com/embed/video/4089cb3d-f87c-494f-9bb9-d3ff5436b842?autoplay=false&showinfo=true\" allowfullscreen style=\"border:none;\"></iframe>"
   ]
  },
  {
   "attachments": {},
   "cell_type": "markdown",
   "id": "00a483bd",
   "metadata": {},
   "source": [
    "## Model"
   ]
  },
  {
   "attachments": {},
   "cell_type": "markdown",
   "id": "61c2655a",
   "metadata": {},
   "source": [
    "In supervised machine learning, models are generally applied to data.\n",
    "A model is a representation of the mechanism of how the variable ($y$) to be predicted or classified is generated.\n",
    "\n",
    "For example, $y = x_1 + x_2 + x_3$ means that the value of the variable $y$ to be predicted or classified (in the example explained above, party data B and income data E) is generated by three other variables ($x_1,x_2,x_3$). \n",
    "which is determined by another three variables (attribute data A in the previous example). However, in some cases, among $x_1,x_2,x_3$, $x_1$ has the most influence on $y$, $x_3$ has the next strongest influence, and $x_2$'s influence may not be as strong. In this case, the influence is expressed by multiplying each of the variables $x_1,x_2,x_3$ by a numerical value, as in $y = 0.6 x_1 + 0.1 x_2 + 0.3 x_3$. The numerical values representing the degree of influence are called coefficients.\n",
    " \n",
    "Thus, the mechanism by which $y$ is generated is expressed as $y = 0.6 x_1 + 0.3 x_2 + 0.1 x_3$, etc. This is the **model**.\n",
    "\n",
    "However, it is common in data science that we do not know the actual mechanism by which the variable $y$ is generated.\n",
    "\n",
    "Nor would we be able to get all the variables that would affect $y$. In other words, the influence of variables such as $x_4,x_5,x_6$ (or, in the case of attribute data A, parental wealth, friendships, etc.) should really be taken into account, but they may not be measured, or we may not be aware of the existence of such factors in the first place. .\n",
    "\n",
    "The analyst's model of $y = 0.6 x_1 + 0.3 x_2 + 0.1 x_3$ may not correctly reflect how $y$ is determined in reality. It may not be correct, but if we can predict or classify $y$ with a high degree of accuracy, we can help *solve* real issues.\n",
    "\n",
    "So, let's add an **error** called $\\epsilon$ (epsilon) to the model equation.\n",
    "\n",
    "$$\n",
    "y = a_1 x_1 + a_2 x_2 + a_3 x_3 + \\epsilon\n",
    "$$\n",
    "\n",
    "There may be other variables that affect $y$, and even the $x_1,x_2,x_3$ we have in hand may not be accurately measured in the first place. Therefore, we consider that there is an error between $x_1,x_2,x_3$ and $y$."
   ]
  },
  {
   "attachments": {},
   "cell_type": "markdown",
   "id": "86f1f244",
   "metadata": {},
   "source": [
    "Machine learning models $y = a_1 x_1 + a_2 x_2 + a_3 x_3 + \\epsilon$ and estimates the most effective coefficients $a_1,a_2,a_3$ to predict $y$. Here, the coefficients $a_1,a_2,a_3$ are expressed as **parameters**. In other words, parameter estimation is very important in machine learning. Simply put, machine learning is a method that first selects variables such as $x_1,x_2,x_3$ that seem to be related to $y$, estimates $a_1,a_2,a_3$ that represent their influence, and then predicts $y$ with as small an error $\\epsilon$ as possible.\n",
    "\n",
    "The simplest embodiment of this idea of machine learning is **regression analysis**, which is introduced next. Regression models are a method for predicting numerical values, but they can also be applied to classification (e.g., predicting whether a label is Yes or No, or which label it is)."
   ]
  },
  {
   "attachments": {},
   "cell_type": "markdown",
   "id": "af0549c8",
   "metadata": {},
   "source": [
    "This week, we will explain regression analysis (also called regression models), which is supervised learning, in somewhat more detail, and finally, we will briefly introduce cluster analysis, which is a typical example of unsupervised learning.\n",
    "\n",
    "However, when making predictions based on real-world data, ordinary regression analysis and cluster analysis often do not provide sufficient accuracy.\n",
    "In such cases, a method with higher performance should be used. In addition to the method, the selection and setting of data (variables) and the adjustment of parameters are also important tasks in the analysis.\n",
    "These will be explained in the next week's \"Statistical Modeling\"."
   ]
  },
  {
   "attachments": {},
   "cell_type": "markdown",
   "id": "002e433b",
   "metadata": {},
   "source": [
    "## *Summary video 2 so far (this is a recording of a past lecture)\n",
    "\n",
    "<font color=\"red\">Recording of Ishida's lecture</font>\n",
    "<iframe width=\"640\" height=\"360\" src=\"https://web.microsoftstream.com/embed/video/9fa7eb0b-2a36-44ad-a8d2-d52c09aafc23?autoplay=false&showinfo=true\" allowfullscreen style=\"border:none;\"></iframe>"
   ]
  },
  {
   "attachments": {},
   "cell_type": "markdown",
   "id": "2aa668f8",
   "metadata": {},
   "source": [
    "## Regression model"
   ]
  },
  {
   "attachments": {},
   "cell_type": "markdown",
   "id": "100d141c",
   "metadata": {},
   "source": [
    "<span style=\"color: red; \">Key Points of Today's Lecture</span>\n",
    "\n",
    "<iframe width=\"560\" height=\"315\" src=\"https://www.youtube.com/embed/PaFPbb66DxQ\" title=\"YouTube video player\" frameborder=\"0\" allow=\"accelerometer; autoplay; clipboard-write; encrypted-media; gyroscope; picture-in-picture; web-share\" allowfullscreen></iframe>"
   ]
  },
  {
   "attachments": {},
   "cell_type": "markdown",
   "id": "dbbac972",
   "metadata": {},
   "source": [
    "When one variable is correlated with another, a model can be created to predict one from the other. In machine learning, it is possible to learn from the data at hand the relationship between the variable to be predicted and the variable that is influencing it, and use the results to make predictions for new data. This is called a regression model. Regression models are a typical method of supervised learning."
   ]
  },
  {
   "attachments": {},
   "cell_type": "markdown",
   "id": "32bb7b0c",
   "metadata": {},
   "source": [
    "### Correlation\n",
    "\n",
    "When one variable is correlated with another, a model can be created to predict one from the other. In machine learning, it is possible to learn from the data at hand the relationship between the variable to be predicted and the variable that is influencing it, and use the results to make predictions for new data. This is called a regression model. Regression models are a typical method of supervised learning.\n",
    "\n",
    "The correlation coefficient was an indicator that expresses the relationship between one variable and another.\n",
    "\n",
    "[External site: Wikipedia: Correlation coefficient](https://ja.wikipedia.org/wiki/%E7%9B%B8%E9%96%A2%E4%BF%82%E6%95%B0)"
   ]
  },
  {
   "attachments": {},
   "cell_type": "markdown",
   "id": "d1fd8298",
   "metadata": {},
   "source": [
    "Now let one variable be y and the other be x. If the two variables are *perfectly* correlated, then once the value of x is determined, the value of y is also automatically determined. If the relationship $y = a x$, then we know that multiplying some $x$ value by $a$ gives us the value of $y$."
   ]
  },
  {
   "attachments": {},
   "cell_type": "markdown",
   "id": "d471b159",
   "metadata": {},
   "source": [
    "On the other hand, if the relationship between y and x is weak, the value of y will not be uniquely determined even if the value of x is determined. Nevertheless, it is considered possible to predict the value of y to some extent from the x value. Therefore, we consider the equation $y = a x + \\epsilon$. The $\\epsilon$ is **error**.\n",
    "\n",
    "Errors include, first of all, inaccuracies in measuring (e.g., rough reading of the scale when measuring lengths). Other factors that are not captured in the data are also included in the error in this case. For example, what data is needed to predict how high a student will score on a test? The amount of time a given student spends studying each day may be important, but there may be other influences on test scores (such as how much sleep a student had the day before). In short, there may be many influences on test scores, but it is impossible to know them all, or even if we did know them all, to accurately record and save them all (although we should collect as much data as possible). These unrecorded effects are also likely to be included in the error."
   ]
  },
  {
   "attachments": {},
   "cell_type": "markdown",
   "id": "11b7e910",
   "metadata": {},
   "source": [
    "In general, the error is assumed to be a completely random value. By random, we mean that the error averages to 0.\n",
    "In other words, $y$ is the result of multiplying the value of $x$ by $a$ plus a value that is not far from $0$.\n",
    "\n",
    "The method of predicting the variable $y$ in this way is called **regression analysis** or regression model.\n",
    "Regression analysis often assumes a normal distribution as the error.\n",
    "(However, it is not necessary that the error of the data or the distribution of the variables be normally distributed in order to apply regression analysis.)"
   ]
  },
  {
   "attachments": {},
   "cell_type": "markdown",
   "id": "6baa5b3a",
   "metadata": {},
   "source": [
    "## Regression Analysis"
   ]
  },
  {
   "attachments": {},
   "cell_type": "markdown",
   "id": "db495918",
   "metadata": {},
   "source": [
    "In regression analysis, $y$ is referred to as the **response variable** $x$ is the **explanatory variable** (predictor). The response variable is sometimes referred to as the dependent variable and the explanatory variable as the independent variable. Especially in the context of machine learning, explanatory variables are often referred to as **features**. Also, $y = b + a x + \\epsilon$ is called a **regression formula**. However, it is generally written using the tilde symbol (~) (not $\\epsilon$), as in $y \\sim b + a x$. The reason for using the tilde (~) is that the error ($\\epsilon$) exists separately ($y = b + a x + \\epsilon$), so they are not equal. The $b$ is the **intercept**, which is the value of $y$ when $x$ is 0. Also, $a$ is the **coefficient**. The purpose of regression analysis is to estimate the intercept $b$ and coefficient $a$ that help predict $y$."
   ]
  },
  {
   "attachments": {},
   "cell_type": "markdown",
   "id": "54eb28de",
   "metadata": {},
   "source": [
    "<span style=\"color: red; \">Key Points of Today's Lecture</span>\n",
    "\n",
    "<iframe width=\"560\" height=\"315\" src=\"https://www.youtube.com/embed/I8Dr1OGUdZQ\" title=\"YouTube video player\" frameborder=\"0\" allow=\"accelerometer; autoplay; clipboard-write; encrypted-media; gyroscope; picture-in-picture; web-share\" allowfullscreen></iframe>"
   ]
  },
  {
   "attachments": {},
   "cell_type": "markdown",
   "id": "8d8ebdcd",
   "metadata": {},
   "source": [
    "Let's talk about this with concrete examples."
   ]
  },
  {
   "attachments": {},
   "cell_type": "markdown",
   "id": "cc4c9ffc",
   "metadata": {},
   "source": [
    "In rental housing, rent would be correlated with the layout (size) of the property.\n",
    "Therefore, a regression model with rent as the response variable and square footage as the explanatory variable can be considered. We have data prepared for the class, which we will read in."
   ]
  },
  {
   "cell_type": "code",
   "execution_count": 1,
   "id": "5fcba7ce",
   "metadata": {
    "lines_to_next_cell": 2,
    "name": "rent"
   },
   "outputs": [
    {
     "data": {
      "text/html": [
       "<div>\n",
       "<style scoped>\n",
       "    .dataframe tbody tr th:only-of-type {\n",
       "        vertical-align: middle;\n",
       "    }\n",
       "\n",
       "    .dataframe tbody tr th {\n",
       "        vertical-align: top;\n",
       "    }\n",
       "\n",
       "    .dataframe thead th {\n",
       "        text-align: right;\n",
       "    }\n",
       "</style>\n",
       "<table border=\"1\" class=\"dataframe\">\n",
       "  <thead>\n",
       "    <tr style=\"text-align: right;\">\n",
       "      <th></th>\n",
       "      <th>No.</th>\n",
       "      <th>square</th>\n",
       "      <th>rent</th>\n",
       "    </tr>\n",
       "  </thead>\n",
       "  <tbody>\n",
       "    <tr>\n",
       "      <th>0</th>\n",
       "      <td>1</td>\n",
       "      <td>81.784</td>\n",
       "      <td>125000.0</td>\n",
       "    </tr>\n",
       "    <tr>\n",
       "      <th>1</th>\n",
       "      <td>2</td>\n",
       "      <td>86.736</td>\n",
       "      <td>147500.0</td>\n",
       "    </tr>\n",
       "    <tr>\n",
       "      <th>2</th>\n",
       "      <td>3</td>\n",
       "      <td>84.152</td>\n",
       "      <td>150000.0</td>\n",
       "    </tr>\n",
       "    <tr>\n",
       "      <th>3</th>\n",
       "      <td>4</td>\n",
       "      <td>84.152</td>\n",
       "      <td>150000.0</td>\n",
       "    </tr>\n",
       "    <tr>\n",
       "      <th>4</th>\n",
       "      <td>5</td>\n",
       "      <td>81.784</td>\n",
       "      <td>156250.0</td>\n",
       "    </tr>\n",
       "    <tr>\n",
       "      <th>...</th>\n",
       "      <td>...</td>\n",
       "      <td>...</td>\n",
       "      <td>...</td>\n",
       "    </tr>\n",
       "    <tr>\n",
       "      <th>63</th>\n",
       "      <td>64</td>\n",
       "      <td>66.472</td>\n",
       "      <td>93750.0</td>\n",
       "    </tr>\n",
       "    <tr>\n",
       "      <th>64</th>\n",
       "      <td>65</td>\n",
       "      <td>68.240</td>\n",
       "      <td>103750.0</td>\n",
       "    </tr>\n",
       "    <tr>\n",
       "      <th>65</th>\n",
       "      <td>66</td>\n",
       "      <td>68.272</td>\n",
       "      <td>112500.0</td>\n",
       "    </tr>\n",
       "    <tr>\n",
       "      <th>66</th>\n",
       "      <td>67</td>\n",
       "      <td>92.328</td>\n",
       "      <td>162500.0</td>\n",
       "    </tr>\n",
       "    <tr>\n",
       "      <th>67</th>\n",
       "      <td>68</td>\n",
       "      <td>108.168</td>\n",
       "      <td>187500.0</td>\n",
       "    </tr>\n",
       "  </tbody>\n",
       "</table>\n",
       "<p>68 rows × 3 columns</p>\n",
       "</div>"
      ],
      "text/plain": [
       "    No.   square      rent\n",
       "0     1   81.784  125000.0\n",
       "1     2   86.736  147500.0\n",
       "2     3   84.152  150000.0\n",
       "3     4   84.152  150000.0\n",
       "4     5   81.784  156250.0\n",
       "..  ...      ...       ...\n",
       "63   64   66.472   93750.0\n",
       "64   65   68.240  103750.0\n",
       "65   66   68.272  112500.0\n",
       "66   67   92.328  162500.0\n",
       "67   68  108.168  187500.0\n",
       "\n",
       "[68 rows x 3 columns]"
      ]
     },
     "execution_count": 1,
     "metadata": {},
     "output_type": "execute_result"
    }
   ],
   "source": [
    "import pandas as pd\n",
    "df = pd.read_csv(\"https://infoart.ait231.tokushima-u.ac.jp/DS/data/rent.csv\")\n",
    "df"
   ]
  },
  {
   "attachments": {},
   "cell_type": "markdown",
   "id": "1293777f",
   "metadata": {},
   "source": [
    "There are three columns in the data. The first column (`No.`) is the number of the property. The next `square` is the area of the property and `rent` is the rent (in Japanese yen). Here, we want to learn the relationship between `rent` and `square` and predict `rent` from `square`. Given such bivariate data, the first thing to do is to draw a scatter plot.\n",
    "\n",
    "First, let's see if the correlation is actually observed in the scatter plots, and then, just to be sure, let's find the correlation coefficients."
   ]
  },
  {
   "cell_type": "code",
   "execution_count": 2,
   "id": "da50b95c",
   "metadata": {
    "lines_to_next_cell": 0,
    "name": "rent_scatter"
   },
   "outputs": [
    {
     "data": {
      "text/plain": [
       "<Axes: xlabel='square', ylabel='rent'>"
      ]
     },
     "execution_count": 2,
     "metadata": {},
     "output_type": "execute_result"
    },
    {
     "data": {
      "image/png": "[encoded data removed]",
      "text/plain": [
       "<Figure size 640x480 with 1 Axes>"
      ]
     },
     "metadata": {},
     "output_type": "display_data"
    }
   ],
   "source": [
    "import matplotlib.pyplot as plt\n",
    "import seaborn as sns\n",
    "plt.style.use('ggplot')\n",
    "sns.scatterplot(x = 'square',y='rent', data = df)"
   ]
  },
  {
   "attachments": {},
   "cell_type": "markdown",
   "id": "f613ea11",
   "metadata": {},
   "source": [
    "The scatter plots show a clear positive correlation between `square` and `rent`.\n",
    "The correlation coefficient is obtained as follows"
   ]
  },
  {
   "cell_type": "code",
   "execution_count": 3,
   "id": "1ad01ca9",
   "metadata": {
    "lines_to_next_cell": 2,
    "name": "rent_scatter_corr"
   },
   "outputs": [
    {
     "data": {
      "text/html": [
       "<div>\n",
       "<style scoped>\n",
       "    .dataframe tbody tr th:only-of-type {\n",
       "        vertical-align: middle;\n",
       "    }\n",
       "\n",
       "    .dataframe tbody tr th {\n",
       "        vertical-align: top;\n",
       "    }\n",
       "\n",
       "    .dataframe thead th {\n",
       "        text-align: right;\n",
       "    }\n",
       "</style>\n",
       "<table border=\"1\" class=\"dataframe\">\n",
       "  <thead>\n",
       "    <tr style=\"text-align: right;\">\n",
       "      <th></th>\n",
       "      <th>No.</th>\n",
       "      <th>square</th>\n",
       "      <th>rent</th>\n",
       "    </tr>\n",
       "  </thead>\n",
       "  <tbody>\n",
       "    <tr>\n",
       "      <th>No.</th>\n",
       "      <td>1.000000</td>\n",
       "      <td>-0.200447</td>\n",
       "      <td>-0.225166</td>\n",
       "    </tr>\n",
       "    <tr>\n",
       "      <th>square</th>\n",
       "      <td>-0.200447</td>\n",
       "      <td>1.000000</td>\n",
       "      <td>0.929797</td>\n",
       "    </tr>\n",
       "    <tr>\n",
       "      <th>rent</th>\n",
       "      <td>-0.225166</td>\n",
       "      <td>0.929797</td>\n",
       "      <td>1.000000</td>\n",
       "    </tr>\n",
       "  </tbody>\n",
       "</table>\n",
       "</div>"
      ],
      "text/plain": [
       "             No.    square      rent\n",
       "No.     1.000000 -0.200447 -0.225166\n",
       "square -0.200447  1.000000  0.929797\n",
       "rent   -0.225166  0.929797  1.000000"
      ]
     },
     "execution_count": 3,
     "metadata": {},
     "output_type": "execute_result"
    }
   ],
   "source": [
    "df.corr()\n",
    "# Since No. is just a sequential number, it is meaningless to find the correlation coefficient, so the following is acceptable\n",
    "# df.drop(\"No.\",axis=1).corr()"
   ]
  },
  {
   "attachments": {},
   "cell_type": "markdown",
   "id": "fdb3600c",
   "metadata": {},
   "source": [
    "The correlation coefficient between `square` and `rent` is about 0.93, which is extremely high (recall that the correlation coefficient was between -1.0 and 1.0).\n",
    "\n",
    "However, we can also see that for some properties the rent `rent` is somewhat higher when the `square` exceeds a certain level (around the middle of the x-axis). There are also some points of concern, such as the fact that the rent for the most spacious property (180 square meters) is somewhat low, but let's reserve (ignore) these points and apply the regression analysis."
   ]
  },
  {
   "attachments": {},
   "cell_type": "markdown",
   "id": "32752551",
   "metadata": {},
   "source": [
    "Now, the regression formula is $\\text{rent} \\sim b + a \\text{square}$. Incidentally, this equation represents a straight line. A simple regression problem can be said to be a problem of finding a straight line that represents the data well.\n",
    "\n",
    "To solve regression problems in Python, it is easy to use the **statsmodels** library or the **scikit-learn** library. If you are not using Anaconda to install Python, run `pip3 install statsmodels ` at the command prompt (terminal) to install it."
   ]
  },
  {
   "attachments": {},
   "cell_type": "markdown",
   "id": "40c17b1b",
   "metadata": {},
   "source": [
    "First declare the use of the **statsmodels** library with `import`, followed by the regression formula."
   ]
  },
  {
   "cell_type": "code",
   "execution_count": 5,
   "id": "9367ddee",
   "metadata": {
    "lines_to_next_cell": 2,
    "name": "ols"
   },
   "outputs": [],
   "source": [
    "import statsmodels.formula.api as smf\n",
    "model = smf.ols(formula = 'rent ~ square', data=df)\n",
    "results = model.fit()"
   ]
  },
  {
   "attachments": {},
   "cell_type": "markdown",
   "id": "2bcf723b",
   "metadata": {},
   "source": [
    "`smf.ols()` is the function that performs the regression analysis. `rent ~ square` is a notation often used to represent a linear model. It corresponds to $y = b + a x$ (the intercept $b$ and the coefficient $a$ are automatically added, so we don't bother to specify them). The reason for using a tilde (~) instead of `rent = square` is that there is a separate error ($\\epsilon$) ($y = b + a x + \\epsilon$), so they are not equal (the error included in the regression formula is not specified in the code above).\n",
    "\n",
    "After specifying a linear model, `fit()` is applied to estimate the coefficients and intercept.\n",
    "Use `summary()` to check the results."
   ]
  },
  {
   "cell_type": "code",
   "execution_count": 6,
   "id": "8211e946",
   "metadata": {
    "lines_to_next_cell": 2,
    "name": "ols2"
   },
   "outputs": [
    {
     "data": {
      "text/html": [
       "<table class=\"simpletable\">\n",
       "<caption>OLS Regression Results</caption>\n",
       "<tr>\n",
       "  <th>Dep. Variable:</th>          <td>rent</td>       <th>  R-squared:         </th> <td>   0.865</td>\n",
       "</tr>\n",
       "<tr>\n",
       "  <th>Model:</th>                   <td>OLS</td>       <th>  Adj. R-squared:    </th> <td>   0.862</td>\n",
       "</tr>\n",
       "<tr>\n",
       "  <th>Method:</th>             <td>Least Squares</td>  <th>  F-statistic:       </th> <td>   421.2</td>\n",
       "</tr>\n",
       "<tr>\n",
       "  <th>Date:</th>             <td>Thu, 30 Mar 2023</td> <th>  Prob (F-statistic):</th> <td>2.36e-30</td>\n",
       "</tr>\n",
       "<tr>\n",
       "  <th>Time:</th>                 <td>16:52:01</td>     <th>  Log-Likelihood:    </th> <td> -761.00</td>\n",
       "</tr>\n",
       "<tr>\n",
       "  <th>No. Observations:</th>      <td>    68</td>      <th>  AIC:               </th> <td>   1526.</td>\n",
       "</tr>\n",
       "<tr>\n",
       "  <th>Df Residuals:</th>          <td>    66</td>      <th>  BIC:               </th> <td>   1530.</td>\n",
       "</tr>\n",
       "<tr>\n",
       "  <th>Df Model:</th>              <td>     1</td>      <th>                     </th>     <td> </td>   \n",
       "</tr>\n",
       "<tr>\n",
       "  <th>Covariance Type:</th>      <td>nonrobust</td>    <th>                     </th>     <td> </td>   \n",
       "</tr>\n",
       "</table>\n",
       "<table class=\"simpletable\">\n",
       "<tr>\n",
       "      <td></td>         <th>coef</th>     <th>std err</th>      <th>t</th>      <th>P>|t|</th>  <th>[0.025</th>    <th>0.975]</th>  \n",
       "</tr>\n",
       "<tr>\n",
       "  <th>Intercept</th> <td> -1.49e+04</td> <td> 5939.032</td> <td>   -2.509</td> <td> 0.015</td> <td>-2.68e+04</td> <td>-3041.049</td>\n",
       "</tr>\n",
       "<tr>\n",
       "  <th>square</th>    <td> 1621.1734</td> <td>   78.996</td> <td>   20.522</td> <td> 0.000</td> <td> 1463.453</td> <td> 1778.894</td>\n",
       "</tr>\n",
       "</table>\n",
       "<table class=\"simpletable\">\n",
       "<tr>\n",
       "  <th>Omnibus:</th>       <td> 5.055</td> <th>  Durbin-Watson:     </th> <td>   0.982</td>\n",
       "</tr>\n",
       "<tr>\n",
       "  <th>Prob(Omnibus):</th> <td> 0.080</td> <th>  Jarque-Bera (JB):  </th> <td>   6.777</td>\n",
       "</tr>\n",
       "<tr>\n",
       "  <th>Skew:</th>          <td>-0.084</td> <th>  Prob(JB):          </th> <td>  0.0338</td>\n",
       "</tr>\n",
       "<tr>\n",
       "  <th>Kurtosis:</th>      <td> 4.537</td> <th>  Cond. No.          </th> <td>    207.</td>\n",
       "</tr>\n",
       "</table><br/><br/>Notes:<br/>[1] Standard Errors assume that the covariance matrix of the errors is correctly specified."
      ],
      "text/plain": [
       "<class 'statsmodels.iolib.summary.Summary'>\n",
       "\"\"\"\n",
       "                            OLS Regression Results                            \n",
       "==============================================================================\n",
       "Dep. Variable:                   rent   R-squared:                       0.865\n",
       "Model:                            OLS   Adj. R-squared:                  0.862\n",
       "Method:                 Least Squares   F-statistic:                     421.2\n",
       "Date:                Thu, 30 Mar 2023   Prob (F-statistic):           2.36e-30\n",
       "Time:                        16:52:01   Log-Likelihood:                -761.00\n",
       "No. Observations:                  68   AIC:                             1526.\n",
       "Df Residuals:                      66   BIC:                             1530.\n",
       "Df Model:                           1                                         \n",
       "Covariance Type:            nonrobust                                         \n",
       "==============================================================================\n",
       "                 coef    std err          t      P>|t|      [0.025      0.975]\n",
       "------------------------------------------------------------------------------\n",
       "Intercept   -1.49e+04   5939.032     -2.509      0.015   -2.68e+04   -3041.049\n",
       "square      1621.1734     78.996     20.522      0.000    1463.453    1778.894\n",
       "==============================================================================\n",
       "Omnibus:                        5.055   Durbin-Watson:                   0.982\n",
       "Prob(Omnibus):                  0.080   Jarque-Bera (JB):                6.777\n",
       "Skew:                          -0.084   Prob(JB):                       0.0338\n",
       "Kurtosis:                       4.537   Cond. No.                         207.\n",
       "==============================================================================\n",
       "\n",
       "Notes:\n",
       "[1] Standard Errors assume that the covariance matrix of the errors is correctly specified.\n",
       "\"\"\""
      ]
     },
     "execution_count": 6,
     "metadata": {},
     "output_type": "execute_result"
    }
   ],
   "source": [
    "results.summary()"
   ]
  },
  {
   "attachments": {},
   "cell_type": "markdown",
   "id": "1f60ea7e",
   "metadata": {},
   "source": [
    "There are very large amounts of information in the output, but first let's review the estimates of the coefficients (and intercept)."
   ]
  },
  {
   "attachments": {},
   "cell_type": "markdown",
   "id": "9eacff81",
   "metadata": {},
   "source": [
    "<center>\n",
    "\n",
    "|           | coef      | std err   | t        | P>t    | [0.025 | 0.975]    |\n",
    "|-----------|-----------|----------|--------|--------|-----------|-----------|\n",
    "| Intercept | -1.49e+04 | 5939.032 | -2.509 | 0.015  | -2.68e+04 | -3041.049 |\n",
    "| square    | 1621.1734 | 78.996   | 20.522 | 0.000  | 1463.453  | 1778.894  |\n",
    "</center>"
   ]
  },
  {
   "attachments": {},
   "cell_type": "markdown",
   "id": "cc7cbdf7",
   "metadata": {},
   "source": [
    "The coefficient of `square` (`coef`) is estimated to be 1621.1734. ` std err` is the standard error, indicating that the estimated coefficient is not definite but has an error. t is the value of the t-distribution learned in the previous week. can you see that t is the estimated coefficient divided by the standard error?\n",
    "\n",
    "In this case, dividing the mean of the coefficient by the standard error means subtracting 0 (where 0 indicates that the coefficient has no effect) from the estimated mean and dividing this by the estimated standard deviation divided by the square root of the number of data (see the explanation of the t distribution in the previous week).\n",
    "\n",
    "Whether this t-value is large or small (normal) is determined by the probability of the t-value, which in Python is obtained as follows: the t-distribution is distributed with degrees of freedom, and the degrees of freedom here in regression analysis is the number of data minus one coefficient and one intercept (that is, 2) for the explanatory variable. In the output above, this is 66 in the item `Df Residuals`."
   ]
  },
  {
   "cell_type": "code",
   "execution_count": 7,
   "id": "b7486696",
   "metadata": {
    "name": "estimated_t_p"
   },
   "outputs": [
    {
     "data": {
      "text/plain": [
       "0.0"
      ]
     },
     "execution_count": 7,
     "metadata": {},
     "output_type": "execute_result"
    }
   ],
   "source": [
    "import scipy.stats as ss\n",
    "1 - ss.t.cdf(20.522, 66)"
   ]
  },
  {
   "attachments": {},
   "cell_type": "markdown",
   "id": "3ffe8aa4",
   "metadata": {},
   "source": [
    "If this p-value is less than 0.05, then we reject the null hypothesis that the coefficient is 0, and accept the alternative hypothesis that the coefficient is not 0. A coefficient of 0 means that `rent = intercept + 0 x square `, which means that square footage is not related to rent at all, so that the explanatory variable (here `square`) is meaningless. Since the p-value of `square` is 0 (close to 0) in the above analysis, the null hypothesis is rejected and the alternative hypothesis is accepted. In other words, the estimated coefficients are interpreted as meaningful.\n",
    "\n",
    "In the end, $\\text{rent} \\sim -14899 + 1621 \\times x$ is estimated as the regression formula. Here, the coefficient of the explanatory variable means that an increase of `square` by 1 unit (1 square meter) means an increase of `rent` by 1621 yen. Incidentally, since the intercept is negative, it looks as if it could be interpreted as if rent is negative when the square footage is zero, i.e., rent is returned in the opposite direction. However, this makes no sense."
   ]
  },
  {
   "attachments": {},
   "cell_type": "markdown",
   "id": "7ea091f4",
   "metadata": {},
   "source": [
    "## *Summary Video 3 so far (This is a recording of a past lecture.)\n",
    "\n",
    "<font color=\"red\">Recording of Ishida's lecture</font>\n",
    "<iframe width=\"640\" height=\"360\" src=\"https://web.microsoftstream.com/embed/video/a5bdef91-935d-4a4a-93f4-f68f77a99cda?autoplay=false&showinfo=true\" allowfullscreen style=\"border:none;\"></iframe>"
   ]
  },
  {
   "attachments": {},
   "cell_type": "markdown",
   "id": "632a67df",
   "metadata": {},
   "source": [
    "## Interpretation of the intercept"
   ]
  },
  {
   "attachments": {},
   "cell_type": "markdown",
   "id": "72666c7d",
   "metadata": {},
   "source": [
    "In regression analysis, the coefficients are estimated by learning from the data, but if the range of the explanatory variable (`square` in this analysis) is far from 0, we cannot find any positive meaning in the estimated intercept. Incidentally, the explanatory variable ranges from 28 square meters to 183 square meters in this data. \n",
    "If it is certain that when x is 0, y is also 0, it is possible to analyze the intercept as 0 in the regression analysis. However, in the case of the relationship between rent and square footage, it would not necessarily be appropriate to assume that the intercept is 0, since it is impossible to imagine a situation where a property is rented out with a square footage of 0 to begin with. (For example, it would make sense to fix the intercept at 0 in an experiment where the weight is x and the amount of extension of the spring is y in the case of lowering the weight on the spring.)"
   ]
  },
  {
   "attachments": {},
   "cell_type": "markdown",
   "id": "72953c04",
   "metadata": {},
   "source": [
    "In data science, a formula (or idea) that represents data is called a **model**. Data science can be said to be the theory and techniques for fitting models to data. The regression problem we are dealing with here can be said to be a model that represents the data as a straight line (also called a **regression model**). In the following, some lines are drawn on a scatterplot."
   ]
  },
  {
   "cell_type": "code",
   "execution_count": 50,
   "id": "f8589809",
   "metadata": {
    "eval": false,
    "name": "poly_regression_1",
    "show": false,
    "tags": [
     "remove_input"
    ]
   },
   "outputs": [
    {
     "data": {
      "text/plain": [
       "[<matplotlib.lines.Line2D at 0x2ac461cf0>]"
      ]
     },
     "execution_count": 50,
     "metadata": {},
     "output_type": "execute_result"
    },
    {
     "data": {
      "image/png": "[encoded data removed]",
      "text/plain": [
       "<Figure size 640x480 with 1 Axes>"
      ]
     },
     "metadata": {},
     "output_type": "display_data"
    }
   ],
   "source": [
    "import numpy as np\n",
    "from sklearn.linear_model import LinearRegression\n",
    "\n",
    "plt.xlabel(\"square\")\n",
    "plt.ylabel(\"rent\")\n",
    "plt.scatter(x='square', y='rent', data=df, c=\"black\");\n",
    "\n",
    "rent_lm = LinearRegression()\n",
    "rent_lm.fit(df[['square']], df['rent'])\n",
    "slope = model.coef_[0]\n",
    "intercept = model.intercept_\n",
    "plt.plot(df['square'], slope * df['square'] + intercept, alpha=0.6, c=\"black\")\n",
    "plt.plot(df['square'], slope * 0.8 * df['square'] + (intercept - 1), linestyle='--', c=\"black\")\n",
    "plt.plot(df['square'], slope * 1.2 * df['square'] + (intercept + 3), linestyle=':', c=\"black\")"
   ]
  },
  {
   "attachments": {},
   "cell_type": "markdown",
   "id": "fcf74b04",
   "metadata": {},
   "source": [
    "Since there is no error in the equation representing this straight line, most of the real-world observed data (black dots) do not lie on (overlap) this line. All of the straight lines pass above or below the real data. In that sense, none of the straight lines fully represent the data. But which straight line dares to be described as close to the real data? In the regression problem, we believe that a straight line that passes between scattered data points is a good representation of the data. This is because the error between the regression line and the data points is generally minimized.\n",
    "\n",
    "Incidentally, one might think that a curve, rather than a straight line, would fit this data better."
   ]
  },
  {
   "cell_type": "code",
   "execution_count": 49,
   "id": "ff4d425f",
   "metadata": {
    "lines_to_next_cell": 0,
    "name": "regplot"
   },
   "outputs": [
    {
     "data": {
      "text/plain": [
       "(0.0, 300000.0)"
      ]
     },
     "execution_count": 49,
     "metadata": {},
     "output_type": "execute_result"
    },
    {
     "data": {
      "image/png": "[encoded data removed]",
      "text/plain": [
       "<Figure size 640x480 with 1 Axes>"
      ]
     },
     "metadata": {},
     "output_type": "display_data"
    }
   ],
   "source": [
    "import seaborn as sns\n",
    "sns.regplot(x='square', y='rent', data=df, order=3)\n",
    "plt.ylim(0, 300000)"
   ]
  },
  {
   "cell_type": "code",
   "execution_count": 51,
   "id": "2325cf8a",
   "metadata": {
    "name": "lineplot"
   },
   "outputs": [
    {
     "data": {
      "text/plain": [
       "<Axes: xlabel='square', ylabel='rent'>"
      ]
     },
     "execution_count": 51,
     "metadata": {},
     "output_type": "execute_result"
    },
    {
     "data": {
      "image/png": "[encoded data removed]",
      "text/plain": [
       "<Figure size 640x480 with 1 Axes>"
      ]
     },
     "metadata": {},
     "output_type": "display_data"
    }
   ],
   "source": [
    "sns.scatterplot(x='square', y='rent', data=df)\n",
    "sns.lineplot(x='square', y='rent', data=df)"
   ]
  },
  {
   "attachments": {},
   "cell_type": "markdown",
   "id": "f0033c59",
   "metadata": {},
   "source": [
    "Certainly, if compared to a straight line, both of the above two graphs would be closer to a point in the data. However, this is not so useful, because the curve is too much applied to the data at hand.\n",
    "\n",
    "This is because the curve is too much fitted to the data we have at hand, so that if new data $x$ is obtained, the corresponding $y$ may be significantly mispredicted. In data science, this is called **overfitting**, and various efforts are made to avoid overlearning (we will discuss this in more detail in next week's statistical modeling)."
   ]
  },
  {
   "attachments": {},
   "cell_type": "markdown",
   "id": "e36335d8",
   "metadata": {},
   "source": [
    "<span style=\"color: red; \">Key Points of Today's Lecture</span>\n",
    "\n",
    "<iframe width=\"560\" height=\"315\" src=\"https://www.youtube.com/embed/EuBBz3bI-aA\" title=\"YouTube video player\" frameborder=\"0\" allow=\"accelerometer; autoplay; clipboard-write; encrypted-media; gyroscope; picture-in-picture; web-share\" allowfullscreen></iframe>"
   ]
  },
  {
   "attachments": {},
   "cell_type": "markdown",
   "id": "e4d57f19",
   "metadata": {},
   "source": [
    "## Ordinary Least Squares regression"
   ]
  },
  {
   "attachments": {},
   "cell_type": "markdown",
   "id": "fc946bee",
   "metadata": {},
   "source": [
    "In general, if a simple straight line can be fitted to the data, it has better generalization performance (i.e., it is more likely to correctly predict new data).\n",
    "\n",
    "The method of selecting a line that minimizes the error (estimating the intercept and coefficients) is called **Ordinary Least Squares regression** (OLS).\n",
    "Also, minimizing the error with the response variable means supervised learning, since the value of the response variable is used as the \"answer\"."
   ]
  },
  {
   "attachments": {},
   "cell_type": "markdown",
   "id": "5c1e613f",
   "metadata": {},
   "source": [
    "### Linear"
   ]
  },
  {
   "attachments": {},
   "cell_type": "markdown",
   "id": "b3542698",
   "metadata": {},
   "source": [
    "In the context of data science, the term **linear** often appears, meaning that the coefficients are linear functions. For example, in multiple regression analysis, which we will discuss later, there are multiple explanatory variables. That is, $y = b + a_1 x_1 + a_2 x_2 \\dots a_n x_n$, so there are multiple coefficients $a$ to be estimated. At this time $x_i$ can be the square, logarithm or square root of another $x$ (i.e. $y = b + a_1 x + a_2 x^2 + a_3 log(x)$), which is **linear** as a model.\n",
    "\n",
    "[External site: Wikipedia:Linear equations](https://ja.wikipedia.org/wiki/%E7%B7%9A%E5%9E%8B%E6%96%B9%E7%A8%8B%E5%BC%8F)"
   ]
  },
  {
   "attachments": {},
   "cell_type": "markdown",
   "id": "0fba29ad",
   "metadata": {},
   "source": [
    "Let me briefly explain the Ordinary Least Squares Method.\n",
    "\n",
    "Suppose now that the regression formula is $f(x) = a x + b$. Substituting a certain value of data for $x$, we obtain the predicted value by the regression formula ($\\hat{y} = f(x)$). By the way, $\\hat{y}$ is read as y hat, meaning predicted values of $y$. The values obtained by subtracting the predicted values from the actual data (error) are called **residuals**. In standard regression analysis, residuals are often analyzed as if they follow a normal distribution, but using the framework of a generalized linear model, a regression model in which errors follow a Poisson distribution can also be used."
   ]
  },
  {
   "attachments": {},
   "cell_type": "markdown",
   "id": "32e9bd7d",
   "metadata": {},
   "source": [
    "![](../images/residuals.jpg)\n",
    "\n"
   ]
  },
  {
   "attachments": {},
   "cell_type": "markdown",
   "id": "6930867b",
   "metadata": {},
   "source": [
    "The residuals are obtained for all of the observed values, squared, and all summed together to obtain the **residual sum of squares** (RSS).\n",
    "\n",
    "$$\n",
    "\\sum_i^N (y - \\hat{y})^2\n",
    "$$\n",
    "\n",
    "This is a measure of the discrepancy between the observed data and the regression formula. The smaller this sum is, indicates that the regression formula has been well fitted to the observed data. In data science, this is often expressed as good **fitting**."
   ]
  },
  {
   "attachments": {},
   "cell_type": "markdown",
   "id": "85ab3190",
   "metadata": {},
   "source": [
    "Ordinary Least Squares regression (OLS) is a method of choosing the **slope** $a$ and **intercept** $b$ that minimizes the sum of squares of these residuals.\n",
    "\n",
    "![](../images/LS.png)"
   ]
  },
  {
   "attachments": {},
   "cell_type": "markdown",
   "id": "d0aab2ae",
   "metadata": {},
   "source": [
    "[External website: Wikipedia: Least Squares Method](https://ja.wikipedia.org/wiki/%E6%9C%80%E5%B0%8F%E4%BA%8C%E4%B9%97%E6%B3%95)\n",
    "\n",
    "The unknowns that are estimated from the data, such as the slope and intercept, are called **parameters**. In machine learning, it can be said that it is a method to build a model and estimate the parameters that maximize the accuracy of the prediction."
   ]
  },
  {
   "attachments": {},
   "cell_type": "markdown",
   "id": "8a4cc657",
   "metadata": {},
   "source": [
    "### Evaluating Models"
   ]
  },
  {
   "attachments": {},
   "cell_type": "markdown",
   "id": "6e3e23bf",
   "metadata": {},
   "source": [
    "The results of fitting a model to data and estimating parameters must be evaluated for goodness of fit. In general, there is no single model that is appropriate for the data. Or, in the end, we do not know which model is truly appropriate.\n",
    "What data science (or AI) does is to build multiple models, adjusting the way parameters are estimated, and then select the model that best serves the purpose (e.g., rent prediction).\n",
    "\n",
    "The construction of models and the selection of the best model are described as **statistical modeling**, which will be explained in Week 8.\n",
    "\n",
    "In traditional data analysis, the **coefficient of determination** is often used as a measure of whether the regression coefficient is appropriate.\n",
    "This is a measure of the magnitude of the discrepancy between the predictions made by the regression formula and the actual measured values, and is calculated as a number in the range of 0 to 1. The Python output above shows `R-squared:0.865`.\n",
    "\n",
    "The coefficient of determination is a number calculated from the residual sum of squares, but it can only be evaluated relatively because the size of the residual sum of squares varies from data to data (whether the residual sum of squares is large or small depends on the data).\n",
    "On the other hand, the closer the coefficient of determination is to 1, the closer the prediction of the regression formula is to the observed value. Therefore, it is easy to evaluate and is often used.\n",
    "\n",
    "However, even if the coefficient of determination is close to 1, it does not always give good results when predictions are made for new data.\n",
    "In machine learning, the residual sum of squares itself is often used as the criterion for evaluation, rather than the coefficient of determination (as discussed later)."
   ]
  },
  {
   "attachments": {},
   "cell_type": "markdown",
   "id": "89631aa4",
   "metadata": {},
   "source": [
    "### Coefficient of determination"
   ]
  },
  {
   "attachments": {},
   "cell_type": "markdown",
   "id": "5e67c86d",
   "metadata": {},
   "source": [
    "<span style=\"color: red; \">Key Points of Today's Lecture</span>\n",
    "\n",
    "<iframe width=\"560\" height=\"315\" src=\"https://www.youtube.com/embed/2AQKmw14mHM\" title=\"YouTube video player\" frameborder=\"0\" allow=\"accelerometer; autoplay; clipboard-write; encrypted-media; gyroscope; picture-in-picture; web-share\" allowfullscreen></iframe>"
   ]
  },
  {
   "attachments": {},
   "cell_type": "markdown",
   "id": "2f9d2b63",
   "metadata": {},
   "source": [
    "Here is a brief explanation of the coefficient of determination.\n",
    "\n",
    "The number obtained by the following equation is called **residual sum of squares**.\n",
    "<!--In the least squares method, the sum of squares of residuals is used for estimation, and the sum of squares of residuals is also used for model fitting. The residual sum of squares is obtained by the following equation. -->"
   ]
  },
  {
   "attachments": {},
   "cell_type": "markdown",
   "id": "b3760c53",
   "metadata": {},
   "source": [
    "$$\n",
    "\\sum_{i=1}^n (y_i - \\hat{y_i})^2\n",
    "$$\n",
    "\n",
    "$\\hat{y_i}$ is the value of the observed $i$ predicted from the regression model.\n",
    "Meanwhile, subtract the mean value of the response variable for all of the response variables in the input data. The sum of these values squared is called the **total sum of squares**.\n",
    "\n",
    "$$\n",
    "\\sum_{i=1}^n (y_i - \\bar{y})^2\n",
    "$$\n",
    "\n",
    "The predictions from the regression model are subtracted from the mean of the response variable and then squared and summed. This is called the **regression sum of squares**."
   ]
  },
  {
   "attachments": {},
   "cell_type": "markdown",
   "id": "a184d952",
   "metadata": {},
   "source": [
    "$$\n",
    "\\sum_{i=1}^n (\\hat{y_i} - \\bar{y})^2\n",
    "$$\n",
    "\n",
    "Note that $\\text{total sum of squares} = \\text{regression sum of  squares} + \\text{residual sum of squares}$.\n",
    "\n",
    "The ratio of the regression sum of squares to the total sum of squares is called the **coefficient of determination**$R^2$. When this ratio is large, the prediction accuracy of the regression model is considered high."
   ]
  },
  {
   "cell_type": "markdown",
   "id": "486005a0",
   "metadata": {},
   "source": [
    "\\begin {align}\n",
    "        R^2 &= \\frac{ \\sum_{i=1}^n (\\hat{y_i} - \\bar{y})^2} {\\sum_{i=1}^n (y_i - \\bar{y})^2} \\\\\n",
    "            &= 1- \\frac {\\sum_{i=1}^n (y_i - \\hat{y})^2 } {\\sum_{i=1}^n (y_i - \\bar{y})^2 } \\\\\n",
    "\\end {align}"
   ]
  },
  {
   "attachments": {},
   "cell_type": "markdown",
   "id": "b14d5b5c",
   "metadata": {},
   "source": [
    "Since it is a proportion, $R^2$ will be a number in the range of 0.0 to 1.0, and the larger the value, the better the regression model is judged to fit. However, it is known that the coefficient of determination is unconditionally better when the number of observations and the number of explanatory variables are close. In a regression model, even explanatory variables that are unrelated to the response variable have the property that the overall coefficient of determination approaches 1 when they are incorporated into the model. Therefore, an indicator called **Degree of freedom adjusted coefficient of determination** (adjusted coefficient of freedom), which incorporates the number of explanatory variables into the evaluation, is used."
   ]
  },
  {
   "cell_type": "markdown",
   "id": "81bd8950",
   "metadata": {},
   "source": [
    "\\begin {align}\n",
    "        R^2 &= 1- \\frac{ \\frac{\\sum_{i=1}^n (y_i - \\hat{y})^2} {n - k - 1} } { \\frac{\\sum_{i=1}^n (y_i - \\bar{y})^2} {n - 1}}   \\\\\n",
    "\\end {align}"
   ]
  },
  {
   "attachments": {},
   "cell_type": "markdown",
   "id": "42d22a09",
   "metadata": {},
   "source": [
    "While the previous coefficient of determination was a ratio of the sum of squares, in the degree of freedom adjusted coefficient of determination, the denominator is the number of observed values (and 1 added together), and the numerator is the number of observed values divided by the number of explanatory variables (and 1 added together).\n",
    "In other words, the degrees of freedom adjusted coefficient of determination is a percentage of the mean sum of squares and looks at the average effect per explanatory variable."
   ]
  },
  {
   "attachments": {},
   "cell_type": "markdown",
   "id": "69a91863",
   "metadata": {},
   "source": [
    "## Multiple regression model"
   ]
  },
  {
   "attachments": {},
   "cell_type": "markdown",
   "id": "4c76eb6d",
   "metadata": {},
   "source": [
    "**multiple regression model** refers to the case in which the regression model in the previous section has two or more explanatory variables. In contrast, a case with one explanatory variable is sometimes called a **single regression model**. If there are $N$ explanatory variables, the model would be $Y = a_1 \\, X_1 + a_2 \\, X_2 + \\dots + a_n \\, X_n$. In multiple regression analysis, it is important to consider the choice of explanatory variables and *interaction* with the response variable. Let us consider the case where the response variable is \"beer consumption per day. First, let us assume that the explanatory variables are \"temperature of the day,\" \"humidity,\" and \"weather. Each of these three variables would, of course, affect the amount of beer consumed. However, if we compare the strength of influence on consumption among these three, we are convinced that \"temperature\" > \"weather\" > \"humidity,\" in that order, with the first two having a particularly large influence. This means that he believes that only two of the response variables, \"temperature\" and \"weather,\" are sufficiently useful to predict the response variable. Choosing explanatory variables in this way is variable selection.\n",
    "\n",
    "On the other hand, beer sales may be higher on a day when the humidity is high at the same time than on a day when only the temperature is high. This is a synergy effect, but in multiple regression it is called an interaction effect."
   ]
  },
  {
   "attachments": {},
   "cell_type": "markdown",
   "id": "6b6a6328",
   "metadata": {},
   "source": [
    "However, when using multiple explanatory variables, it is not desirable for the correlations between explanatory variables to be too high. In the case of rental housing, two factors that may have an impact on rent are \"time to walk from station\" and \"distance from station. Common sense would dictate that there would be a strong correlation between \"time spent walking from the station\" and \"distance from the station. When there is a strong correlation between explanatory variables, a problem called multicollinearity may arise. When there is multicollinearity among variables, it may not be possible to uniquely determine the values of parameters. Therefore, highly correlated explanatory variables are either removed or integrated (i.e., another third variable is created from the highly correlated variables, etc.)."
   ]
  },
  {
   "attachments": {},
   "cell_type": "markdown",
   "id": "aa1f3b27",
   "metadata": {},
   "source": [
    "As an example of multiple regression analysis, we will use a dataset of regional housing prices in a suburb of Boston, USA. This is a well-known dataset that is often used as a learning tool in machine learning."
   ]
  },
  {
   "cell_type": "code",
   "execution_count": 52,
   "id": "6402104e",
   "metadata": {
    "name": "boston_housing"
   },
   "outputs": [
    {
     "data": {
      "text/html": [
       "<div>\n",
       "<style scoped>\n",
       "    .dataframe tbody tr th:only-of-type {\n",
       "        vertical-align: middle;\n",
       "    }\n",
       "\n",
       "    .dataframe tbody tr th {\n",
       "        vertical-align: top;\n",
       "    }\n",
       "\n",
       "    .dataframe thead th {\n",
       "        text-align: right;\n",
       "    }\n",
       "</style>\n",
       "<table border=\"1\" class=\"dataframe\">\n",
       "  <thead>\n",
       "    <tr style=\"text-align: right;\">\n",
       "      <th></th>\n",
       "      <th>CRIM</th>\n",
       "      <th>ZN</th>\n",
       "      <th>INDUS</th>\n",
       "      <th>CHAS</th>\n",
       "      <th>NOX</th>\n",
       "      <th>RM</th>\n",
       "      <th>AGE</th>\n",
       "      <th>DIS</th>\n",
       "      <th>RAD</th>\n",
       "      <th>TAX</th>\n",
       "      <th>PTRATIO</th>\n",
       "      <th>B</th>\n",
       "      <th>LSTAT</th>\n",
       "      <th>MEDV</th>\n",
       "    </tr>\n",
       "  </thead>\n",
       "  <tbody>\n",
       "    <tr>\n",
       "      <th>0</th>\n",
       "      <td>0.00632</td>\n",
       "      <td>18.0</td>\n",
       "      <td>2.31</td>\n",
       "      <td>0</td>\n",
       "      <td>0.538</td>\n",
       "      <td>6.575</td>\n",
       "      <td>65.2</td>\n",
       "      <td>4.0900</td>\n",
       "      <td>1</td>\n",
       "      <td>296.0</td>\n",
       "      <td>15.3</td>\n",
       "      <td>396.90</td>\n",
       "      <td>4.98</td>\n",
       "      <td>24.0</td>\n",
       "    </tr>\n",
       "    <tr>\n",
       "      <th>1</th>\n",
       "      <td>0.02731</td>\n",
       "      <td>0.0</td>\n",
       "      <td>7.07</td>\n",
       "      <td>0</td>\n",
       "      <td>0.469</td>\n",
       "      <td>6.421</td>\n",
       "      <td>78.9</td>\n",
       "      <td>4.9671</td>\n",
       "      <td>2</td>\n",
       "      <td>242.0</td>\n",
       "      <td>17.8</td>\n",
       "      <td>396.90</td>\n",
       "      <td>9.14</td>\n",
       "      <td>21.6</td>\n",
       "    </tr>\n",
       "    <tr>\n",
       "      <th>2</th>\n",
       "      <td>0.02729</td>\n",
       "      <td>0.0</td>\n",
       "      <td>7.07</td>\n",
       "      <td>0</td>\n",
       "      <td>0.469</td>\n",
       "      <td>7.185</td>\n",
       "      <td>61.1</td>\n",
       "      <td>4.9671</td>\n",
       "      <td>2</td>\n",
       "      <td>242.0</td>\n",
       "      <td>17.8</td>\n",
       "      <td>392.83</td>\n",
       "      <td>4.03</td>\n",
       "      <td>34.7</td>\n",
       "    </tr>\n",
       "    <tr>\n",
       "      <th>3</th>\n",
       "      <td>0.03237</td>\n",
       "      <td>0.0</td>\n",
       "      <td>2.18</td>\n",
       "      <td>0</td>\n",
       "      <td>0.458</td>\n",
       "      <td>6.998</td>\n",
       "      <td>45.8</td>\n",
       "      <td>6.0622</td>\n",
       "      <td>3</td>\n",
       "      <td>222.0</td>\n",
       "      <td>18.7</td>\n",
       "      <td>394.63</td>\n",
       "      <td>2.94</td>\n",
       "      <td>33.4</td>\n",
       "    </tr>\n",
       "    <tr>\n",
       "      <th>4</th>\n",
       "      <td>0.06905</td>\n",
       "      <td>0.0</td>\n",
       "      <td>2.18</td>\n",
       "      <td>0</td>\n",
       "      <td>0.458</td>\n",
       "      <td>7.147</td>\n",
       "      <td>54.2</td>\n",
       "      <td>6.0622</td>\n",
       "      <td>3</td>\n",
       "      <td>222.0</td>\n",
       "      <td>18.7</td>\n",
       "      <td>396.90</td>\n",
       "      <td>5.33</td>\n",
       "      <td>36.2</td>\n",
       "    </tr>\n",
       "  </tbody>\n",
       "</table>\n",
       "</div>"
      ],
      "text/plain": [
       "      CRIM    ZN  INDUS  CHAS    NOX     RM   AGE     DIS  RAD    TAX  \\\n",
       "0  0.00632  18.0   2.31     0  0.538  6.575  65.2  4.0900    1  296.0   \n",
       "1  0.02731   0.0   7.07     0  0.469  6.421  78.9  4.9671    2  242.0   \n",
       "2  0.02729   0.0   7.07     0  0.469  7.185  61.1  4.9671    2  242.0   \n",
       "3  0.03237   0.0   2.18     0  0.458  6.998  45.8  6.0622    3  222.0   \n",
       "4  0.06905   0.0   2.18     0  0.458  7.147  54.2  6.0622    3  222.0   \n",
       "\n",
       "   PTRATIO       B  LSTAT  MEDV  \n",
       "0     15.3  396.90   4.98  24.0  \n",
       "1     17.8  396.90   9.14  21.6  \n",
       "2     17.8  392.83   4.03  34.7  \n",
       "3     18.7  394.63   2.94  33.4  \n",
       "4     18.7  396.90   5.33  36.2  "
      ]
     },
     "execution_count": 52,
     "metadata": {},
     "output_type": "execute_result"
    }
   ],
   "source": [
    "import pandas as pd\n",
    "df = pd.read_csv('https://archive.ics.uci.edu/ml/machine-learning-databases/housing/housing.data',\n",
    "                 header=None, sep='\\s+')\n",
    "df.columns = ['CRIM', 'ZN', 'INDUS', 'CHAS', 'NOX', 'RM', 'AGE', 'DIS', 'RAD',\n",
    "              'TAX', 'PTRATIO', 'B', 'LSTAT', 'MEDV']\n",
    "df.head()"
   ]
  },
  {
   "attachments": {},
   "cell_type": "markdown",
   "id": "08333a74",
   "metadata": {},
   "source": [
    "There are 14 variables, each of which will be briefly discussed.\n",
    "\n",
    "| Variable Name | Description                                                   |\n",
    "|---------------|---------------------------------------------------------------|\n",
    "| CRIM          | Number of crimes per capita                                   |\n",
    "| ZN            | Percentage of residential parcels over 25,000 sq. ft.         |\n",
    "| INDUS         | Percentage of area occupied by non-retail commerce            |\n",
    "| CHAS          | Dummy variable based on the Charles River (1: near river, 0: not near river) |\n",
    "| NOX           | NOx concentration                                             |\n",
    "| RM            | Average number of rooms in a dwelling                         |\n",
    "| AGE           | Proportion of owner-occupied units built prior to 1940        |\n",
    "| DIS           | Weighted distance from five Boston employment centers         |\n",
    "| RAD           | Ease of access to beltway                                     |\n",
    "| TAX           | Total real estate tax rate per $10,000                        |\n",
    "| PTRATIO       | Pupil-teacher ratio by town                                   |\n",
    "| B             | Ratio of blacks (Bk) per town expressed as 1000(Bk - 0.63)^2  |\n",
    "| LSTAT         | Percentage of low-income population (%)                       |\n",
    "| MEDV          | Median value of houses (in thousands of dollars)              |"
   ]
  },
  {
   "attachments": {},
   "cell_type": "markdown",
   "id": "a9705de0",
   "metadata": {},
   "source": [
    "Here, we construct a model that uses `MEDV ` as the response variable ($y$) and the other 13 as explanatory variables."
   ]
  },
  {
   "cell_type": "code",
   "execution_count": 53,
   "id": "13f589be",
   "metadata": {
    "lines_to_next_cell": 2,
    "name": "boston_housing_pls"
   },
   "outputs": [
    {
     "name": "stderr",
     "output_type": "stream",
     "text": [
      "/var/folders/6f/d5twmn717wb75b40dqr7lsv40000gn/T/ipykernel_86496/1426646398.py:2: FutureWarning: In a future version of pandas all arguments of DataFrame.drop except for the argument 'labels' will be keyword-only.\n",
      "  X = df.drop('MEDV', 1)\n"
     ]
    },
    {
     "data": {
      "text/html": [
       "<table class=\"simpletable\">\n",
       "<caption>OLS Regression Results</caption>\n",
       "<tr>\n",
       "  <th>Dep. Variable:</th>          <td>MEDV</td>       <th>  R-squared:         </th> <td>   0.741</td> \n",
       "</tr>\n",
       "<tr>\n",
       "  <th>Model:</th>                   <td>OLS</td>       <th>  Adj. R-squared:    </th> <td>   0.734</td> \n",
       "</tr>\n",
       "<tr>\n",
       "  <th>Method:</th>             <td>Least Squares</td>  <th>  F-statistic:       </th> <td>   108.1</td> \n",
       "</tr>\n",
       "<tr>\n",
       "  <th>Date:</th>             <td>Tue, 28 Mar 2023</td> <th>  Prob (F-statistic):</th> <td>6.72e-135</td>\n",
       "</tr>\n",
       "<tr>\n",
       "  <th>Time:</th>                 <td>07:22:34</td>     <th>  Log-Likelihood:    </th> <td> -1498.8</td> \n",
       "</tr>\n",
       "<tr>\n",
       "  <th>No. Observations:</th>      <td>   506</td>      <th>  AIC:               </th> <td>   3026.</td> \n",
       "</tr>\n",
       "<tr>\n",
       "  <th>Df Residuals:</th>          <td>   492</td>      <th>  BIC:               </th> <td>   3085.</td> \n",
       "</tr>\n",
       "<tr>\n",
       "  <th>Df Model:</th>              <td>    13</td>      <th>                     </th>     <td> </td>    \n",
       "</tr>\n",
       "<tr>\n",
       "  <th>Covariance Type:</th>      <td>nonrobust</td>    <th>                     </th>     <td> </td>    \n",
       "</tr>\n",
       "</table>\n",
       "<table class=\"simpletable\">\n",
       "<tr>\n",
       "     <td></td>        <th>coef</th>     <th>std err</th>      <th>t</th>      <th>P>|t|</th>  <th>[0.025</th>    <th>0.975]</th>  \n",
       "</tr>\n",
       "<tr>\n",
       "  <th>const</th>   <td>   36.4595</td> <td>    5.103</td> <td>    7.144</td> <td> 0.000</td> <td>   26.432</td> <td>   46.487</td>\n",
       "</tr>\n",
       "<tr>\n",
       "  <th>CRIM</th>    <td>   -0.1080</td> <td>    0.033</td> <td>   -3.287</td> <td> 0.001</td> <td>   -0.173</td> <td>   -0.043</td>\n",
       "</tr>\n",
       "<tr>\n",
       "  <th>ZN</th>      <td>    0.0464</td> <td>    0.014</td> <td>    3.382</td> <td> 0.001</td> <td>    0.019</td> <td>    0.073</td>\n",
       "</tr>\n",
       "<tr>\n",
       "  <th>INDUS</th>   <td>    0.0206</td> <td>    0.061</td> <td>    0.334</td> <td> 0.738</td> <td>   -0.100</td> <td>    0.141</td>\n",
       "</tr>\n",
       "<tr>\n",
       "  <th>CHAS</th>    <td>    2.6867</td> <td>    0.862</td> <td>    3.118</td> <td> 0.002</td> <td>    0.994</td> <td>    4.380</td>\n",
       "</tr>\n",
       "<tr>\n",
       "  <th>NOX</th>     <td>  -17.7666</td> <td>    3.820</td> <td>   -4.651</td> <td> 0.000</td> <td>  -25.272</td> <td>  -10.262</td>\n",
       "</tr>\n",
       "<tr>\n",
       "  <th>RM</th>      <td>    3.8099</td> <td>    0.418</td> <td>    9.116</td> <td> 0.000</td> <td>    2.989</td> <td>    4.631</td>\n",
       "</tr>\n",
       "<tr>\n",
       "  <th>AGE</th>     <td>    0.0007</td> <td>    0.013</td> <td>    0.052</td> <td> 0.958</td> <td>   -0.025</td> <td>    0.027</td>\n",
       "</tr>\n",
       "<tr>\n",
       "  <th>DIS</th>     <td>   -1.4756</td> <td>    0.199</td> <td>   -7.398</td> <td> 0.000</td> <td>   -1.867</td> <td>   -1.084</td>\n",
       "</tr>\n",
       "<tr>\n",
       "  <th>RAD</th>     <td>    0.3060</td> <td>    0.066</td> <td>    4.613</td> <td> 0.000</td> <td>    0.176</td> <td>    0.436</td>\n",
       "</tr>\n",
       "<tr>\n",
       "  <th>TAX</th>     <td>   -0.0123</td> <td>    0.004</td> <td>   -3.280</td> <td> 0.001</td> <td>   -0.020</td> <td>   -0.005</td>\n",
       "</tr>\n",
       "<tr>\n",
       "  <th>PTRATIO</th> <td>   -0.9527</td> <td>    0.131</td> <td>   -7.283</td> <td> 0.000</td> <td>   -1.210</td> <td>   -0.696</td>\n",
       "</tr>\n",
       "<tr>\n",
       "  <th>B</th>       <td>    0.0093</td> <td>    0.003</td> <td>    3.467</td> <td> 0.001</td> <td>    0.004</td> <td>    0.015</td>\n",
       "</tr>\n",
       "<tr>\n",
       "  <th>LSTAT</th>   <td>   -0.5248</td> <td>    0.051</td> <td>  -10.347</td> <td> 0.000</td> <td>   -0.624</td> <td>   -0.425</td>\n",
       "</tr>\n",
       "</table>\n",
       "<table class=\"simpletable\">\n",
       "<tr>\n",
       "  <th>Omnibus:</th>       <td>178.041</td> <th>  Durbin-Watson:     </th> <td>   1.078</td> \n",
       "</tr>\n",
       "<tr>\n",
       "  <th>Prob(Omnibus):</th> <td> 0.000</td>  <th>  Jarque-Bera (JB):  </th> <td> 783.126</td> \n",
       "</tr>\n",
       "<tr>\n",
       "  <th>Skew:</th>          <td> 1.521</td>  <th>  Prob(JB):          </th> <td>8.84e-171</td>\n",
       "</tr>\n",
       "<tr>\n",
       "  <th>Kurtosis:</th>      <td> 8.281</td>  <th>  Cond. No.          </th> <td>1.51e+04</td> \n",
       "</tr>\n",
       "</table><br/><br/>Notes:<br/>[1] Standard Errors assume that the covariance matrix of the errors is correctly specified.<br/>[2] The condition number is large, 1.51e+04. This might indicate that there are<br/>strong multicollinearity or other numerical problems."
      ],
      "text/plain": [
       "<class 'statsmodels.iolib.summary.Summary'>\n",
       "\"\"\"\n",
       "                            OLS Regression Results                            \n",
       "==============================================================================\n",
       "Dep. Variable:                   MEDV   R-squared:                       0.741\n",
       "Model:                            OLS   Adj. R-squared:                  0.734\n",
       "Method:                 Least Squares   F-statistic:                     108.1\n",
       "Date:                Tue, 28 Mar 2023   Prob (F-statistic):          6.72e-135\n",
       "Time:                        07:22:34   Log-Likelihood:                -1498.8\n",
       "No. Observations:                 506   AIC:                             3026.\n",
       "Df Residuals:                     492   BIC:                             3085.\n",
       "Df Model:                          13                                         \n",
       "Covariance Type:            nonrobust                                         \n",
       "==============================================================================\n",
       "                 coef    std err          t      P>|t|      [0.025      0.975]\n",
       "------------------------------------------------------------------------------\n",
       "const         36.4595      5.103      7.144      0.000      26.432      46.487\n",
       "CRIM          -0.1080      0.033     -3.287      0.001      -0.173      -0.043\n",
       "ZN             0.0464      0.014      3.382      0.001       0.019       0.073\n",
       "INDUS          0.0206      0.061      0.334      0.738      -0.100       0.141\n",
       "CHAS           2.6867      0.862      3.118      0.002       0.994       4.380\n",
       "NOX          -17.7666      3.820     -4.651      0.000     -25.272     -10.262\n",
       "RM             3.8099      0.418      9.116      0.000       2.989       4.631\n",
       "AGE            0.0007      0.013      0.052      0.958      -0.025       0.027\n",
       "DIS           -1.4756      0.199     -7.398      0.000      -1.867      -1.084\n",
       "RAD            0.3060      0.066      4.613      0.000       0.176       0.436\n",
       "TAX           -0.0123      0.004     -3.280      0.001      -0.020      -0.005\n",
       "PTRATIO       -0.9527      0.131     -7.283      0.000      -1.210      -0.696\n",
       "B              0.0093      0.003      3.467      0.001       0.004       0.015\n",
       "LSTAT         -0.5248      0.051    -10.347      0.000      -0.624      -0.425\n",
       "==============================================================================\n",
       "Omnibus:                      178.041   Durbin-Watson:                   1.078\n",
       "Prob(Omnibus):                  0.000   Jarque-Bera (JB):              783.126\n",
       "Skew:                           1.521   Prob(JB):                    8.84e-171\n",
       "Kurtosis:                       8.281   Cond. No.                     1.51e+04\n",
       "==============================================================================\n",
       "\n",
       "Notes:\n",
       "[1] Standard Errors assume that the covariance matrix of the errors is correctly specified.\n",
       "[2] The condition number is large, 1.51e+04. This might indicate that there are\n",
       "strong multicollinearity or other numerical problems.\n",
       "\"\"\""
      ]
     },
     "execution_count": 53,
     "metadata": {},
     "output_type": "execute_result"
    }
   ],
   "source": [
    "import statsmodels.api as smp\n",
    "X = df.drop('MEDV', 1)\n",
    "X = smp.add_constant(X)\n",
    "Y = df['MEDV']\n",
    "model = smp.OLS(Y, X)\n",
    "result = model.fit()\n",
    "result.summary()"
   ]
  },
  {
   "attachments": {},
   "cell_type": "markdown",
   "id": "aa1f6576",
   "metadata": {},
   "source": [
    "From the P values in the coefficient table in the output, we know that there are 11 variables that affect `MEDV`: `CRIM` and `ZN`, `CHAS`, `NOX`, `RM`, `DIS`, `RAD`, `TAX`, `PTRATIO`, `B` and `LSTAT`.\n",
    "For example, the coefficient for `CHAS` is 2.6867. The value of `CHAS` is recorded as 1 or else 0 if the house is in the vicinity of the Charles River. Thus, if the conditions for the other 11 (useful as explanatory variables) variables were exactly the same and there were properties that differed only in one respect, whether they were around the river or not, we would expect the houses (median value of) those around the river to be $2686 more expensive.\n",
    "\n",
    "The method of selecting explanatory variables that help predict the response variable in multiple regression analysis is an important issue in statistical modeling, which will be addressed in detail in the next chapter."
   ]
  },
  {
   "attachments": {},
   "cell_type": "markdown",
   "id": "eddf3537",
   "metadata": {},
   "source": [
    "### Interaction\n",
    "\n",
    "(There will be no quiz on the formulas)"
   ]
  },
  {
   "attachments": {},
   "cell_type": "markdown",
   "id": "0990b1fd",
   "metadata": {},
   "source": [
    "When there are multiple explanatory variables, synergy effects due to the combination of variables may be considered.\n",
    "\n",
    "For example, smokers have a higher risk of developing lung cancer than nonsmokers, but smokers who drink heavily are thought to have an even higher risk of developing lung cancer. This is called an **interaction**."
   ]
  },
  {
   "attachments": {},
   "cell_type": "markdown",
   "id": "078a8657",
   "metadata": {},
   "source": [
    "The regression analysis considering the two explanatory variables $x_1$ and $x_2$, and their interaction, is represented by the following model: the two variables are multiplied and their coefficients are added."
   ]
  },
  {
   "attachments": {},
   "cell_type": "markdown",
   "id": "aaba20db",
   "metadata": {},
   "source": [
    "$$\n",
    "y \\sim b + a_1 \\,  x_1 + a_2 \\,  x_2 + a_3 \\, x_1 \\, x_2\n",
    "$$\n",
    "\n",
    "If there are three variables, the following model would be used to examine the interactions among all of them.\n",
    "\n",
    "$$\n",
    "y \\sim b + a_1 \\, x_1 + a_2 \\,  x_2 + a_3 \\, x_3 + \n",
    "           a_4 \\, x_1 x_2 + a_5 \\,  x_1 x_3 + a_6 \\, x_2 x_3 + \n",
    "\t\t   a_7 \\,  x_1 x_2 x_3\n",
    "$$"
   ]
  },
  {
   "attachments": {},
   "cell_type": "markdown",
   "id": "08dc5b2c",
   "metadata": {},
   "source": [
    "However, it is not necessary to include these interactions in the model when there are multiple explanatory variables.\n",
    "\n",
    "From the perspective of causality (result and cause), an increase in alcohol consumption does not necessarily lead to lung cancer. In other words, alcohol consumption does not directly increase the risk of lung cancer.\n",
    "In fact, heavy drinkers are generally heavy smokers. In this case, smoking is called a **confounding** factor. Confounding factors are correlated with cause and causally related with effect (drinking and smoking are correlated, and smoking increases the risk of lung cancer, but there is no causal relationship between drinking and smoking apart from correlation)."
   ]
  },
  {
   "attachments": {},
   "cell_type": "markdown",
   "id": "afce026e",
   "metadata": {},
   "source": [
    "### Dummy variable"
   ]
  },
  {
   "attachments": {},
   "cell_type": "markdown",
   "id": "43909eab",
   "metadata": {},
   "source": [
    "In a multiple regression model, categorical variables can be added to the explanatory variables.\n",
    "If we are trying to predict the weight of high school students based on their height, then sex should be taken into account.\n",
    "So, we would put a categorical variable consisting of three levels, \"female,\" \"male,\" and \"neither\" into the model,\n",
    "If we were to consider the model, it would look like this.\n",
    "\n",
    "$$\n",
    "\\text{weight} \\sim b + a_1 \\times \\text{height} \\times a_2 \\text{sex}\n",
    "$$\n",
    "\n",
    "However, since sex is a categorical level (and not a numerical value), this model cannot be computed as it is here.\n",
    "Therefore, categorical variables should be converted to numerical values. The easiest way is to fit 1 to the relevant level and 0 to the others."
   ]
  },
  {
   "attachments": {},
   "cell_type": "markdown",
   "id": "dfd8dc68",
   "metadata": {},
   "source": [
    "<center>\n",
    "\n",
    "| Female | Male | Other |\n",
    "|--------|------|-------|\n",
    "| 1      | 0    | 0     |\n",
    "| 0      | 1    | 0     |\n",
    "| 0      | 0    | 1     |\n",
    "</center>"
   ]
  },
  {
   "attachments": {},
   "cell_type": "markdown",
   "id": "35b5f575",
   "metadata": {},
   "source": [
    "A categorical variable whose level is replaced by 0 or 1 is called a **dummy variable**. In the context of machine learning, it is also called **one hot encoding**.\n",
    "\n",
    "In general, the software will replace categorical variables with dummy variables without the analyst having to do anything, but in the Python **scikit-learn** library, which is often used in machine learning, the analyst must clearly specify in advance The **scikit-learn** library in Python, which is often used for machine learning, requires the analyst to clearly specify in advance that dummy variables are to be replaced. Students who have set up a Python environment other than Anaconda should run `pip3 install scikit-learn` to install the **sklearn** (scikit-learn) library."
   ]
  },
  {
   "attachments": {},
   "cell_type": "markdown",
   "id": "89312062",
   "metadata": {},
   "source": [
    "However, dummyized (one-hot-encoded) variables cannot be used as is in regression models. Generally, when dummy variables are set, one of the levels is omitted. For example, in the following example, the level \"female\" is omitted (usually, the software automatically sets this as well, but care should be taken)."
   ]
  },
  {
   "attachments": {},
   "cell_type": "markdown",
   "id": "87ee1fe2",
   "metadata": {},
   "source": [
    "<center>\n",
    "\n",
    "| Male | Other | \n",
    "|----|----|\n",
    "| 1  | 0  |\n",
    "| 0  | 1  |\n",
    "</center>"
   ]
  },
  {
   "attachments": {},
   "cell_type": "markdown",
   "id": "d73aad28",
   "metadata": {},
   "source": [
    "This does not mean that the \"female\" data has been erased. The mean height of the female subjects is interpreted as the base value, and how much it adds or subtracts from it for subjects with the attribute of \"male\" or \"other\" is estimated.\n",
    "\n",
    "The following results are then shown as coefficients of the regression analysis."
   ]
  },
  {
   "attachments": {},
   "cell_type": "markdown",
   "id": "922c126a",
   "metadata": {},
   "source": [
    "<center>\n",
    "\n",
    "| Height | 0.4 |\n",
    "|--------|-----|\n",
    "| Sex    | Male 0.5 |\n",
    "| Sex    | Other 0.2 |\n",
    "</center>"
   ]
  },
  {
   "attachments": {},
   "cell_type": "markdown",
   "id": "f7300141",
   "metadata": {},
   "source": [
    "This means that for every centimeter increase in height, you gain 0.4 kilograms in weight (although there are no actual studies showing that), in addition to this, it represents an additional 0.5 kg of weight gain if the gender is \"male\" (not female), and 0.2 kg if the gender is \"other\" (not female).\n",
    "In a dummy variable analysis, the levels not shown in the coefficient table are reference values. This is called a **reference level**."
   ]
  },
  {
   "attachments": {},
   "cell_type": "markdown",
   "id": "7745a0c6",
   "metadata": {},
   "source": [
    "In traditional statistics, a model that includes both numerical and categorical variables is sometimes called **analysis of covariance**."
   ]
  },
  {
   "attachments": {},
   "cell_type": "markdown",
   "id": "07351f94",
   "metadata": {},
   "source": [
    "## *Summary Video 4 so far (this is a recording of a past lecture)\n",
    "\n",
    "<font color=\"red\">Recording of Ishida's lecture</font>\n",
    "<iframe width=\"640\" height=\"360\" src=\"https://web.microsoftstream.com/embed/video/144e7410-07e5-46d1-ada0-8fd0b95689dc?autoplay=false&showinfo=true\" allowfullscreen style=\"border:none;\"></iframe>"
   ]
  },
  {
   "attachments": {},
   "cell_type": "markdown",
   "id": "10719a37",
   "metadata": {},
   "source": [
    "## Logistic regression model"
   ]
  },
  {
   "attachments": {},
   "cell_type": "markdown",
   "id": "f0e8b717",
   "metadata": {},
   "source": [
    "<span style=\"color: red; \">Key Points of Today's Lecture</span>\n",
    "<iframe width=\"560\" height=\"315\" src=\"https://www.youtube.com/embed/yIYKR4sgzI8\" title=\"YouTube video player\" frameborder=\"0\" allow=\"accelerometer; autoplay; clipboard-write; encrypted-media; gyroscope; picture-in-picture; web-share\" allowfullscreen></iframe>"
   ]
  },
  {
   "attachments": {},
   "cell_type": "markdown",
   "id": "8e62fd86",
   "metadata": {},
   "source": [
    "In the regression model of the previous section, the response variable was real. The regression model can be extended to the case where the response variable is a categorical variable. In particular, when the response variable is binary, it is called a logistic regression model and has a very wide range of applications. binary refers to a categorical variable limited to two levels, such as \"support\" or \"do not support\" the cabinet, \"positive\" or \"negative\" for an inspection, \"success\" or \"failure\" for an attempt, and so on. Since the relationship between the response variable and the explanatory variable is explored in the data, it is a **supervised learning** model. The purpose of a logistic regression model is to **classify** the response variable.\n",
    "\n",
    "When dealing with a binary response variable, it is common in logistic regression models to assign a numerical value of 1 to one and 0 to the other. In other words, the explanatory variable predicts whether the response variable will be 1 or 0.\n",
    "However, what the logistic regression model actually predicts is the probability that the response variable will be 1."
   ]
  },
  {
   "attachments": {},
   "cell_type": "markdown",
   "id": "f63abf95",
   "metadata": {},
   "source": [
    "Take the example of a housing loan. Suppose we want to predict whether a borrower will default or not. If default is 1 and repayment is 0, logistic regression analysis finds the probability that a customer will default. If this probability is greater than 0.5, it predicts 1 (default); otherwise, it predicts 0 (repayment).\n",
    "Since it is a probability, its value must range from 0 to 1.0. In this section, we will actually run the logistic regression analysis and explain how to interpret the output."
   ]
  },
  {
   "attachments": {},
   "cell_type": "markdown",
   "id": "01d0eabf",
   "metadata": {},
   "source": [
    "### Logit function"
   ]
  },
  {
   "attachments": {},
   "cell_type": "markdown",
   "id": "5c0a087a",
   "metadata": {},
   "source": [
    "Suppose that several measurements ( sex, annual income, education, etc.) are recorded for an individual (e.g., borrower), denoted as $x_1, x_2, \\dots, x_n$. Then, let $z$ be the probability of being 1 (default) for that individual. We would like to set $z = b + a_1 x_1 + a_2 x_2 \\dots + a_n x_n$ in a multiple regression model, but this does not guarantee that $z$ will fall between 0 and 1 as a probability.\n",
    "\n",
    "However, if this equation is transformed into the following equation, $p$ as a probability falls within the range of 0 to 1.0.\n",
    "The function that performs this transformation is called a **logistic function** or sigmoid function.\n",
    "\n",
    "$$\n",
    "p = \\frac{1}{1+e^{-z}}\n",
    "$$\n",
    "\n",
    "Let's check the logistic function in Python."
   ]
  },
  {
   "cell_type": "code",
   "execution_count": 54,
   "id": "e1d222cd",
   "metadata": {
    "name": "sigmoid"
   },
   "outputs": [
    {
     "data": {
      "image/png": "[encoded data removed]",
      "text/plain": [
       "<Figure size 640x480 with 1 Axes>"
      ]
     },
     "metadata": {},
     "output_type": "display_data"
    }
   ],
   "source": [
    "import numpy as np\n",
    "import matplotlib.pyplot as plt\n",
    "\n",
    "# Array of -6, 6 ranges with 0.1 intervals\n",
    "z = np.arange(-8, 8, 0.1)\n",
    "# Apply logistic function to x\n",
    "p = 1 / (1 + np.exp(-z) )\n",
    "# Graph Settings\n",
    "plt.plot(z, p) \n",
    "plt.xlim(-6, 6) \n",
    "plt.ylim(-0.1, 1.1) \n",
    "plt.grid() "
   ]
  },
  {
   "attachments": {},
   "cell_type": "markdown",
   "id": "70ce1d23",
   "metadata": {},
   "source": [
    "Applying the logistic function, you will see that the range of P on the Y axis is from 0 to 1.0."
   ]
  },
  {
   "attachments": {},
   "cell_type": "markdown",
   "id": "48f39f21",
   "metadata": {},
   "source": [
    "Consider applying this function to a regression model. First, suppose that the multiple regression model is expressed as follows\n",
    "\n",
    "$$\n",
    "z = b + a_1 x_1 +  a_2 x_2 \\dots +  a_n x_n\n",
    "$$\n",
    "\n",
    "As already mentioned, $z$ does not lie between 0 and 1.0 as it is. By the way, if we lump out $z$ from the previous logistic function, we get the following form.\n",
    "\n",
    "$$\n",
    "exp(z) = \\frac{p}{1-p}\n",
    "$$\n",
    "\n",
    "Taking the logarithm of both sides of this.\n",
    "\n",
    "$$\n",
    "log(exp(z)) = log(\\frac{p}{1-p}) = z\n",
    "$$\n",
    "\n",
    "Let $z$ read $z = b + a_1 x_1 + a_2 x_2 \\dots + a_n x_n$ in the linear model. Then, we can map the equation of the linear model to the probability $p$.\n",
    "\n",
    "Here $log(\\frac{p}{1-p})$ is called **logit**.\n",
    "\n",
    "Incidentally, $\\frac{p}{1-p}$ is the ratio of probabilities, which is called **odds** (used as an approximation of risk in the medical field). For example, if $p$ is the probability of success, odds are the ratio of the probability of success to the probability of failure. If the probability of success is 0.7 (since the probability of failure is 0.3), the odds are 0.7/0.3 = 2.33. This means that the odds of success are approximately 2.3 times greater than the odds of failure.\n",
    "\n",
    "Since $log(\\frac{p}{1-p})$ is the logarithm of this, it is called **logarithmic odds**."
   ]
  },
  {
   "attachments": {},
   "cell_type": "markdown",
   "id": "2f3d3938",
   "metadata": {},
   "source": [
    "Also defined as $f(p) = log(\\frac{p}{1-p})$, this function $f$ is called the **logit function**.\n",
    "However, in logistic regression analysis, the logit function is sometimes referred to as the **link function**.\n",
    "\n",
    "The logit function is the inverse function of the sigmoid function (logistic function).\n",
    "By using the link function. we can relate the linear model $z$ of the explanatory variable to the response variable (in this case, the probability $p$).\n",
    "\n",
    "When examining the accuracy of the predicted results of a logistic regression analysis, we cannot use indices such as the coefficient of determination in ordinary regression analysis (since it is not numerical to make predictions in the first place).\n",
    "Instead, a measure such as the ratio of correct to incorrect answers is used. These will be introduced in next week's statistical modeling."
   ]
  },
  {
   "attachments": {},
   "cell_type": "markdown",
   "id": "56c3eb3a",
   "metadata": {},
   "source": [
    "## Run a logistic regression analysis"
   ]
  },
  {
   "attachments": {},
   "cell_type": "markdown",
   "id": "fb6869ab",
   "metadata": {},
   "source": [
    "Let's actually run a logistic regression analysis."
   ]
  },
  {
   "attachments": {},
   "cell_type": "markdown",
   "id": "05a2e348",
   "metadata": {},
   "source": [
    "there is data on academic performance in the **statsmodels** library, so let's use that.\n",
    "\n",
    "[External site: Spector and Mazzeo (1980) - Program Effectiveness Data](https://www.statsmodels.org/stable/datasets/generated/spector.html)"
   ]
  },
  {
   "cell_type": "code",
   "execution_count": 55,
   "id": "fccde7ac",
   "metadata": {
    "name": "spector"
   },
   "outputs": [
    {
     "data": {
      "text/html": [
       "<div>\n",
       "<style scoped>\n",
       "    .dataframe tbody tr th:only-of-type {\n",
       "        vertical-align: middle;\n",
       "    }\n",
       "\n",
       "    .dataframe tbody tr th {\n",
       "        vertical-align: top;\n",
       "    }\n",
       "\n",
       "    .dataframe thead th {\n",
       "        text-align: right;\n",
       "    }\n",
       "</style>\n",
       "<table border=\"1\" class=\"dataframe\">\n",
       "  <thead>\n",
       "    <tr style=\"text-align: right;\">\n",
       "      <th></th>\n",
       "      <th>GPA</th>\n",
       "      <th>TUCE</th>\n",
       "      <th>PSI</th>\n",
       "      <th>GRADE</th>\n",
       "    </tr>\n",
       "  </thead>\n",
       "  <tbody>\n",
       "    <tr>\n",
       "      <th>0</th>\n",
       "      <td>2.66</td>\n",
       "      <td>20.0</td>\n",
       "      <td>0.0</td>\n",
       "      <td>0.0</td>\n",
       "    </tr>\n",
       "    <tr>\n",
       "      <th>1</th>\n",
       "      <td>2.89</td>\n",
       "      <td>22.0</td>\n",
       "      <td>0.0</td>\n",
       "      <td>0.0</td>\n",
       "    </tr>\n",
       "    <tr>\n",
       "      <th>2</th>\n",
       "      <td>3.28</td>\n",
       "      <td>24.0</td>\n",
       "      <td>0.0</td>\n",
       "      <td>0.0</td>\n",
       "    </tr>\n",
       "    <tr>\n",
       "      <th>3</th>\n",
       "      <td>2.92</td>\n",
       "      <td>12.0</td>\n",
       "      <td>0.0</td>\n",
       "      <td>0.0</td>\n",
       "    </tr>\n",
       "    <tr>\n",
       "      <th>4</th>\n",
       "      <td>4.00</td>\n",
       "      <td>21.0</td>\n",
       "      <td>0.0</td>\n",
       "      <td>1.0</td>\n",
       "    </tr>\n",
       "    <tr>\n",
       "      <th>5</th>\n",
       "      <td>2.86</td>\n",
       "      <td>17.0</td>\n",
       "      <td>0.0</td>\n",
       "      <td>0.0</td>\n",
       "    </tr>\n",
       "    <tr>\n",
       "      <th>6</th>\n",
       "      <td>2.76</td>\n",
       "      <td>17.0</td>\n",
       "      <td>0.0</td>\n",
       "      <td>0.0</td>\n",
       "    </tr>\n",
       "    <tr>\n",
       "      <th>7</th>\n",
       "      <td>2.87</td>\n",
       "      <td>21.0</td>\n",
       "      <td>0.0</td>\n",
       "      <td>0.0</td>\n",
       "    </tr>\n",
       "    <tr>\n",
       "      <th>8</th>\n",
       "      <td>3.03</td>\n",
       "      <td>25.0</td>\n",
       "      <td>0.0</td>\n",
       "      <td>0.0</td>\n",
       "    </tr>\n",
       "    <tr>\n",
       "      <th>9</th>\n",
       "      <td>3.92</td>\n",
       "      <td>29.0</td>\n",
       "      <td>0.0</td>\n",
       "      <td>1.0</td>\n",
       "    </tr>\n",
       "    <tr>\n",
       "      <th>10</th>\n",
       "      <td>2.63</td>\n",
       "      <td>20.0</td>\n",
       "      <td>0.0</td>\n",
       "      <td>0.0</td>\n",
       "    </tr>\n",
       "    <tr>\n",
       "      <th>11</th>\n",
       "      <td>3.32</td>\n",
       "      <td>23.0</td>\n",
       "      <td>0.0</td>\n",
       "      <td>0.0</td>\n",
       "    </tr>\n",
       "    <tr>\n",
       "      <th>12</th>\n",
       "      <td>3.57</td>\n",
       "      <td>23.0</td>\n",
       "      <td>0.0</td>\n",
       "      <td>0.0</td>\n",
       "    </tr>\n",
       "    <tr>\n",
       "      <th>13</th>\n",
       "      <td>3.26</td>\n",
       "      <td>25.0</td>\n",
       "      <td>0.0</td>\n",
       "      <td>1.0</td>\n",
       "    </tr>\n",
       "    <tr>\n",
       "      <th>14</th>\n",
       "      <td>3.53</td>\n",
       "      <td>26.0</td>\n",
       "      <td>0.0</td>\n",
       "      <td>0.0</td>\n",
       "    </tr>\n",
       "    <tr>\n",
       "      <th>15</th>\n",
       "      <td>2.74</td>\n",
       "      <td>19.0</td>\n",
       "      <td>0.0</td>\n",
       "      <td>0.0</td>\n",
       "    </tr>\n",
       "    <tr>\n",
       "      <th>16</th>\n",
       "      <td>2.75</td>\n",
       "      <td>25.0</td>\n",
       "      <td>0.0</td>\n",
       "      <td>0.0</td>\n",
       "    </tr>\n",
       "    <tr>\n",
       "      <th>17</th>\n",
       "      <td>2.83</td>\n",
       "      <td>19.0</td>\n",
       "      <td>0.0</td>\n",
       "      <td>0.0</td>\n",
       "    </tr>\n",
       "    <tr>\n",
       "      <th>18</th>\n",
       "      <td>3.12</td>\n",
       "      <td>23.0</td>\n",
       "      <td>1.0</td>\n",
       "      <td>0.0</td>\n",
       "    </tr>\n",
       "    <tr>\n",
       "      <th>19</th>\n",
       "      <td>3.16</td>\n",
       "      <td>25.0</td>\n",
       "      <td>1.0</td>\n",
       "      <td>1.0</td>\n",
       "    </tr>\n",
       "    <tr>\n",
       "      <th>20</th>\n",
       "      <td>2.06</td>\n",
       "      <td>22.0</td>\n",
       "      <td>1.0</td>\n",
       "      <td>0.0</td>\n",
       "    </tr>\n",
       "    <tr>\n",
       "      <th>21</th>\n",
       "      <td>3.62</td>\n",
       "      <td>28.0</td>\n",
       "      <td>1.0</td>\n",
       "      <td>1.0</td>\n",
       "    </tr>\n",
       "    <tr>\n",
       "      <th>22</th>\n",
       "      <td>2.89</td>\n",
       "      <td>14.0</td>\n",
       "      <td>1.0</td>\n",
       "      <td>0.0</td>\n",
       "    </tr>\n",
       "    <tr>\n",
       "      <th>23</th>\n",
       "      <td>3.51</td>\n",
       "      <td>26.0</td>\n",
       "      <td>1.0</td>\n",
       "      <td>0.0</td>\n",
       "    </tr>\n",
       "    <tr>\n",
       "      <th>24</th>\n",
       "      <td>3.54</td>\n",
       "      <td>24.0</td>\n",
       "      <td>1.0</td>\n",
       "      <td>1.0</td>\n",
       "    </tr>\n",
       "    <tr>\n",
       "      <th>25</th>\n",
       "      <td>2.83</td>\n",
       "      <td>27.0</td>\n",
       "      <td>1.0</td>\n",
       "      <td>1.0</td>\n",
       "    </tr>\n",
       "    <tr>\n",
       "      <th>26</th>\n",
       "      <td>3.39</td>\n",
       "      <td>17.0</td>\n",
       "      <td>1.0</td>\n",
       "      <td>1.0</td>\n",
       "    </tr>\n",
       "    <tr>\n",
       "      <th>27</th>\n",
       "      <td>2.67</td>\n",
       "      <td>24.0</td>\n",
       "      <td>1.0</td>\n",
       "      <td>0.0</td>\n",
       "    </tr>\n",
       "    <tr>\n",
       "      <th>28</th>\n",
       "      <td>3.65</td>\n",
       "      <td>21.0</td>\n",
       "      <td>1.0</td>\n",
       "      <td>1.0</td>\n",
       "    </tr>\n",
       "    <tr>\n",
       "      <th>29</th>\n",
       "      <td>4.00</td>\n",
       "      <td>23.0</td>\n",
       "      <td>1.0</td>\n",
       "      <td>1.0</td>\n",
       "    </tr>\n",
       "    <tr>\n",
       "      <th>30</th>\n",
       "      <td>3.10</td>\n",
       "      <td>21.0</td>\n",
       "      <td>1.0</td>\n",
       "      <td>0.0</td>\n",
       "    </tr>\n",
       "    <tr>\n",
       "      <th>31</th>\n",
       "      <td>2.39</td>\n",
       "      <td>19.0</td>\n",
       "      <td>1.0</td>\n",
       "      <td>1.0</td>\n",
       "    </tr>\n",
       "  </tbody>\n",
       "</table>\n",
       "</div>"
      ],
      "text/plain": [
       "     GPA  TUCE  PSI  GRADE\n",
       "0   2.66  20.0  0.0    0.0\n",
       "1   2.89  22.0  0.0    0.0\n",
       "2   3.28  24.0  0.0    0.0\n",
       "3   2.92  12.0  0.0    0.0\n",
       "4   4.00  21.0  0.0    1.0\n",
       "5   2.86  17.0  0.0    0.0\n",
       "6   2.76  17.0  0.0    0.0\n",
       "7   2.87  21.0  0.0    0.0\n",
       "8   3.03  25.0  0.0    0.0\n",
       "9   3.92  29.0  0.0    1.0\n",
       "10  2.63  20.0  0.0    0.0\n",
       "11  3.32  23.0  0.0    0.0\n",
       "12  3.57  23.0  0.0    0.0\n",
       "13  3.26  25.0  0.0    1.0\n",
       "14  3.53  26.0  0.0    0.0\n",
       "15  2.74  19.0  0.0    0.0\n",
       "16  2.75  25.0  0.0    0.0\n",
       "17  2.83  19.0  0.0    0.0\n",
       "18  3.12  23.0  1.0    0.0\n",
       "19  3.16  25.0  1.0    1.0\n",
       "20  2.06  22.0  1.0    0.0\n",
       "21  3.62  28.0  1.0    1.0\n",
       "22  2.89  14.0  1.0    0.0\n",
       "23  3.51  26.0  1.0    0.0\n",
       "24  3.54  24.0  1.0    1.0\n",
       "25  2.83  27.0  1.0    1.0\n",
       "26  3.39  17.0  1.0    1.0\n",
       "27  2.67  24.0  1.0    0.0\n",
       "28  3.65  21.0  1.0    1.0\n",
       "29  4.00  23.0  1.0    1.0\n",
       "30  3.10  21.0  1.0    0.0\n",
       "31  2.39  19.0  1.0    1.0"
      ]
     },
     "execution_count": 55,
     "metadata": {},
     "output_type": "execute_result"
    }
   ],
   "source": [
    "import statsmodels.api as sm\n",
    "import pandas as pd\n",
    "df = sm.datasets.spector.load().data\n",
    "df = pd.DataFrame(df)\n",
    "df"
   ]
  },
  {
   "attachments": {},
   "cell_type": "markdown",
   "id": "285875d4",
   "metadata": {},
   "source": [
    "The response variable is `GRADE`, which indicates whether a student's grade went up in the second semester of a given term as 1 (it did) or 0 (it did not). The explanatory variables are `GPA` `TUCE` `PSI`, which is the grade rank of the first semester, the results of standardized tests, and whether the student received a certain educational program.\n",
    "\n",
    "The objective is to predict whether the students' grades in the second semester were higher or not, based on their grades in the first semester, test results, and whether or not they took an educational program.\n",
    "\n",
    "Let`s run a logistic regression analysis in Python."
   ]
  },
  {
   "cell_type": "code",
   "execution_count": 56,
   "id": "d502f8a3",
   "metadata": {
    "name": "spector2"
   },
   "outputs": [
    {
     "name": "stdout",
     "output_type": "stream",
     "text": [
      "Optimization terminated successfully.\n",
      "         Current function value: 0.402801\n",
      "         Iterations 7\n"
     ]
    },
    {
     "data": {
      "text/html": [
       "<table class=\"simpletable\">\n",
       "<caption>Logit Regression Results</caption>\n",
       "<tr>\n",
       "  <th>Dep. Variable:</th>         <td>GRADE</td>      <th>  No. Observations:  </th>  <td>    32</td> \n",
       "</tr>\n",
       "<tr>\n",
       "  <th>Model:</th>                 <td>Logit</td>      <th>  Df Residuals:      </th>  <td>    28</td> \n",
       "</tr>\n",
       "<tr>\n",
       "  <th>Method:</th>                 <td>MLE</td>       <th>  Df Model:          </th>  <td>     3</td> \n",
       "</tr>\n",
       "<tr>\n",
       "  <th>Date:</th>            <td>Tue, 28 Mar 2023</td> <th>  Pseudo R-squ.:     </th>  <td>0.3740</td> \n",
       "</tr>\n",
       "<tr>\n",
       "  <th>Time:</th>                <td>07:34:15</td>     <th>  Log-Likelihood:    </th> <td> -12.890</td>\n",
       "</tr>\n",
       "<tr>\n",
       "  <th>converged:</th>             <td>True</td>       <th>  LL-Null:           </th> <td> -20.592</td>\n",
       "</tr>\n",
       "<tr>\n",
       "  <th>Covariance Type:</th>     <td>nonrobust</td>    <th>  LLR p-value:       </th> <td>0.001502</td>\n",
       "</tr>\n",
       "</table>\n",
       "<table class=\"simpletable\">\n",
       "<tr>\n",
       "      <td></td>         <th>coef</th>     <th>std err</th>      <th>z</th>      <th>P>|z|</th>  <th>[0.025</th>    <th>0.975]</th>  \n",
       "</tr>\n",
       "<tr>\n",
       "  <th>Intercept</th> <td>  -13.0213</td> <td>    4.931</td> <td>   -2.641</td> <td> 0.008</td> <td>  -22.687</td> <td>   -3.356</td>\n",
       "</tr>\n",
       "<tr>\n",
       "  <th>GPA</th>       <td>    2.8261</td> <td>    1.263</td> <td>    2.238</td> <td> 0.025</td> <td>    0.351</td> <td>    5.301</td>\n",
       "</tr>\n",
       "<tr>\n",
       "  <th>TUCE</th>      <td>    0.0952</td> <td>    0.142</td> <td>    0.672</td> <td> 0.501</td> <td>   -0.182</td> <td>    0.373</td>\n",
       "</tr>\n",
       "<tr>\n",
       "  <th>PSI</th>       <td>    2.3787</td> <td>    1.065</td> <td>    2.234</td> <td> 0.025</td> <td>    0.292</td> <td>    4.465</td>\n",
       "</tr>\n",
       "</table>"
      ],
      "text/plain": [
       "<class 'statsmodels.iolib.summary.Summary'>\n",
       "\"\"\"\n",
       "                           Logit Regression Results                           \n",
       "==============================================================================\n",
       "Dep. Variable:                  GRADE   No. Observations:                   32\n",
       "Model:                          Logit   Df Residuals:                       28\n",
       "Method:                           MLE   Df Model:                            3\n",
       "Date:                Tue, 28 Mar 2023   Pseudo R-squ.:                  0.3740\n",
       "Time:                        07:34:15   Log-Likelihood:                -12.890\n",
       "converged:                       True   LL-Null:                       -20.592\n",
       "Covariance Type:            nonrobust   LLR p-value:                  0.001502\n",
       "==============================================================================\n",
       "                 coef    std err          z      P>|z|      [0.025      0.975]\n",
       "------------------------------------------------------------------------------\n",
       "Intercept    -13.0213      4.931     -2.641      0.008     -22.687      -3.356\n",
       "GPA            2.8261      1.263      2.238      0.025       0.351       5.301\n",
       "TUCE           0.0952      0.142      0.672      0.501      -0.182       0.373\n",
       "PSI            2.3787      1.065      2.234      0.025       0.292       4.465\n",
       "==============================================================================\n",
       "\"\"\""
      ]
     },
     "execution_count": 56,
     "metadata": {},
     "output_type": "execute_result"
    }
   ],
   "source": [
    "import statsmodels.formula.api as smf\n",
    "model = smf.logit('GRADE ~ GPA + TUCE + PSI', data = df)\n",
    "res = model.fit()\n",
    "res.summary()"
   ]
  },
  {
   "attachments": {},
   "cell_type": "markdown",
   "id": "327fa19b",
   "metadata": {},
   "source": [
    "The `GRADE ~ GPA + TUCE + PSI` part specifies the logistic regression model.\n",
    "\n",
    "In the output, the column `coef` shows that `GPA` is estimated to be 2.8261, `TUCE` is 0.0952, and `PSI` is 2.3787. What are these values? They correspond to $a_1$ and $a_2$ in the linear model equation $z = b + a_1 x_1 + a_2 x_2 \\dots + a_n x_n$."
   ]
  },
  {
   "attachments": {},
   "cell_type": "markdown",
   "id": "231266c2",
   "metadata": {},
   "source": [
    "By the way, $Z$ in this linear model equation was linked to the probability $p$ by the following link function. \n",
    "\n",
    "$$\n",
    "log(\\frac{p}{1-p}) = z = b + a_1 x_1 + a_2 x_2 \\dots + a_n x_n\n",
    "$$\n",
    "\n",
    "Now suppose we have two outcomes $z_1, z_2$ and for $x_1$ one is 1 and the other is 0. Then, for $x_2, x_3 \\dots x_n$$, suppose they are exactly the same."
   ]
  },
  {
   "attachments": {},
   "cell_type": "markdown",
   "id": "28a02806",
   "metadata": {},
   "source": [
    "$$\n",
    "z_1 = log(\\frac{p_1}{1-p_1}) = b + a_1 \\times 1 +  a_2 x_2 \\dots +  a_n x_n\n",
    "$$\n",
    "\n",
    "$$\n",
    "z_2 =log(\\frac{p_2}{1-p_2}) = b + a_1 \\times 0 +  a_2 x_2 \\dots +  a_n x_n\n",
    "$$\n",
    "\n",
    "Subtracting $Z_1$ and $Z_2$ yields the following result.\n",
    "\n",
    "$$\n",
    "z_1 - z_2 = log(\\frac{p_1}{1-p_1}) - log(\\frac{p_2}{1-p_2}) = a_1 \n",
    "$$"
   ]
  },
  {
   "cell_type": "markdown",
   "id": "af53da1a",
   "metadata": {},
   "source": [
    "$$\n",
    "z_1 - z_2 = log(\\frac{ \\frac{p_1}{1-p_1} } { \\frac{p_2}{1-p_2} }) = a_1 \n",
    "$$"
   ]
  },
  {
   "attachments": {},
   "cell_type": "markdown",
   "id": "522874e4",
   "metadata": {},
   "source": [
    "So the coefficient $a_1$ is a log odds **ratio**. Taking `exp()` gives the odds ratio."
   ]
  },
  {
   "attachments": {},
   "cell_type": "markdown",
   "id": "0bf72c20",
   "metadata": {},
   "source": [
    "[External site: Wikipedia:Odds ratio](https://ja.wikipedia.org/wiki/%E3%82%AA%E3%83%83%E3%82%BA%E6%AF%94)\n",
    "\n",
    "Returning now to the output `coef`, the 2.8261 estimated as the coefficient of `GPA` is the odds ratio when `exp()` is applied."
   ]
  },
  {
   "cell_type": "code",
   "execution_count": 57,
   "id": "0c42a950",
   "metadata": {
    "name": "odds"
   },
   "outputs": [
    {
     "data": {
      "text/plain": [
       "16.87950223018679"
      ]
     },
     "execution_count": 57,
     "metadata": {},
     "output_type": "execute_result"
    }
   ],
   "source": [
    "import numpy as np\n",
    "np.exp(2.8261)"
   ]
  },
  {
   "attachments": {},
   "cell_type": "markdown",
   "id": "24be50de",
   "metadata": {},
   "source": [
    "This means that a grade rank of 1 higher in the first semester means that the odds (not the probability itself, but the ratio of the odds, compared to the odds of not getting a higher grade) of getting a higher grade in the second semester is about 17 times higher. The 0.0952 for `TUCE` and 2.3787 for `PSI` are interpreted similarly.\n",
    "It should be noted, however, that each coefficient is an estimate and ranges from a minimum of 0.351 to a maximum of 5.301 in the case of `GPA`.\n",
    "For `TUCE`, the p-value is 0.5, so the null hypothesis (coefficient is 0) cannot be rejected. In other words, the possibility that the coefficient for `TUCE` is 0 cannot be ruled out. In fact, the lower limit of the 95% range of the estimated value is -0.182 and the upper limit is estimated to be 0.373. The possibility of 0 being included in this range indicates that it is not very useful as an explanatory variable for predicting the performance in the second half of the year."
   ]
  },
  {
   "attachments": {},
   "cell_type": "markdown",
   "id": "8af781a1",
   "metadata": {},
   "source": [
    "### Generalized linear model"
   ]
  },
  {
   "attachments": {},
   "cell_type": "markdown",
   "id": "b07ac9dc",
   "metadata": {},
   "source": [
    "<span style=\"color: red; \">Key Points of Today's Lecture</span>\n",
    "\n",
    "<iframe width=\"560\" height=\"315\" src=\"https://www.youtube.com/embed/ddCO2714W-o\" title=\"YouTube video player\" frameborder=\"0\" allow=\"accelerometer; autoplay; clipboard-write; encrypted-media; gyroscope; picture-in-picture; web-share\" allowfullscreen></iframe>"
   ]
  },
  {
   "attachments": {},
   "cell_type": "markdown",
   "id": "09adabd9",
   "metadata": {},
   "source": [
    "In the logistic regression analysis, the response variable was binary. Simply put, it is a variable that can be either 1 or 0. A distribution that produces one value with probability $p$ and the other value with probability $1-p$ is called a **bernoulli distribution**. A collection of values that follows the Bernoulli distribution (the number of times a coin is tossed 10 times and each time it comes out heads or tails) also follows the **binomial distribution**. In the field of data science, however, the Bernoulli distribution is often described as a special case of binomial distribution ($N=1$)."
   ]
  },
  {
   "attachments": {},
   "cell_type": "markdown",
   "id": "dacba351",
   "metadata": {},
   "source": [
    "Incidentally, regression analysis generally assumes real values (with errors following a normal distribution) as response variables. In logistic regression, on the other hand, the response variable is binary. In addition, there is another method called Poisson regression, which assumes a count (number of occurrences) as the response variable.\n",
    "Therefore, they are often referred to collectively as **Generalized linear model**."
   ]
  },
  {
   "attachments": {},
   "cell_type": "markdown",
   "id": "cee41511",
   "metadata": {},
   "source": [
    "### Method of maximum likelihood"
   ]
  },
  {
   "attachments": {},
   "cell_type": "markdown",
   "id": "19ea58f4",
   "metadata": {},
   "source": [
    "In the regression model, the parameters were estimated by the least squares method, assuming that the residuals follow a normal distribution.\n",
    "In logistic regression, the least-squares method is sometimes used, assuming that the residuals approximately follow a normal distribution, but the maximum-likelihood method is also used for repeated estimation.\n",
    "\n",
    "Consider a coin tossed several times, with 1 representing a heads-up and 0 representing a tails-up. In this example, the **method of maximum likelihood** is a method of estimating the probability of generating a 1 (or 0) from the distribution of the response variable in the data (the number of 1s and 0s respectively in the case of logistic regression).\n",
    "\n",
    "For example, suppose a coin is tossed five times and three times it comes up heads. In coin tossing, we (usually) assume that the probability of the coin's face showing up is 1/2. However, if we consider only the result that the coin is turned over three times in five tosses, the probability of the coin turning up is 3/5. Based on the data at hand (i.e., without the knowledge that the probability of a coin turning up is 1/2), we judge that 3/5 is reasonable (plausible, plausible). \n",
    "It is intuitively obvious that the probability is 3/5 since 3 out of 5 coins turned up heads, but let's calculate this more concretely.\n",
    "\n",
    "Since the workmanship of each of the two sides of a coin is different, the probability of a face being turned up may not be considered 0.5. Therefore, we would like to estimate the probability $p$ of a coin coming out face up based on the results of repeated tosses.\n",
    "We threw 100 times, and the table appeared in 70 of them. Then, the probability of a table is expressed by the following equation.\n",
    "\n",
    "\\begin{aligned}\n",
    "L(p)={}_{100}\\mathrm{C}_{70} \\, p^{70}(1-p)^{30}\n",
    "\\end{aligned}\n",
    "\n",
    "$L$ represents the likelihood function, and the method of maximum likelihood is to find $p$ for which $L(p)$ is at its maximum value.\n",
    "In short, the product of the probability of 70 times for the front and 30 times for the back is multiplied by the number of combinations. Since the actual value of $L(p)$ is not important, but rather the maximization of $p$, it is common to avoid the computationally intractable multiplication and use logarithmic addition.\n",
    "\n",
    "\\begin{aligned}\n",
    "\\log L(p)=70 \\log p + 30 \\log (1-p) + \\log {}_{100}\\mathrm{C}_{70}\n",
    "\\end{aligned}\n",
    "\n",
    "Differentiate this by $p$.\n",
    "\n",
    "\\begin{aligned}\n",
    "\\frac{d}{d p}\\log L(p)= \\frac{70}{p} - \\frac{30}{1-p}\n",
    "\\end{aligned}\n",
    "\n",
    "Assuming the following equation to be 0, $p=0.7$ is plausible (and likely) after all. \n",
    "\n",
    "\\begin{aligned}\n",
    "\\frac{70}{p}-\\frac{30}{1-p}=0\n",
    "\\end{aligned}\n"
   ]
  },
  {
   "attachments": {},
   "cell_type": "markdown",
   "id": "eac50ae3",
   "metadata": {},
   "source": [
    "\n",
    "<span style=\"color: red; \">Key Points of Today's Lecture</span>\n",
    "\n",
    "<iframe width=\"560\" height=\"315\" src=\"https://www.youtube.com/embed/4KKV9yZCoM4\" frameborder=\"0\" allow=\"accelerometer; autoplay; encrypted-media; gyroscope; picture-in-picture\" allowfullscreen></iframe>\n",
    "\n",
    "確率と尤度の違いについて\n",
    "\n",
    "<iframe width=\"560\" height=\"315\" src=\"https://www.youtube.com/embed/pYxNSUDSFH4\" title=\"YouTube video player\" frameborder=\"0\" allow=\"accelerometer; autoplay; clipboard-write; encrypted-media; gyroscope; picture-in-picture; web-share\" allowfullscreen></iframe>"
   ]
  },
  {
   "attachments": {},
   "cell_type": "markdown",
   "id": "73946789",
   "metadata": {},
   "source": [
    "## Cluster analysis"
   ]
  },
  {
   "attachments": {},
   "cell_type": "markdown",
   "id": "07271fc4",
   "metadata": {},
   "source": [
    "**Cluster analysis** is a method of dividing observations into clusters (groups). Or, in the field of marketing, it is also expressed as segments.\n",
    "For example, a customer who is likely to purchase a certain product and a customer who is not likely to purchase a certain product may be divided into segments. To divide a customer into segments, the customer's attributes (sex, age), past purchase history, etc. become explanatory variables.\n",
    "However, it is not known at the analysis stage whether each customer actually purchases or not. In other words, the data does not include variables that should serve as teachers (answers). Therefore, cluster analysis (segment classification) is *unsupervised learning*.\n",
    "\n",
    "Cluster analysis is not a method of analysis that assumes a model for the data, but a heuristic (classification method).\n",
    "Heuristics is sometimes translated as exploratory, but in essence, it can be thought of as a method that does not guarantee a perfectly correct answer, but can seek an answer that is close to the correct answer, or trial and error. Conversely, since a perfectly correct answer is not assumed, there is no standard by which to judge the correctness of the results. Therefore, the range of application or practicality is limited. However, since the results can be displayed as a graph (dendrogram), it is often used as a method to confirm the trend of the data at hand."
   ]
  },
  {
   "attachments": {},
   "cell_type": "markdown",
   "id": "a0703a56",
   "metadata": {},
   "source": [
    "In many cases, the number of clusters (segments) cannot be specified in advance for unsupervised clustering. Several indicators have been proposed to determine the number of clusters, but the final decision will be made by comparing the accuracy of forecasts and other factors.\n",
    "\n",
    "Let's run a cluster analysis using the following data as an example."
   ]
  },
  {
   "attachments": {},
   "cell_type": "markdown",
   "id": "fb7d3a0c",
   "metadata": {},
   "source": [
    "Once again, we will analyze the `iris` data that we used the previous week. The `iris` data consisted of 50 specimens from each of the three Iris species, and the length and width of the petals and gulps were recorded for each of them. In the previous week, we used `iris` with `seaborn`, but here we will use `iris` with `scikit learn`. The former was a simple data frame, but this `iris` is a little more complex."
   ]
  },
  {
   "cell_type": "code",
   "execution_count": 58,
   "id": "e16d89e3",
   "metadata": {},
   "outputs": [
    {
     "data": {
      "text/plain": [
       "{'data': array([[5.1, 3.5, 1.4, 0.2],\n",
       "        [4.9, 3. , 1.4, 0.2],\n",
       "        [4.7, 3.2, 1.3, 0.2],\n",
       "        [4.6, 3.1, 1.5, 0.2],\n",
       "        [5. , 3.6, 1.4, 0.2],\n",
       "        [5.4, 3.9, 1.7, 0.4],\n",
       "        [4.6, 3.4, 1.4, 0.3],\n",
       "        [5. , 3.4, 1.5, 0.2],\n",
       "        [4.4, 2.9, 1.4, 0.2],\n",
       "        [4.9, 3.1, 1.5, 0.1],\n",
       "        [5.4, 3.7, 1.5, 0.2],\n",
       "        [4.8, 3.4, 1.6, 0.2],\n",
       "        [4.8, 3. , 1.4, 0.1],\n",
       "        [4.3, 3. , 1.1, 0.1],\n",
       "        [5.8, 4. , 1.2, 0.2],\n",
       "        [5.7, 4.4, 1.5, 0.4],\n",
       "        [5.4, 3.9, 1.3, 0.4],\n",
       "        [5.1, 3.5, 1.4, 0.3],\n",
       "        [5.7, 3.8, 1.7, 0.3],\n",
       "        [5.1, 3.8, 1.5, 0.3],\n",
       "        [5.4, 3.4, 1.7, 0.2],\n",
       "        [5.1, 3.7, 1.5, 0.4],\n",
       "        [4.6, 3.6, 1. , 0.2],\n",
       "        [5.1, 3.3, 1.7, 0.5],\n",
       "        [4.8, 3.4, 1.9, 0.2],\n",
       "        [5. , 3. , 1.6, 0.2],\n",
       "        [5. , 3.4, 1.6, 0.4],\n",
       "        [5.2, 3.5, 1.5, 0.2],\n",
       "        [5.2, 3.4, 1.4, 0.2],\n",
       "        [4.7, 3.2, 1.6, 0.2],\n",
       "        [4.8, 3.1, 1.6, 0.2],\n",
       "        [5.4, 3.4, 1.5, 0.4],\n",
       "        [5.2, 4.1, 1.5, 0.1],\n",
       "        [5.5, 4.2, 1.4, 0.2],\n",
       "        [4.9, 3.1, 1.5, 0.2],\n",
       "        [5. , 3.2, 1.2, 0.2],\n",
       "        [5.5, 3.5, 1.3, 0.2],\n",
       "        [4.9, 3.6, 1.4, 0.1],\n",
       "        [4.4, 3. , 1.3, 0.2],\n",
       "        [5.1, 3.4, 1.5, 0.2],\n",
       "        [5. , 3.5, 1.3, 0.3],\n",
       "        [4.5, 2.3, 1.3, 0.3],\n",
       "        [4.4, 3.2, 1.3, 0.2],\n",
       "        [5. , 3.5, 1.6, 0.6],\n",
       "        [5.1, 3.8, 1.9, 0.4],\n",
       "        [4.8, 3. , 1.4, 0.3],\n",
       "        [5.1, 3.8, 1.6, 0.2],\n",
       "        [4.6, 3.2, 1.4, 0.2],\n",
       "        [5.3, 3.7, 1.5, 0.2],\n",
       "        [5. , 3.3, 1.4, 0.2],\n",
       "        [7. , 3.2, 4.7, 1.4],\n",
       "        [6.4, 3.2, 4.5, 1.5],\n",
       "        [6.9, 3.1, 4.9, 1.5],\n",
       "        [5.5, 2.3, 4. , 1.3],\n",
       "        [6.5, 2.8, 4.6, 1.5],\n",
       "        [5.7, 2.8, 4.5, 1.3],\n",
       "        [6.3, 3.3, 4.7, 1.6],\n",
       "        [4.9, 2.4, 3.3, 1. ],\n",
       "        [6.6, 2.9, 4.6, 1.3],\n",
       "        [5.2, 2.7, 3.9, 1.4],\n",
       "        [5. , 2. , 3.5, 1. ],\n",
       "        [5.9, 3. , 4.2, 1.5],\n",
       "        [6. , 2.2, 4. , 1. ],\n",
       "        [6.1, 2.9, 4.7, 1.4],\n",
       "        [5.6, 2.9, 3.6, 1.3],\n",
       "        [6.7, 3.1, 4.4, 1.4],\n",
       "        [5.6, 3. , 4.5, 1.5],\n",
       "        [5.8, 2.7, 4.1, 1. ],\n",
       "        [6.2, 2.2, 4.5, 1.5],\n",
       "        [5.6, 2.5, 3.9, 1.1],\n",
       "        [5.9, 3.2, 4.8, 1.8],\n",
       "        [6.1, 2.8, 4. , 1.3],\n",
       "        [6.3, 2.5, 4.9, 1.5],\n",
       "        [6.1, 2.8, 4.7, 1.2],\n",
       "        [6.4, 2.9, 4.3, 1.3],\n",
       "        [6.6, 3. , 4.4, 1.4],\n",
       "        [6.8, 2.8, 4.8, 1.4],\n",
       "        [6.7, 3. , 5. , 1.7],\n",
       "        [6. , 2.9, 4.5, 1.5],\n",
       "        [5.7, 2.6, 3.5, 1. ],\n",
       "        [5.5, 2.4, 3.8, 1.1],\n",
       "        [5.5, 2.4, 3.7, 1. ],\n",
       "        [5.8, 2.7, 3.9, 1.2],\n",
       "        [6. , 2.7, 5.1, 1.6],\n",
       "        [5.4, 3. , 4.5, 1.5],\n",
       "        [6. , 3.4, 4.5, 1.6],\n",
       "        [6.7, 3.1, 4.7, 1.5],\n",
       "        [6.3, 2.3, 4.4, 1.3],\n",
       "        [5.6, 3. , 4.1, 1.3],\n",
       "        [5.5, 2.5, 4. , 1.3],\n",
       "        [5.5, 2.6, 4.4, 1.2],\n",
       "        [6.1, 3. , 4.6, 1.4],\n",
       "        [5.8, 2.6, 4. , 1.2],\n",
       "        [5. , 2.3, 3.3, 1. ],\n",
       "        [5.6, 2.7, 4.2, 1.3],\n",
       "        [5.7, 3. , 4.2, 1.2],\n",
       "        [5.7, 2.9, 4.2, 1.3],\n",
       "        [6.2, 2.9, 4.3, 1.3],\n",
       "        [5.1, 2.5, 3. , 1.1],\n",
       "        [5.7, 2.8, 4.1, 1.3],\n",
       "        [6.3, 3.3, 6. , 2.5],\n",
       "        [5.8, 2.7, 5.1, 1.9],\n",
       "        [7.1, 3. , 5.9, 2.1],\n",
       "        [6.3, 2.9, 5.6, 1.8],\n",
       "        [6.5, 3. , 5.8, 2.2],\n",
       "        [7.6, 3. , 6.6, 2.1],\n",
       "        [4.9, 2.5, 4.5, 1.7],\n",
       "        [7.3, 2.9, 6.3, 1.8],\n",
       "        [6.7, 2.5, 5.8, 1.8],\n",
       "        [7.2, 3.6, 6.1, 2.5],\n",
       "        [6.5, 3.2, 5.1, 2. ],\n",
       "        [6.4, 2.7, 5.3, 1.9],\n",
       "        [6.8, 3. , 5.5, 2.1],\n",
       "        [5.7, 2.5, 5. , 2. ],\n",
       "        [5.8, 2.8, 5.1, 2.4],\n",
       "        [6.4, 3.2, 5.3, 2.3],\n",
       "        [6.5, 3. , 5.5, 1.8],\n",
       "        [7.7, 3.8, 6.7, 2.2],\n",
       "        [7.7, 2.6, 6.9, 2.3],\n",
       "        [6. , 2.2, 5. , 1.5],\n",
       "        [6.9, 3.2, 5.7, 2.3],\n",
       "        [5.6, 2.8, 4.9, 2. ],\n",
       "        [7.7, 2.8, 6.7, 2. ],\n",
       "        [6.3, 2.7, 4.9, 1.8],\n",
       "        [6.7, 3.3, 5.7, 2.1],\n",
       "        [7.2, 3.2, 6. , 1.8],\n",
       "        [6.2, 2.8, 4.8, 1.8],\n",
       "        [6.1, 3. , 4.9, 1.8],\n",
       "        [6.4, 2.8, 5.6, 2.1],\n",
       "        [7.2, 3. , 5.8, 1.6],\n",
       "        [7.4, 2.8, 6.1, 1.9],\n",
       "        [7.9, 3.8, 6.4, 2. ],\n",
       "        [6.4, 2.8, 5.6, 2.2],\n",
       "        [6.3, 2.8, 5.1, 1.5],\n",
       "        [6.1, 2.6, 5.6, 1.4],\n",
       "        [7.7, 3. , 6.1, 2.3],\n",
       "        [6.3, 3.4, 5.6, 2.4],\n",
       "        [6.4, 3.1, 5.5, 1.8],\n",
       "        [6. , 3. , 4.8, 1.8],\n",
       "        [6.9, 3.1, 5.4, 2.1],\n",
       "        [6.7, 3.1, 5.6, 2.4],\n",
       "        [6.9, 3.1, 5.1, 2.3],\n",
       "        [5.8, 2.7, 5.1, 1.9],\n",
       "        [6.8, 3.2, 5.9, 2.3],\n",
       "        [6.7, 3.3, 5.7, 2.5],\n",
       "        [6.7, 3. , 5.2, 2.3],\n",
       "        [6.3, 2.5, 5. , 1.9],\n",
       "        [6.5, 3. , 5.2, 2. ],\n",
       "        [6.2, 3.4, 5.4, 2.3],\n",
       "        [5.9, 3. , 5.1, 1.8]]),\n",
       " 'target': array([0, 0, 0, 0, 0, 0, 0, 0, 0, 0, 0, 0, 0, 0, 0, 0, 0, 0, 0, 0, 0, 0,\n",
       "        0, 0, 0, 0, 0, 0, 0, 0, 0, 0, 0, 0, 0, 0, 0, 0, 0, 0, 0, 0, 0, 0,\n",
       "        0, 0, 0, 0, 0, 0, 1, 1, 1, 1, 1, 1, 1, 1, 1, 1, 1, 1, 1, 1, 1, 1,\n",
       "        1, 1, 1, 1, 1, 1, 1, 1, 1, 1, 1, 1, 1, 1, 1, 1, 1, 1, 1, 1, 1, 1,\n",
       "        1, 1, 1, 1, 1, 1, 1, 1, 1, 1, 1, 1, 2, 2, 2, 2, 2, 2, 2, 2, 2, 2,\n",
       "        2, 2, 2, 2, 2, 2, 2, 2, 2, 2, 2, 2, 2, 2, 2, 2, 2, 2, 2, 2, 2, 2,\n",
       "        2, 2, 2, 2, 2, 2, 2, 2, 2, 2, 2, 2, 2, 2, 2, 2, 2, 2]),\n",
       " 'frame': None,\n",
       " 'target_names': array(['setosa', 'versicolor', 'virginica'], dtype='<U10'),\n",
       " 'DESCR': '.. _iris_dataset:\\n\\nIris plants dataset\\n--------------------\\n\\n**Data Set Characteristics:**\\n\\n    :Number of Instances: 150 (50 in each of three classes)\\n    :Number of Attributes: 4 numeric, predictive attributes and the class\\n    :Attribute Information:\\n        - sepal length in cm\\n        - sepal width in cm\\n        - petal length in cm\\n        - petal width in cm\\n        - class:\\n                - Iris-Setosa\\n                - Iris-Versicolour\\n                - Iris-Virginica\\n                \\n    :Summary Statistics:\\n\\n    ============== ==== ==== ======= ===== ====================\\n                    Min  Max   Mean    SD   Class Correlation\\n    ============== ==== ==== ======= ===== ====================\\n    sepal length:   4.3  7.9   5.84   0.83    0.7826\\n    sepal width:    2.0  4.4   3.05   0.43   -0.4194\\n    petal length:   1.0  6.9   3.76   1.76    0.9490  (high!)\\n    petal width:    0.1  2.5   1.20   0.76    0.9565  (high!)\\n    ============== ==== ==== ======= ===== ====================\\n\\n    :Missing Attribute Values: None\\n    :Class Distribution: 33.3% for each of 3 classes.\\n    :Creator: R.A. Fisher\\n    :Donor: Michael Marshall (MARSHALL%PLU@io.arc.nasa.gov)\\n    :Date: July, 1988\\n\\nThe famous Iris database, first used by Sir R.A. Fisher. The dataset is taken\\nfrom Fisher\\'s paper. Note that it\\'s the same as in R, but not as in the UCI\\nMachine Learning Repository, which has two wrong data points.\\n\\nThis is perhaps the best known database to be found in the\\npattern recognition literature.  Fisher\\'s paper is a classic in the field and\\nis referenced frequently to this day.  (See Duda & Hart, for example.)  The\\ndata set contains 3 classes of 50 instances each, where each class refers to a\\ntype of iris plant.  One class is linearly separable from the other 2; the\\nlatter are NOT linearly separable from each other.\\n\\n.. topic:: References\\n\\n   - Fisher, R.A. \"The use of multiple measurements in taxonomic problems\"\\n     Annual Eugenics, 7, Part II, 179-188 (1936); also in \"Contributions to\\n     Mathematical Statistics\" (John Wiley, NY, 1950).\\n   - Duda, R.O., & Hart, P.E. (1973) Pattern Classification and Scene Analysis.\\n     (Q327.D83) John Wiley & Sons.  ISBN 0-471-22361-1.  See page 218.\\n   - Dasarathy, B.V. (1980) \"Nosing Around the Neighborhood: A New System\\n     Structure and Classification Rule for Recognition in Partially Exposed\\n     Environments\".  IEEE Transactions on Pattern Analysis and Machine\\n     Intelligence, Vol. PAMI-2, No. 1, 67-71.\\n   - Gates, G.W. (1972) \"The Reduced Nearest Neighbor Rule\".  IEEE Transactions\\n     on Information Theory, May 1972, 431-433.\\n   - See also: 1988 MLC Proceedings, 54-64.  Cheeseman et al\"s AUTOCLASS II\\n     conceptual clustering system finds 3 classes in the data.\\n   - Many, many more ...',\n",
       " 'feature_names': ['sepal length (cm)',\n",
       "  'sepal width (cm)',\n",
       "  'petal length (cm)',\n",
       "  'petal width (cm)'],\n",
       " 'filename': 'iris.csv',\n",
       " 'data_module': 'sklearn.datasets.data'}"
      ]
     },
     "execution_count": 58,
     "metadata": {},
     "output_type": "execute_result"
    }
   ],
   "source": [
    "import numpy as np\n",
    "from matplotlib import pyplot as plt\n",
    "from scipy.cluster.hierarchy import dendrogram\n",
    "from sklearn.datasets import load_iris\n",
    "from sklearn.cluster import AgglomerativeClustering\n",
    "iris = load_iris()\n",
    "iris"
   ]
  },
  {
   "attachments": {},
   "cell_type": "markdown",
   "id": "280c57a4",
   "metadata": {},
   "source": [
    "Incidentally, you can see the description of the `iris` data by running the following"
   ]
  },
  {
   "cell_type": "code",
   "execution_count": 59,
   "id": "80d56c40",
   "metadata": {},
   "outputs": [
    {
     "name": "stdout",
     "output_type": "stream",
     "text": [
      ".. _iris_dataset:\n",
      "\n",
      "Iris plants dataset\n",
      "--------------------\n",
      "\n",
      "**Data Set Characteristics:**\n",
      "\n",
      "    :Number of Instances: 150 (50 in each of three classes)\n",
      "    :Number of Attributes: 4 numeric, predictive attributes and the class\n",
      "    :Attribute Information:\n",
      "        - sepal length in cm\n",
      "        - sepal width in cm\n",
      "        - petal length in cm\n",
      "        - petal width in cm\n",
      "        - class:\n",
      "                - Iris-Setosa\n",
      "                - Iris-Versicolour\n",
      "                - Iris-Virginica\n",
      "                \n",
      "    :Summary Statistics:\n",
      "\n",
      "    ============== ==== ==== ======= ===== ====================\n",
      "                    Min  Max   Mean    SD   Class Correlation\n",
      "    ============== ==== ==== ======= ===== ====================\n",
      "    sepal length:   4.3  7.9   5.84   0.83    0.7826\n",
      "    sepal width:    2.0  4.4   3.05   0.43   -0.4194\n",
      "    petal length:   1.0  6.9   3.76   1.76    0.9490  (high!)\n",
      "    petal width:    0.1  2.5   1.20   0.76    0.9565  (high!)\n",
      "    ============== ==== ==== ======= ===== ====================\n",
      "\n",
      "    :Missing Attribute Values: None\n",
      "    :Class Distribution: 33.3% for each of 3 classes.\n",
      "    :Creator: R.A. Fisher\n",
      "    :Donor: Michael Marshall (MARSHALL%PLU@io.arc.nasa.gov)\n",
      "    :Date: July, 1988\n",
      "\n",
      "The famous Iris database, first used by Sir R.A. Fisher. The dataset is taken\n",
      "from Fisher's paper. Note that it's the same as in R, but not as in the UCI\n",
      "Machine Learning Repository, which has two wrong data points.\n",
      "\n",
      "This is perhaps the best known database to be found in the\n",
      "pattern recognition literature.  Fisher's paper is a classic in the field and\n",
      "is referenced frequently to this day.  (See Duda & Hart, for example.)  The\n",
      "data set contains 3 classes of 50 instances each, where each class refers to a\n",
      "type of iris plant.  One class is linearly separable from the other 2; the\n",
      "latter are NOT linearly separable from each other.\n",
      "\n",
      ".. topic:: References\n",
      "\n",
      "   - Fisher, R.A. \"The use of multiple measurements in taxonomic problems\"\n",
      "     Annual Eugenics, 7, Part II, 179-188 (1936); also in \"Contributions to\n",
      "     Mathematical Statistics\" (John Wiley, NY, 1950).\n",
      "   - Duda, R.O., & Hart, P.E. (1973) Pattern Classification and Scene Analysis.\n",
      "     (Q327.D83) John Wiley & Sons.  ISBN 0-471-22361-1.  See page 218.\n",
      "   - Dasarathy, B.V. (1980) \"Nosing Around the Neighborhood: A New System\n",
      "     Structure and Classification Rule for Recognition in Partially Exposed\n",
      "     Environments\".  IEEE Transactions on Pattern Analysis and Machine\n",
      "     Intelligence, Vol. PAMI-2, No. 1, 67-71.\n",
      "   - Gates, G.W. (1972) \"The Reduced Nearest Neighbor Rule\".  IEEE Transactions\n",
      "     on Information Theory, May 1972, 431-433.\n",
      "   - See also: 1988 MLC Proceedings, 54-64.  Cheeseman et al\"s AUTOCLASS II\n",
      "     conceptual clustering system finds 3 classes in the data.\n",
      "   - Many, many more ...\n"
     ]
    }
   ],
   "source": [
    "print(iris.DESCR)"
   ]
  },
  {
   "attachments": {},
   "cell_type": "markdown",
   "id": "0ef020d7",
   "metadata": {},
   "source": [
    "Since the cluster analysis uses four measurements, store this as `X`."
   ]
  },
  {
   "cell_type": "code",
   "execution_count": 60,
   "id": "44568a88",
   "metadata": {},
   "outputs": [
    {
     "data": {
      "text/plain": [
       "(150, 4)"
      ]
     },
     "execution_count": 60,
     "metadata": {},
     "output_type": "execute_result"
    }
   ],
   "source": [
    "X = iris.data\n",
    "X.shape"
   ]
  },
  {
   "attachments": {},
   "cell_type": "markdown",
   "id": "2747a10d",
   "metadata": {},
   "source": [
    "The data was taken as a matrix of 150 rows and 4 columns.\n",
    "\n",
    "At any rate, running a cluster analysis and drawing a graph, we get the following. The following code can be found in the scikit-learn official manual (https://scikit-learn.org/stable/auto_examples/cluster/plot_agglomerative_dendrogram.html)(some changes have been made)."
   ]
  },
  {
   "cell_type": "code",
   "execution_count": 61,
   "id": "7fca0f8b",
   "metadata": {},
   "outputs": [
    {
     "name": "stderr",
     "output_type": "stream",
     "text": [
      "/Users/matsu/.pyenv/versions/3.10.10/lib/python3.10/site-packages/sklearn/cluster/_agglomerative.py:983: FutureWarning: Attribute `affinity` was deprecated in version 1.2 and will be removed in 1.4. Use `metric` instead\n",
      "  warnings.warn(\n"
     ]
    },
    {
     "data": {
      "image/png": "[encoded data removed]",
      "text/plain": [
       "<Figure size 640x480 with 1 Axes>"
      ]
     },
     "metadata": {},
     "output_type": "display_data"
    }
   ],
   "source": [
    "model = AgglomerativeClustering(affinity='euclidean', linkage='ward',\n",
    "                                distance_threshold=0, n_clusters=None)\n",
    "\n",
    "model = model.fit(X)\n",
    "def plot_dendrogram(model, **kwargs):\n",
    "    # Create linkage matrix and then plot the dendrogram\n",
    "    # create the counts of samples under each node\n",
    "    counts = np.zeros(model.children_.shape[0])\n",
    "    n_samples = len(model.labels_)\n",
    "    for i, merge in enumerate(model.children_):\n",
    "        current_count = 0\n",
    "        for child_idx in merge:\n",
    "            if child_idx < n_samples:\n",
    "                current_count += 1  # leaf node\n",
    "            else:\n",
    "                current_count += counts[child_idx - n_samples]\n",
    "        counts[i] = current_count\n",
    "\n",
    "    linkage_matrix = np.column_stack([model.children_, model.distances_,\n",
    "                                      counts]).astype(float)\n",
    "\n",
    "    # Plot the corresponding dendrogram\n",
    "    dendrogram(linkage_matrix, **kwargs)\n",
    "\n",
    "plt.style.use('ggplot')   \n",
    "plt.title('Cluster Analysis')\n",
    "plot_dendrogram(model, truncate_mode='level', p=10)"
   ]
  },
  {
   "attachments": {},
   "cell_type": "markdown",
   "id": "85b6e10b",
   "metadata": {},
   "source": [
    "Lined up below the x-axis are the numbers of the individual ayame. Above that, line segments are connected like an amidakuji lottery. From the bottom, four individuals with similar measurements are allocated to a cluster, and further up, the clusters are joined together, and finally, all the clusters are combined into a single cluster. This graph is called a **dendrogram**. The results of a cluster analysis are interpreted based on this dendrogram.\n",
    "\n",
    "The grouping method used here is called **hierarchical clustering analysis**. This is a method in which the distance between individuals is determined from the observed values of each individual, and the individuals are clustered (grouped) one after another based on the proximity of the distance. The completed clusters are often expressed as a graph called a **dendrogram**."
   ]
  },
  {
   "attachments": {},
   "cell_type": "markdown",
   "id": "13d6c393",
   "metadata": {},
   "source": [
    "In hierarchical clustering, clustering is based on the distance between individual observations and the distance between clusters to which the observations belong (the mathematical method is omitted). Therefore, the classification is performed according to the following procedure: \n",
    "\n",
    "1. calculate the distance (dissimilarity) between all the observed values\n",
    "2. consider each observation as an independent cluster\n",
    "3. combine the clusters with the closest distance between them\n",
    "4. recalculate the distances for the individuals belonging to the clusters\n",
    "5. repeat steps 3 and 4 until all clusters are combined into one cluster"
   ]
  },
  {
   "attachments": {},
   "cell_type": "markdown",
   "id": "e4b2d896",
   "metadata": {},
   "source": [
    "In hierarchical clustering, the clusters created often vary depending on the combination of how the distance between observations is measured and the algorithm used to combine the clusters.\n",
    "\n",
    "<!--\n",
    "For example, two observations, $X$ and $Y$, each with $N$ variables recorded.\n",
    "In Euclidean distance, the dissimilarity between $X$ and $Y$ is obtained as follows.\n",
    "\n",
    "$$\n",
    "d(X, Y) = \\sqrt{(X_1 - Y_1)^2 + (X_2 - Y_2)^2 + \\dots + (X_n - Y_n)^2}\n",
    "$$\n",
    "\n",
    "Other methods for finding the distance have been proposed, such as the Manhattan method and the Mahalanobis distance.\n",
    "\n",
    "Once the distance is obtained for each pair of clusters (with a single observation in the initial stage), the closest pair is merged (merged) into a single cluster.\n",
    "Here, there are many proposals on how to find the closest pair.\n",
    "For example, two clusters are paired, and one observation is selected from each cluster to determine the distance.\n",
    "The minimum value of this distance is used as the distance between the clusters (single linkage method, single linkage method, nearest neighbor method), and conversely, the maximum value of the distance is used as the distance between the clusters (perfect linkage method, perfect linkage method, farthest neighbor method),\n",
    "The method that maximizes the ratio of the variance within a group of two clusters to the variance between the groups (Ward's method), etc.\n",
    "\n",
    "In general, a combination that yields results that are easy to interpret is chosen, and in this sense, the results can be said to be arbitrary.\n",
    "In addition, since the distance between individual observations is determined on a gross basis, the computational load is also high.\n",
    "However, the cluster representation by dendrogram is intuitively easy to understand, so it is still a classification technique used in many situations.\n",
    "-->\n",
    "\n",
    "Another type of cluster analysis is **non-hierarchical cluster analysis**, represented by the k-means method. This will not be covered in this lecture, but please use the search site to check specific examples.\n",
    "\n",
    "<span style=\"color: red; \">Key Points of Today's Lecture</span>\n",
    "\n",
    "<iframe width=\"560\" height=\"315\" src=\"https://www.youtube.com/embed/4F80lCKzpEU\" frameborder=\"0\" allow=\"accelerometer; autoplay; encrypted-media; gyroscope; picture-in-picture\" allowfullscreen></iframe>\n"
   ]
  },
  {
   "attachments": {},
   "cell_type": "markdown",
   "id": "8be01452",
   "metadata": {},
   "source": [
    "## *Summary Video 5 so far (this is a recording of a past lecture)\n",
    "\n",
    "<font color=\"red\">Recording of Ishida's lecture</font>\n",
    "<iframe width=\"640\" height=\"360\" src=\"https://web.microsoftstream.com/embed/video/8800a272-829d-469b-ad4f-d27e966f2fe2?autoplay=false&showinfo=true\" allowfullscreen style=\"border:none;\"></iframe>"
   ]
  },
  {
   "attachments": {},
   "cell_type": "markdown",
   "id": "79ebb766",
   "metadata": {},
   "source": [
    "## Appendix.\n",
    "\n",
    "Collection of data for data science trials"
   ]
  },
  {
   "attachments": {},
   "cell_type": "markdown",
   "id": "6016bbb6",
   "metadata": {},
   "source": [
    "- Science Network \"Toolbox of Science\" Data Library Collection of data that can be used in class https://rika-net.com/contents/cp0530/contents/index.html\n",
    "- New Courses of Study Information I, II \"Use of Data, Data Science\" POS data that can be used in class https://estat.sci.kagoshima-u.ac.jp/data/cgi-bin/data/whats_display.cgi?id:data+filter Data library for use in the classroom\n",
    "- Coronavirus-related data Our World in Data https://ourworldindata.org/coronavirus\n",
    "- List of datasets for machine learning (free material) https://phy-lum.com/opendata/machine-learning-dataset.html"
   ]
  }
 ],
 "metadata": {
  "jupytext": {
   "cell_metadata_filter": "tags,show,eval,name,message,-all",
   "main_language": "python",
   "notebook_metadata_filter": "-all"
  },
  "kernelspec": {
   "display_name": "Python 3",
   "language": "python",
   "name": "python3"
  },
  "language_info": {
   "codemirror_mode": {
    "name": "ipython",
    "version": 3
   },
   "file_extension": ".py",
   "mimetype": "text/x-python",
   "name": "python",
   "nbconvert_exporter": "python",
   "pygments_lexer": "ipython3",
   "version": "3.10.10"
  }
 },
 "nbformat": 4,
 "nbformat_minor": 5
}
