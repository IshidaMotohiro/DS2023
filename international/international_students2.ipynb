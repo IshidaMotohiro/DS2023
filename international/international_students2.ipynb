{
 "cells": [
  {
   "attachments": {},
   "cell_type": "markdown",
   "id": "65d85659",
   "metadata": {},
   "source": [
    "# Week 2: Data Representation."
   ]
  },
  {
   "attachments": {},
   "cell_type": "markdown",
   "id": "ef6e7e05",
   "metadata": {},
   "source": [
    "## 2.1 What is data?"
   ]
  },
  {
   "attachments": {},
   "cell_type": "markdown",
   "id": "60b10194",
   "metadata": {},
   "source": [
    "We see and hear the word data often in our daily lives. The meaning of data as an everyday word is broad. For example, some Japanese dictionaries explain it as \"facts and data that serve as the basis for inferences\". If you search for \"data\" in Yourei.jp, you will come across the following sentence examples.\n",
    "\n",
    "[External website: Yourei.jp](http://yourei.jp)\n",
    "\n",
    "> \"Grandfather Sazo's data had Yuki's name and personality entered in the \"Family\" column.\n",
    "\n",
    "Quoted from \"Treasure Hunter 01: Alien Treasure Town\" by Hideyuki Kikuchi.\n",
    "\n",
    ">\"The same is true in the business world. Some data show that a manager must attend 20 to 30 meetings a month or more.\"\n",
    "\n",
    "Maruo Shiota, quoted in \"Is it a Loss to be a Bad Mouth? 12 Chapters for Interesting Talks"
   ]
  },
  {
   "attachments": {},
   "cell_type": "markdown",
   "id": "594ddde6",
   "metadata": {},
   "source": [
    "In this usage, data is used in the sense of \"memory\" or \"information\" to a degree. In addition, an advertisement for an electronic dictionary reads as follows [External site: Sharp Papyrus](https://jp.sharp/papyrus/lineup/pw-at750/contents.html)"
   ]
  },
  {
   "attachments": {},
   "cell_type": "markdown",
   "id": "29506653",
   "metadata": {},
   "source": [
    "> \"Gyakkyu Super Daijirin and five types of \"field-specific small dictionaries\" (names of people, places, works, seasonal terms, and idiomatic phrases) are electronic dictionary functions compiled based on data from the Super Daijirin, and are not published in book form.\"\n",
    "> \n",
    "> \"Gyakkyu Super Daijirin\" and \"5 kinds of field-specific small dictionaries\" supervised by Sanseido\n",
    "\n",
    "In this context, \"data\" seems to be used in the sense of the manuscript of the copy source (the original dictionary)."
   ]
  },
  {
   "attachments": {},
   "cell_type": "markdown",
   "id": "69ff25c1",
   "metadata": {},
   "source": [
    "Data science, on the other hand, considers data in a more narrow sense. In other words, we think of data strictly in terms of data. For example, in the previous quotation, \"In a managerial position, one must attend 20 to 30 or more meetings per month,\" which probably refers to \"what one hears\" or \"gossip.\n",
    "\n",
    "Let us consider this statement from the standpoint of a data scientist (data science expert). For example, Ishida, the class instructor, would want to consider the following as premises for this statement\n",
    "\n",
    "1. a clear distinction is made between managers and other employees\n",
    "2. the number of meetings attended is recorded for at least one month for all managers and all other employees, or for a randomly selected sample (sample to be discussed later)\n",
    "3. the probability that the number of meetings attended by managers each month is 20 or more is determined\n",
    "4. determine the probability that the number of meetings attended by regular employees each month is less than 20"
   ]
  },
  {
   "attachments": {},
   "cell_type": "markdown",
   "id": "04b14237",
   "metadata": {},
   "source": [
    "It may seem tedious, but without the above four conditions (some data scientists may give more detailed conditions), a data scientist can not ￼make a statement: \"In a managerial position, one must attend 20 to 30 or more meetings per month\".\n",
    "\n",
    "Let me explain a little about the above four conditions and discuss what data means to data science."
   ]
  },
  {
   "attachments": {},
   "cell_type": "markdown",
   "id": "6dbd6ce0",
   "metadata": {},
   "source": [
    "## 2.2 Variable definitions and formats"
   ]
  },
  {
   "attachments": {},
   "cell_type": "markdown",
   "id": "70e8ce15",
   "metadata": {},
   "source": [
    "First, let's discuss point 1: \"A clear distinction is made between management and other employees.\n",
    "\n",
    "Let us assume that the company under discussion has 100 employees. In this case, it is necessary to be able to clearly distinguish,for example, between 20 managers and the rest general employees, and so on. Or, the general employees may be further classified into \"career-track\" and \"general\" positions, but in any case, it can be determined that they are not in management positions.\n",
    "\n",
    "Here, this distinction is referred to as the company's \"job classification ranking\". For example, there are two types of job classifications: \"executives\" and \"employees\". Or, if there are three types of job classifications: \"executives,\" \"career-track employees,\" and \"general employees,\" then only employees in the \"executives\" category are considered to be in management positions.\n",
    "\n",
    "The data representing each employee's \"job classification\" is called a **variable**. This is because the job class can be either \"managerial\" or \"general,\" depending on the target employee.\n",
    "The variable \"job level\" has two **levels**: \"managerial\" and \"general\". When a variable is composed of multiple levels, it is called a **qualitative variable** or **categorical variable**.\n",
    "\n",
    "For example, gender can have levels such as \"male,\" \"female,\" \"other,\" and so on. In the case of the categorical variable \"Gender,\" there is no \"order\" for each level. However, in the case of the variable \"grade,\" there are sometimes four levels, \"excellent,\" \"good,\" \"acceptable,\" and \"not acceptable,\" in order of the best grade. This means that there is an order of \"excellent\" > \"good\" > \"acceptable\" > \"not acceptable\". In this case, it is sometimes specifically referred to as an ordinal categorical variable (however, a rather complex method is required to conduct data analysis that considers order in the levels of categorical variables).\n",
    "\n",
    "The level of a categorical variable is not a number, but for the purposes of analysis, for example, the number 1 may be applied to \"managerial\" and 0 to \"general\". Categorical variables, especially those that have only two levels, are sometimes called **binary variables** and are often distinguished by a numerical value such as 0 or 1, or 1 or 2."
   ]
  },
  {
   "attachments": {},
   "cell_type": "markdown",
   "id": "ae0f81a7",
   "metadata": {},
   "source": [
    "Incidentally, suppose you have your employees report their weight for the purpose of health management and so on. For example, employee A weighs 56.6 kg, employee B weighs 65.8 kg, and so on. This number is also a variable because it varies from employee to employee, but it is distinguished from categorical variables as a **quantitative variable**. Quantitative variables are further divided into **continuous variables** such as weight, height, temperature, time, etc. (in layman's terms, these are numbers without decimal points) and **discrete variables** such as the number of meetings held on a given day (in layman's terms, these are numbers that count up to 1, 2, 3, etc.)."
   ]
  },
  {
   "attachments": {},
   "cell_type": "markdown",
   "id": "965ad0b8",
   "metadata": {},
   "source": [
    "### 2.2.1 Data Classification"
   ]
  },
  {
   "attachments": {},
   "cell_type": "markdown",
   "id": "7b7f5d7b",
   "metadata": {},
   "source": [
    "Incidentally, introductory statistics books classify data according to their different properties as follows\n",
    "\n",
    "1. nominal scale\n",
    "2. ordinal scale\n",
    "3. interval scale\n",
    "4. ratio scale\n",
    "\n",
    "A **nominal scale** is an unordered categorical variable that consists of multiple levels, such as employee job classification (managerial vs. general) or prefecture distinction (Tokyo, Osaka, Tokushima, etc.). It is also often expressed numerically, for example, 1 for Hokkaido, 2 for Aomori, and so on.\n",
    "\n",
    "**An ordinal scale** is a categorical variable in which the hierarchical relationship (or magnitude) between levels has an important meaning, such as the quality of a grade, or an Olympic gold medal, silver medal, or bronze medal."
   ]
  },
  {
   "attachments": {},
   "cell_type": "markdown",
   "id": "a8c8c9b7",
   "metadata": {},
   "source": [
    "It is easier to understand the interval scale by mapping it to the proportional scale. The **proportionality scale** has a defined origin, or \"no\" state, and is also data that has meaning in terms of intervals and ratios. (The possibility of actually taking a value of 0 is a different story here. If you weighed a dog, there would be no such thing as a dog weighing 0 grams, but it makes no difference that the dog's weight is a proportional measure.)\n",
    "\n",
    "For example, \"speed\" has a value of 0. We can say that 20 km/h is twice the speed of 10 km/h, and 30 km/h is three times the speed of 10 km/h. Also, the interval from 10 km/h to 20 km/h is equal to the interval from 20 km/h to 30 km/h. The weight of 10 kilograms is twice the weight of 5 kilograms, 20 kilograms is four times the weight of 5 kilograms, and 30 kilograms is six times the weight of 5 kilograms. In the case of an increase in body weight from 50 to 60 kilograms and from 100 to 110 kilograms, the increase is 10 kilograms in both cases, but the increase is 20% in the former case, while the increase is 10% in the latter.\n",
    "\n",
    "On the other hand, the **interval scale** has meaning in terms of the size of the difference between the values, and the value 0 has only relative meaning. In other words, it is data in which the difference (distance) between values has meaning, but the ratio is not considered. For example, with regard to the temperature used in daily life in Japan (Celsius temperature), if the temperature rises from 10 to 15 degrees Celsius, or from 50 to 55 degrees Celsius, it can be said that the temperature has risen by 5 degrees Celsius, respectively. However, regarding the ratio, the former is not expressed as a 50% increase in temperature, while the latter is not expressed as a 10% increase. In addition, there is no origin 0 in the \"temperature\" used in daily life. In other words, temperature 0 degrees Celsius is not a state in which there is \"no\" temperature, but rather a lower temperature, e.g., \"Asahikawa, Hokkaido, Japan, was minus 41 degrees Celsius in the winter of 1905\".\n",
    "\n",
    "In data science, it is important to be aware of these differences because it is necessary to choose an appropriate analytical method depending on the nature of the alteration. However, there is no need to memorize the differences in scales in a coherent manner."
   ]
  },
  {
   "attachments": {},
   "cell_type": "markdown",
   "id": "60ce0e1b",
   "metadata": {},
   "source": [
    "<iframe width=\"560\" height=\"315\" src=\"https://www.youtube.com/embed/LuBD49SFpWs\" title=\"YouTube video player\" frameborder=\"0\" allow=\"accelerometer; autoplay; clipboard-write; encrypted-media; gyroscope; picture-in-picture; web-share\" allowfullscreen></iframe>"
   ]
  },
  {
   "attachments": {},
   "cell_type": "markdown",
   "id": "357a5a79",
   "metadata": {},
   "source": [
    "## 2.3 Contemporary data"
   ]
  },
  {
   "attachments": {},
   "cell_type": "markdown",
   "id": "df0cc6fd",
   "metadata": {},
   "source": [
    "The previous section discussed data classification, but the forms of data available to us today are so varied that it is often impossible to apply the scale as it is.\n",
    "\n",
    "For example, your smartphone may have a function that automatically classifies the data it captures. This is treating images as data. Automatic translation and interpretation tools analyze our everyday language as data.\n",
    "\n",
    "To analyze such data, it is simply necessary to convert them into numerical data."
   ]
  },
  {
   "attachments": {},
   "cell_type": "markdown",
   "id": "655c759f",
   "metadata": {},
   "source": [
    "For example, images have the concept of pixels. The following is a handwritten image of the number 7 (borrowed from a well-known dataset in the field of image recognition, MNIST).\n",
    "\n",
    "![](../images/num7.jpg)\n",
    "\n",
    "This image can actually be considered as a whole, divided into 28 rows and 28 columns. Each of these compartments is called a pixel.\n",
    "And each pixel represents the shade of the image in the corresponding part of the image.\n",
    "\n",
    "For example, in this black-and-white image, most of the pixels are black, but the area where the number 7 is drawn is white or gray. Computers express the brightness (density of blackness) of pixels numerically. In other words, the area where there is nothing (black) is 0, and the gray to white area corresponds to a number up to 255. This is called the pixel ground. In RGB, which is familiar in web design, black is represented by R=0, G=0, and B=0, while white is represented by R=255, G=255, and B=255.\n",
    "\n",
    "To use an analogy, a spreadsheet software has a sheet with 28 rows and 28 columns, and the numbers from 0 to 255 are input according to the shade of black in each cell."
   ]
  },
  {
   "attachments": {},
   "cell_type": "markdown",
   "id": "177ba66a",
   "metadata": {},
   "source": [
    "![](../images/num7_csv.png)\n",
    "\n",
    "In other words, images, as data, can be treated as a set of numbers. Alternatively, images can be represented as matrices in mathematics.\n",
    "\n",
    "<iframe width=\"560\" height=\"315\" src=\"https://www.youtube.com/embed/QBvqpMeArdk\" title=\"YouTube video player\" frameborder=\"0\" allow=\"accelerometer; autoplay; clipboard-write; encrypted-media; gyroscope; picture-in-picture; web-share\" allowfullscreen></iframe>"
   ]
  },
  {
   "attachments": {},
   "cell_type": "markdown",
   "id": "8c29f01d",
   "metadata": {},
   "source": [
    "Words, on the other hand, can be considered in terms of the number of letters or words.\n",
    "For example, suppose two persons have the following conversation."
   ]
  },
  {
   "attachments": {},
   "cell_type": "markdown",
   "id": "a2beb810",
   "metadata": {},
   "source": [
    "> Mr Kato: 本屋に寄らない\n",
    ">\n",
    "> Ms Yamada: 本屋で何を買うの\n",
    ">\n",
    "> Mr Kato: 雑誌\n",
    ">\n",
    "> Ms Yamada: 何の雑誌\n",
    ">"
   ]
  },
  {
   "attachments": {},
   "cell_type": "markdown",
   "id": "f1610daf",
   "metadata": {},
   "source": [
    "Let's break this up into words. In the case of Japanese and Chinese, it is actually necessary to go through the trouble of breaking it down into words. This is called segmentation, which can be broken down as follows using morphological analysis software called [MeCab](https://taku910.github.io/mecab/)."
   ]
  },
  {
   "attachments": {},
   "cell_type": "markdown",
   "id": "3e6d46fd",
   "metadata": {},
   "source": [
    "> 本屋 に 寄ら ない\n",
    ">\n",
    "> 本屋 で 何 を 買う の \n",
    ">\n",
    "> 雑誌を\n",
    ">\n",
    "> 何 の 雑誌を\n",
    ">\n",
    "\n",
    "Based on these results, the conversation between Mr Kato and Ms Yamada can be summarised in the following matrix.\n",
    "\n",
    "| word | Mr Kato | Ms Yamada|\n",
    "|------|----------|----------|\n",
    "| 本屋 | 1        | 1        |\n",
    "| に   | 1        | 0        |\n",
    "| 寄ら | 1        | 0        |\n",
    "| ない | 1        | 0        |\n",
    "| で   | 0        | 1        |\n",
    "| 何   | 0        | 2        |\n",
    "| を   | 1        | 1        |\n",
    "| 買う | 0        | 1        |\n",
    "| の   | 0        | 2        |\n",
    "| 雑誌 | 1        | 1        |\n",
    "\n"
   ]
  },
  {
   "attachments": {},
   "cell_type": "markdown",
   "id": "85c8b6f4",
   "metadata": {},
   "source": [
    "Although it may be difficult to understand, this is simply a summary of the conversations that Mr Kato and Ms Yamada had with each other, and which words each used and how many times. Also, unlike the previous matrix representing images, here there is an additional row for the name of the word and a row for the name of the person.\n",
    "Analysing human language as data is called natural language processing, and in this field it is common to first convert the data into such a matrix format. Incidentally, the method of dividing a sentence into words and using the number of occurrences of each as data is called Bag of Words.\n",
    "\n",
    "<iframe width=\"560\" height=\"315\" src=\"https://www.youtube.com/embed/OGK9SHt8SWg\" title=\"YouTube video player\" frameborder=\"0\" allow=\"accelerometer; autoplay; clipboard-write; encrypted-media; gyroscope; picture-in-picture; web-share\" allowfullscreen></iframe>"
   ]
  },
  {
   "attachments": {},
   "cell_type": "markdown",
   "id": "690c0945",
   "metadata": {},
   "source": [
    "In general, data analysis involves converting the original data into a matrix in some form. Matrices are often described as **arrays** in analytical practice. In short, it is converted into a rectangular (square) format."
   ]
  },
  {
   "attachments": {},
   "cell_type": "markdown",
   "id": "95ed7c0a",
   "metadata": {},
   "source": [
    "## 2.4 Time series data"
   ]
  },
  {
   "attachments": {},
   "cell_type": "markdown",
   "id": "8535a673",
   "metadata": {},
   "source": [
    "Other categories of data include data recorded in time series. For example, data recording daily maximum temperatures is typical time series data.\n",
    "\n",
    "\n",
    "| Time | Maximum temperature |\n",
    "|----------|----------|\n",
    "| 2020/4/1 | 12.9     |\n",
    "| 2020/4/2 | 19.4     |\n",
    "| 2020/4/3 | 18.2     |\n",
    "| 2020/4/4 | 22.3     |\n",
    "| 2020/4/5 | 13.6     |\n",
    "| 2020/4/6 | 18.4     |\n",
    "| 2020/4/7 | 18.0     |\n",
    "| 2020/4/8 | 20.2     |\n",
    "\n",
    "Characteristic of time series data is that records at one point in time are similar to (and dependent on) records immediately preceding it.\n",
    "\n",
    "For example, in the data above, the maximum temperatures are all similar, except on 1 April and 5 April. In other words, if the previous day was around 18°C, it can be predicted that the day after would be around 18°C as well. On the other hand, however, some days, such as 1 April and 5 April, fall sharply, to around 13°C. The time series needs to be analysed taking into account these dependencies (called correlations, which we will learn about later) and sudden changes."
   ]
  },
  {
   "attachments": {},
   "cell_type": "markdown",
   "id": "2c842684",
   "metadata": {},
   "source": [
    "Time series data also include records of body temperatures of patients suffering from a certain disease.\n",
    "\n",
    "| Date | Mr A | Mr B | Mr C |\n",
    "|-----------|--------|--------|--------|\n",
    "| 2020/4/1  | 36.9   | 37.8   | 36.8   |\n",
    "| 2020/4/2  | 37.4   | 37.6   | 36.5   |\n",
    "| 2020/4/3  | 37.2   | 38.1   | 36.8   |\n",
    "| 2020/4/4  | 38.3   | 38.2   | 36.4   |\n",
    "| 2020/4/5  | 37.6   | 37.9   | 36.5   |\n",
    "| 2020/4/6  | 37.4   | 37.8   | 36.6   |\n",
    "| 2020/4/7  | 37.0   | 38.1   | 36.6   |\n",
    "| 2020/4/8  | 36.2   | 37.6   | NA     |\n",
    "| 2020/4/9  | 36.1   | 37.9   | 36.4   |\n",
    "| 2020/4/10 | 36.3   | 37.5   | NA     |\n",
    "| 2020/4/11 | NA     | 37.4   | NA     |\n",
    "| 2020/4/11 | NA     | 37.5   | 36.4   |"
   ]
  },
  {
   "attachments": {},
   "cell_type": "markdown",
   "id": "0833af6b",
   "metadata": {},
   "source": [
    "Again, body temperatures are highly correlated with the patient's temperature on the previous day. Also characteristic of data relating to the health of several individuals is the high number of missing values (where marked NA in the table). **Missing value** refers to a case where, for whatever reason, no record is kept. In this case, the person may have taken their temperature but forgotten to record it, forgot to take their temperature, or stopped taking their temperature in the first place.\n",
    "\n",
    "In such cases, the easiest way to analyse the data is to delete the rows containing the missing values entirely and use the remaining data. However, there are cases where missing data 'make sense'. In the case of medical examination data, missing values occur frequently in patients who have recovered or who have died.\n",
    "\n",
    "In other words, deleting rows containing missing values means omitting data for patients who have recovered or died. This would be an inappropriate process for the analysis of medical check-up data.\n",
    "\n",
    "Incidentally, data such as medical check-up data, which are measured for multiple subjects (patients) at multiple time points, are described as **longitudinal data** or **temporal data**."
   ]
  },
  {
   "attachments": {},
   "cell_type": "markdown",
   "id": "06c51922",
   "metadata": {},
   "source": [
    "<iframe width=\"560\" height=\"315\" src=\"https://www.youtube.com/embed/GE3JOFwTWVM\" title=\"YouTube video player\" frameborder=\"0\" allow=\"accelerometer; autoplay; clipboard-write; encrypted-media; gyroscope; picture-in-picture; web-share\" allowfullscreen></iframe>"
   ]
  },
  {
   "attachments": {},
   "cell_type": "markdown",
   "id": "a1309778",
   "metadata": {},
   "source": [
    "Data that record an individual's heart rate, for example, as in wearable devices, is also described as experience sampling.\n",
    "\n",
    "Data on multiple subjects (people or objects), each measured multiple times, is often referred to as **panel data**.\n",
    "\n",
    "However, it is not necessary to learn these terms now, as they are used differently in different fields."
   ]
  },
  {
   "attachments": {},
   "cell_type": "markdown",
   "id": "d17635ad",
   "metadata": {},
   "source": [
    "## 2.5 Data storage formats"
   ]
  },
  {
   "attachments": {},
   "cell_type": "markdown",
   "id": "5c03776b",
   "metadata": {},
   "source": [
    "### 2.5.1　CSV/xlsx"
   ]
  },
  {
   "attachments": {},
   "cell_type": "markdown",
   "id": "0f5489aa",
   "metadata": {},
   "source": [
    "This may seem obvious, but the data is saved in some format.\n",
    "In general, Microsoft Excel is often used to input data, so the data is saved as files with the extension xlsx or xls.\n",
    "In addition, data is often saved in a format called CSV, which is not specific to Excel.\n",
    "CSV stands for Comma Separated Value and is a file in which commas are used to separate columns.\n",
    "If you open a CSV file in an editor without double-clicking it, you will see the following.\n",
    "\n",
    "![](../images/test.png)\n",
    "\n",
    "Incidentally, an editor is software for typing text. However, the main difference with Microsoft Word is that it does not (dare to) decorate text.\n",
    "For example, if the word 2020 is to be emphasised in bold, the HTML file used on a website, for example, should be `<b>2020</b>`. The preceding and following `<b>/<b>` are notations called tags.\n",
    "If you write it like this, the browser will display it as **2020** (without the `<b>/<b>` before and after).\n",
    "However, when `<b>2020</b>` is recorded in a file, e.g. in software for data analysis, it reads the `<b></b>` before and after, but this part is not a numerical value and is rubbish in the way of analysis.\n",
    "\n",
    "CSV files are designed to be free of any such superfluous embellishments, so they are less likely to cause problems in reading data. For this reason, CSV format files are often used in data science. A file without any superfluous text decoration is described as a **text file**.\n",
    "\n",
    "Incidentally, if the CSV file in the image above is re-saved in Excel in xlsx format and opened (forcibly) in an editor, it looks like the following.\n",
    "\n",
    "![](../images/xlsx.png)\n",
    "\n",
    "The contents would be completely indecipherable to the average person. These are files that are intended to be read only by computers (software), such as **binary files**. However, some people like to read them.\n"
   ]
  },
  {
   "attachments": {},
   "cell_type": "markdown",
   "id": "044745de",
   "metadata": {},
   "source": [
    "### 2.5.2 Databases"
   ]
  },
  {
   "attachments": {},
   "cell_type": "markdown",
   "id": "e3de93b2",
   "metadata": {},
   "source": [
    "The xlsx and csv file formats may seem convenient as they can be opened by simply double-clicking on a normal computer, but this is the case when the number of rows of data is relatively small. In the fields of data science and AI, it is not uncommon to handle data with millions or tens of millions of rows. If such data is saved in xlsx or csv format, you will probably have to wait several minutes for the spreadsheet software to start up after double-clicking it and finish loading the file. Also, after start-up, when searching for data, the software will often not respond for several minutes.\n",
    "\n",
    "The reality is that if you have to wait for several minutes every time you perform an operation, you will not be able to work. For such large data, a database is the way to go. In databases, data is basically read and retrieved using SQL commands rather than the mouse. This lesson does not deal with databases, but keep in mind that database manipulation techniques are essential when dealing with large data."
   ]
  },
  {
   "attachments": {},
   "cell_type": "markdown",
   "id": "d0646ba3",
   "metadata": {},
   "source": [
    "### 2.5.3 Character codes"
   ]
  },
  {
   "attachments": {},
   "cell_type": "markdown",
   "id": "d14dd63f",
   "metadata": {},
   "source": [
    "Character codes are a vexing problem for Japanese users when analysing data. This is so-called character corruption.\n",
    "\n",
    "For example, the CSV file mentioned above contains Japanese characters, and Windows users will have no problem opening this csv file. However, if you open this file on a non-Windows OS, such as Mac or Linux, the characters are usually garbled (although the software is often clever enough to fix the garbled characters).\n",
    "\n",
    "This is because Japanese Windows and Mac/Linux handle Japanese characters differently. The former uses Shift-JIS (CP932 to be precise), while the latter generally uses the UTF-8 format.\n",
    "\n",
    "For example, the three characters for \"日本語\" are internally processed in Windows as 93 fa 96 7b 8c ea 0a. However, the same three characters are treated as e6 97 a5 e6 9c ac e8 aa 9e 0a in Mac/Linux. This discrepancy causes garbled characters. Incidentally, when Japanese data is saved in UTF-8, the file size is larger than in Shift-JIS.\n",
    "    \n",
    "If the character encoding of the CSV file mentioned above is UTF-8, double-clicking and opening the file in Windows will result in the following.\n",
    "\n",
    "![](../images/test_utf8.png)"
   ]
  },
  {
   "attachments": {},
   "cell_type": "markdown",
   "id": "96e9a97b",
   "metadata": {},
   "source": [
    "The trouble is that while UTF-8 is becoming the standard character code in the computer world, Shift-JIS is still the dominant character code in Japan (although UTF-8 has recently become available for use with Japanese Windows)."
   ]
  },
  {
   "attachments": {},
   "cell_type": "markdown",
   "id": "e2bd54f7",
   "metadata": {},
   "source": [
    "### 2.5.4　XML/Json"
   ]
  },
  {
   "attachments": {},
   "cell_type": "markdown",
   "id": "82d56ee0",
   "metadata": {},
   "source": [
    "XML and Json are formats for exchanging data over the Internet. These are more appropriately described as formats for transmitting and distributing data, rather than as formats for storing data. Specifically, they are formats for extracting some data from databases that store data and sending this data to smartphones and other devices.\n",
    "\n",
    "For example, if the CSV file described above were expressed in XML or Json, it would look like the following.\n",
    "\n",
    "![](../images/xml.png)\n",
    "\n",
    "![](../images/json.png)\n",
    "\n",
    "Therefore, although they are rarely (but not entirely) stored as files, data analysis may involve loading data directly from an internet URL. In this case, files in the form of XML or Json may be encountered. Many analysis tools have been extended to handle XML and Json format formats, so no particular difficulties arise."
   ]
  },
  {
   "attachments": {},
   "cell_type": "markdown",
   "id": "66c151be",
   "metadata": {},
   "source": [
    "## 2.6 About the quiz"
   ]
  },
  {
   "attachments": {},
   "cell_type": "markdown",
   "id": "71c3d121",
   "metadata": {},
   "source": [
    "After reading this content, students must answer the **\"exam Week 2  (all students must answer)** on the university's Manaba website.\n"
   ]
  }
 ],
 "metadata": {
  "jupytext": {
   "cell_metadata_filter": "-all",
   "main_language": "python",
   "notebook_metadata_filter": "-all"
  },
  "language_info": {
   "name": "python"
  }
 },
 "nbformat": 4,
 "nbformat_minor": 5
}
