{
 "cells": [
  {
   "attachments": {},
   "cell_type": "markdown",
   "id": "ae29a830",
   "metadata": {},
   "source": [
    "# Week 5: Data Visualization"
   ]
  },
  {
   "attachments": {},
   "cell_type": "markdown",
   "id": "dd995a3e",
   "metadata": {},
   "source": [
    "## On Practice in Python"
   ]
  },
  {
   "attachments": {},
   "cell_type": "markdown",
   "id": "6a433876",
   "metadata": {},
   "source": [
    "In today's lecture, there will be a lot of Python coding. \n",
    "You can access a file (script) with extracted parts of the code so be sure to try running the script yourself.\n",
    "The explanation part is in Japanese, but only the code part is required.\n",
    "\n",
    "Copy to your own GoogleDrive before use. Just go to File in the menu and choose Copy to Drive.\n",
    "\n",
    "https://colab.research.google.com/drive/15-vdNSXSG_S0XlExxCCD9Be1w1fQ3S5Q?usp=sharing#scrollTo=f42fukrkA449\n",
    "\n",
    "\n",
    "In the latter half of the class, group work is scheduled. We plan to divide the students into small groups and have each group work on a given problem from a data science perspective. Therefore, it is expected that everyone will be able to operate Python to some degree."
   ]
  },
  {
   "attachments": {},
   "cell_type": "markdown",
   "id": "128c881d",
   "metadata": {},
   "source": [
    "It is not easy to master a programming language in a short period of time, but we hope that you will repeat self-study on your own while watching the following videos and others.\n",
    "\n",
    "<iframe width=\"560\" height=\"315\" src=\"https://www.youtube.com/embed/e60ItwlZTKM\" frameborder=\"0\" allow=\"accelerometer; autoplay; encrypted-media; gyroscope; picture-in-picture\" allowfullscreen></iframe>\n"
   ]
  },
  {
   "attachments": {},
   "cell_type": "markdown",
   "id": "f0f376b7",
   "metadata": {},
   "source": [
    "## 　What is data visualization?"
   ]
  },
  {
   "attachments": {},
   "cell_type": "markdown",
   "id": "18af8cc6",
   "metadata": {},
   "source": [
    "Mean value is not the only indicator to know the characteristics of data. In the previous chapter, median and mode were introduced. It was also pointed out that it is important to consider data in terms of distribution. To consider distribution, it is useful to represent data graphically (visualize).\n",
    "\n",
    "In the previous chapter, I mentioned that in data science, probability distributions are assumed when considering data. For example, we showed that the distribution of the number of meetings can be considered by applying the Poisson distribution.\n",
    "\n",
    "However, in real data, there are cases where extremely large or small values are mixed in. Such values are called **outliers**, and summarizing data by mean, median, or variance (standard deviation) without noticing the existence of such anomalous data may produce incorrect analysis results. This can lead to erroneous analysis results. One effective way to find outliers is through visualization. Before starting to analyze data, it is very important to capture the characteristics of the data through visualization. Therefore, here we will explain visualization, which is often used in data science. If you have installed Python using a method other than Anaconda, you should install additional tools for visualization.\n",
    "\n",
    "`pip3 install matplotlib seaborn`."
   ]
  },
  {
   "attachments": {},
   "cell_type": "markdown",
   "id": "f5eaea65",
   "metadata": {},
   "source": [
    "## Displaying Graphs"
   ]
  },
  {
   "attachments": {},
   "cell_type": "markdown",
   "id": "072357b4",
   "metadata": {},
   "source": [
    "When examining data from a data science perspective, it is rare that one does not know anything about the distribution of the data; in fact, one may have some prior knowledge of the data. For example, we know that it is effective to analyze the body length of an organism or the size of a component in an industrial product by fitting a normal distribution.\n",
    "\n",
    "Alternatively, if the probability distribution of the data cannot be determined, the latter is often used, assuming data that are very similar.\n",
    "\n",
    "For example, suppose there is a promenade in front of a school building located at the back of a local university campus. Suppose that there is a data set that observes the number of faculty, staff, and students passing along the promenade on weekends and holidays (in this case, **dataset** means that there are multiple observations, such as two passersby on one day, three on another day, etc.)."
   ]
  },
  {
   "attachments": {},
   "cell_type": "markdown",
   "id": "f61b272a",
   "metadata": {},
   "source": [
    "Load the data in Jupyter notebook (for those who use another tool, use that one)."
   ]
  },
  {
   "cell_type": "code",
   "execution_count": 1,
   "id": "c3f6f525",
   "metadata": {
    "name": "df1"
   },
   "outputs": [],
   "source": [
    "import pandas as pd\n",
    "df = pd.read_csv(\"https://infoart.ait231.tokushima-u.ac.jp/public/x.csv\")"
   ]
  },
  {
   "attachments": {},
   "cell_type": "markdown",
   "id": "6c4ed99f",
   "metadata": {},
   "source": [
    "The above instruction reads a CSV file stored on this class site directly over the Internet (thus requiring an Internet connection). Here we have named the dataset `df`. Let's check it out."
   ]
  },
  {
   "cell_type": "code",
   "execution_count": 2,
   "id": "b05e1761",
   "metadata": {
    "name": "df_show"
   },
   "outputs": [
    {
     "data": {
      "text/html": [
       "<div>\n",
       "<style scoped>\n",
       "    .dataframe tbody tr th:only-of-type {\n",
       "        vertical-align: middle;\n",
       "    }\n",
       "\n",
       "    .dataframe tbody tr th {\n",
       "        vertical-align: top;\n",
       "    }\n",
       "\n",
       "    .dataframe thead th {\n",
       "        text-align: right;\n",
       "    }\n",
       "</style>\n",
       "<table border=\"1\" class=\"dataframe\">\n",
       "  <thead>\n",
       "    <tr style=\"text-align: right;\">\n",
       "      <th></th>\n",
       "      <th>x</th>\n",
       "    </tr>\n",
       "  </thead>\n",
       "  <tbody>\n",
       "    <tr>\n",
       "      <th>0</th>\n",
       "      <td>1</td>\n",
       "    </tr>\n",
       "    <tr>\n",
       "      <th>1</th>\n",
       "      <td>3</td>\n",
       "    </tr>\n",
       "    <tr>\n",
       "      <th>2</th>\n",
       "      <td>2</td>\n",
       "    </tr>\n",
       "    <tr>\n",
       "      <th>3</th>\n",
       "      <td>4</td>\n",
       "    </tr>\n",
       "    <tr>\n",
       "      <th>4</th>\n",
       "      <td>4</td>\n",
       "    </tr>\n",
       "    <tr>\n",
       "      <th>...</th>\n",
       "      <td>...</td>\n",
       "    </tr>\n",
       "    <tr>\n",
       "      <th>95</th>\n",
       "      <td>1</td>\n",
       "    </tr>\n",
       "    <tr>\n",
       "      <th>96</th>\n",
       "      <td>3</td>\n",
       "    </tr>\n",
       "    <tr>\n",
       "      <th>97</th>\n",
       "      <td>0</td>\n",
       "    </tr>\n",
       "    <tr>\n",
       "      <th>98</th>\n",
       "      <td>2</td>\n",
       "    </tr>\n",
       "    <tr>\n",
       "      <th>99</th>\n",
       "      <td>2</td>\n",
       "    </tr>\n",
       "  </tbody>\n",
       "</table>\n",
       "<p>100 rows × 1 columns</p>\n",
       "</div>"
      ],
      "text/plain": [
       "    x\n",
       "0   1\n",
       "1   3\n",
       "2   2\n",
       "3   4\n",
       "4   4\n",
       ".. ..\n",
       "95  1\n",
       "96  3\n",
       "97  0\n",
       "98  2\n",
       "99  2\n",
       "\n",
       "[100 rows x 1 columns]"
      ]
     },
     "execution_count": 2,
     "metadata": {},
     "output_type": "execute_result"
    }
   ],
   "source": [
    "df"
   ]
  },
  {
   "attachments": {},
   "cell_type": "markdown",
   "id": "db65ab5d",
   "metadata": {},
   "source": [
    "In the `df` data, you will see that there is a column named `x`. Keep in mind that we will be working with this `x` column from now on."
   ]
  },
  {
   "attachments": {},
   "cell_type": "markdown",
   "id": "78e0c63f",
   "metadata": {},
   "source": [
    "Each line of data corresponds to the number of passersby observed on a given day, which is 100 days. In Python, it is called \"index. In Python, it is called \"index.\" Note that the index starts from 0 (zero-based). In the case of this data, the last row is the 99th data, but it is actually the 100th data (two passers-by were observed). The `[100 rows x 1 columns]` at the end of the output indicates that this data is a data frame with 100 rows and 1 column. Now, let us create a frequency table. In this case, it means to create a head like the following."
   ]
  },
  {
   "attachments": {},
   "cell_type": "markdown",
   "id": "67b5eb36",
   "metadata": {},
   "source": [
    "<center>\n",
    "\n",
    "| Number of people in observation | Date |\n",
    "|----------|------|\n",
    "| 0  | Day 〇 |\n",
    "| 1  | Day 〇 |\n",
    "| 2  | Day 〇 |\n",
    "</center>"
   ]
  },
  {
   "attachments": {},
   "cell_type": "markdown",
   "id": "67c27f03",
   "metadata": {},
   "source": [
    "**pandas** is a package with all the necessary tools for data science, and there are many tools (functions) to create such a frequency table. In this case, applying `value_counts()` to the `x` column of a `df` object will tally the number of days on which a certain number of people are observed."
   ]
  },
  {
   "cell_type": "code",
   "execution_count": 3,
   "id": "cc3faa8c",
   "metadata": {
    "name": "counts"
   },
   "outputs": [
    {
     "data": {
      "text/plain": [
       "2    29\n",
       "1    26\n",
       "3    17\n",
       "0    13\n",
       "4    10\n",
       "5     3\n",
       "6     2\n",
       "Name: x, dtype: int64"
      ]
     },
     "execution_count": 3,
     "metadata": {},
     "output_type": "execute_result"
    }
   ],
   "source": [
    "df['x'].value_counts()"
   ]
  },
  {
   "attachments": {},
   "cell_type": "markdown",
   "id": "2477f585",
   "metadata": {},
   "source": [
    "In the output, the number of days observed is listed in descending order. However, is it possible that the expected output format is actually the number of people in ascending ascending order? If so, add a function to the above code to sort the data in the order of the index."
   ]
  },
  {
   "cell_type": "code",
   "execution_count": 4,
   "id": "447f791c",
   "metadata": {
    "lines_to_next_cell": 2,
    "name": "sort_index"
   },
   "outputs": [
    {
     "data": {
      "text/plain": [
       "0    13\n",
       "1    26\n",
       "2    29\n",
       "3    17\n",
       "4    10\n",
       "5     3\n",
       "6     2\n",
       "Name: x, dtype: int64"
      ]
     },
     "execution_count": 4,
     "metadata": {},
     "output_type": "execute_result"
    }
   ],
   "source": [
    "df['x'].value_counts().sort_index()"
   ]
  },
  {
   "attachments": {},
   "cell_type": "markdown",
   "id": "93694798",
   "metadata": {},
   "source": [
    "The leftmost 0 in this output indicates that there were 13 days (out of 100) when no one was observed on the boardwalk. The frequency table shows that the number of passersby observed per day is small. For count data with a small number of occurrences (i.e., a small number of observations), it is generally appropriate to assume a Poisson distribution, but we would like to confirm whether this is appropriate or not. One way to check the shape of the data in such a case is to represent the data as a bar chart, which can be visualized using **matplotlib**, a Python graphing tool, and **seaborn**, an extension of **matplotlib**."
   ]
  },
  {
   "attachments": {},
   "cell_type": "markdown",
   "id": "2c92daf3",
   "metadata": {},
   "source": [
    "\n",
    "If you are using Jupyter, you should also execute the following one line before creating the graph.\n",
    "\n",
    "```\n",
    "    %matplotlib inline\n",
    "```\n",
    "\n",
    "Note that the `plt.show()` at the end of the following code is a necessary instruction if you are using a tool other than Jupyter notebook. Remove the # at the beginning of the line and execute it."
   ]
  },
  {
   "cell_type": "code",
   "execution_count": 5,
   "id": "316e05cc",
   "metadata": {
    "lines_to_next_cell": 0,
    "name": "countplot"
   },
   "outputs": [
    {
     "data": {
      "text/plain": [
       "<Axes: xlabel='x', ylabel='count'>"
      ]
     },
     "execution_count": 5,
     "metadata": {},
     "output_type": "execute_result"
    },
    {
     "data": {
      "image/png": "[encoded data removed]",
      "text/plain": [
       "<Figure size 640x480 with 1 Axes>"
      ]
     },
     "metadata": {},
     "output_type": "display_data"
    }
   ],
   "source": [
    "%matplotlib inline\n",
    "import matplotlib.pyplot as plt\n",
    "import seaborn as sns\n",
    "sns.countplot(x='x', data=df)\n",
    "# If you are using a tool other than jupyter, run below to draw the image.\n",
    "# plt.show()"
   ]
  },
  {
   "attachments": {},
   "cell_type": "markdown",
   "id": "979a4d37",
   "metadata": {},
   "source": [
    "Now, let us proceed to check whether it is appropriate to fit a Poisson distribution to this data. First, we find the mean of the data."
   ]
  },
  {
   "cell_type": "code",
   "execution_count": 6,
   "id": "28b1350d",
   "metadata": {
    "name": "mean"
   },
   "outputs": [
    {
     "data": {
      "text/plain": [
       "x    2.02\n",
       "dtype: float64"
      ]
     },
     "execution_count": 6,
     "metadata": {},
     "output_type": "execute_result"
    }
   ],
   "source": [
    "df.mean()"
   ]
  },
  {
   "attachments": {},
   "cell_type": "markdown",
   "id": "b477590a",
   "metadata": {},
   "source": [
    "Since the mean of the sample is approximately 2, let us assume that the expected value (parameter) of the Poisson distribution we assume is also 2.0. Then, it is possible to determine the probability of observing between 0 and 6 passersby during 100 days."
   ]
  },
  {
   "cell_type": "code",
   "execution_count": 7,
   "id": "e90d6966",
   "metadata": {
    "name": "poisson"
   },
   "outputs": [
    {
     "data": {
      "text/plain": [
       "0    0.135335\n",
       "1    0.270671\n",
       "2    0.270671\n",
       "3    0.180447\n",
       "4    0.090224\n",
       "5    0.036089\n",
       "6    0.012030\n",
       "dtype: float64"
      ]
     },
     "execution_count": 7,
     "metadata": {},
     "output_type": "execute_result"
    }
   ],
   "source": [
    "import numpy as np\n",
    "times = np.array(range(0,7,1))\n",
    "from scipy.stats import poisson\n",
    "x2 = [poisson.pmf(i, 2.0)  for i in times]\n",
    "X2 = pd.Series(x2)\n",
    "X2"
   ]
  },
  {
   "attachments": {},
   "cell_type": "markdown",
   "id": "cbbcad5e",
   "metadata": {},
   "source": [
    "`poisson.pmf(i, 2.0)` is the instruction to find the probability that an integer between 0 and 6 appears in the Poisson distribution with the expected value of 2.0 (we used this instruction in the previous and 4th lecture). The result is stored as `X2`, so let's superimpose it on the bar plot shown earlier. The following code uses a trick to superimpose the two plots, but it is not necessary to understand this trick (`twinx()`) here. For now, the purpose of the present discussion is to use the graph to determine whether it is appropriate to fit a Poisson distribution to the data or not. Note that the `plt.show()` at the end of the following code is a necessary instruction if you are using a tool other than Jupyter notebook."
   ]
  },
  {
   "cell_type": "code",
   "execution_count": 8,
   "id": "849e741b",
   "metadata": {
    "name": "countplot2"
   },
   "outputs": [
    {
     "data": {
      "text/plain": [
       "[<matplotlib.lines.Line2D at 0x22c22f2a910>]"
      ]
     },
     "execution_count": 8,
     "metadata": {},
     "output_type": "execute_result"
    },
    {
     "data": {
      "image/png": "[encoded data removed]",
      "text/plain": [
       "<Figure size 640x480 with 2 Axes>"
      ]
     },
     "metadata": {},
     "output_type": "display_data"
    }
   ],
   "source": [
    "fig, ax1 = plt.subplots()\n",
    "sns.countplot(x='x', ax=ax1, data=df)\n",
    "ax2 = ax1.twinx()\n",
    "ax2.plot(X2,'r-')\n",
    "# plt.show()"
   ]
  },
  {
   "attachments": {},
   "cell_type": "markdown",
   "id": "fb4d4e8e",
   "metadata": {},
   "source": [
    "Here the red line segment is the probability (the Y axis on the right side corresponds to the probability). Although the probability of the day when only one person was observed on the boardwalk (the vertical axis on the right is the probability) seems to be a little smaller than the Poisson distribution with parameter 2.0, or expected value of 2.0, it can be judged that it generally follows the Poisson distribution. However, if you do not trust the graph based on its appearance, you can use a method called **statistical test**, which will be explained in next week's lecture, to determine whether the actual observed value and the theoretical value are close or not. Using a statistical test, it is possible to make a judgment based on numerical values (specifically, probability), rather than on the impression of a graph."
   ]
  },
  {
   "attachments": {},
   "cell_type": "markdown",
   "id": "3ceb5583",
   "metadata": {},
   "source": [
    "### Boxplot"
   ]
  },
  {
   "attachments": {},
   "cell_type": "markdown",
   "id": "d7b69c9b",
   "metadata": {},
   "source": [
    "For example, suppose we have data on the height of about 100 third grade boys in a certain high school. （The mean height of a third grade male high school student in Japan is about 170 cm. This can be confirmed from the \"Annual Report of School Health Statistics Research\" by the Ministry of Education, Culture, Sports, Science and Technology (MEXT). As an aside, these government statistics are available to anyone through a portal called e-stat (https://www.e-stat.go.jp/). A search for \"Annual Report of School Health Statistics Research\" on the site will bring up a list of past data. See \"Mean and standard deviation of height and weight by age by city class by establishment\" in the 2008 national edition.\n",
    "\n",
    "Here, let's load the sample data prepared for the class."
   ]
  },
  {
   "cell_type": "code",
   "execution_count": 4,
   "id": "7d264051",
   "metadata": {
    "lines_to_next_cell": 2,
    "name": "heights"
   },
   "outputs": [
    {
     "data": {
      "text/html": [
       "<div>\n",
       "<style scoped>\n",
       "    .dataframe tbody tr th:only-of-type {\n",
       "        vertical-align: middle;\n",
       "    }\n",
       "\n",
       "    .dataframe tbody tr th {\n",
       "        vertical-align: top;\n",
       "    }\n",
       "\n",
       "    .dataframe thead th {\n",
       "        text-align: right;\n",
       "    }\n",
       "</style>\n",
       "<table border=\"1\" class=\"dataframe\">\n",
       "  <thead>\n",
       "    <tr style=\"text-align: right;\">\n",
       "      <th></th>\n",
       "      <th>x</th>\n",
       "    </tr>\n",
       "  </thead>\n",
       "  <tbody>\n",
       "    <tr>\n",
       "      <th>0</th>\n",
       "      <td>166.8</td>\n",
       "    </tr>\n",
       "    <tr>\n",
       "      <th>1</th>\n",
       "      <td>168.7</td>\n",
       "    </tr>\n",
       "    <tr>\n",
       "      <th>2</th>\n",
       "      <td>179.0</td>\n",
       "    </tr>\n",
       "    <tr>\n",
       "      <th>3</th>\n",
       "      <td>170.4</td>\n",
       "    </tr>\n",
       "    <tr>\n",
       "      <th>4</th>\n",
       "      <td>170.7</td>\n",
       "    </tr>\n",
       "    <tr>\n",
       "      <th>...</th>\n",
       "      <td>...</td>\n",
       "    </tr>\n",
       "    <tr>\n",
       "      <th>95</th>\n",
       "      <td>108.0</td>\n",
       "    </tr>\n",
       "    <tr>\n",
       "      <th>96</th>\n",
       "      <td>107.0</td>\n",
       "    </tr>\n",
       "    <tr>\n",
       "      <th>97</th>\n",
       "      <td>109.0</td>\n",
       "    </tr>\n",
       "    <tr>\n",
       "      <th>98</th>\n",
       "      <td>106.0</td>\n",
       "    </tr>\n",
       "    <tr>\n",
       "      <th>99</th>\n",
       "      <td>107.0</td>\n",
       "    </tr>\n",
       "  </tbody>\n",
       "</table>\n",
       "<p>100 rows × 1 columns</p>\n",
       "</div>"
      ],
      "text/plain": [
       "        x\n",
       "0   166.8\n",
       "1   168.7\n",
       "2   179.0\n",
       "3   170.4\n",
       "4   170.7\n",
       "..    ...\n",
       "95  108.0\n",
       "96  107.0\n",
       "97  109.0\n",
       "98  106.0\n",
       "99  107.0\n",
       "\n",
       "[100 rows x 1 columns]"
      ]
     },
     "execution_count": 4,
     "metadata": {},
     "output_type": "execute_result"
    }
   ],
   "source": [
    "heights = pd.read_csv(\"https://infoart.ait231.tokushima-u.ac.jp/public/heights.csv\")\n",
    "heights"
   ]
  },
  {
   "attachments": {},
   "cell_type": "markdown",
   "id": "3f5070c1",
   "metadata": {},
   "source": [
    "Now, the data from this high school gave an mean of about 164 centimeters."
   ]
  },
  {
   "cell_type": "code",
   "execution_count": 5,
   "id": "08cde6b0",
   "metadata": {
    "name": "height_mean"
   },
   "outputs": [
    {
     "data": {
      "text/plain": [
       "x    164.297\n",
       "dtype: float64"
      ]
     },
     "execution_count": 5,
     "metadata": {},
     "output_type": "execute_result"
    }
   ],
   "source": [
    "heights.mean()"
   ]
  },
  {
   "attachments": {},
   "cell_type": "markdown",
   "id": "5b1759be",
   "metadata": {},
   "source": [
    "The national mean is 170 centimeters, which seems quite low. Is there some health problem among the boys in this high school? First, let's check the distribution of the data. In this case, we often use a **boxplot** graph."
   ]
  },
  {
   "cell_type": "code",
   "execution_count": 11,
   "id": "50bcfc4d",
   "metadata": {
    "name": "boxplt1"
   },
   "outputs": [
    {
     "data": {
      "text/plain": [
       "<Axes: ylabel='x'>"
      ]
     },
     "execution_count": 11,
     "metadata": {},
     "output_type": "execute_result"
    },
    {
     "data": {
      "image/png": "[encoded data removed]",
      "text/plain": [
       "<Figure size 640x480 with 1 Axes>"
      ]
     },
     "metadata": {},
     "output_type": "display_data"
    }
   ],
   "source": [
    "sns.boxplot(y='x', data=heights, orient='v')"
   ]
  },
  {
   "attachments": {},
   "cell_type": "markdown",
   "id": "ebea24e5",
   "metadata": {},
   "source": [
    "The graph may be a little confusing. First of all, the Y-axis is the range of height, which should not be a problem.\n",
    "There is a dark blue box at the top. This is the box of boxplot. A rather thick line is drawn in the center of the box, which is the median."
   ]
  },
  {
   "cell_type": "code",
   "execution_count": 12,
   "id": "f1488c62",
   "metadata": {
    "name": "median"
   },
   "outputs": [
    {
     "data": {
      "text/plain": [
       "x    169.35\n",
       "dtype: float64"
      ]
     },
     "execution_count": 12,
     "metadata": {},
     "output_type": "execute_result"
    }
   ],
   "source": [
    "heights.median()"
   ]
  },
  {
   "attachments": {},
   "cell_type": "markdown",
   "id": "320ac928",
   "metadata": {},
   "source": [
    "The median is higher than the mean, about 169 cm. Let's see how it corresponds to the memory on the horizontal axis. Next, the top and bottom of the box (lid and bottom) correspond to the 1st quartile, and the lid of the box corresponds to the 3rd quartile. **1st quartile** corresponds to the 1/4th (25%) of the data from the smallest quartile when the data are sorted by size, while **3rd quartile** is the 3/4th (75%) of the data from the largest quartile. Incidentally, the median can also be said to be the **second quartile**. The range from the first quartile to the third quartile is also called the **interquartile range**. When the function `quantile()` is executed with the numbers corresponding to the quartiles, each of them is obtained."
   ]
  },
  {
   "cell_type": "code",
   "execution_count": 13,
   "id": "e6320ead",
   "metadata": {
    "name": "quantile_5"
   },
   "outputs": [
    {
     "data": {
      "text/html": [
       "<div>\n",
       "<style scoped>\n",
       "    .dataframe tbody tr th:only-of-type {\n",
       "        vertical-align: middle;\n",
       "    }\n",
       "\n",
       "    .dataframe tbody tr th {\n",
       "        vertical-align: top;\n",
       "    }\n",
       "\n",
       "    .dataframe thead th {\n",
       "        text-align: right;\n",
       "    }\n",
       "</style>\n",
       "<table border=\"1\" class=\"dataframe\">\n",
       "  <thead>\n",
       "    <tr style=\"text-align: right;\">\n",
       "      <th></th>\n",
       "      <th>x</th>\n",
       "    </tr>\n",
       "  </thead>\n",
       "  <tbody>\n",
       "    <tr>\n",
       "      <th>0.00</th>\n",
       "      <td>106.000</td>\n",
       "    </tr>\n",
       "    <tr>\n",
       "      <th>0.25</th>\n",
       "      <td>165.975</td>\n",
       "    </tr>\n",
       "    <tr>\n",
       "      <th>0.50</th>\n",
       "      <td>169.350</td>\n",
       "    </tr>\n",
       "    <tr>\n",
       "      <th>0.75</th>\n",
       "      <td>172.975</td>\n",
       "    </tr>\n",
       "    <tr>\n",
       "      <th>1.00</th>\n",
       "      <td>182.500</td>\n",
       "    </tr>\n",
       "  </tbody>\n",
       "</table>\n",
       "</div>"
      ],
      "text/plain": [
       "            x\n",
       "0.00  106.000\n",
       "0.25  165.975\n",
       "0.50  169.350\n",
       "0.75  172.975\n",
       "1.00  182.500"
      ]
     },
     "execution_count": 13,
     "metadata": {},
     "output_type": "execute_result"
    }
   ],
   "source": [
    "heights.quantile([0, 0.25, 0.5, 0.75, 1.0])"
   ]
  },
  {
   "attachments": {},
   "cell_type": "markdown",
   "id": "96434b20",
   "metadata": {},
   "source": [
    "However, several different methods have been proposed for calculating quartiles, with slightly different outputs depending on the software. Even Python and R, two of the leading tools in the data science field, produce slightly different outputs, but for details, please refer to [external site: Wikipedia: Quartiles](https://ja.wikipedia.org/wiki/%E5%88%86%E4%BD%8D%E6%95%B0), etc. ( This will not be included in the quiz)."
   ]
  },
  {
   "attachments": {},
   "cell_type": "markdown",
   "id": "6ab02638",
   "metadata": {},
   "source": [
    "Next, the line extending from the lid or bottom of the box is called whiskers.\n",
    "Several calculations have been proposed for the length of the whiskers, but a typical method is shown below."
   ]
  },
  {
   "attachments": {},
   "cell_type": "markdown",
   "id": "6c1c17ef",
   "metadata": {},
   "source": [
    "1. the top edge of the whiskers is the top of the box + 1.5 * the maximum value within the quartile range\n",
    "2. the bottom edge of the whiskers is the bottom of the box - the minimum value within the 1.5 * IQR range"
   ]
  },
  {
   "attachments": {},
   "cell_type": "markdown",
   "id": "61315570",
   "metadata": {},
   "source": [
    "Let's do the calculations."
   ]
  },
  {
   "cell_type": "code",
   "execution_count": 14,
   "id": "638c407e",
   "metadata": {
    "name": "quartile1"
   },
   "outputs": [
    {
     "data": {
      "text/plain": [
       "(183.475, 155.475)"
      ]
     },
     "execution_count": 14,
     "metadata": {},
     "output_type": "execute_result"
    }
   ],
   "source": [
    "(172.975 + ( 172.975 - 165.975) * 1.5, 165.975 - ( 172.975 - 165.975) * 1.5)"
   ]
  },
  {
   "attachments": {},
   "cell_type": "markdown",
   "id": "19ed0c84",
   "metadata": {},
   "source": [
    "Any data outside of this up-and-down whisker is then considered an **outlier**. In this case, any measurement higher than about 184 cm or lower than 156 cm is considered an outlier. In this data, the maximum value is 182.5, so there are no outliers on the upper side (the taller side)."
   ]
  },
  {
   "attachments": {},
   "cell_type": "markdown",
   "id": "32216d3c",
   "metadata": {},
   "source": [
    "Let's add a few options to the code to create a boxplot, superimposing the individual height values as dots."
   ]
  },
  {
   "cell_type": "code",
   "execution_count": 16,
   "id": "d32bc247",
   "metadata": {
    "message": false,
    "name": "boxplot2"
   },
   "outputs": [
    {
     "data": {
      "text/plain": [
       "<Axes: ylabel='x'>"
      ]
     },
     "execution_count": 16,
     "metadata": {},
     "output_type": "execute_result"
    },
    {
     "data": {
      "image/png": "[encoded data removed]",
      "text/plain": [
       "<Figure size 640x480 with 1 Axes>"
      ]
     },
     "metadata": {},
     "output_type": "display_data"
    }
   ],
   "source": [
    "sns.stripplot(y=\"x\", orient='v',  data=heights, jitter=True, edgecolor='gray')\n",
    "sns.boxplot(y=\"x\", orient='v', data=heights, boxprops=dict(alpha=.3), showfliers=False)"
   ]
  },
  {
   "attachments": {},
   "cell_type": "markdown",
   "id": "d697c663",
   "metadata": {},
   "source": [
    "The points are scattered on either side of the X-axis to avoid overlapping points that represent nearly the same height. The X-axis has no meaning in this boxplot. We can see about 8 outliers, all of which are shorter than 120 cm in height. These would most likely have been entered incorrectly when recording. Because of these eight outliers, the avarage height of the boys in this high school may have been estimated lower. Let's exclude these eight outliers and try to find the mean."
   ]
  },
  {
   "cell_type": "code",
   "execution_count": 17,
   "id": "4022bcce",
   "metadata": {
    "name": "mean_no_outliers"
   },
   "outputs": [
    {
     "data": {
      "text/plain": [
       "x    170.296667\n",
       "dtype: float64"
      ]
     },
     "execution_count": 17,
     "metadata": {},
     "output_type": "execute_result"
    }
   ],
   "source": [
    "heights[heights.x > 120].mean()"
   ]
  },
  {
   "attachments": {},
   "cell_type": "markdown",
   "id": "18142aac",
   "metadata": {},
   "source": [
    "Excluding the values assumed to be outliers, the mean value was again determined to be the same as the Japanese national average."
   ]
  },
  {
   "attachments": {},
   "cell_type": "markdown",
   "id": "9a5efb46",
   "metadata": {},
   "source": [
    "### Outliers and missing values"
   ]
  },
  {
   "attachments": {},
   "cell_type": "markdown",
   "id": "fbc3d121",
   "metadata": {},
   "source": [
    "Data often contain missing values as well as outliers. **Missing values** refers to the state in which an observation is not recorded for some reason. They are often recorded as blank, NA, or 99999 in the data set.\n",
    "\n",
    "How to handle missing values and outliers is a difficult problem. The simplest approach is to remove the missing observations from the data, but this is not without its problems. First, the number of data may become so small that it may be questionable whether the data are representative of the target (population) of the analysis. Furthermore, if the missing values occur systematically (not by chance, but for some reason), the results of the analysis may be erroneous.\n",
    "\n",
    "For example, suppose a medical test is performed on the blood pressure of research subjects over a period of six months. In the case of such data, the later the time, the more missing values there will be. This is because some of the subjects will not show up for the examination. Such subjects are often either perfectly healthy or, conversely, in such poor physical condition that they cannot go out. In other words, missing values are concentrated in certain subjects. In such cases, medically useful judgments would not be possible from an analysis obtained from data in which missing values are simply removed.\n",
    "\n",
    "A method of compensating for missing values with other values has also been proposed. This is called interpolation. Although it is common to assign an average value as an interpolation, it is not a statistically appropriate process. How to handle missing values has been studied in the field of data science, but is omitted from this lecture.\n",
    "\n",
    "The simplest way to handle outliers is to delete them, but this is not always appropriate. If there is a value of 107 cm in the height data of the high school student mentioned earlier, it may be no problem to delete it as a recording error. However, if a value of 75 (i.e., two and a half standard deviations away from the mean) was reported as a deviation value (see Week 4 lecture), a third party would not be able to determine whether the value was 57 or really 75. Although the details are omitted from this book, a probability distribution that sometimes produces large outliers is the Cauchy distribution, which is useful in data analysis involving outliers (it is often used in Bayesian analysis in particular)."
   ]
  },
  {
   "attachments": {},
   "cell_type": "markdown",
   "id": "354e3648",
   "metadata": {},
   "source": [
    "### Comparison between levels"
   ]
  },
  {
   "attachments": {},
   "cell_type": "markdown",
   "id": "e2f9cd93",
   "metadata": {},
   "source": [
    "**Level** refers to the breakdown of a categorical variable. For a categorical variable that expresses \"gender,\" there are generally three possible levels: \"female,\" \"male,\" and \"neither. In some cases, we may want to check the differences or characteristics of each level in the categorical variable. For example, it may be possible to compare annual income by gender and confirm the current situation, such as women's income being unfairly low. Incidentally, to separate the levels of categorical variables is called **stratified**."
   ]
  },
  {
   "attachments": {},
   "cell_type": "markdown",
   "id": "7e8b67ec",
   "metadata": {},
   "source": [
    "Let's consider an actual example. Consider the different effects of different feeds on the growth (weight) of chickens."
   ]
  },
  {
   "cell_type": "code",
   "execution_count": 18,
   "id": "a3ff1b47",
   "metadata": {
    "lines_to_next_cell": 2,
    "name": "chickwt"
   },
   "outputs": [
    {
     "data": {
      "text/html": [
       "<div>\n",
       "<style scoped>\n",
       "    .dataframe tbody tr th:only-of-type {\n",
       "        vertical-align: middle;\n",
       "    }\n",
       "\n",
       "    .dataframe tbody tr th {\n",
       "        vertical-align: top;\n",
       "    }\n",
       "\n",
       "    .dataframe thead th {\n",
       "        text-align: right;\n",
       "    }\n",
       "</style>\n",
       "<table border=\"1\" class=\"dataframe\">\n",
       "  <thead>\n",
       "    <tr style=\"text-align: right;\">\n",
       "      <th></th>\n",
       "      <th>weight</th>\n",
       "      <th>feed</th>\n",
       "    </tr>\n",
       "  </thead>\n",
       "  <tbody>\n",
       "    <tr>\n",
       "      <th>0</th>\n",
       "      <td>179</td>\n",
       "      <td>horsebean</td>\n",
       "    </tr>\n",
       "    <tr>\n",
       "      <th>1</th>\n",
       "      <td>160</td>\n",
       "      <td>horsebean</td>\n",
       "    </tr>\n",
       "    <tr>\n",
       "      <th>2</th>\n",
       "      <td>136</td>\n",
       "      <td>horsebean</td>\n",
       "    </tr>\n",
       "    <tr>\n",
       "      <th>3</th>\n",
       "      <td>227</td>\n",
       "      <td>horsebean</td>\n",
       "    </tr>\n",
       "    <tr>\n",
       "      <th>4</th>\n",
       "      <td>217</td>\n",
       "      <td>horsebean</td>\n",
       "    </tr>\n",
       "    <tr>\n",
       "      <th>...</th>\n",
       "      <td>...</td>\n",
       "      <td>...</td>\n",
       "    </tr>\n",
       "    <tr>\n",
       "      <th>66</th>\n",
       "      <td>359</td>\n",
       "      <td>casein</td>\n",
       "    </tr>\n",
       "    <tr>\n",
       "      <th>67</th>\n",
       "      <td>216</td>\n",
       "      <td>casein</td>\n",
       "    </tr>\n",
       "    <tr>\n",
       "      <th>68</th>\n",
       "      <td>222</td>\n",
       "      <td>casein</td>\n",
       "    </tr>\n",
       "    <tr>\n",
       "      <th>69</th>\n",
       "      <td>283</td>\n",
       "      <td>casein</td>\n",
       "    </tr>\n",
       "    <tr>\n",
       "      <th>70</th>\n",
       "      <td>332</td>\n",
       "      <td>casein</td>\n",
       "    </tr>\n",
       "  </tbody>\n",
       "</table>\n",
       "<p>71 rows × 2 columns</p>\n",
       "</div>"
      ],
      "text/plain": [
       "    weight       feed\n",
       "0      179  horsebean\n",
       "1      160  horsebean\n",
       "2      136  horsebean\n",
       "3      227  horsebean\n",
       "4      217  horsebean\n",
       "..     ...        ...\n",
       "66     359     casein\n",
       "67     216     casein\n",
       "68     222     casein\n",
       "69     283     casein\n",
       "70     332     casein\n",
       "\n",
       "[71 rows x 2 columns]"
      ]
     },
     "execution_count": 18,
     "metadata": {},
     "output_type": "execute_result"
    }
   ],
   "source": [
    "chickwts = pd.read_csv(\"https://infoart.ait231.tokushima-u.ac.jp/public/chickwts.csv\")\n",
    "chickwts"
   ]
  },
  {
   "attachments": {},
   "cell_type": "markdown",
   "id": "9f924648",
   "metadata": {},
   "source": [
    "Here, \"feed\" is the category variable, and its breakdown (six types such as \"sunflower seeds\" and \"horsebean\") is the level."
   ]
  },
  {
   "attachments": {},
   "cell_type": "markdown",
   "id": "e38a4147",
   "metadata": {},
   "source": [
    "Let's create separate boxplots for each type of food (level)."
   ]
  },
  {
   "cell_type": "code",
   "execution_count": 19,
   "id": "3edc8bac",
   "metadata": {
    "message": false,
    "name": "chickwts_boxplot"
   },
   "outputs": [
    {
     "data": {
      "text/plain": [
       "<Axes: xlabel='feed', ylabel='weight'>"
      ]
     },
     "execution_count": 19,
     "metadata": {},
     "output_type": "execute_result"
    },
    {
     "data": {
      "image/png": "[encoded data removed]",
      "text/plain": [
       "<Figure size 640x480 with 1 Axes>"
      ]
     },
     "metadata": {},
     "output_type": "display_data"
    }
   ],
   "source": [
    "sns.boxplot(x='feed', y='weight', orient='v',data = chickwts)"
   ]
  },
  {
   "attachments": {},
   "cell_type": "markdown",
   "id": "756273fc",
   "metadata": {},
   "source": [
    "The vertical axis is body weight, and the horizontal line inside each box represents the median. It can be seen that there is a considerable difference in body weight between chickens fed with dry casein and sunflower seeds (sunflower) and those fed with horse beans. We can also confirm that there are many outliers in the body weights of chickens fed sunflower seeds. In any case, it can be seen from the boxplots that **differences in chicken growth appear** depending on the type of feed."
   ]
  },
  {
   "attachments": {},
   "cell_type": "markdown",
   "id": "9122daf2",
   "metadata": {},
   "source": [
    "If the intervention (in this case, changing the type of feed) is performed and other conditions (environment and environment such as the size of the poultry house and keeper's house) are the same, it would be reasonable to assume that the difference in average values at different levels of feed is due to the type of feed."
   ]
  },
  {
   "attachments": {},
   "cell_type": "markdown",
   "id": "2e5eb8f2",
   "metadata": {},
   "source": [
    "## Histogram"
   ]
  },
  {
   "attachments": {},
   "cell_type": "markdown",
   "id": "622d459d",
   "metadata": {},
   "source": [
    "We introduced boxplot as a graph to check the distribution of data, but another commonly used graph is the **histogram**. Let's create a histogram from the height data. Note that `kde=False` is specified as an option, but let's see what kind of graph will be created if you remove this option (this does not mean that it will be included in the quiz). `kde` is an option for drawing density approximation functions and stands for kernel density estimate."
   ]
  },
  {
   "cell_type": "code",
   "execution_count": 22,
   "id": "2785c38c",
   "metadata": {
    "lines_to_next_cell": 0,
    "name": "distplot"
   },
   "outputs": [
    {
     "data": {
      "text/plain": [
       "<Axes: ylabel='Count'>"
      ]
     },
     "execution_count": 22,
     "metadata": {},
     "output_type": "execute_result"
    },
    {
     "data": {
      "image/png": "[encoded data removed]",
      "text/plain": [
       "<Figure size 640x480 with 1 Axes>"
      ]
     },
     "metadata": {},
     "output_type": "display_data"
    }
   ],
   "source": [
    "sns.histplot(heights,kde=False)\n",
    "# plt.show()"
   ]
  },
  {
   "attachments": {},
   "cell_type": "markdown",
   "id": "4cee8da9",
   "metadata": {},
   "source": [
    "The height of the bar shown represents the number of data contained in a given range. For example, there would be two students in the range around 160 cm tall.\n",
    "\n",
    "At first glance, it looks like a so-called bar chart, but in a histogram, the bar sequence is meaningful. In this example, the left end of the horizontal axis (X-axis) is 100 cm and the right end is 190 cm. In other words, the values on the X-axis are continuous.\n",
    "\n",
    "The difference from a histogram is that in a bar chart, the horizontal axis is the level of categorical variables such as \"female\" and \"male,\" \"other,\" or \"agree\" and \"disagree. Hence, there is no inconvenience in checking the data if the order of \" Female\", \"Male\", and \"Other\" is interchanged."
   ]
  },
  {
   "cell_type": "code",
   "execution_count": 25,
   "id": "93574514",
   "metadata": {
    "lines_to_next_cell": 0,
    "message": false,
    "name": "sex_bar"
   },
   "outputs": [
    {
     "data": {
      "text/plain": [
       "<Axes: xlabel='Sex', ylabel='Value'>"
      ]
     },
     "execution_count": 25,
     "metadata": {},
     "output_type": "execute_result"
    },
    {
     "data": {
      "image/png": "[encoded data removed]",
      "text/plain": [
       "<Figure size 640x480 with 2 Axes>"
      ]
     },
     "metadata": {},
     "output_type": "display_data"
    }
   ],
   "source": [
    "x1 = pd.DataFrame({'Value':[30,50,10], 'Sex':['F','M','O']})\n",
    "x2 = x1.sort_values(by='Value')\n",
    "fig, (ax1, ax2) = plt.subplots(1, 2)\n",
    "sns.barplot(x='Sex', y='Value', data =x1, ax=ax1)\n",
    "sns.barplot(x='Sex', y='Value', data =x2, ax=ax2)\n",
    "# plt.show()"
   ]
  },
  {
   "attachments": {},
   "cell_type": "markdown",
   "id": "869109b9",
   "metadata": {},
   "source": [
    "In the histogram, the width of each bar corresponds to an interval or range. To check the intervals in this graph, you can execute the following code."
   ]
  },
  {
   "cell_type": "code",
   "execution_count": 26,
   "id": "9f60a48e",
   "metadata": {
    "lines_to_next_cell": 0,
    "name": "patches1"
   },
   "outputs": [
    {
     "data": {
      "text/plain": [
       "[106.0,\n",
       " 108.94230769230771,\n",
       " 111.88461538461539,\n",
       " 114.8269230769231,\n",
       " 117.76923076923077,\n",
       " 120.71153846153848,\n",
       " 123.65384615384616,\n",
       " 126.59615384615383,\n",
       " 129.53846153846155,\n",
       " 132.48076923076923,\n",
       " 135.42307692307693,\n",
       " 138.36538461538458,\n",
       " 141.30769230769232,\n",
       " 144.25,\n",
       " 147.19230769230768,\n",
       " 150.13461538461536,\n",
       " 153.0769230769231,\n",
       " 156.01923076923077,\n",
       " 158.96153846153845,\n",
       " 161.90384615384613,\n",
       " 164.84615384615387,\n",
       " 167.78846153846155,\n",
       " 170.73076923076923,\n",
       " 173.67307692307693,\n",
       " 176.61538461538458,\n",
       " 179.55769230769232]"
      ]
     },
     "execution_count": 26,
     "metadata": {},
     "output_type": "execute_result"
    },
    {
     "data": {
      "image/png": "[encoded data removed]",
      "text/plain": [
       "<Figure size 640x480 with 1 Axes>"
      ]
     },
     "metadata": {},
     "output_type": "display_data"
    }
   ],
   "source": [
    "[h.get_x() for h in sns.histplot(heights,kde=False).patches]"
   ]
  },
  {
   "attachments": {},
   "cell_type": "markdown",
   "id": "dd7f421a",
   "metadata": {},
   "source": [
    "The intervals are 106.0, 108.94, 111.88, and so on, starting from the left end. This interval is also expressed as **bin**.\n",
    "\n",
    "We can also check how many students are in each interval as follows."
   ]
  },
  {
   "cell_type": "code",
   "execution_count": 27,
   "id": "4d332fbd",
   "metadata": {
    "name": "patches2"
   },
   "outputs": [
    {
     "data": {
      "text/plain": [
       "[5,\n",
       " 2,\n",
       " 0,\n",
       " 3,\n",
       " 0,\n",
       " 0,\n",
       " 0,\n",
       " 0,\n",
       " 0,\n",
       " 0,\n",
       " 0,\n",
       " 0,\n",
       " 0,\n",
       " 0,\n",
       " 0,\n",
       " 0,\n",
       " 0,\n",
       " 2,\n",
       " 2,\n",
       " 9,\n",
       " 14,\n",
       " 23,\n",
       " 17,\n",
       " 13,\n",
       " 6,\n",
       " 4]"
      ]
     },
     "execution_count": 27,
     "metadata": {},
     "output_type": "execute_result"
    },
    {
     "data": {
      "image/png": "[encoded data removed]",
      "text/plain": [
       "<Figure size 640x480 with 1 Axes>"
      ]
     },
     "metadata": {},
     "output_type": "display_data"
    }
   ],
   "source": [
    "[h.get_height() for h in sns.histplot(heights,kde=False).patches]"
   ]
  },
  {
   "attachments": {},
   "cell_type": "markdown",
   "id": "bcbc4538",
   "metadata": {},
   "source": [
    "The interval 106.0, 108.94 on the left belongs to 5 students."
   ]
  },
  {
   "attachments": {},
   "cell_type": "markdown",
   "id": "71c0e8df",
   "metadata": {},
   "source": [
    "There are several outliers in the height data that appear to be due to misstatements, so the bars are densely spaced apart on both sides; there are 8 students recorded as 120 centimeters or less."
   ]
  },
  {
   "attachments": {},
   "cell_type": "markdown",
   "id": "7a4ed2d2",
   "metadata": {},
   "source": [
    "As you can immediately imagine, the histogram will look completely different depending on the bin settings.\n",
    "Let's try to create a histogram with wide bins."
   ]
  },
  {
   "cell_type": "code",
   "execution_count": 28,
   "id": "b1b9e701",
   "metadata": {
    "lines_to_next_cell": 0,
    "message": false,
    "name": "displot_bin5"
   },
   "outputs": [
    {
     "data": {
      "text/plain": [
       "<Axes: ylabel='Count'>"
      ]
     },
     "execution_count": 28,
     "metadata": {},
     "output_type": "execute_result"
    },
    {
     "data": {
      "image/png": "[encoded data removed]",
      "text/plain": [
       "<Figure size 640x480 with 1 Axes>"
      ]
     },
     "metadata": {},
     "output_type": "display_data"
    }
   ],
   "source": [
    "sns.histplot(heights, kde=False, bins=5)"
   ]
  },
  {
   "attachments": {},
   "cell_type": "markdown",
   "id": "d8d5d081",
   "metadata": {},
   "source": [
    "As a result of the extreme reduction in the number of bins, the graphs look very different. Several methods have been proposed to set the optimal bins (e.g., Sturges' method, but Freedman-Diaconis' method is used in **seaborn**), but it is inevitable that the histograms will be arbitrary."
   ]
  },
  {
   "attachments": {},
   "cell_type": "markdown",
   "id": "35e81ee3",
   "metadata": {},
   "source": [
    "Let's use histograms to compare between levels. Earlier we saw the effect of chicken weight gain and feed on a boxplot. Let's use a histogram here. Note that we use `map()`, a function that performs iterative processing, but it is not necessary to understand the code (it will not be included in the quiz)."
   ]
  },
  {
   "cell_type": "code",
   "execution_count": 29,
   "id": "4d3d4233",
   "metadata": {
    "lines_to_next_cell": 2,
    "message": false,
    "name": "FacetGrid"
   },
   "outputs": [
    {
     "data": {
      "text/plain": [
       "<seaborn.axisgrid.FacetGrid at 0x21e3dbd93c0>"
      ]
     },
     "execution_count": 29,
     "metadata": {},
     "output_type": "execute_result"
    },
    {
     "data": {
      "image/png": "[encoded data removed]",
      "text/plain": [
       "<Figure size 300x300 with 1 Axes>"
      ]
     },
     "metadata": {},
     "output_type": "display_data"
    }
   ],
   "source": [
    "g = sns.FacetGrid(chickwts, hue=\"feed\")\n",
    "g.map(sns.histplot, 'weight', kde=False)"
   ]
  },
  {
   "attachments": {},
   "cell_type": "markdown",
   "id": "064077f5",
   "metadata": {},
   "source": [
    "You can see that the distribution of each type of food is different, but it would be difficult to see the differences in the effects of the food because the bars have been overlaid."
   ]
  },
  {
   "attachments": {},
   "cell_type": "markdown",
   "id": "bdf2a48d",
   "metadata": {},
   "source": [
    "## Scatter plot"
   ]
  },
  {
   "attachments": {},
   "cell_type": "markdown",
   "id": "8fd0a219",
   "metadata": {},
   "source": [
    "Boxplots, histograms, and bar plots are primarily tools for visualizing a single variable. In data analysis, we sometimes want to draw two variables at the same time and consider their relationship. **Scatter plot** is a visualization tool often used to examine the relationship between two variables.\n",
    "\n",
    "Let us take as an Example the data on the performance of brakes of a car."
   ]
  },
  {
   "cell_type": "code",
   "execution_count": 30,
   "id": "d3e69658",
   "metadata": {},
   "outputs": [
    {
     "data": {
      "text/html": [
       "<div>\n",
       "<style scoped>\n",
       "    .dataframe tbody tr th:only-of-type {\n",
       "        vertical-align: middle;\n",
       "    }\n",
       "\n",
       "    .dataframe tbody tr th {\n",
       "        vertical-align: top;\n",
       "    }\n",
       "\n",
       "    .dataframe thead th {\n",
       "        text-align: right;\n",
       "    }\n",
       "</style>\n",
       "<table border=\"1\" class=\"dataframe\">\n",
       "  <thead>\n",
       "    <tr style=\"text-align: right;\">\n",
       "      <th></th>\n",
       "      <th>speed</th>\n",
       "      <th>dist</th>\n",
       "    </tr>\n",
       "  </thead>\n",
       "  <tbody>\n",
       "    <tr>\n",
       "      <th>0</th>\n",
       "      <td>4</td>\n",
       "      <td>2</td>\n",
       "    </tr>\n",
       "    <tr>\n",
       "      <th>1</th>\n",
       "      <td>4</td>\n",
       "      <td>10</td>\n",
       "    </tr>\n",
       "    <tr>\n",
       "      <th>2</th>\n",
       "      <td>7</td>\n",
       "      <td>4</td>\n",
       "    </tr>\n",
       "    <tr>\n",
       "      <th>3</th>\n",
       "      <td>7</td>\n",
       "      <td>22</td>\n",
       "    </tr>\n",
       "    <tr>\n",
       "      <th>4</th>\n",
       "      <td>8</td>\n",
       "      <td>16</td>\n",
       "    </tr>\n",
       "    <tr>\n",
       "      <th>5</th>\n",
       "      <td>9</td>\n",
       "      <td>10</td>\n",
       "    </tr>\n",
       "    <tr>\n",
       "      <th>6</th>\n",
       "      <td>10</td>\n",
       "      <td>18</td>\n",
       "    </tr>\n",
       "    <tr>\n",
       "      <th>7</th>\n",
       "      <td>10</td>\n",
       "      <td>26</td>\n",
       "    </tr>\n",
       "    <tr>\n",
       "      <th>8</th>\n",
       "      <td>10</td>\n",
       "      <td>34</td>\n",
       "    </tr>\n",
       "    <tr>\n",
       "      <th>9</th>\n",
       "      <td>11</td>\n",
       "      <td>17</td>\n",
       "    </tr>\n",
       "    <tr>\n",
       "      <th>10</th>\n",
       "      <td>11</td>\n",
       "      <td>28</td>\n",
       "    </tr>\n",
       "    <tr>\n",
       "      <th>11</th>\n",
       "      <td>12</td>\n",
       "      <td>14</td>\n",
       "    </tr>\n",
       "    <tr>\n",
       "      <th>12</th>\n",
       "      <td>12</td>\n",
       "      <td>20</td>\n",
       "    </tr>\n",
       "    <tr>\n",
       "      <th>13</th>\n",
       "      <td>12</td>\n",
       "      <td>24</td>\n",
       "    </tr>\n",
       "    <tr>\n",
       "      <th>14</th>\n",
       "      <td>12</td>\n",
       "      <td>28</td>\n",
       "    </tr>\n",
       "    <tr>\n",
       "      <th>15</th>\n",
       "      <td>13</td>\n",
       "      <td>26</td>\n",
       "    </tr>\n",
       "    <tr>\n",
       "      <th>16</th>\n",
       "      <td>13</td>\n",
       "      <td>34</td>\n",
       "    </tr>\n",
       "    <tr>\n",
       "      <th>17</th>\n",
       "      <td>13</td>\n",
       "      <td>34</td>\n",
       "    </tr>\n",
       "    <tr>\n",
       "      <th>18</th>\n",
       "      <td>13</td>\n",
       "      <td>46</td>\n",
       "    </tr>\n",
       "    <tr>\n",
       "      <th>19</th>\n",
       "      <td>14</td>\n",
       "      <td>26</td>\n",
       "    </tr>\n",
       "    <tr>\n",
       "      <th>20</th>\n",
       "      <td>14</td>\n",
       "      <td>36</td>\n",
       "    </tr>\n",
       "    <tr>\n",
       "      <th>21</th>\n",
       "      <td>14</td>\n",
       "      <td>60</td>\n",
       "    </tr>\n",
       "    <tr>\n",
       "      <th>22</th>\n",
       "      <td>14</td>\n",
       "      <td>80</td>\n",
       "    </tr>\n",
       "    <tr>\n",
       "      <th>23</th>\n",
       "      <td>15</td>\n",
       "      <td>20</td>\n",
       "    </tr>\n",
       "    <tr>\n",
       "      <th>24</th>\n",
       "      <td>15</td>\n",
       "      <td>26</td>\n",
       "    </tr>\n",
       "    <tr>\n",
       "      <th>25</th>\n",
       "      <td>15</td>\n",
       "      <td>54</td>\n",
       "    </tr>\n",
       "    <tr>\n",
       "      <th>26</th>\n",
       "      <td>16</td>\n",
       "      <td>32</td>\n",
       "    </tr>\n",
       "    <tr>\n",
       "      <th>27</th>\n",
       "      <td>16</td>\n",
       "      <td>40</td>\n",
       "    </tr>\n",
       "    <tr>\n",
       "      <th>28</th>\n",
       "      <td>17</td>\n",
       "      <td>32</td>\n",
       "    </tr>\n",
       "    <tr>\n",
       "      <th>29</th>\n",
       "      <td>17</td>\n",
       "      <td>40</td>\n",
       "    </tr>\n",
       "    <tr>\n",
       "      <th>30</th>\n",
       "      <td>17</td>\n",
       "      <td>50</td>\n",
       "    </tr>\n",
       "    <tr>\n",
       "      <th>31</th>\n",
       "      <td>18</td>\n",
       "      <td>42</td>\n",
       "    </tr>\n",
       "    <tr>\n",
       "      <th>32</th>\n",
       "      <td>18</td>\n",
       "      <td>56</td>\n",
       "    </tr>\n",
       "    <tr>\n",
       "      <th>33</th>\n",
       "      <td>18</td>\n",
       "      <td>76</td>\n",
       "    </tr>\n",
       "    <tr>\n",
       "      <th>34</th>\n",
       "      <td>18</td>\n",
       "      <td>84</td>\n",
       "    </tr>\n",
       "    <tr>\n",
       "      <th>35</th>\n",
       "      <td>19</td>\n",
       "      <td>36</td>\n",
       "    </tr>\n",
       "    <tr>\n",
       "      <th>36</th>\n",
       "      <td>19</td>\n",
       "      <td>46</td>\n",
       "    </tr>\n",
       "    <tr>\n",
       "      <th>37</th>\n",
       "      <td>19</td>\n",
       "      <td>68</td>\n",
       "    </tr>\n",
       "    <tr>\n",
       "      <th>38</th>\n",
       "      <td>20</td>\n",
       "      <td>32</td>\n",
       "    </tr>\n",
       "    <tr>\n",
       "      <th>39</th>\n",
       "      <td>20</td>\n",
       "      <td>48</td>\n",
       "    </tr>\n",
       "    <tr>\n",
       "      <th>40</th>\n",
       "      <td>20</td>\n",
       "      <td>52</td>\n",
       "    </tr>\n",
       "    <tr>\n",
       "      <th>41</th>\n",
       "      <td>20</td>\n",
       "      <td>56</td>\n",
       "    </tr>\n",
       "    <tr>\n",
       "      <th>42</th>\n",
       "      <td>20</td>\n",
       "      <td>64</td>\n",
       "    </tr>\n",
       "    <tr>\n",
       "      <th>43</th>\n",
       "      <td>22</td>\n",
       "      <td>66</td>\n",
       "    </tr>\n",
       "    <tr>\n",
       "      <th>44</th>\n",
       "      <td>23</td>\n",
       "      <td>54</td>\n",
       "    </tr>\n",
       "    <tr>\n",
       "      <th>45</th>\n",
       "      <td>24</td>\n",
       "      <td>70</td>\n",
       "    </tr>\n",
       "    <tr>\n",
       "      <th>46</th>\n",
       "      <td>24</td>\n",
       "      <td>92</td>\n",
       "    </tr>\n",
       "    <tr>\n",
       "      <th>47</th>\n",
       "      <td>24</td>\n",
       "      <td>93</td>\n",
       "    </tr>\n",
       "    <tr>\n",
       "      <th>48</th>\n",
       "      <td>24</td>\n",
       "      <td>120</td>\n",
       "    </tr>\n",
       "    <tr>\n",
       "      <th>49</th>\n",
       "      <td>25</td>\n",
       "      <td>85</td>\n",
       "    </tr>\n",
       "  </tbody>\n",
       "</table>\n",
       "</div>"
      ],
      "text/plain": [
       "    speed  dist\n",
       "0       4     2\n",
       "1       4    10\n",
       "2       7     4\n",
       "3       7    22\n",
       "4       8    16\n",
       "5       9    10\n",
       "6      10    18\n",
       "7      10    26\n",
       "8      10    34\n",
       "9      11    17\n",
       "10     11    28\n",
       "11     12    14\n",
       "12     12    20\n",
       "13     12    24\n",
       "14     12    28\n",
       "15     13    26\n",
       "16     13    34\n",
       "17     13    34\n",
       "18     13    46\n",
       "19     14    26\n",
       "20     14    36\n",
       "21     14    60\n",
       "22     14    80\n",
       "23     15    20\n",
       "24     15    26\n",
       "25     15    54\n",
       "26     16    32\n",
       "27     16    40\n",
       "28     17    32\n",
       "29     17    40\n",
       "30     17    50\n",
       "31     18    42\n",
       "32     18    56\n",
       "33     18    76\n",
       "34     18    84\n",
       "35     19    36\n",
       "36     19    46\n",
       "37     19    68\n",
       "38     20    32\n",
       "39     20    48\n",
       "40     20    52\n",
       "41     20    56\n",
       "42     20    64\n",
       "43     22    66\n",
       "44     23    54\n",
       "45     24    70\n",
       "46     24    92\n",
       "47     24    93\n",
       "48     24   120\n",
       "49     25    85"
      ]
     },
     "execution_count": 30,
     "metadata": {},
     "output_type": "execute_result"
    }
   ],
   "source": [
    "cars = pd.read_csv(\"https://infoart.ait231.tokushima-u.ac.jp/public/cars.csv\")\n",
    "cars"
   ]
  },
  {
   "attachments": {},
   "cell_type": "markdown",
   "id": "df93a8e3",
   "metadata": {},
   "source": [
    "Let's show the relationship between the speed of the car and the stopping distance in a scatter plot. Note that the `plt.show()` at the end of the following code is not necessary if you are using Jupyter notebook."
   ]
  },
  {
   "cell_type": "code",
   "execution_count": 31,
   "id": "4b782e6a",
   "metadata": {
    "name": "scatter"
   },
   "outputs": [
    {
     "data": {
      "text/plain": [
       "<Axes: xlabel='speed', ylabel='dist'>"
      ]
     },
     "execution_count": 31,
     "metadata": {},
     "output_type": "execute_result"
    },
    {
     "data": {
      "image/png": "[encoded data removed]",
      "text/plain": [
       "<Figure size 640x480 with 1 Axes>"
      ]
     },
     "metadata": {},
     "output_type": "display_data"
    }
   ],
   "source": [
    "sns.scatterplot(data=cars,x='speed',y='dist')\n",
    "# plt.show()"
   ]
  },
  {
   "attachments": {},
   "cell_type": "markdown",
   "id": "d0a878d7",
   "metadata": {},
   "source": [
    "Each point on the graph corresponds to a passenger car, with the x-axis representing the speed (in miles) just before the brakes were applied as hard as possible, and the y-axis representing the distance (in feet) required to come to a stop. It can be seen that the points representing the car are generally aligned from lower left to upper right. The relationship between the two sets of data is called correlation in data science."
   ]
  },
  {
   "attachments": {},
   "cell_type": "markdown",
   "id": "3b272319",
   "metadata": {},
   "source": [
    "### Correlation"
   ]
  },
  {
   "attachments": {},
   "cell_type": "markdown",
   "id": "56f6212a",
   "metadata": {},
   "source": [
    "With the scatter plots, some relationship between vehicle speed and stopping distance was confirmed. This is expressed as **correlation**. The correlation is generally expressed by the following equation."
   ]
  },
  {
   "attachments": {},
   "cell_type": "markdown",
   "id": "8dfa4a48",
   "metadata": {},
   "source": [
    "\n",
    "$$\n",
    "r_{xy} = \\frac{\\displaystyle \\frac{1}{n}\\sum_{i = 1}^n (x_i - \\overline{x})\n",
    "(y_i - \\overline{y})}{\\sqrt{\\displaystyle \\frac{1}{n}\\sum_{i = 1}^n \n",
    "(x_i - \\overline{x})^2}\\sqrt{\\displaystyle \\frac{1}{n}\\sum_{i = 1}^n \n",
    "(y_i - \\overline{y})^2}}\n",
    "$$"
   ]
  },
  {
   "attachments": {},
   "cell_type": "markdown",
   "id": "29d4144b",
   "metadata": {},
   "source": [
    "The $i$-th element $x_i$ of variable $x$ minus the mean value of $x$ ($\\overline{x}$) is the **deviation** of $x$. The numerator is the sum of $x$ and $y$ multiplied by the deviation of the $i$th element, respectively. This is called **covariance**covariance. If the signs (plus or minus) of the deviations of $x$ and $y$ are identical, the covariance is positive. Conversely, if the signs of the deviations are different, the covariance is negative. When the signs do not match, for example, the consumption of hot food (hot pot dishes) decreases when the temperature is higher.\n",
    "\n",
    "Since the magnitude of the covariance depends on the size of the data, the correlation coefficient is the value obtained by dividing the product of the standard deviations of the two variables. The correlation coefficient is a number between -1 and 1, regardless of the units of the original data. The closer the absolute value is to 1, the stronger the correlation between the two variables.\n",
    "\n",
    "When there is a correlation between two variables, it is possible to use one to predict the other. If the temperature is high, we can predict that sales of hot pot dishes will be low. A method that has developed from this is **regression analysis** and is used not only in research but also in various businesses. Regression analysis will be explained in the next lecture."
   ]
  },
  {
   "attachments": {},
   "cell_type": "markdown",
   "id": "d14e640f",
   "metadata": {},
   "source": [
    "### Correlation and Cause"
   ]
  },
  {
   "attachments": {},
   "cell_type": "markdown",
   "id": "fe8064db",
   "metadata": {},
   "source": [
    "Incidentally, even if a correlation is found between two variables, it does not necessarily mean that it is a cause. A **cause** is a situation where one is the cause of the other.\n",
    "\n",
    "For example, if you examine the blood pressure of an employee at a company, you will find that it correlates with his/her annual income. This can be explained by considering a third variable, age. While blood pressure generally increases with age, under the seniority rule, annual income also increases with age. In other words, blood pressure and annual income are correlated, but this is not the cause. Such a correlation is called a **pseudo correlation**.\n",
    "\n",
    "In order to establish (prove) a causal relationship, we need to conduct a randomized experiment, randomization experiment, or other planned research and analysis method (in the first lecture, we introduced that the 2018 Nobel Prize in Economics was awarded to results based on a randomized experiment)."
   ]
  },
  {
   "attachments": {},
   "cell_type": "markdown",
   "id": "00d356a7",
   "metadata": {},
   "source": [
    "### Anscombe's quartet"
   ]
  },
  {
   "attachments": {},
   "cell_type": "markdown",
   "id": "657dd9fb",
   "metadata": {},
   "source": [
    "As an example of the importance of data visualization, let us present the Anscombe data. This data was artificially created by statistician Frank Anscombe, and is a well-known example where the actual distributions are quite different, even though the basic statistics are the same.\n",
    "\n",
    "Anscombe's data is also included in the **seaborn** library, so let's load the data first."
   ]
  },
  {
   "cell_type": "code",
   "execution_count": 33,
   "id": "21aa47f1",
   "metadata": {},
   "outputs": [
    {
     "data": {
      "text/html": [
       "<div>\n",
       "<style scoped>\n",
       "    .dataframe tbody tr th:only-of-type {\n",
       "        vertical-align: middle;\n",
       "    }\n",
       "\n",
       "    .dataframe tbody tr th {\n",
       "        vertical-align: top;\n",
       "    }\n",
       "\n",
       "    .dataframe thead th {\n",
       "        text-align: right;\n",
       "    }\n",
       "</style>\n",
       "<table border=\"1\" class=\"dataframe\">\n",
       "  <thead>\n",
       "    <tr style=\"text-align: right;\">\n",
       "      <th></th>\n",
       "      <th>dataset</th>\n",
       "      <th>x</th>\n",
       "      <th>y</th>\n",
       "    </tr>\n",
       "  </thead>\n",
       "  <tbody>\n",
       "    <tr>\n",
       "      <th>0</th>\n",
       "      <td>I</td>\n",
       "      <td>10.0</td>\n",
       "      <td>8.04</td>\n",
       "    </tr>\n",
       "    <tr>\n",
       "      <th>1</th>\n",
       "      <td>I</td>\n",
       "      <td>8.0</td>\n",
       "      <td>6.95</td>\n",
       "    </tr>\n",
       "    <tr>\n",
       "      <th>2</th>\n",
       "      <td>I</td>\n",
       "      <td>13.0</td>\n",
       "      <td>7.58</td>\n",
       "    </tr>\n",
       "    <tr>\n",
       "      <th>3</th>\n",
       "      <td>I</td>\n",
       "      <td>9.0</td>\n",
       "      <td>8.81</td>\n",
       "    </tr>\n",
       "    <tr>\n",
       "      <th>4</th>\n",
       "      <td>I</td>\n",
       "      <td>11.0</td>\n",
       "      <td>8.33</td>\n",
       "    </tr>\n",
       "    <tr>\n",
       "      <th>5</th>\n",
       "      <td>I</td>\n",
       "      <td>14.0</td>\n",
       "      <td>9.96</td>\n",
       "    </tr>\n",
       "    <tr>\n",
       "      <th>6</th>\n",
       "      <td>I</td>\n",
       "      <td>6.0</td>\n",
       "      <td>7.24</td>\n",
       "    </tr>\n",
       "    <tr>\n",
       "      <th>7</th>\n",
       "      <td>I</td>\n",
       "      <td>4.0</td>\n",
       "      <td>4.26</td>\n",
       "    </tr>\n",
       "    <tr>\n",
       "      <th>8</th>\n",
       "      <td>I</td>\n",
       "      <td>12.0</td>\n",
       "      <td>10.84</td>\n",
       "    </tr>\n",
       "    <tr>\n",
       "      <th>9</th>\n",
       "      <td>I</td>\n",
       "      <td>7.0</td>\n",
       "      <td>4.82</td>\n",
       "    </tr>\n",
       "    <tr>\n",
       "      <th>10</th>\n",
       "      <td>I</td>\n",
       "      <td>5.0</td>\n",
       "      <td>5.68</td>\n",
       "    </tr>\n",
       "    <tr>\n",
       "      <th>11</th>\n",
       "      <td>II</td>\n",
       "      <td>10.0</td>\n",
       "      <td>9.14</td>\n",
       "    </tr>\n",
       "    <tr>\n",
       "      <th>12</th>\n",
       "      <td>II</td>\n",
       "      <td>8.0</td>\n",
       "      <td>8.14</td>\n",
       "    </tr>\n",
       "    <tr>\n",
       "      <th>13</th>\n",
       "      <td>II</td>\n",
       "      <td>13.0</td>\n",
       "      <td>8.74</td>\n",
       "    </tr>\n",
       "    <tr>\n",
       "      <th>14</th>\n",
       "      <td>II</td>\n",
       "      <td>9.0</td>\n",
       "      <td>8.77</td>\n",
       "    </tr>\n",
       "    <tr>\n",
       "      <th>15</th>\n",
       "      <td>II</td>\n",
       "      <td>11.0</td>\n",
       "      <td>9.26</td>\n",
       "    </tr>\n",
       "    <tr>\n",
       "      <th>16</th>\n",
       "      <td>II</td>\n",
       "      <td>14.0</td>\n",
       "      <td>8.10</td>\n",
       "    </tr>\n",
       "    <tr>\n",
       "      <th>17</th>\n",
       "      <td>II</td>\n",
       "      <td>6.0</td>\n",
       "      <td>6.13</td>\n",
       "    </tr>\n",
       "    <tr>\n",
       "      <th>18</th>\n",
       "      <td>II</td>\n",
       "      <td>4.0</td>\n",
       "      <td>3.10</td>\n",
       "    </tr>\n",
       "    <tr>\n",
       "      <th>19</th>\n",
       "      <td>II</td>\n",
       "      <td>12.0</td>\n",
       "      <td>9.13</td>\n",
       "    </tr>\n",
       "    <tr>\n",
       "      <th>20</th>\n",
       "      <td>II</td>\n",
       "      <td>7.0</td>\n",
       "      <td>7.26</td>\n",
       "    </tr>\n",
       "    <tr>\n",
       "      <th>21</th>\n",
       "      <td>II</td>\n",
       "      <td>5.0</td>\n",
       "      <td>4.74</td>\n",
       "    </tr>\n",
       "    <tr>\n",
       "      <th>22</th>\n",
       "      <td>III</td>\n",
       "      <td>10.0</td>\n",
       "      <td>7.46</td>\n",
       "    </tr>\n",
       "    <tr>\n",
       "      <th>23</th>\n",
       "      <td>III</td>\n",
       "      <td>8.0</td>\n",
       "      <td>6.77</td>\n",
       "    </tr>\n",
       "    <tr>\n",
       "      <th>24</th>\n",
       "      <td>III</td>\n",
       "      <td>13.0</td>\n",
       "      <td>12.74</td>\n",
       "    </tr>\n",
       "    <tr>\n",
       "      <th>25</th>\n",
       "      <td>III</td>\n",
       "      <td>9.0</td>\n",
       "      <td>7.11</td>\n",
       "    </tr>\n",
       "    <tr>\n",
       "      <th>26</th>\n",
       "      <td>III</td>\n",
       "      <td>11.0</td>\n",
       "      <td>7.81</td>\n",
       "    </tr>\n",
       "    <tr>\n",
       "      <th>27</th>\n",
       "      <td>III</td>\n",
       "      <td>14.0</td>\n",
       "      <td>8.84</td>\n",
       "    </tr>\n",
       "    <tr>\n",
       "      <th>28</th>\n",
       "      <td>III</td>\n",
       "      <td>6.0</td>\n",
       "      <td>6.08</td>\n",
       "    </tr>\n",
       "    <tr>\n",
       "      <th>29</th>\n",
       "      <td>III</td>\n",
       "      <td>4.0</td>\n",
       "      <td>5.39</td>\n",
       "    </tr>\n",
       "    <tr>\n",
       "      <th>30</th>\n",
       "      <td>III</td>\n",
       "      <td>12.0</td>\n",
       "      <td>8.15</td>\n",
       "    </tr>\n",
       "    <tr>\n",
       "      <th>31</th>\n",
       "      <td>III</td>\n",
       "      <td>7.0</td>\n",
       "      <td>6.42</td>\n",
       "    </tr>\n",
       "    <tr>\n",
       "      <th>32</th>\n",
       "      <td>III</td>\n",
       "      <td>5.0</td>\n",
       "      <td>5.73</td>\n",
       "    </tr>\n",
       "    <tr>\n",
       "      <th>33</th>\n",
       "      <td>IV</td>\n",
       "      <td>8.0</td>\n",
       "      <td>6.58</td>\n",
       "    </tr>\n",
       "    <tr>\n",
       "      <th>34</th>\n",
       "      <td>IV</td>\n",
       "      <td>8.0</td>\n",
       "      <td>5.76</td>\n",
       "    </tr>\n",
       "    <tr>\n",
       "      <th>35</th>\n",
       "      <td>IV</td>\n",
       "      <td>8.0</td>\n",
       "      <td>7.71</td>\n",
       "    </tr>\n",
       "    <tr>\n",
       "      <th>36</th>\n",
       "      <td>IV</td>\n",
       "      <td>8.0</td>\n",
       "      <td>8.84</td>\n",
       "    </tr>\n",
       "    <tr>\n",
       "      <th>37</th>\n",
       "      <td>IV</td>\n",
       "      <td>8.0</td>\n",
       "      <td>8.47</td>\n",
       "    </tr>\n",
       "    <tr>\n",
       "      <th>38</th>\n",
       "      <td>IV</td>\n",
       "      <td>8.0</td>\n",
       "      <td>7.04</td>\n",
       "    </tr>\n",
       "    <tr>\n",
       "      <th>39</th>\n",
       "      <td>IV</td>\n",
       "      <td>8.0</td>\n",
       "      <td>5.25</td>\n",
       "    </tr>\n",
       "    <tr>\n",
       "      <th>40</th>\n",
       "      <td>IV</td>\n",
       "      <td>19.0</td>\n",
       "      <td>12.50</td>\n",
       "    </tr>\n",
       "    <tr>\n",
       "      <th>41</th>\n",
       "      <td>IV</td>\n",
       "      <td>8.0</td>\n",
       "      <td>5.56</td>\n",
       "    </tr>\n",
       "    <tr>\n",
       "      <th>42</th>\n",
       "      <td>IV</td>\n",
       "      <td>8.0</td>\n",
       "      <td>7.91</td>\n",
       "    </tr>\n",
       "    <tr>\n",
       "      <th>43</th>\n",
       "      <td>IV</td>\n",
       "      <td>8.0</td>\n",
       "      <td>6.89</td>\n",
       "    </tr>\n",
       "  </tbody>\n",
       "</table>\n",
       "</div>"
      ],
      "text/plain": [
       "   dataset     x      y\n",
       "0        I  10.0   8.04\n",
       "1        I   8.0   6.95\n",
       "2        I  13.0   7.58\n",
       "3        I   9.0   8.81\n",
       "4        I  11.0   8.33\n",
       "5        I  14.0   9.96\n",
       "6        I   6.0   7.24\n",
       "7        I   4.0   4.26\n",
       "8        I  12.0  10.84\n",
       "9        I   7.0   4.82\n",
       "10       I   5.0   5.68\n",
       "11      II  10.0   9.14\n",
       "12      II   8.0   8.14\n",
       "13      II  13.0   8.74\n",
       "14      II   9.0   8.77\n",
       "15      II  11.0   9.26\n",
       "16      II  14.0   8.10\n",
       "17      II   6.0   6.13\n",
       "18      II   4.0   3.10\n",
       "19      II  12.0   9.13\n",
       "20      II   7.0   7.26\n",
       "21      II   5.0   4.74\n",
       "22     III  10.0   7.46\n",
       "23     III   8.0   6.77\n",
       "24     III  13.0  12.74\n",
       "25     III   9.0   7.11\n",
       "26     III  11.0   7.81\n",
       "27     III  14.0   8.84\n",
       "28     III   6.0   6.08\n",
       "29     III   4.0   5.39\n",
       "30     III  12.0   8.15\n",
       "31     III   7.0   6.42\n",
       "32     III   5.0   5.73\n",
       "33      IV   8.0   6.58\n",
       "34      IV   8.0   5.76\n",
       "35      IV   8.0   7.71\n",
       "36      IV   8.0   8.84\n",
       "37      IV   8.0   8.47\n",
       "38      IV   8.0   7.04\n",
       "39      IV   8.0   5.25\n",
       "40      IV  19.0  12.50\n",
       "41      IV   8.0   5.56\n",
       "42      IV   8.0   7.91\n",
       "43      IV   8.0   6.89"
      ]
     },
     "execution_count": 33,
     "metadata": {},
     "output_type": "execute_result"
    }
   ],
   "source": [
    "anscombe = sns.load_dataset('anscombe')\n",
    "anscombe"
   ]
  },
  {
   "attachments": {},
   "cell_type": "markdown",
   "id": "98b6169f",
   "metadata": {},
   "source": [
    "The `dataset` column has levels I, II, III, and IV. In other words, there are four different datasets. Each dataset has two variables, `x` and `y`. First, let's check the mean and variance of each `x` and `y` for each dataset."
   ]
  },
  {
   "cell_type": "code",
   "execution_count": 34,
   "id": "dbb5e0a7",
   "metadata": {},
   "outputs": [
    {
     "data": {
      "text/html": [
       "<div>\n",
       "<style scoped>\n",
       "    .dataframe tbody tr th:only-of-type {\n",
       "        vertical-align: middle;\n",
       "    }\n",
       "\n",
       "    .dataframe tbody tr th {\n",
       "        vertical-align: top;\n",
       "    }\n",
       "\n",
       "    .dataframe thead tr th {\n",
       "        text-align: left;\n",
       "    }\n",
       "\n",
       "    .dataframe thead tr:last-of-type th {\n",
       "        text-align: right;\n",
       "    }\n",
       "</style>\n",
       "<table border=\"1\" class=\"dataframe\">\n",
       "  <thead>\n",
       "    <tr>\n",
       "      <th></th>\n",
       "      <th colspan=\"2\" halign=\"left\">x</th>\n",
       "      <th colspan=\"2\" halign=\"left\">y</th>\n",
       "    </tr>\n",
       "    <tr>\n",
       "      <th></th>\n",
       "      <th>mean</th>\n",
       "      <th>var</th>\n",
       "      <th>mean</th>\n",
       "      <th>var</th>\n",
       "    </tr>\n",
       "    <tr>\n",
       "      <th>dataset</th>\n",
       "      <th></th>\n",
       "      <th></th>\n",
       "      <th></th>\n",
       "      <th></th>\n",
       "    </tr>\n",
       "  </thead>\n",
       "  <tbody>\n",
       "    <tr>\n",
       "      <th>I</th>\n",
       "      <td>9.0</td>\n",
       "      <td>11.0</td>\n",
       "      <td>7.500909</td>\n",
       "      <td>4.127269</td>\n",
       "    </tr>\n",
       "    <tr>\n",
       "      <th>II</th>\n",
       "      <td>9.0</td>\n",
       "      <td>11.0</td>\n",
       "      <td>7.500909</td>\n",
       "      <td>4.127629</td>\n",
       "    </tr>\n",
       "    <tr>\n",
       "      <th>III</th>\n",
       "      <td>9.0</td>\n",
       "      <td>11.0</td>\n",
       "      <td>7.500000</td>\n",
       "      <td>4.122620</td>\n",
       "    </tr>\n",
       "    <tr>\n",
       "      <th>IV</th>\n",
       "      <td>9.0</td>\n",
       "      <td>11.0</td>\n",
       "      <td>7.500909</td>\n",
       "      <td>4.123249</td>\n",
       "    </tr>\n",
       "  </tbody>\n",
       "</table>\n",
       "</div>"
      ],
      "text/plain": [
       "           x               y          \n",
       "        mean   var      mean       var\n",
       "dataset                               \n",
       "I        9.0  11.0  7.500909  4.127269\n",
       "II       9.0  11.0  7.500909  4.127629\n",
       "III      9.0  11.0  7.500000  4.122620\n",
       "IV       9.0  11.0  7.500909  4.123249"
      ]
     },
     "execution_count": 34,
     "metadata": {},
     "output_type": "execute_result"
    }
   ],
   "source": [
    "anscombe.groupby('dataset').agg(['mean','var'])"
   ]
  },
  {
   "attachments": {},
   "cell_type": "markdown",
   "id": "36dc7293",
   "metadata": {},
   "source": [
    "This code makes use of the somewhat advanced features of the **pandas** library. To explain in words, the data is first divided by column level with `groupby()`. In this data, there are four levels, I, II, III, and IV, so `anscombe` is divided into four groups. The mean and variance of each variable `x` and `y` in each group are calculated, and the function `agg()` can be used to calculate the mean and variance of two variables in each of the four groups at once.\n",
    "\n",
    "[External site: Qiita: How to use groupby in Pandas](https://qiita.com/propella/items/a9a32b878c77222630ae)"
   ]
  },
  {
   "attachments": {},
   "cell_type": "markdown",
   "id": "91bef5b7",
   "metadata": {},
   "source": [
    "From the output, we can see that the means and variances of the data sets are nearly identical. However, if we draw a scatter plot of each data set, we will notice that the distributions are quite different."
   ]
  },
  {
   "cell_type": "code",
   "execution_count": 35,
   "id": "d7299518",
   "metadata": {
    "name": "lmplot"
   },
   "outputs": [
    {
     "data": {
      "text/plain": [
       "<seaborn.axisgrid.FacetGrid at 0x21e3ee533a0>"
      ]
     },
     "execution_count": 35,
     "metadata": {},
     "output_type": "execute_result"
    },
    {
     "data": {
      "image/png": "[encoded data removed]",
      "text/plain": [
       "<Figure size 1000x1000 with 4 Axes>"
      ]
     },
     "metadata": {},
     "output_type": "display_data"
    }
   ],
   "source": [
    "sns.lmplot(x=\"x\", y=\"y\", data=anscombe, fit_reg=False, hue=\"dataset\", col=\"dataset\", col_wrap=2)"
   ]
  },
  {
   "attachments": {},
   "cell_type": "markdown",
   "id": "407253ec",
   "metadata": {},
   "source": [
    "The `lmplot()` also adds a regression line to the scatterplot. The regression line will be discussed in the lecture in week 7."
   ]
  },
  {
   "attachments": {},
   "cell_type": "markdown",
   "id": "c2e7876b",
   "metadata": {},
   "source": [
    "## Python and Graphs\n",
    "\n",
    "[Intro to pyplot](https://matplotlib.org/tutorials/introductory/pyplot.html)"
   ]
  },
  {
   "attachments": {},
   "cell_type": "markdown",
   "id": "c24a29cb",
   "metadata": {},
   "source": [
    "[An introduction to seaborn](https://seaborn.pydata.org/introduction.html)"
   ]
  },
  {
   "attachments": {},
   "cell_type": "markdown",
   "id": "ece18675",
   "metadata": {},
   "source": [
    "<iframe width=\"560\" height=\"315\" src=\"https://www.youtube.com/embed/4Rz8cpEw66E\" frameborder=\"0\" allow=\"accelerometer; autoplay; encrypted-media; gyroscope; picture-in-picture\" allowfullscreen></iframe>\n",
    "\n"
   ]
  },
  {
   "attachments": {},
   "cell_type": "markdown",
   "id": "69daf7c9",
   "metadata": {},
   "source": [
    "## About the quiz\n",
    "After reading this content, do not forget to take the **\"Week 5 Quiz (must be answered by all students)**. By taking the quiz, you will be considered to have attended the week 5 lecture."
   ]
  }
 ],
 "metadata": {
  "jupytext": {
   "cell_metadata_filter": "tags,eval,name,message,-all",
   "main_language": "python",
   "notebook_metadata_filter": "-all"
  },
  "kernelspec": {
   "display_name": "Python 3",
   "language": "python",
   "name": "python3"
  },
  "language_info": {
   "codemirror_mode": {
    "name": "ipython",
    "version": 3
   },
   "file_extension": ".py",
   "mimetype": "text/x-python",
   "name": "python",
   "nbconvert_exporter": "python",
   "pygments_lexer": "ipython3",
   "version": "3.10.9"
  }
 },
 "nbformat": 4,
 "nbformat_minor": 5
}
