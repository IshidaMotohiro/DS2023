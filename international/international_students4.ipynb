{
 "cells": [
  {
   "attachments": {},
   "cell_type": "markdown",
   "id": "fc5e25b1",
   "metadata": {},
   "source": [
    "# Week 4: Characteristic values and probability distributions of data"
   ]
  },
  {
   "attachments": {},
   "cell_type": "markdown",
   "id": "6cf2f656",
   "metadata": {},
   "source": [
    "Some mathematical formulas will appear in this lecture, but there is no need to memorize them."
   ]
  },
  {
   "attachments": {},
   "cell_type": "markdown",
   "id": "8f5e1f7a",
   "metadata": {},
   "source": [
    "## 4.1 Sample and random sampling"
   ]
  },
  {
   "attachments": {},
   "cell_type": "markdown",
   "id": "8bcd9cb7",
   "metadata": {},
   "source": [
    "Let's return to the number of meetings the managers of a company attend in a month.\n",
    "\n",
    "![](../images/meeting.png)\n",
    "\n",
    "Assuming we have defined \"managers\" (i.e., we know who the managers are in the company), the next thing we need is the number of meetings attended by managers in a month (assuming we know what \"meetings\" are here). However, if it is claimed that \"managers should attend more meetings than regular employees,\" then the number of meetings attended by regular employees must also be collected.\n",
    "\n",
    "To be strictly accurate, the data should include the number of meetings attended each month since they joined the company, not only by current employees, but also by all managers and employees who have worked for the company in the past. However, it may be the case that the data is only available for some, but not all, of the managers and regular employees who are currently with the company. In some cases, the only data that is available is the number of meetings attended in the last month."
   ]
  },
  {
   "attachments": {},
   "cell_type": "markdown",
   "id": "e925efc8",
   "metadata": {},
   "source": [
    "In many cases, only a small portion of the data is available, but not all the data needed. Here, we distinguish between a population (the total number of meetings attended by managers and regular employees) and a sample (a subset of the population)."
   ]
  },
  {
   "attachments": {},
   "cell_type": "markdown",
   "id": "e037b13c",
   "metadata": {},
   "source": [
    "In general, it is difficult to obtain population data. For example, if we need height data for 20-year-old males living in Japan, it would be impossible to measure the height of all 20-year-old males in reality. In addition, the number of applicable 20-year-old males varies from day to day. Some men celebrate their 20th birthday while others die at a young age. In other words, the number of 20-year-old males varies every day (every hour).\n",
    "\n",
    "<iframe width=\"560\" height=\"315\" src=\"https://www.youtube.com/embed/eIZD1BFfw8E\" frameborder=\"0\" allow=\"accelerometer; autoplay; encrypted-media; gyroscope; picture-in-picture\" allowfullscreen></iframe>"
   ]
  },
  {
   "attachments": {},
   "cell_type": "markdown",
   "id": "eac52476",
   "metadata": {},
   "source": [
    "If we argue that \"managers have more than 20 meetings a month,\" we are not only assuming all managers who have been in office from the past to the present (not only now, but also in the past) as the population. It can also be assumed that future (future) managers are also assumed. In fact, as I mentioned at the beginning of this lecture, \"The same is true in the business world. Some data show that a manager must attend 20 to 30 meetings a month or more\" seems to be an advice to those who are going to be managers.\n",
    "\n",
    "Also, when referring to \"the number of meetings in a month,\" it should be considered that the assertion is not referring to the number of meetings attended in a given month, but rather to the \"average number of meetings held each month. The number of meetings held each month will likely vary from season to season. In this sense, it would be desirable to have data on the number of meetings held each month for some longer period of time, but that would not be realistic."
   ]
  },
  {
   "attachments": {},
   "cell_type": "markdown",
   "id": "677c9fa3",
   "metadata": {},
   "source": [
    "Thus, in most cases, the data available or at hand in reality is only a sample. However, even a sample, if it meets some conditions, can provide reliable judgments about population information (in the current example, \"the number of meetings that managers attend each month\")."
   ]
  },
  {
   "attachments": {},
   "cell_type": "markdown",
   "id": "dc0c975b",
   "metadata": {},
   "source": [
    "That is, when the sample data are randomly selected. Random sampling means that all subjects are selected with the same probability. For example, tossing a coin with no bias to either side (coin toss) and recording the number of times the head comes out (head facing up) is considered to be a random sampling. For a single coin toss, the probability that the head will turn up is equal to the probability that the tail will turn up (1/2). However, it is often misunderstood that even if a coin is tossed 6 times, it is not likely that exactly 3 times each of heads and tails will turn up, as in \"tail, head, tail, head, tail, head\" which is very rare and unnatural, It is rather very unnatural (strange, odd). In fact, if you toss a coin six times, you will probably get five tails, as in \"tail, tail, head, tail, tail, tail\"\n",
    "\n",
    "If the number of trials of tossing a coin is small, the result will be biased toward either the tail or the head, but if the coin is tossed 1,000 times or 10,000 times, the probability of getting each tail will settle at 1/2 (this is the same as the probability of getting the other side of the coin). (This will be explained again in the 6th lecture.)\n",
    "\n",
    "<iframe width=\"560\" height=\"315\" src=\"https://www.youtube.com/embed/cXNDqOJD5b4\" frameborder=\"0\" allow=\"accelerometer; autoplay; encrypted-media; gyroscope; picture-in-picture\" allowfullscreen></iframe>"
   ]
  },
  {
   "attachments": {},
   "cell_type": "markdown",
   "id": "1ef89a51",
   "metadata": {},
   "source": [
    "In practice, random sampling is subject to bias if not repeated often enough. Nevertheless, compared to artificial (unnatural) bias (e.g., examining only employees of a company's human resources department or only men, when one wants to examine the number of meetings attended by managers of the entire company), it is possible to infer the nature of the population without bias.\n",
    "\n",
    "A larger number of randomly selected data can be considered a more accurate reflection of the population. Incidentally, the total number of elements constituting a sample is expressed as **sample size**. Another way of saying \"sample size\" is \"sample number,\" but it is best to avoid this term since it is somewhat ambiguous in interpretation as to whether it refers to the total number of elements constituting the sample or how many sets of samples there are."
   ]
  },
  {
   "attachments": {},
   "cell_type": "markdown",
   "id": "59b236ef",
   "metadata": {},
   "source": [
    "Now, the population is not always a homogeneous group. For example, if the subject is a human being, he/she may vary in age and sex. These are called **attributes**. If we want to examine the characteristics of each of these attributes, a simple random sampling is likely to result in a biased sample. For example, if one wants to examine the Japanese population as a whole, but 70% of the sample is male, or 80% of the sample is aged 65 or older, it is likely that the sample will be biased.\n",
    "\n",
    "Television and newspapers often report the results of public opinion polls (census) (by the way, it is best to consider television and newspaper polls unreliable). RDD stands for \"Random Digit Dialing,\" in which a computer is used to randomly generate telephone numbers and ask questions to anyone who happens to pick up the receiver's phone (in reality, the survey is just an audio recording). (In reality, the system simply plays a recording of the caller.) The randomness may seem unbiased, but if the phone number generated is a landline (kotei-denwa, or home phone), only those who are home at that time will pick up the receiver's phone. As a result, the respondents tended to be elderly people who were not working or full-time housewives/househusbands. Currently, cell phones (keitai denshi) are also being targeted, but this, too, is problematic. Unlike land lines, cell phone numbers do not have area codes (area code). Therefore, there is a fear that respondents to the survey using randomly generated cell phone numbers will be biased toward areas with large numbers of residents, such as Tokyo and Osaka."
   ]
  },
  {
   "attachments": {},
   "cell_type": "markdown",
   "id": "fd813edb",
   "metadata": {},
   "source": [
    "If one wants to study the characteristics of each attribute, stratified sampling is used to collect the sample. In the case of the number of meetings attended by employees, for example, the survey should not be biased toward the General Affairs Department or the Human Resources Department, but should be evenly distributed among employees from all departments. In addition, the number of men and women should be the same, or their ages should be the same. However, if the stratum is too detailed, it is possible that the number of people representing that stratum may be small (for example, there may not be many young women in management positions in Japanese companies).\n",
    "\n",
    "The method of selecting a sample from a population has been studied in detail in the field of social research methods. In data analysis, it is an important question whether the sample data selected to examine a particular issue correctly reflects the population.\n",
    "\n",
    "[External website: Wikipedia: Social Research Methods](https://ja.wikipedia.org/wiki/%E7%A4%BE%E4%BC%9A%E8%AA%BF%E6%9F%BB)"
   ]
  },
  {
   "attachments": {},
   "cell_type": "markdown",
   "id": "ab9c1e67",
   "metadata": {},
   "source": [
    "## 4.2　Summary statistics (1) Representative value"
   ]
  },
  {
   "attachments": {},
   "cell_type": "markdown",
   "id": "25012372",
   "metadata": {},
   "source": [
    "Data are often represented or summarized by a mean value. For this reason, the mean is sometimes referred to as the **summary statistics** of the data.\n",
    "\n",
    "Other summary statistics include **median**, **variance**, **standard deviation**, and **interquartile range**. First, we will examine the mean."
   ]
  },
  {
   "attachments": {},
   "cell_type": "markdown",
   "id": "b63d0fd9",
   "metadata": {},
   "source": [
    "## 4.3　Mean"
   ]
  },
  {
   "attachments": {},
   "cell_type": "markdown",
   "id": "29d3a58b",
   "metadata": {},
   "source": [
    "In general, the mean value is the sum of all observed values of a sample, divided by the sample size. It is also called arithmetic mean or simply mean."
   ]
  },
  {
   "attachments": {},
   "cell_type": "markdown",
   "id": "6ee6c09a",
   "metadata": {},
   "source": [
    "$$\n",
    "\\bar{x} = {\\frac {1}{n}}\\sum _{i=1}^{n}x_{i} = {\\frac {x_{1} + x_{2}+\\cdots + x_{n}}{n}}\n",
    "$$\n",
    "\n",
    "In statistics, $X$ denotes a **stochastic variable** (random variable, aleatory variable, stochastic variable). $x_i$ is a certain realization of the random variable $X$. The $\\bar{X}$ is called the X-bar. It is the mean value of $X$ and is often used as a symbol for the sample mean in statistics. In addition to the arithmetic mean, the geometric mean and the weighted mean are sometimes used.\n",
    "\n",
    "[External website: Wikipedia: geometric mean](https://ja.wikipedia.org/wiki/%E5%B9%BE%E4%BD%95%E5%B9%B3%E5%9D%87)\n",
    "\n",
    "A random variable is a variable that takes a certain value with a certain fixed probability. For example, a coin has a 1/2 chance of turning up heads, and a 1/2 chance of turning up tails as well. The probability that $X$ will result in a certain outcome is often denoted by $P(X)$, as in the following.\n",
    "\n",
    "$$\n",
    "P(X) =\n",
    "\\left\\{\n",
    "\\begin{array}{ll}\n",
    "\\frac{1}{2} & (X = \\text{表}) \\\\\n",
    "\\frac{1}{2} & (X = \\text{裏})\n",
    "\\end{array}\n",
    "\\right.\n",
    "$$"
   ]
  },
  {
   "attachments": {},
   "cell_type": "markdown",
   "id": "d62a40c4",
   "metadata": {},
   "source": [
    "For example, suppose we selected 11 managers from a company and asked them to report on the number of meetings they attended in the last month, yielding the following figures."
   ]
  },
  {
   "attachments": {},
   "cell_type": "markdown",
   "id": "62b5926e",
   "metadata": {},
   "source": [
    "<center>\n",
    "Number of meetings attended by 11 managers in the last month\n",
    "\n",
    "| A  | B  | C  | D  | E  | F  | G  | H  | I  | J  | K  |\n",
    "|----|:---|:---|:---|:---|:---|:---|:---|:---|:---|:---|\n",
    "| 23 | 16 | 23 | 20 | 18 | 19 | 19 | 15 | 20 | 22 | 23 |\n",
    "\n",
    "</center>"
   ]
  },
  {
   "attachments": {},
   "cell_type": "markdown",
   "id": "50634fc3",
   "metadata": {},
   "source": [
    "The mean is approximately 19.82. The number of meetings attended is an integer (**discrete value**), but the mean is calculated simply by summing the data and dividing by the number of data, resulting in a fraction (fractional number, in this example 0.82 after the decimal point)."
   ]
  },
  {
   "attachments": {},
   "cell_type": "markdown",
   "id": "ad990935",
   "metadata": {},
   "source": [
    "To find the mean in Python, create a list or an array of *numpy* or a series of **pandas** and apply `mean()`."
   ]
  },
  {
   "cell_type": "code",
   "execution_count": null,
   "id": "bb0020aa",
   "metadata": {},
   "outputs": [],
   "source": [
    "# Python\n",
    "import pandas as pd\n",
    "x = pd.Series([23, 16, 23, 20, 18, 19, 19, 15, 20, 22, 23])\n",
    "x.mean()"
   ]
  },
  {
   "attachments": {},
   "cell_type": "markdown",
   "id": "7bdf8e5b",
   "metadata": {},
   "source": [
    "On the other hand, there is another statistic that represents the center: the median. This is a method in which the value located at the center of the data in decreasing order is considered the representative value, or rather, the summary value.\n",
    "\n",
    "The following is an image from the \"Median\" section of the Japanese Wikipedia.\n",
    "\n",
    "![](../images/mode_median_mean.png)\n",
    "\n",
    "[External site: Wikipedia:Median](https://ja.wikipedia.org/wiki/%E4%B8%AD%E5%A4%AE%E5%80%A4)"
   ]
  },
  {
   "attachments": {},
   "cell_type": "markdown",
   "id": "aa762cc6",
   "metadata": {},
   "source": [
    "The median in the center of this figure indicates the median, but there are the same number of data on either side of the median (each side has 50% of the data). In contrast, the mean at the bottom of the figure is the center of gravity of the data. It corresponds to the position where the left and right sides are balanced."
   ]
  },
  {
   "attachments": {},
   "cell_type": "markdown",
   "id": "8a539df5",
   "metadata": {},
   "source": [
    "List the number of meetings attended by the 11 managers in decreasing order."
   ]
  },
  {
   "attachments": {},
   "cell_type": "markdown",
   "id": "5e655b85",
   "metadata": {},
   "source": [
    "<center>\n",
    "Number of meetings attended by 11 managers in the last month (sorted in ascending order)\n",
    "\n",
    "| H  | B  | E  | F  | G  | D  | I  | J  | A  | C  | K  |\n",
    "|----|:---|:---|:---|:---|:---|:---|:---|:---|:---|:---|\n",
    "| 15 | 16 | 18 | 19 | 19 | 20 | 20 | 22 | 23 | 23 | 23 |\n",
    "\n",
    "</center>"
   ]
  },
  {
   "attachments": {},
   "cell_type": "markdown",
   "id": "75bb8e5d",
   "metadata": {},
   "source": [
    "In this case, the number in the middle is 20. In other words, 20 is the median value. This is because there happen to be an odd number of data; in the case of an even number, an adjustment is made by taking the mean of the two median values, etc. In the case of 5 data (1,2,3,4,5), the median value is 3, but for 6 data (1,2,3,4,5,6) the median value is 3.5 ((3+4)÷2). (however, if the data have the same number of values of ties, a more complex calculation may be performed)."
   ]
  },
  {
   "cell_type": "code",
   "execution_count": null,
   "id": "b1b69ed4",
   "metadata": {},
   "outputs": [],
   "source": [
    "# Python\n",
    "x.median(x)"
   ]
  },
  {
   "attachments": {},
   "cell_type": "markdown",
   "id": "d6274403",
   "metadata": {},
   "source": [
    "An example of how the median is more desirable as a representative value of the data as opposed to the mean is in the case of annual salary. For example, suppose the annual salary of a manager is as follows (unit: 10,000 yen)."
   ]
  },
  {
   "attachments": {},
   "cell_type": "markdown",
   "id": "c0169aa6",
   "metadata": {},
   "source": [
    "<center>\n",
    "Annual income of 11 managers\n",
    "\n",
    "| CEO    | CIO   | COO  | CMO  | CFO  | CDO  | CxO  | CAO  | CJO  | CKO  | CJO  |\n",
    "|:-------|:------|:-----|:-----|:-----|:-----|:-----|:-----|:-----|:-----|:-----|\n",
    "| 125000 | 10000 | 2200 | 1800 | 1600 | 1400 | 1400 | 1400 | 1400 | 1300 | 1300 |\n",
    "</center>"
   ]
  },
  {
   "attachments": {},
   "cell_type": "markdown",
   "id": "fab0a7f6",
   "metadata": {},
   "source": [
    "While the mean would be approximately 13,527.27 million yen, the data shows that most of the managers have annual incomes only in the 10 million yen range.\n",
    "\n",
    "This is a result of the fact that only the first managerial position (presumably the CEO) has a very high annual salary. For annual income and savings (savings), in addition to the median, the mode, explained next, is also desirable as a representative value."
   ]
  },
  {
   "attachments": {},
   "cell_type": "markdown",
   "id": "343e612b",
   "metadata": {},
   "source": [
    "## 4.4　Median and Mode"
   ]
  },
  {
   "attachments": {},
   "cell_type": "markdown",
   "id": "354cddb2",
   "metadata": {},
   "source": [
    "In cases such as this, where there are extremely high values in some parts of the data, the median may intuitively be a better representative of the data than the mean. In this example, the median would be 14 million yen, the annual salary of the sixth managerial position.\n",
    "\n",
    "There is also a summary statistic called **mode**. This is a method of representing by the number with the highest number of observations."
   ]
  },
  {
   "attachments": {},
   "cell_type": "markdown",
   "id": "10d97e23",
   "metadata": {},
   "source": [
    "Since there are four managers with 14 million yen in the previous data, the mode is 14 million. However, the fact that the median and mode coincide here is only coincidental. The mode may be determined by the number of data in a certain interval. For example, let us assume that the annual salary of managers is divided into five intervals: less than 10 million, 10 million or more but less than 14 million, 14 million or more but less than 18 million, and 18 million or more. Then, if we count the number of data (number of managers) belonging to each interval, we get the following."
   ]
  },
  {
   "attachments": {},
   "cell_type": "markdown",
   "id": "12fbcaeb",
   "metadata": {},
   "source": [
    "<center>\n",
    "Annual income of 11 managers\n",
    "\n",
    "| 18 million or more | 14 million or more but less than 18 million | 10 million or more but less than 14 million | less than 10 million |\n",
    "|-----------|:--------------------|:--------------------|:---------|\n",
    "|          4 |                    5 |                    2 |          0 |\n",
    "</center>"
   ]
  },
  {
   "attachments": {},
   "cell_type": "markdown",
   "id": "0a23fd82",
   "metadata": {},
   "source": [
    "In this case, the interval between 14 million and 18 million has the largest number of respondents (5), so the mode is between 14 million and 18 million. An interval is also expressed as a class or a bin. Note that the mode can be arbitrary since the setting of the interval (class, bin) is left to the analyst."
   ]
  },
  {
   "attachments": {},
   "cell_type": "markdown",
   "id": "c9427351",
   "metadata": {},
   "source": [
    "Since the English words mean, median, and mode are used for these values, they are sometimes referred to as 3M. The  word \"average\" should be thought of as a synthesis of these terms, but it is generally used synonymously with \"mean\"."
   ]
  },
  {
   "attachments": {},
   "cell_type": "markdown",
   "id": "314f8073",
   "metadata": {},
   "source": [
    "## 4.5　Expected value"
   ]
  },
  {
   "attachments": {},
   "cell_type": "markdown",
   "id": "82a8a5db",
   "metadata": {},
   "source": [
    "The mean of the number of meetings for the 11 managers determined in the previous section was 19.82. However, there may be other managers in addition to the eleven that were included in this study. It is also possible that past or future managers should also be included. In other words, the mean value of 19.82 is only a sample mean. Incidentally, this is sometimes referred to as the **sample mean**.\n",
    "What we really want to know here is the mean of the number of meetings attended by the population (a hypothetical group of past and future managers). This is sometimes referred to as the **population mean**. In practice, however, the population mean is usually not known because the entire population cannot be examined.\n",
    "\n",
    "However, it is possible to estimate the population mean. This is the case when the mechanism (system) by which the data is obtained is known.\n",
    "\n",
    "For example, there is a toy called a dice with numbers from 1 to 6 engraved on it."
   ]
  },
  {
   "attachments": {},
   "cell_type": "markdown",
   "id": "0e1e741b",
   "metadata": {},
   "source": [
    "<iframe width=\"560\" height=\"315\" src=\"https://www.youtube.com/embed/-emW_1VrGn0\" frameborder=\"0\" allow=\"accelerometer; autoplay; encrypted-media; gyroscope; picture-in-picture\" allowfullscreen></iframe>\n",
    "\n",
    "A dice is a tool used in games and gambling to produce a numerical value, and is devised so that when it is swung and thrown and lands, the side facing up will have the same degree of numerical value from 1 to 6."
   ]
  },
  {
   "attachments": {},
   "cell_type": "markdown",
   "id": "7b1ed1c5",
   "metadata": {},
   "source": [
    "In other words, the probability of each of the six faces appearing is equal to 1/6. Of course, the probability is not exactly 1/6, and there may be slight errors, and if one suspects, bias may have been added during the manufacturing process, but for the purpose of this discussion, such errors are assumed to be negligible, and it is believed that there is no cheating.\n",
    "\n",
    "Suppose we want to roll this playground equipment 10 times and find the average value of the numbers on the side facing up. Let us now try to actually roll the dice 10 times in Python."
   ]
  },
  {
   "cell_type": "code",
   "execution_count": 1,
   "id": "73e0502e",
   "metadata": {},
   "outputs": [
    {
     "data": {
      "text/plain": [
       "array([6, 3, 5, 3, 2, 4, 3, 4, 2, 2])"
      ]
     },
     "execution_count": 1,
     "metadata": {},
     "output_type": "execute_result"
    }
   ],
   "source": [
    "# Python\n",
    "import numpy as np\n",
    "np.random.seed(123)\n",
    "s = np.random.randint(1,7, 10)\n",
    "s"
   ]
  },
  {
   "attachments": {},
   "cell_type": "markdown",
   "id": "2343095f",
   "metadata": {},
   "source": [
    "Data science often uses simulations to ascertain how data appear with a certain probability. For this reason, statistical programming languages such as Python and R (and their libraries) have tools for probabilistic simulations. For this reason, statistical programming languages such as Python and R (and their libraries) have tools for stochastic simulation, or tools for generating random numbers.\n",
    "\n",
    "In the example above, `np.random.randint()` specifies that an integer between 1 and 6 (confusingly, one before 7) is to be randomly picked 10 times. Here, the probability of getting 1, 2, 3, 4, 5, or 6 is the same as 1/6. Since this is essentially a random simulation, the result will be different each time it is run. However, in order to guarantee reproducibility, the same result can be obtained by setting a random number seed and then running the simulation. That is `np.random.seed(123)`. Here, the number 123 has no meaning.\n",
    "\n",
    "Let's find the mean value."
   ]
  },
  {
   "cell_type": "code",
   "execution_count": 2,
   "id": "8b983307",
   "metadata": {},
   "outputs": [
    {
     "data": {
      "text/plain": [
       "3.4"
      ]
     },
     "execution_count": 2,
     "metadata": {},
     "output_type": "execute_result"
    }
   ],
   "source": [
    "# Python\n",
    "s.mean()"
   ]
  },
  {
   "attachments": {},
   "cell_type": "markdown",
   "id": "2274260a",
   "metadata": {},
   "source": [
    "The mean value came out to 3.4, but again, rolling the dice 10 times again would yield a different result."
   ]
  },
  {
   "cell_type": "code",
   "execution_count": 3,
   "id": "bc7803b9",
   "metadata": {},
   "outputs": [
    {
     "data": {
      "text/plain": [
       "2.5"
      ]
     },
     "execution_count": 3,
     "metadata": {},
     "output_type": "execute_result"
    }
   ],
   "source": [
    "# Python\n",
    "s = np.random.randint(1,7, 10)\n",
    "s.mean() # The result is different every time because random numbers are generated and their average is obtained"
   ]
  },
  {
   "attachments": {},
   "cell_type": "markdown",
   "id": "12015d1a",
   "metadata": {},
   "source": [
    "The probability of each side of the dice appearing is 1/6, but even if one were to roll the dice six times, the numbers between 1 and 6 would never appear. In the example above, the number 3 never appears out of 10 rolls, but the number 1 appears 4 times, so it is natural to expect a slight bias in the number of occurrences in about 10 rolls. It is often misunderstood that the 1/6 probability of each face of the dice does not mean that each face (number) will always appear once in 6 rolls of the dice. Since the dice do not remember the previous rolls, the probability of each face appearing remains 1/6 no matter how many times the dice are rolled.\n",
    "\n",
    "However, in the dice example, there is information that each face (number) has a 1/6 probability of appearing. If this information is certain, we can find the theoretical mean value of the numbers that appear after 10 rolls. It is calculated as follows.\n",
    "\n",
    "First, we obtain the **expectation** of a single roll of the dice. This is the product of the number of each face and the probability of that face appearing (product), all added together. In the following equation, $E[X]$ is the symbol for the expected value of $X$. Also, $X$ is a variable or **probability variable** (random variable, aleatory variable, stochastic variable) in the sense that it is an integer between 1 and 6."
   ]
  },
  {
   "attachments": {},
   "cell_type": "markdown",
   "id": "d32c6d4d",
   "metadata": {},
   "source": [
    "$$\n",
    "\\begin{aligned}\n",
    "E[X] & = 1 \\times \\frac{1}{6} + 2 \\times \\frac{1}{6} + 3 \\times \\frac{1}{6} + 4 \\times \\frac{1}{6} + 5  \\times \\frac{1}{6} + 6  \\times \\frac{1}{6} \\\\\n",
    "     & = 3.5\n",
    "\\end{aligned} \n",
    "$$"
   ]
  },
  {
   "attachments": {},
   "cell_type": "markdown",
   "id": "8674055a",
   "metadata": {},
   "source": [
    "In other words, the expected value is the sum of the probability that each face will appear multiplied by a numerical value."
   ]
  },
  {
   "attachments": {},
   "cell_type": "markdown",
   "id": "05da9a5f",
   "metadata": {},
   "source": [
    "$$\n",
    "\\mu = \\sum_i^\\infty x_i P(x_i)\n",
    "$$"
   ]
  },
  {
   "attachments": {},
   "cell_type": "markdown",
   "id": "3a125c41",
   "metadata": {},
   "source": [
    "$\\mu$ Mu$ is the Greek letter equivalent to the initial m of mean. It is often used in statistics as a symbol for expected value.\n",
    "\n",
    "In the case of rolling the dice 10 times, we want to find the expected value on each attempt, and then the expected value again. In other words, $E[X]=3.5$ is multiplied by 10 and divided by 10, so the expected value is 3.5. In this way, the expected value of the face of the dice is uniquely determined. On the other hand, the sample mean obtained from a sample always varies from sample to sample.\n",
    "\n",
    "However, this is only true if there is confidence in the probability of each side of the dice. Incidentally, the fact that each side of the dice from 1 to 6 has a fixed probability (1/6 in this case) is called **distribution**."
   ]
  },
  {
   "attachments": {},
   "cell_type": "markdown",
   "id": "d08cb5b8",
   "metadata": {},
   "source": [
    "Returning again to the topic, what is the expected number of meetings that managers should attend each month? Actually, there is no way to find the expected value at this stage. We can simply calculate the sample mean. This is because, unlike the dice roll case, we do not know the mechanism for determining the number of meetings. In other words, without information on the probability that the number of meetings each month will be 10 or 20, we cannot determine the expected value. In other words, we need to know the distribution of the number of meetings.\n",
    "\n",
    "In fact, data handled in data science often do not have precise information about their distribution. In this case, the expected value cannot be obtained either. Therefore, we **assume** (hypothesize) a distribution on the data."
   ]
  },
  {
   "attachments": {},
   "cell_type": "markdown",
   "id": "4b830f2d",
   "metadata": {},
   "source": [
    "## 4.6　Poisson distribution"
   ]
  },
  {
   "attachments": {},
   "cell_type": "markdown",
   "id": "1f394988",
   "metadata": {},
   "source": [
    "Assume that we have no information about the distribution of the number of meetings, other than the number of meetings attended by the 11 managers now at hand. In other words, we do not know the distribution. However, we may be able to compare the frequency data to the Poisson distribution for the number of meetings, which we hope will not be very large, such as the number of meetings attended. **The Poisson distribution** is a probability distribution that is said to describe well phenomena that occur rarely in a certain period of time (or in a certain area). For example, the number of traffic accidents that occur at an intersection in a year, the number of customers visiting a lottery ticket place in an hour, the number of wild animals observed in a certain area of a forest, the number of e-mails The Poisson distribution can be used to express the number of visitors per hour in a certain area of the forest."
   ]
  },
  {
   "cell_type": "markdown",
   "id": "b17ddf6f",
   "metadata": {},
   "source": [
    "<iframe width=\"560\" height=\"315\" src=\"https://www.youtube.com/embed/jmqZG6roVqU\" frameborder=\"0\" allow=\"accelerometer; autoplay; encrypted-media; gyroscope; picture-in-picture\" allowfullscreen></iframe>\n"
   ]
  },
  {
   "attachments": {},
   "cell_type": "markdown",
   "id": "8ef94aae",
   "metadata": {},
   "source": [
    "Let us assume that the number of e-mails received per hour follows a Poisson distribution and that the mean (average number of e-mails received) is 2. By assuming the Poisson distribution, we can obtain the probability that the number of e-mails received per hour is 0, 1, and 2.\n",
    "\n",
    "Note that the following Python code uses the new **scipy** library; if you have installed Anaconda, **scipy** is already installed, but if not, run `pip3 install scipy` at the terminal (command prompt) to install it."
   ]
  },
  {
   "cell_type": "code",
   "execution_count": 5,
   "id": "1b4ae5c6",
   "metadata": {},
   "outputs": [
    {
     "data": {
      "text/plain": [
       "<matplotlib.legend.Legend at 0x287f5ca7810>"
      ]
     },
     "execution_count": 5,
     "metadata": {},
     "output_type": "execute_result"
    },
    {
     "data": {
      "image/png": "[encoded data removed]",
      "text/plain": [
       "<Figure size 640x480 with 1 Axes>"
      ]
     },
     "metadata": {},
     "output_type": "display_data"
    }
   ],
   "source": [
    "# Python\n",
    "from scipy.stats import poisson\n",
    "import matplotlib.pyplot as plt\n",
    "import numpy as np\n",
    "x =  np.arange(0, 10, 1)\n",
    "y = [poisson.pmf(i, 2) for i in x]\n",
    "plt.bar(x, y, align=\"center\", width=0.4, color=\"red\",\n",
    "                alpha=0.5, label=\"Poisson λ= %d\" % 10)\n",
    "plt.legend()\n",
    "## plt.show() # Non-Jupyter environments require this instruction"
   ]
  },
  {
   "attachments": {},
   "cell_type": "markdown",
   "id": "3e946bad",
   "metadata": {},
   "source": [
    "The figure above is viewed as follows. The horizontal axis (X-axis) represents the number of e-mails received, for example, 2 on the horizontal (X-axis) scale means that the number of e-mails received per hour is 2. And the vertical axis (vertical axis, Y-axis) represents the probability. In this example, the height of the bar at the 2 position is around 0.27. In other words, the probability that the number of e-mails received in one hour is 2 is 0.27. The 0 at the left end of the X-axis is the probability that the number of received messages is 0, which is about 0.14. Furthermore, the rightmost 8 on the X-axis is close to 0 (about 0.0009), which is the probability that the number of received e-mails is 8. In other words, the height of each bar corresponds to a probability, and all these probabilities add up to 1 (strictly speaking, in fact, the probability that the number of e-mails received in an hour exceeds 8 is not exactly 0, but we ignore it here).\n",
    "\n",
    "The code `poisson.pmf(x,mu)` outputs the probability that the number of emails received per hour is `x` in a Poisson distribution with mean `mu`. `Y` is the probability.\n",
    "\n",
    "pmf stands for **probability mass function**. It corresponds to the function $P()$ shown above."
   ]
  },
  {
   "attachments": {},
   "cell_type": "markdown",
   "id": "68e7bda3",
   "metadata": {},
   "source": [
    "$$\n",
    "\\mu = \\sum_i^\\infty x_i P(x_i)\n",
    "$$"
   ]
  },
  {
   "attachments": {},
   "cell_type": "markdown",
   "id": "baf7753b",
   "metadata": {},
   "source": [
    "The above code uses brackets (`[]`) to find the probability for each integer in the range 0 to 10, using Python's comprehension notation. In other words, if $X$ follows a Poisson distribution and the mean value is 2, the probability that the number of received e-mails is between 0 and 9 is calculated together.\n",
    "\n",
    "[External site: Qiita: Python Inclusion Notation](https://qiita.com/y__sama/items/a2c458de97c4aa5a98e7)\n",
    "\n",
    "In the dice discussed in the previous section, the probabilities of each side facing up were all 1/6, which is the same, but in the case of the number of e-mails received, the probabilities are different. However, the sum of the probabilities is 1 for both the dice and the number of e-mails received. This is called a **probability distribution**.\n",
    "\n",
    "The shape of a probability distribution is uniquely determined by its **parameters**. In the case of Poisson distribution, the parameter is the expected value. (The parameter of Poisson distribution is usually expressed by $\\lambda$ lambda as a convention. For example, a Poisson distribution with an expected value of 5 has the following graph."
   ]
  },
  {
   "cell_type": "code",
   "execution_count": 7,
   "id": "02c34bac",
   "metadata": {},
   "outputs": [
    {
     "data": {
      "text/plain": [
       "<matplotlib.legend.Legend at 0x287f8276390>"
      ]
     },
     "execution_count": 7,
     "metadata": {},
     "output_type": "execute_result"
    },
    {
     "data": {
      "image/png": "[encoded data removed]",
      "text/plain": [
       "<Figure size 640x480 with 1 Axes>"
      ]
     },
     "metadata": {},
     "output_type": "display_data"
    }
   ],
   "source": [
    "x =  np.arange(0, 15, 1)\n",
    "y = [poisson.pmf(i, 5) for i in x]\n",
    "fig = plt.figure()\n",
    "ax = fig.subplots()\n",
    "ax.bar(x, y, align=\"center\", width=0.4, color=\"red\",\n",
    "                alpha=0.5, label=\"Poisson λ= %d\" % 5)\n",
    "plt.legend()\n",
    "## plt.show()"
   ]
  },
  {
   "attachments": {},
   "cell_type": "markdown",
   "id": "de6bbb54",
   "metadata": {},
   "source": [
    "Conversely, if we fit a Poisson distribution to a distribution such as the number of meetings or the number of cats seen on the road, we must make assumptions about their expected values."
   ]
  },
  {
   "attachments": {},
   "cell_type": "markdown",
   "id": "77b55a76",
   "metadata": {},
   "source": [
    "Poisson distribution is expressed by the following equation, where $\\lambda$ in the equation corresponds to the expected value. When $k$ is the number of events, the probability of the occurrence of the event is obtained. The Poisson distribution represents a distribution of discrete values (positive integers), but its expected value is a positive real number. In other words, it is a number represented by a decimal point."
   ]
  },
  {
   "attachments": {},
   "cell_type": "markdown",
   "id": "182e3f2c",
   "metadata": {},
   "source": [
    "$$\n",
    "P(X=k)=\\frac{\\lambda^k \\mathrm{e}^{-\\lambda}}{k!}\n",
    "$$"
   ]
  },
  {
   "attachments": {},
   "cell_type": "markdown",
   "id": "9314a7b5",
   "metadata": {},
   "source": [
    "where $e$ is a constant called Napier's or Euler's number, about 2.72. Also, $k!$ is a factorial, For $3!$, it means $3 \\times 2 \\times 1$.\n",
    "Let's try to calculate it concretely. For example, if the parameter is 19.82, the probability of attending exactly 20 meetings in a month is calculated as follows"
   ]
  },
  {
   "cell_type": "markdown",
   "id": "329404c0",
   "metadata": {},
   "source": [
    "$$\n",
    "P(X=20)=\\frac{19.82^{20} \\mathrm{e}^{-19.82}}{20!}\n",
    "$$"
   ]
  },
  {
   "cell_type": "code",
   "execution_count": 8,
   "id": "1d65ccc0",
   "metadata": {},
   "outputs": [
    {
     "data": {
      "text/plain": [
       "0.08876295559753719"
      ]
     },
     "execution_count": 8,
     "metadata": {},
     "output_type": "execute_result"
    }
   ],
   "source": [
    "# Python\n",
    "import math\n",
    "(pow(19.82,20) * math.exp(-19.82)) / math.factorial(20)"
   ]
  },
  {
   "attachments": {},
   "cell_type": "markdown",
   "id": "5509d420",
   "metadata": {},
   "source": [
    "Python, however, has a function to find the probability of a Poisson distribution."
   ]
  },
  {
   "cell_type": "code",
   "execution_count": null,
   "id": "65476b46",
   "metadata": {},
   "outputs": [],
   "source": [
    "# Python\n",
    "from scipy.stats import poisson\n",
    "poisson.pmf(20,19.82)"
   ]
  },
  {
   "attachments": {},
   "cell_type": "markdown",
   "id": "f5e90647",
   "metadata": {},
   "source": [
    "Returning to the monthly number of meetings attended by managers, its distribution is unknown, but since it is the number of times the phenomenon occurs within a given unit (in this case, one month), let us assume that it is similar to a Poisson distribution.\n",
    "Furthermore, the parameters (expected value and population mean) of the Poisson distribution are unknown, but the sample mean simply calculated from the number of meetings attended collected this time was 19.82 and the median was 20. Let us check the distribution by applying 19.82 as the parameter."
   ]
  },
  {
   "cell_type": "code",
   "execution_count": 10,
   "id": "52a67f5b",
   "metadata": {},
   "outputs": [
    {
     "data": {
      "text/plain": [
       "<matplotlib.legend.Legend at 0x287f8339390>"
      ]
     },
     "execution_count": 10,
     "metadata": {},
     "output_type": "execute_result"
    },
    {
     "data": {
      "image/png": "[encoded data removed]",
      "text/plain": [
       "<Figure size 640x480 with 1 Axes>"
      ]
     },
     "metadata": {},
     "output_type": "display_data"
    }
   ],
   "source": [
    "# Python\n",
    "x =  np.arange(0, 50, 1)\n",
    "y = [poisson.pmf(i, 19.82) for i in x]\n",
    "fig = plt.figure()\n",
    "ax = fig.subplots()\n",
    "ax.bar(x, y, align=\"center\", width=0.4, color=\"red\",\n",
    "                alpha=0.5, label=\"Poisson λ= %f\" % 19.82)\n",
    "plt.legend()\n",
    "## plt.show()"
   ]
  },
  {
   "attachments": {},
   "cell_type": "markdown",
   "id": "c30a2ea8",
   "metadata": {},
   "source": [
    "The graph shows that the bar at position 20, the mean number of meetings, is the highest, with a probability of 0.09. It also shows that the probability of having more than 20 meetings (21, 22, 23, etc.) is also quite high. The probability of having more than 20 meetings is about 0.51, and the probability of having less than 20 meetings is about 0.49."
   ]
  },
  {
   "attachments": {},
   "cell_type": "markdown",
   "id": "f7c3bb1c",
   "metadata": {},
   "source": [
    "Let us find the probability that the number of meetings per month is less than 20 (i.e., 19 or less)."
   ]
  },
  {
   "cell_type": "code",
   "execution_count": null,
   "id": "87694da6",
   "metadata": {},
   "outputs": [],
   "source": [
    "# Python \n",
    "poisson.cdf(19, 19.82)"
   ]
  },
  {
   "attachments": {},
   "cell_type": "markdown",
   "id": "53d28e3e",
   "metadata": {},
   "source": [
    "`poisson.cdf()` is a function to find cumulative probability, generally called a distribution function. cdf stands for Cumulative Distribution Function."
   ]
  },
  {
   "attachments": {},
   "cell_type": "markdown",
   "id": "5a71243e",
   "metadata": {},
   "source": [
    "$$\n",
    "F(x) = p(X \\leq x) = \\sum_{X \\leq x} P(X)\n",
    "$$"
   ]
  },
  {
   "attachments": {},
   "cell_type": "markdown",
   "id": "61a5fdbe",
   "metadata": {},
   "source": [
    "That is, not only the specified number of meetings, but also the probabilities of all smaller numbers of meetings are summed (which translates to a cumulative \"product\" in Japanese, but not all values are multiplied).\n",
    "\n",
    "The graph also shows that if the number of meetings for managers follows a Poisson distribution, it is rare for the number of meetings in a month to be 10 or less. On the other hand, it is not uncommon for the number of meetings to exceed 20. Incidentally, the probability of the number of meetings being 10 or less is about 1%. In other words, there is almost no chance that a manager will have 10 or less meetings to attend each month."
   ]
  },
  {
   "cell_type": "code",
   "execution_count": null,
   "id": "afef7d8c",
   "metadata": {},
   "outputs": [],
   "source": [
    "# Python \n",
    "poisson.cdf(10, 19.82)"
   ]
  },
  {
   "attachments": {},
   "cell_type": "markdown",
   "id": "ad10e53c",
   "metadata": {},
   "source": [
    "In contrast, the number of times it is 20 or more is about 51%. If you want to find out using `poisson.cdf()`, you can do the following."
   ]
  },
  {
   "cell_type": "code",
   "execution_count": null,
   "id": "eb1de90d",
   "metadata": {},
   "outputs": [],
   "source": [
    "# Python \n",
    "1 - poisson.cdf(19, 19.82)"
   ]
  },
  {
   "attachments": {},
   "cell_type": "markdown",
   "id": "7b8ab70a",
   "metadata": {},
   "source": [
    "Since the overall probability is 1.0, the cumulative probability that the number of meetings is 19 or less can be subtracted from 1.0 to obtain the probability that the number of meetings is 20 or more."
   ]
  },
  {
   "attachments": {},
   "cell_type": "markdown",
   "id": "a6c257a2",
   "metadata": {},
   "source": [
    "Having assumed a distribution of the number of meetings attended by managers, let us now consider the number of meetings attended by general employees in a month, also applying a Poisson distribution. The number of meetings attended by the 11 general employees in the last month was as follows."
   ]
  },
  {
   "attachments": {},
   "cell_type": "markdown",
   "id": "a56ce094",
   "metadata": {},
   "source": [
    "<center>\n",
    "\n",
    "Number of meetings attended by 11 general employees in the last month (sorted in ascending order)\n",
    "| a | b | c | d | e | f | g | h | i | j  | k  |\n",
    "|---|:--|:--|:--|:--|:--|:--|:--|:--|:---|:---|\n",
    "| 2 | 3 | 3 | 3 | 4 | 4 | 4 | 4 | 5 | 5  | 6  |\n",
    "</center>"
   ]
  },
  {
   "attachments": {},
   "cell_type": "markdown",
   "id": "a93ddfb0",
   "metadata": {},
   "source": [
    "Since the sample mean is about 3.9, let us graph the distribution using this as a parameter of the Poisson distribution."
   ]
  },
  {
   "cell_type": "code",
   "execution_count": 14,
   "id": "023e4d55",
   "metadata": {},
   "outputs": [
    {
     "data": {
      "text/plain": [
       "<matplotlib.legend.Legend at 0x287f80201d0>"
      ]
     },
     "execution_count": 14,
     "metadata": {},
     "output_type": "execute_result"
    },
    {
     "data": {
      "image/png": "[encoded data removed]",
      "text/plain": [
       "<Figure size 640x480 with 1 Axes>"
      ]
     },
     "metadata": {},
     "output_type": "display_data"
    }
   ],
   "source": [
    "# Python\n",
    "x =  np.arange(0, 15, 1)\n",
    "y = [poisson.pmf(i, 3.9) for i in x]\n",
    "fig = plt.figure()\n",
    "ax = fig.subplots()\n",
    "ax.bar(x, y, align=\"center\", width=0.4, color=\"red\",\n",
    "                alpha=0.5, label=\"Poisson λ= %f\" % 3.9)\n",
    "plt.legend()\n",
    "## plt.show()"
   ]
  },
  {
   "attachments": {},
   "cell_type": "markdown",
   "id": "7bf98450",
   "metadata": {},
   "source": [
    "It seems unlikely that the number of meetings attended in a month by a general staff member would be 20 or more."
   ]
  },
  {
   "cell_type": "code",
   "execution_count": 16,
   "id": "bccf8816",
   "metadata": {},
   "outputs": [
    {
     "data": {
      "text/plain": [
       "6.7555191440860085e-09"
      ]
     },
     "execution_count": 16,
     "metadata": {},
     "output_type": "execute_result"
    }
   ],
   "source": [
    "# Python\n",
    "1 - poisson.cdf(19, 3.9)"
   ]
  },
  {
   "attachments": {},
   "cell_type": "markdown",
   "id": "b1551b7f",
   "metadata": {},
   "source": [
    "Incidentally, the notation `e-09` in the output indicates that the immediately preceding number is to be multiplied by $10^{-9}$ (exponential notation, exponential notation). In this case, it can be regarded as almost zero.\n",
    "\n",
    "[External site: Wikipedia: Exponential notation](https://ja.wikipedia.org/wiki/%E6%8C%87%E6%95%B0%E8%A1%A8%E8%A8%98)\n",
    "\n",
    "In summary, we found that the number of monthly meetings for general employees almost never exceeds 20, but that for managers, the number of monthly meetings is still 20 or more (51%).\n",
    "\n",
    "Let me quote again the statement I introduced at the beginning of this lesson:\n",
    "\n",
    "\"The same is true in the business world. Some data show that a manager must attend 20 to 30 meetings a month or more\""
   ]
  },
  {
   "attachments": {},
   "cell_type": "markdown",
   "id": "104bf8a0",
   "metadata": {},
   "source": [
    "If a Poisson distribution can be fitted to the data on the number of meetings attended, the probability of a manager attending more than 20 meetings in a given month exceeds 50%, but the probability of attending less than 20 meetings is also close to 50%, so this statement can be judged to overemphasize (exaggerate) the busyness of the managers.\n",
    "\n",
    "However, assuming a Poisson distribution for the data of general employees of the same company, the probability of the number of meetings exceeding 20 in a given month is almost zero, so if we understand that the statement was intended to emphasize that \"managers have more meetings to attend (than general employees),\" we can judge that it is generally appropriate (correct), In summary, it can be said that a judgment can be made on the basis of a certain judgment.\n",
    "\n",
    "In summary, in data science, whether a judgment is based on evidence is confirmed based on data, and one way to do this is to assume a probability distribution for the data."
   ]
  },
  {
   "attachments": {},
   "cell_type": "markdown",
   "id": "4dbf0cf9",
   "metadata": {},
   "source": [
    "[External site: Wikipedia: Poisson distribution](https://ja.wikipedia.org/wiki/%E3%83%9D%E3%82%A2%E3%82%BD%E3%83%B3%E5%88%86%E5%B8%83)"
   ]
  },
  {
   "attachments": {},
   "cell_type": "markdown",
   "id": "aeed1879",
   "metadata": {},
   "source": [
    "## 4.7　Normal distribution"
   ]
  },
  {
   "attachments": {},
   "cell_type": "markdown",
   "id": "37186590",
   "metadata": {},
   "source": [
    "Earlier, we assumed a Poisson distribution for the distribution of the number of meetings attended by managers, with a parameter of 19.82."
   ]
  },
  {
   "cell_type": "code",
   "execution_count": 51,
   "id": "060d2921",
   "metadata": {},
   "outputs": [
    {
     "data": {
      "text/plain": [
       "<matplotlib.legend.Legend at 0x287fcdbe850>"
      ]
     },
     "execution_count": 51,
     "metadata": {},
     "output_type": "execute_result"
    },
    {
     "data": {
      "image/png": "[encoded data removed]",
      "text/plain": [
       "<Figure size 640x480 with 1 Axes>"
      ]
     },
     "metadata": {},
     "output_type": "display_data"
    }
   ],
   "source": [
    "# Python\n",
    "x =  np.arange(0, 50, 1)\n",
    "y = [poisson.pmf(i, 19.82) for i in x]\n",
    "fig = plt.figure()\n",
    "ax = fig.subplots()\n",
    "ax.bar(x, y, align=\"center\", width=0.4, color=\"red\",\n",
    "                alpha=0.5, label=\"Poisson λ= %f\" % 19.82)\n",
    "plt.legend()\n",
    "## plt.show()"
   ]
  },
  {
   "attachments": {},
   "cell_type": "markdown",
   "id": "98d321de",
   "metadata": {},
   "source": [
    "In this figure, the left and right bars appear to be symmetrically aligned around 20, which is close to the mean value. In fact, the Poisson distribution becomes very similar to another distribution as the parameters increase. This is called approximation. In this case, the other distribution means the normal distribution.\n",
    "\n",
    "Let us draw the shape of a normal distribution with mean exactly 0. However, the normal distribution has two parameters. They are the mean (expected value) and the standard deviation. The standard deviation (standard deviation) refers to the scatter of the data, but the details will be explained later. For now, let us consider it as the unit of the width (X-axis) in the following graph."
   ]
  },
  {
   "cell_type": "code",
   "execution_count": 32,
   "id": "549bc8ab",
   "metadata": {},
   "outputs": [
    {
     "data": {
      "text/plain": [
       "[<matplotlib.lines.Line2D at 0x287faec3790>]"
      ]
     },
     "execution_count": 32,
     "metadata": {},
     "output_type": "execute_result"
    },
    {
     "data": {
      "image/png": "[encoded data removed]",
      "text/plain": [
       "<Figure size 640x480 with 1 Axes>"
      ]
     },
     "metadata": {},
     "output_type": "display_data"
    }
   ],
   "source": [
    "# Python\n",
    "import numpy as np\n",
    "from scipy.stats import norm\n",
    "# Create a list with 0.1 intervals from -4 to 4.\n",
    "X = np.arange(-4,4,0.1)\n",
    "# Specify mean 0 and standard deviation 1 for the probability density function of the normal distribution\n",
    "Y = norm.pdf(X,0,1)\n",
    "fig = plt.figure()\n",
    "ax = fig.subplots()\n",
    "ax.plot(X,Y,color='r')\n",
    "## plt.show()"
   ]
  },
  {
   "attachments": {},
   "cell_type": "markdown",
   "id": "b5e1d6bb",
   "metadata": {},
   "source": [
    "`norm.pdf()` is a function to obtain a probability density function (probability density function: PDF). This will be described later, but the `Y` output by the probability density function is not a probability but a density. In other words, the vertical axis of this graph is not probability. In the distribution of continuous quantities, probability is considered in terms of the area of the range on the x-axis."
   ]
  },
  {
   "attachments": {},
   "cell_type": "markdown",
   "id": "e013e7ed",
   "metadata": {},
   "source": [
    "$$\n",
    "\\int_{-\\infty}^{\\infty} f(x) d x = 1\n",
    "$$"
   ]
  },
  {
   "attachments": {},
   "cell_type": "markdown",
   "id": "f9251ef3",
   "metadata": {},
   "source": [
    "The probability density function is 1.0 when the values are accumulated, i.e., integrated. In the above graph, the area between the curve and the X axis is 1.0."
   ]
  },
  {
   "attachments": {},
   "cell_type": "markdown",
   "id": "e761114e",
   "metadata": {},
   "source": [
    "The normal distribution represents a distribution that is symmetrical left to right with the mean at its center. The horizontal axis represents the dispersion (deviance) of the data. In layman's terms, a normal distribution indicates that more data is gathered near the mean and less data is gathered outside the mean (larger or smaller than the mean). This may seem intuitively satisfying, but it is also a distribution that could be applied to a great deal of data in the world.\n",
    "\n",
    "For example, there are probably few people whose height is extremely taller or shorter than the average. The word \"extreme\" may seem ambiguous, but the normal distribution allows us to think of \"extreme\" in terms of numerical values. It is the range of two standard deviations from the mean.\n",
    "\n",
    "The following graph shows the distribution of deviation scores. Deviation score is a value obtained by applying a normal distribution to the scores (scores) of pre-tests such as university entrance examinations, and is adjusted to have a mean of 50 and a standard deviation of 10."
   ]
  },
  {
   "cell_type": "code",
   "execution_count": 61,
   "id": "18410bf9",
   "metadata": {},
   "outputs": [
    {
     "data": {
      "text/plain": [
       "Text(0, 0.5, 'Y')"
      ]
     },
     "execution_count": 61,
     "metadata": {},
     "output_type": "execute_result"
    },
    {
     "data": {
      "image/png": "[encoded data removed]",
      "text/plain": [
       "<Figure size 640x480 with 1 Axes>"
      ]
     },
     "metadata": {},
     "output_type": "display_data"
    }
   ],
   "source": [
    "# Python\n",
    "import numpy as np\n",
    "from scipy.stats import norm\n",
    "# Create a list containing 0.1 intervals from 0 to 100\n",
    "X = np.arange(0,100,0.1)\n",
    "# Specify mean 50 and standard deviation 10 for probability density function of normal distribution\n",
    "Y = norm.pdf(X,50,10)\n",
    "fig = plt.figure()\n",
    "ax = fig.subplots()\n",
    "ax.plot(X,Y,color='black')\n",
    "ax.fill_between(X, 0, Y, where=(X >= 30) & (X <= 70), alpha=0.5)\n",
    "# Set the x-axis range and labels\n",
    "ax.set_xticks([30, 50, 70])\n",
    "ax.set_xlabel('deviation score')\n",
    "# Set the y-axis range and label\n",
    "ax.set_ylim(0, 0.05)\n",
    "ax.set_ylabel('Y')\n",
    "## plt.show()"
   ]
  },
  {
   "attachments": {},
   "cell_type": "markdown",
   "id": "e7ed6b2f",
   "metadata": {},
   "source": [
    "In terms of deviation, 30 or less and 70 or more are considered extreme values. In other words, the range is obtained by dividing the mean value (50) by the standard deviation (10) times two. The reason for the two standard deviations is that in a normal distribution, there are only 2.5% of the data that are less than the mean minus two standard deviations or less than the mean plus two standard deviations, respectively.\n",
    "\n",
    "<iframe width=\"560\" height=\"315\" src=\"https://www.youtube.com/embed/Q6elVvsXz6U\" frameborder=\"0\" allow=\"accelerometer; autoplay; encrypted-media; gyroscope; picture-in-picture\" allowfullscreen></iframe>"
   ]
  },
  {
   "attachments": {},
   "cell_type": "markdown",
   "id": "a7b1f7cf",
   "metadata": {},
   "source": [
    "In other words, it is assumed that 95% of the examinees have a deviation score between 30 and 70, and only 2.5% of the examinees have a deviation score below 30 or above 70, respectively. This is based on the assumption that the distribution of scores of the mock examinations follows a normal distribution. In reality, if there are 1,000 students taking the exam, not exactly 950 of them will have a deviation score between 30 and 70, but it is useful for applications such as understanding the distribution of students' academic ability or predicting the number of students who will take the exam above a certain level of academic ability.\n",
    "\n",
    "In fact, in data science applications, the normal distribution is assumed for many data. This is because even when the actual data distribution does not strictly follow a normal distribution, there are often no practical problems with analytical methods that assume a normal distribution. Of course, it is always necessary to be aware that the normal distribution does not apply to all data. What we want to emphasize in this chapter is that in data science, making assumptions about the distribution of data allows us to think of data in probabilistic terms and sets the direction for subsequent analysis."
   ]
  },
  {
   "attachments": {},
   "cell_type": "markdown",
   "id": "1d02f403",
   "metadata": {},
   "source": [
    "Incidentally, when we try to fit a normal distribution to data, the data is a continuous variable.\n",
    "For example, height is generally expressed as 178 cm or 165 cm, but if it can be strictly measured, it would be 178.428620475... or 165.872454023.... If it were possible to measure so strictly, the probability that a person's height would be a certain value would be very small or incalculable. Therefore, in the case of continuous quantities, we do not consider the probability of a particular value, but rather the probability of falling within a certain range. For example, if the probability is that the height of a 20-year-old male residing in Japan is between 178 cm and 179 cm, then the probability is as follows (but it would be impossible to find it exactly)."
   ]
  },
  {
   "attachments": {},
   "cell_type": "markdown",
   "id": "b0ad2039",
   "metadata": {},
   "source": [
    "$$\n",
    "P(178 < x < 179) = \\int_{178}^{179} f(x) d x \n",
    "$$"
   ]
  },
  {
   "attachments": {},
   "cell_type": "markdown",
   "id": "51e5efc0",
   "metadata": {},
   "source": [
    "Here $f(x)$ is not a **function for probability**. $f(x)$ is a function that becomes a probability by integrating (it is a function defined in such a way that it becomes a probability).\n",
    "Metaphorically speaking (not exactly, but for clarity), it is like a percentage of the probability that a variable will appear.\n",
    "Thus, in the graph of the normal distribution shown earlier, the Y-axis is not a probability, but a probability density.\n",
    "\n",
    "$f(x)$ is called the **probability density function** (probability density function: PDF)."
   ]
  },
  {
   "attachments": {},
   "cell_type": "markdown",
   "id": "38545b83",
   "metadata": {},
   "source": [
    "[External website: Wikipedia: Probability density function](https://ja.wikipedia.org/wiki/%E7%A2%BA%E7%8E%87%E5%AF%86%E5%BA%A6%E9%96%A2%E6%95%B0)"
   ]
  },
  {
   "attachments": {},
   "cell_type": "markdown",
   "id": "236c1736",
   "metadata": {},
   "source": [
    "For a normal distribution, the probability density function is defined as follows (no need to remember)"
   ]
  },
  {
   "attachments": {},
   "cell_type": "markdown",
   "id": "0c6fb6f6",
   "metadata": {},
   "source": [
    "$$\n",
    "f(x) = \\frac{1}{ \\sqrt{2 \\pi} \\sigma} e^{- \\frac{(x - \\mu)^2}{2 \\sigma^2}  }\n",
    "$$"
   ]
  },
  {
   "cell_type": "markdown",
   "id": "c3673cbc",
   "metadata": {},
   "source": [
    "\n",
    "<iframe width=\"560\" height=\"315\" src=\"https://www.youtube.com/embed/iYiOVISWXS4\" frameborder=\"0\" allow=\"accelerometer; autoplay; encrypted-media; gyroscope; picture-in-picture\" allowfullscreen></iframe>"
   ]
  },
  {
   "attachments": {},
   "cell_type": "markdown",
   "id": "ba2fac3f",
   "metadata": {},
   "source": [
    "[External website: Wikipedia: Normal distribution](https://ja.wikipedia.org/wiki/%E6%AD%A3%E8%A6%8F%E5%88%86%E5%B8%83)"
   ]
  },
  {
   "attachments": {},
   "cell_type": "markdown",
   "id": "d7ec1204",
   "metadata": {},
   "source": [
    "## 4.8　Binomial distribution"
   ]
  },
  {
   "attachments": {},
   "cell_type": "markdown",
   "id": "49740b6b",
   "metadata": {},
   "source": [
    "Suppose that the coin toss is repeated $n$ times and the head appears $k$ times. The probability of success (e.g., the head appears) $k$ times out of $n$ times is calculated by the following equation."
   ]
  },
  {
   "attachments": {},
   "cell_type": "markdown",
   "id": "d0e77200",
   "metadata": {},
   "source": [
    "$$\n",
    "P(X = k) = \\binom{n}{k} p^k (1-p)^{n-k}\n",
    "$$"
   ]
  },
  {
   "attachments": {},
   "cell_type": "markdown",
   "id": "dd4b5be3",
   "metadata": {},
   "source": [
    "Incidentally, $\\binom{n}{k}$ is the number of combinations (combination, choose) that take k different pieces out of n. For example, to choose two from A, B, C, D, and E, there are 10 combinations {A,B}, {A,C}, {A,D}, {A,E}, {B,C}, {B,D}, {B,E}, {C,D}, {C,E}, and {D,E}, so $\\binom{5}{2} = 10$. Consider {A,B} and {B,A} to be the same pair. In Japan, it is also written ${}_5 C_2, {}_n C_k$.\n",
    "\n",
    "For example, the probability that a coin will turn up 3 times as the head after 10 tosses can be calculated as follows."
   ]
  },
  {
   "cell_type": "markdown",
   "id": "684c356f",
   "metadata": {},
   "source": [
    "$$\n",
    "P(X = 3) = \\binom{10}{3} 0.5^3 (1-0.5)^{10-3} = 0.117\n",
    "$$"
   ]
  },
  {
   "attachments": {},
   "cell_type": "markdown",
   "id": "0d79763b",
   "metadata": {},
   "source": [
    "In terms of probability distribution, a distribution in which the number of successful trials $X$ follows a trial with a probability of success of $p$ is called a binomial distribution."
   ]
  },
  {
   "attachments": {},
   "cell_type": "markdown",
   "id": "d05251e4",
   "metadata": {},
   "source": [
    "## 4.9　Summary Statistics (2) Dispersion"
   ]
  },
  {
   "attachments": {},
   "cell_type": "markdown",
   "id": "ccb2f995",
   "metadata": {},
   "source": [
    "In the previous section, we explained the importance of considering distributions when examining data. In doing so, we mentioned the standard deviation along with the mean. Let us now explain the standard deviation."
   ]
  },
  {
   "attachments": {},
   "cell_type": "markdown",
   "id": "b7656aef",
   "metadata": {},
   "source": [
    "### 4.9.1　Standard deviation and variance"
   ]
  },
  {
   "attachments": {},
   "cell_type": "markdown",
   "id": "258d499e",
   "metadata": {},
   "source": [
    "**Standard deviation** is a number that indicates how far an individual observed value in a given data set (e.g., the deviation value of a student named Mr. Kato for taking an exam, or the number of meetings attended by a manager named Mr. Sato) is from the mean value calculated from the entire data set."
   ]
  },
  {
   "attachments": {},
   "cell_type": "markdown",
   "id": "25a7c67b",
   "metadata": {},
   "source": [
    "If one wanted to express the scatter from the mean numerically, one might subtract the overall mean from each observed value. If there are 100 observed values, 100 differences from the mean value will also be obtained. If we want to summarize these 100 differences into a single number, we cannot simply add them up. ( Think about why this doesn't make sense)."
   ]
  },
  {
   "attachments": {},
   "cell_type": "markdown",
   "id": "4380aea5",
   "metadata": {},
   "source": [
    "Then, the differences are squared and their sum is obtained. In this case, the more observations there are, the larger the sum will be, so the sum is divided by the number of observations. This is called variance."
   ]
  },
  {
   "attachments": {},
   "cell_type": "markdown",
   "id": "3417fa08",
   "metadata": {},
   "source": [
    "$$\n",
    "s^2= \\frac{1}{n}\\sum\\limits_{i = 1}^n {\\left( {x_i - \\bar x} \\right)^2 }\n",
    "$$"
   ]
  },
  {
   "attachments": {},
   "cell_type": "markdown",
   "id": "f4154578",
   "metadata": {},
   "source": [
    "The $\\bar{x}$ x-bar is the sample mean. Also $n$ denotes the number of observations (or sample size). Actually, there is another formula for the variance. The variance divided by the number of observations minus 1 is specifically called **unbiased variance** (to be precise, multiply the sample variance formula by $\\frac{n}{n-1}$).\n",
    "Just as the mean is divided into sample mean and population mean, variance also has *sample* variance and *population* variance. In fact, it has been found that when variance is calculated using the mean obtained from sample data, its value underestimates (i.e., is smaller value than the population variance). The unbiased variance has been proven to have its expected value equal to the population variance.\n",
    "\n",
    "As one might immediately imagine, as the number of observations increases, there is little difference between the sample variance and the unbiased variance. However, most statistical software uses $n-1$ to calculate the variance."
   ]
  },
  {
   "attachments": {},
   "cell_type": "markdown",
   "id": "86aadbfd",
   "metadata": {},
   "source": [
    "$$\n",
    "u^2 = \\frac{1}{n-1}\\sum\\limits_{i = 1}^n {\\left( {x_i - \\bar x} \\right)^2 }\n",
    "$$"
   ]
  },
  {
   "attachments": {},
   "cell_type": "markdown",
   "id": "bc37a325",
   "metadata": {},
   "source": [
    "Because the variance involves a square calculation, its value is different from the units of the original data (for example, the length of a screw is 2*cm*, but squaring it yields 4*square centimeters*). Therefore, it is not intuitive in terms of checking the scatter from the mean. Therefore, **standard deviation**, which is the square root (root) of the variance, is often used (many literature uses $\\sigma^2$ to express the variance)."
   ]
  },
  {
   "attachments": {},
   "cell_type": "markdown",
   "id": "5d127a0e",
   "metadata": {},
   "source": [
    "Note that variance is not a statistical indicator that is assumed only for the normal distribution. The Poisson distribution can also be considered as a measure of variance (standard deviation). In fact, the variance of the Poisson distribution is equal to the mean. Poisson distribution expresses the number of occurrences in a certain unit (period or space), and it is assumed that the mean and variance are equal in any unit. In practice, however, the variance is often larger in a particular unit. This is expressed as overdispersion. When conducting an analysis assuming a Poisson distribution, attention should be paid to overdispersion."
   ]
  },
  {
   "attachments": {},
   "cell_type": "markdown",
   "id": "d108cfb0",
   "metadata": {},
   "source": [
    "Another measure of data dispersion is the quartile. This will be explained in the next lecture, as it is easier to understand if the data is represented graphically."
   ]
  },
  {
   "attachments": {},
   "cell_type": "markdown",
   "id": "b5ffd063",
   "metadata": {},
   "source": [
    "## 4.10　About the Quiz\n",
    "\n",
    "After reading this content, do not forget to take the **\"Week 4 Quiz (must be answered by all students)**. By taking the quiz, you will be considered to have attended the week 4 lecture.\n"
   ]
  }
 ],
 "metadata": {
  "jupytext": {
   "cell_metadata_filter": "message,tags,name,-all",
   "main_language": "R",
   "notebook_metadata_filter": "-all"
  },
  "kernelspec": {
   "display_name": "Python 3 (ipykernel)",
   "language": "python",
   "name": "python3"
  },
  "language_info": {
   "codemirror_mode": {
    "name": "ipython",
    "version": 3
   },
   "file_extension": ".py",
   "mimetype": "text/x-python",
   "name": "python",
   "nbconvert_exporter": "python",
   "pygments_lexer": "ipython3",
   "version": "3.11.0"
  }
 },
 "nbformat": 4,
 "nbformat_minor": 5
}
