{
 "cells": [
  {
   "attachments": {},
   "cell_type": "markdown",
   "id": "187a2ab3",
   "metadata": {},
   "source": [
    "# 第３週：データ分析ツールの導入\n"
   ]
  },
  {
   "attachments": {},
   "cell_type": "markdown",
   "id": "9b12afeb",
   "metadata": {},
   "source": [
    "## 3.1　分析ツールの必要性"
   ]
  },
  {
   "cell_type": "markdown",
   "id": "255d6ad5",
   "metadata": {},
   "source": [
    "\n",
    "簡単なデータの整理にはマイクロソフトの Excel に代表される表計算ソフトで十分に間に合うだろう。しかし、一般にデータサイエンスでは扱うデータのサイズは大きいので、マウスで操作をするのは手間である。また、Excel に備わっているデータ分析機能やグラフィックス作成機能は非常に貧弱である。\n",
    "\n",
    "そこで表計算ソフト以外のツールに慣れる必要がある。データサイエンスやAIが広く活用されている現在、データ解析ツールには多数の選択肢がある。まず、有償のソフトウェアとしては、SPSS や SAS, MATLAB が有名である。\n",
    "\n",
    "一方、無償で使えるツールとしては R や Python が世界的に普及している。オンラインで利用できるツールとしては Google Colaboratory や Mirosoft AzureML, Tableau などがある。これらのオンラインツールは、無償の場合、いくらかの制約があるが、パソコンにインストールする必要がないので、とりあえず試してみることも可能である。\n",
    "\n",
    "この授業では、データサイエンスの理論と手法について、より直感的に理解してもらうため、分析ツールを利用する。ツールを通して、実際にデータを操作してデータの要約やグラフィックス作成を行う。また、データについて仮説をたて、これを検証する手順についても、実際に行ってもらう。"
   ]
  },
  {
   "attachments": {},
   "cell_type": "markdown",
   "id": "b8e24822",
   "metadata": {},
   "source": [
    "## 3.2　RとPython"
   ]
  },
  {
   "attachments": {},
   "cell_type": "markdown",
   "id": "727aeeee",
   "metadata": {},
   "source": [
    "\n",
    "前節でも述べたように、サイズの大きなデータを扱うにはマウス操作はかえって不便である。では、どうするかというと、 **プログラミング言語** を使うのである。データサイエンス分野では、統計分析にフォーカスをおいたプログラミング言語があり、中でも R と Python は広く使われている。\n",
    "\n",
    "[R](https://www.r-project.org/) は統計分析とグラフィックス作成に特化したプログラミングツールである。最近では[RStudio](https://rstudio.com/) というIDE（プログラミングを使いやすくするための環境）と併用されることが多い。\n",
    "\n",
    "一方、Python は汎用的な用途に利用できるプログラミング言語であるが、ここ数年、データ分析に焦点をあてたライブラリ（あとから追加できる拡張機能）が充実してきている。特に、ディープラーニング（深層学習）では、Python を使うことで、気軽に大規模データの解析ができる環境が整っている。\n",
    "\n",
    "この講義では Python による演習を並行して行う。よって受講生には、以下どちらかの対応を求めている。\n",
    "1. 自身のパソコンに Python 環境を整える\n",
    "2. Google Colaboratory を利用する（Googleアカウントが必要）\n",
    "\n",
    "上記 1. と 2. のどちらを選ぶかは、講義クラスの担当教員の指示に従って欲しい。\n",
    "\n",
    "まず 1. の Python を自身のパソコンにインストールする方法を解説する。次に 2. の Google Colaboratory を使う方法を解説する。繰り返すが、 1. と 2. のどちらを選ぶかは、クラス担当の先生の指示に従ってください。以下では、どちらの場合にも対応できるよう、両方について説明を行います。くどいようですが、以下の両方を自分で試す必要はありません。"
   ]
  },
  {
   "attachments": {},
   "cell_type": "markdown",
   "id": "1c2ed605",
   "metadata": {},
   "source": [
    "なおGoogleColaboratoryを使う場合は、以下の説明は <a id='data38'>３．８「データ」</a>までスキップして構わない。"
   ]
  },
  {
   "attachments": {},
   "cell_type": "markdown",
   "id": "224f78fb",
   "metadata": {},
   "source": [
    "## 3.3　1. Python の導入"
   ]
  },
  {
   "attachments": {},
   "cell_type": "markdown",
   "id": "88b0c03c",
   "metadata": {},
   "source": [
    "Python の導入方法には複数の方法がある。また利用している OS （WindowsかMacか、あるいはLinuxか）によっても異なる。\n",
    "\n",
    "授業では、以下の環境がパソコンに導入されていることを前提とする。\n",
    "\n",
    "1. Python のバージョン3.6 か 3.7 がインストールされていること \n",
    "2. ライブラリとして numpy, statsmodels, statistics, pandas, scipy, scikitlearn, matplotlib, seaborn が追加で導入されていること\n",
    "3. 命令を書いたりグラフを表示させるためのツールとして jupyter が導入されていること（ただし、他のエディタになれているのであれば、jupyter は必要ない）\n",
    "\n",
    "上記、1,2,3 の環境がすでに整っている、あるいは独自に設定することができる場合は、以下の導入に関する説明はスキップして構わない。"
   ]
  },
  {
   "attachments": {},
   "cell_type": "markdown",
   "id": "8abd45b9",
   "metadata": {},
   "source": [
    "### 3.3.1　もっとも簡単な方法"
   ]
  },
  {
   "attachments": {},
   "cell_type": "markdown",
   "id": "0e043742",
   "metadata": {},
   "source": [
    "- [Anaconda](https://www.anaconda.com/) をインストールすることで、Python、データ分析追加ライブラリ、そしてjupyterの環境が整う。\n",
    "なお、以下はサイトのスクリーンショットであるが、皆さん形が実際にアクセスする際には、サイトのデザインが変更されている可能性があります。\n",
    "\n",
    "\n",
    "![](images/anaconda_install.jpg)\n",
    "![](images/anaconda_install2.jpg)\n",
    "\n",
    "Anacondaのトップページには Register （登録）というリンクがあるが、ユーザー登録の必要はない（もちろん、ユーザー登録をしても構わない）。\n",
    "\n",
    "Windowsの場合は、サイトの右上にある Download リンク（2020年4月現在）から、Python3.7 のWindows用インストーラー (Anaconda3-2020*-Windows-x86_64.exeなどという名前) をダウンロードし(Downloadボタンを押す)、ダブルクリックするだけである（Graphical installerは必要ない）。ただし、Windowsでは、途中、インストールタイプとして **All Users** を選ぶ方が良いだろう。\n",
    "\n",
    "![](images/anaconda_install3.jpg)\n",
    "\n",
    "インターネットを検索すると Just Me (recommended)を選ぶように指示されている例が多数ある（本家でもそのような記載がある）。ただし、日本語ユーザーの場合、ユーザー名（ログインアカウント表記）に日本語を使っていることが多い。この場合、Pythonの操作に置いて問題が生じる可能性がある。\n",
    "\n",
    "ただし、**All Users** を選んだ場合、以降、Anacondaのアプリを起動する際には、アイコンを右クリックし、「その他」から「管理者として起動」という手順を踏んだ方が良い。\n",
    "\n",
    "逆に Mac では「個人環境向けにインストール」を選んだ方が良いだろう。これは、MacのシステムにデフォルトでPython2が入っているため、競合を避けるためである。\n",
    "\n",
    "さらに、Windowsでは、「Add Anaconda to the system PATH environment variable」にはチェックを入れない方が良いかもしれない（入れても、問題ない場合が多いと思われるが、ケースバイケースである）。その下の、「Register Anaconda as the system Python」にチェックが入っていることを確認する。\n",
    "\n",
    "![](images/anaconda_install4.jpg)\n",
    "\n",
    "最後に PyCharm のインストールを勧められるが、特に必要ではない。PyCharm は IDE と呼ばれるプログラミングの支援ソフトである。\n",
    "\n",
    "なお、もう少し、細かく手順を知りたい場合は、Google で「Anaconda windows10 インストール」あるいは「Anaconda Mac インストール」で検索すればよいが、検索窓の下にある「ツール」から「期間指定」で「1年以内」を選ぶなどして、できるだけ新しい情報を探したほうが良いだろう。"
   ]
  },
  {
   "attachments": {},
   "cell_type": "markdown",
   "id": "166ff5aa",
   "metadata": {},
   "source": [
    "## 3.4　Jupyterの起動"
   ]
  },
  {
   "attachments": {},
   "cell_type": "markdown",
   "id": "b6c4d6af",
   "metadata": {},
   "source": [
    "Windowのファイルメニューで [Anaconda]->[jupyter notebook]を選択。**ただし、WindowsでAnacondaをインストールする際、All Usersを選んでいる人は、Jupyter というアイコンの上で右クリックし、以下のように管理者として起動する。**\n",
    "\n",
    "![](images/anaconda_install5.jpg)\n",
    "![](images/anaconda_install6.jpg)"
   ]
  },
  {
   "attachments": {},
   "cell_type": "markdown",
   "id": "ff61f464",
   "metadata": {},
   "source": [
    "ブラウザの指定を求められたら、FirefoxやChrome、あるいはEdgeなどを選ぶ。\n",
    "\n",
    "ちなみにコマンドプロンプト（あるいはターミナル）を起動する際も、以下のようにする。コマンドプロンプトは、Anacondaに追加のライブラリをインストールする場合などに使う。\n",
    "\n",
    "Anaconda Prompt というアイコンの上で右クリック、管理者で実行。Pythonでは、追加でライブラリをインストールすることがある。その場合、コマンドプロンプト（ターミナル）で次のようにする。\n",
    "\n",
    "![](images/anaconda_install7.jpg)\n",
    "\n",
    "pip install janome\n",
    "\n",
    "と入力して Enter を押す。\n",
    "\n",
    "ここでインストールしたのは、Janome という形態素解析器（日本語文章を単語に分割するソフト）である。\n",
    "\n",
    "Macでは「アプリケーション」フォルダに Anaconda-Navigator がインストールされているので、これを起動し、Jupyter を launch する。\n",
    "\n",
    "![](images/jupyter_mac1.png)\n",
    "\n",
    "Jupyterを終了する場合は、ブラウザのJupyterの側で右上の Quit を押す。あるいは起動と同時に出現するターミナル（コマンドプロンプト）という黒い画面上で Control キーを押しながらアルファベットのｃを押すことを二度繰り返す。\n",
    "\n",
    "ブラウザ画面の右メニュー [New] から [Python3]を選択。\n",
    "\n",
    "`import sys ` と入力し、改行してまた `sys.version` と入力する。ここで、ShiftキーをおしながらEnterを押すと、下に実行結果が表示されるはずである。\n",
    "\n",
    "![](images/Anaconda.png)\n",
    "\n",
    "Jupyterの使い方については、以下のサイトなどを参照してほしい。\n",
    "\n",
    "[外部サイト：図解！Jupyter Notebookを徹底解説！](https://ai-inter1.com/jupyter-notebook/)\n"
   ]
  },
  {
   "attachments": {},
   "cell_type": "markdown",
   "id": "a9bd737b",
   "metadata": {},
   "source": [
    "## 3.5　2. Google Colaboratory について"
   ]
  },
  {
   "cell_type": "markdown",
   "id": "18f3dd03",
   "metadata": {},
   "source": [
    "Google Colaboratory は Google アカウントとブラウザさえあれば、インストール不要で Python がすぐに使える環境です。詳細は以下を参照してください（右下の矢印キーで操作します）。\n",
    "\n",
    "[Google Colabとは](https://infoart.ait231.tokushima-u.ac.jp/DS/GoogleColab.html#/)"
   ]
  },
  {
   "attachments": {},
   "cell_type": "markdown",
   "id": "2294c48b",
   "metadata": {},
   "source": [
    "## 3.6　Pythonについて"
   ]
  },
  {
   "attachments": {},
   "cell_type": "markdown",
   "id": "8fa9a83b",
   "metadata": {},
   "source": [
    "プログラミング言語は、大きくコンパイル系統とスクリプト系統に分かれる。コンパイルとは、命令を書いたあと、これを機械語に変換することを意味する。機械語は、普通の人には全く解読できなくなるが（ごく一部に、読む人はいる）、コンピュータは機械語を理解し、命令を高速に実行できるようになる。命令を書いたファイル（ソースファイルなどという）を機械語に変えるには、コンパイラというソフトが必要になる。C言語やJavaは、人間が書いたソースファイルをコンパイラにかけて機械語に翻訳したファイルが、コンピュータでは実行される。\n",
    "\n",
    "一方、スクリプト系統では、命令を書いたファイルをそのままコンピュータで実行することができる。実行速度は機械語に劣るが、手軽に命令を試すことができる。また、命令を書いたファイルをスクリプトと呼ぶ。PythonやPerl, Ruby、R はスクリプト系統のプログラミング言語である。\n",
    "\n",
    "スクリプト言語は、コンパイル型の言語に比べて書きやすいと言われる。例えば、コンパイル型の言語で数値を扱う際、それが実数(real number, double, float)なのか、整数(integer)なのか、などの「型」を厳密に区別する。例えば、コンパイル系統のC言語では整数の2を整数として扱いたければ int x =2; 実数（浮動小数点型）であれば、double pi = 3.14159265359; や float pi = 3.14159265359f; のように代入を行う必要がある（代入については、以下の動画１で説明している）。\n",
    "\n",
    "一方、スクリプト系統の言語では代入のときに「型」をそれほど意識する必要はない。X=2 とした場合、整数なのか、実数なのかは文脈（その命令の前後関係）で判断されることが多い。\n",
    "\n",
    "以下の図ではC言語とPythonで `x` に 10 を代入し、3 で割った例を示す。\n",
    "\n",
    "![](images/int_c.png)\n",
    "\n",
    "C言語では変数の型が重要であり、ここでは int 型（整数）を指定している。このため 3 で割った結果も、整数のままである（小数点以下が表示されていない）。\n",
    "\n",
    "これに対して Python では `x` に整数が代入された場合でも、処理（割り算）の結果を実数として表示している。\n",
    "\n",
    "![](images/python_int.png)\n",
    "\n",
    "データサイエンスや人工知能の分野では、さまざまな言語が利用されている。データ分析では、データの処理や演算に負荷がかかるため、主にコンパイラ系統の言語が利用されてきたが、PythonやRでバックグランドにC言語などで高速化したライブラリ（モジュール）が積極的に導入されるようになり、スクリプト言語でも高速かつ効率的な処理が可能になっている。\n",
    "スクリプト言語であるPythonとRは、型の制約がゆるいなど、コードを書いて実行する一連の流れ（開発という）が簡素化されており、その意味で作業効率が非常に高い。また数値や統計処理に強いモジュールが豊富にあるだけでなく、WEBサイトなどの構築にも応用できる。また、オープンソースであり、OSが限定されず、無償で誰でも自由に使え、かつ商用目的での開発にも基本的には制約がない。このため、データサイエンス・AI分野でPythonとRの人気は非常に高く、世界中で広く使われている。"
   ]
  },
  {
   "attachments": {},
   "cell_type": "markdown",
   "id": "79d97b6c",
   "metadata": {},
   "source": [
    "一般にプログラミング言語を学ぶ場合、その文法や構文などについて学ぶ必要がある。Pythonについても、基本的な仕様を知っておくに越したことはない。しかしながら、データサイエンスという分野に限れば、Pythonの言語仕様を全体として理解していなくとも、データサイエンス用のライブラリの使い方を習得しておくほうが重要である。\n",
    "\n",
    "そこで、Pythonの言語仕様については、外部サイトで各自が自習しておくことを勧める。インターネット上では、Pythonについての学習サイトが、動画を含めて多数公開されている。以下、その一例を紹介する。ただし、このサイトで学ばなければならないという意味ではない。受講生は、各自で自分にあったコンテンツを見つけて学んでほしい。"
   ]
  },
  {
   "attachments": {},
   "cell_type": "markdown",
   "id": "7caf65bd",
   "metadata": {},
   "source": [
    "### 3.6.1　外部サイト"
   ]
  },
  {
   "attachments": {},
   "cell_type": "markdown",
   "id": "238209a7",
   "metadata": {},
   "source": [
    "[文法編（ざっくり入門編）](https://qiita.com/Fendo181/items/a934e4f94021115efb2e)\n",
    "\n",
    "[文法編（がっつり文法編）](https://docs.python.org/ja/3/tutorial/index.html)\n",
    "\n",
    "[実用編：シリーズになって選んで視聴できる【Python講座】第1回 開発環境構築【独り言】](https://www.youtube.com/watch?v=Wb3Ps-w-kko&list=PLzEbEpZ4njvOi0h8qf6faBR2qn3Co7SYr&index=1)"
   ]
  },
  {
   "attachments": {},
   "cell_type": "markdown",
   "id": "0a8f5d2f",
   "metadata": {},
   "source": [
    "## 3.7　jupyterの起動"
   ]
  },
  {
   "cell_type": "markdown",
   "id": "1031ae76",
   "metadata": {},
   "source": [
    "Anacondaを使ってPythonをインストールすると、jupyter というプログラミングツールが同時に導入されている。\n",
    "\n",
    "- Windows ファイルメニューで [Anaconda]->[jupyter notebook]を選択。ブラウザの指定を求められることがあるが、FirefoxやChrome、あるいはEdgeなどを選ぶ。\n",
    "\n",
    "- Mac 「アプリケーション」フォルダに Anaconda-Navigator がインストールされているので、これを起動し、画面からJupyterアイコンを探して launch する。"
   ]
  },
  {
   "attachments": {},
   "cell_type": "markdown",
   "id": "e85075a0",
   "metadata": {},
   "source": [
    "どちらの場合も、ブラウザが起動し、Jupyterの初期画面が表示される。\n",
    "\n",
    "[以下の操作は動画１でも説明している（cアカウント, 例：c012345678@tokushima-u.ac.jp, でマイクロソフトのサービスにログインすると視聴できます）](https://web.microsoftstream.com/video/aed15923-3da7-4f92-9ad1-eb2aece95bbd)\n",
    "\n",
    "<iframe width=\"640\" height=\"360\" src=\"https://web.microsoftstream.com/embed/video/aed15923-3da7-4f92-9ad1-eb2aece95bbd?autoplay=false&amp;showinfo=true\" allowfullscreen style=\"border:none;\"></iframe>\n",
    "\n",
    "ここで、右メニューの **[New]** から **[Pytnon3]** を選択すると、新しいタブに新しいJupyterノートブックが開く。この画面のグリーンで囲まれた領域を**セル**というが、ここに Python の命令を入力する。ちなみに、プログラミング言語で命令のことを**コード**という。\n",
    "\n",
    "ここで6つの数字からなるデータを入力してみよう（この数値には特に意味はない）。\n",
    "\n",
    "以下のコード（命令）のサンプルは以下で公開している。自分のGoogleアカウントのドライブに保存してから利用してほしい。\n",
    "左上の「ファイル」から「ドライブにコピーを保存」を選べば、DataScienceWeek3のコピー.ipynbというタブが新たに開く。こちらのタブのノートブックは、自身のドライブに保存されたコピーなので自由に使って問題ない。\n",
    "\n",
    "https://colab.research.google.com/drive/141Yl4OA3CIKq77n0ToiBlYe614nXXXDW?usp=sharing\n",
    "\n"
   ]
  },
  {
   "attachments": {},
   "cell_type": "markdown",
   "id": "da224f62",
   "metadata": {},
   "source": [
    "## 3.8　データ\n",
    "\n",
    "[](#data38)"
   ]
  },
  {
   "cell_type": "code",
   "execution_count": null,
   "id": "214745cc",
   "metadata": {},
   "outputs": [],
   "source": [
    "X = [11, 18, 14, 16, 15, 19]\n",
    "X"
   ]
  },
  {
   "cell_type": "markdown",
   "id": "0072a143",
   "metadata": {},
   "source": [
    "左辺にアルファベット大文字で `X` 、イコール記号を挟んで右辺に鉤括弧の中に数値をカンマで区切って入力する。 これによって、`X` は6つの数値を保存したデータということが表現される。 あるいは `X` に**代入**する (assign) などと表現する。\n",
    "\n",
    "また、Python では、複数の数値をまとめたデータを**リスト**という。 一般にプログラミング言語では、上の `X` を**オブジェクト**などとも表現する。その他、統計用のプログラミング言語では、ベクトルや配列、あるいはシリーズという言い方もする。\n",
    "\n",
    "では、このデータ `X` を操作してみよう。自分で数値のセットを代入したのだから、その要素の数は分かるわけだが、Pythonの命令（コード）を使って確認しよう。"
   ]
  },
  {
   "cell_type": "code",
   "execution_count": null,
   "id": "1094b333",
   "metadata": {},
   "outputs": [],
   "source": [
    "len(X)"
   ]
  },
  {
   "cell_type": "markdown",
   "id": "a10f658c",
   "metadata": {},
   "source": [
    "`len()` のように丸カッコがついたオブジェクトを**関数**(function)という。len は長さ length の略である。関数 `len()` は、オブジェクト `X` の**長さ**を求めていることになるが、プログラミング言語では要素数を「長さ」とも表現するのである。\n",
    "\n",
    "プログラミング言語では、関数名のあとに続く丸括弧内部に、データを指定する。この例では `X` を指定している。丸括弧に指定する対象を**引数**（ひきすう argument）ともいう。つまり、上の実行例は、関数 `len()` に引数として `X` を指定して実行した。\n",
    "\n",
    "さて、次に `X` に含まれている数値の平均値を求めてみよう。平均値は、数値をすべて合計して、その個数で割れば良い。\n",
    "\n",
    "そのために、まず `X` の要素の合計を計算する。これには、Pythonに備わっている関数 `sum()` を使う。"
   ]
  },
  {
   "cell_type": "code",
   "execution_count": null,
   "id": "24cf3738",
   "metadata": {},
   "outputs": [],
   "source": [
    "sum(X) "
   ]
  },
  {
   "attachments": {},
   "cell_type": "markdown",
   "id": "a111ac2f",
   "metadata": {},
   "source": [
    "平均値を求めるには、この合計を要素の数で割る。"
   ]
  },
  {
   "cell_type": "code",
   "execution_count": null,
   "id": "ca3af97d",
   "metadata": {},
   "outputs": [],
   "source": [
    "sum(X) / len(X)"
   ]
  },
  {
   "cell_type": "markdown",
   "id": "0d1396de",
   "metadata": {},
   "source": [
    "コンピュータでは、割り算はスラッシュで表現する。"
   ]
  },
  {
   "attachments": {},
   "cell_type": "markdown",
   "id": "4055398d",
   "metadata": {},
   "source": [
    "## 3.9　データサイエンスのためのライブラリ"
   ]
  },
  {
   "attachments": {},
   "cell_type": "markdown",
   "id": "0d6d8794",
   "metadata": {},
   "source": [
    "さて、Python がデータサイエンスで広く使われる理由に、統計用の関数が整備されていることがあげられる。\n",
    "例えば、いま平均値を求めるために、データの要素を合計し、個数で割るという命令を作成した。\n",
    "\n",
    "Pythonの統計用のライブラリを導入すると、平均値を求める式を自分でコードとして書く必要はなくなる。\n",
    "\n",
    "Pythonの統計用ライブラリとしては、**numpy** と **pandas** が有名である。**numpy** も **pandas** も、Pythonというプログラミング言語にオリジナルの機能ではなく、Pythonのユーザーらが独自に開発して公開している拡張機能である。\n",
    "\n",
    "よって、Pythonをインストールしたあと、ユーザーが自分で追加でインストールする必要がある。ただし、この授業では Python を Anaconda というソフトウェアを使ってインストールすることを推奨しているが、この場合、**numpy** も **pandas** も Python3 と同時にインストールされている。\n",
    "\n",
    "実際に使ってみよう。"
   ]
  },
  {
   "attachments": {},
   "cell_type": "markdown",
   "id": "5bed8ab7",
   "metadata": {},
   "source": [
    "### 3.9.1　numpy"
   ]
  },
  {
   "cell_type": "markdown",
   "id": "4bf78b7d",
   "metadata": {},
   "source": [
    "まず **numpy** パッケージを使って、オブジェクト `X` を改めて作り直して、平均値を求めてみる。\n",
    "\n",
    "[以下の操作は動画２でも説明している（cアカウント, 例：c012345678@tokushima-u.ac.jp, でマイクロソフトのサービスにログインすると視聴できます）](https://web.microsoftstream.com/video/0cc9a827-cd67-409b-b1e7-6722d120a535)\n",
    "\n",
    "<iframe width=\"640\" height=\"360\" src=\"https://web.microsoftstream.com/embed/video/0cc9a827-cd67-409b-b1e7-6722d120a535?autoplay=false&amp;showinfo=true\" allowfullscreen style=\"border:none;\"></iframe>"
   ]
  },
  {
   "cell_type": "code",
   "execution_count": null,
   "id": "1c6d3aea",
   "metadata": {},
   "outputs": [],
   "source": [
    "import numpy as np\n",
    "X = np.array([11, 18, 14, 16, 15, 19])\n",
    "X"
   ]
  },
  {
   "attachments": {},
   "cell_type": "markdown",
   "id": "a5b300dc",
   "metadata": {},
   "source": [
    "追加の拡張機能を利用する場合、Pythonでは `import` という命令を使う。通常 **numpy** の機能を使うためには、コードを書くたびに `numpy.` という文字列を入力する必要がある。これに対して、コードの最初に `import numpy as np` と入力すると、以降、**numpy** というライブラリの機能を使うためには `np.` という文字を先頭につければ済むことになり、わずかではあるが入力の手間がへる。\n",
    "\n",
    "この例では `np.array()` という関数で `X` という**配列**arrayを作成している。すると、`X` という配列の後ろに `.mean()` を加えることで `X` の平均値を求めることができる。"
   ]
  },
  {
   "cell_type": "code",
   "execution_count": null,
   "id": "1188c856",
   "metadata": {},
   "outputs": [],
   "source": [
    "X.mean()"
   ]
  },
  {
   "cell_type": "markdown",
   "id": "2e568b9a",
   "metadata": {},
   "source": [
    "ちなみに mean というのが英語で平均値のことである。平均値はデータを代表する値である。ただしデータを代表する数値は平均値だけではない。他に中央値 median 、最頻値 mode がある。詳細は第４回の講義で説明するが、英語の average は、これらの3つの代表値（それぞれmで始まる単語なので 3M などともいう）のいずれかにあたる。"
   ]
  },
  {
   "attachments": {},
   "cell_type": "markdown",
   "id": "9035a90d",
   "metadata": {},
   "source": [
    "### 3.9.2　pandas"
   ]
  },
  {
   "cell_type": "markdown",
   "id": "511d8e1b",
   "metadata": {},
   "source": [
    "**numpy** で実行したコードを **pandas** ライブラリを使って実行してみよう。\n",
    "\n",
    "[以下の操作は動画３でも説明している（cアカウント, 例：c012345678@tokushima-u.ac.jp, でマイクロソフトのサービスにログインすると視聴できます）](https://web.microsoftstream.com/video/0cc9a827-cd67-409b-b1e7-6722d120a535)"
   ]
  },
  {
   "cell_type": "markdown",
   "id": "d5568eac",
   "metadata": {},
   "source": [
    "<iframe width=\"640\" height=\"360\" src=\"https://web.microsoftstream.com/embed/video/ae789a0d-e713-4ff1-a20c-21124b188bc4?autoplay=false&amp;showinfo=true\" allowfullscreen style=\"border:none;\"></iframe>"
   ]
  },
  {
   "cell_type": "code",
   "execution_count": null,
   "id": "7b167db5",
   "metadata": {},
   "outputs": [],
   "source": [
    "import pandas as pd\n",
    "X = pd.Series([11, 18, 14, 16, 15, 19])\n",
    "X"
   ]
  },
  {
   "attachments": {},
   "cell_type": "markdown",
   "id": "99a381eb",
   "metadata": {},
   "source": [
    "**pandas** では、シリーズという名前でオブジェクト `X` を作成しているが、**numpy** と異なり、数値が縦に表示されていることに注目してほしい。\n",
    "\n",
    "（なお、Windowsでは黄色で警告メッセージが表示されるかもしれないが、ここでは無視して構わない）。\n",
    "\n",
    "平均値を求める方法は **numpy** と同じである。"
   ]
  },
  {
   "cell_type": "code",
   "execution_count": null,
   "id": "ffeaaac6",
   "metadata": {},
   "outputs": [],
   "source": [
    "X.mean()"
   ]
  },
  {
   "attachments": {},
   "cell_type": "markdown",
   "id": "09c1afd3",
   "metadata": {},
   "source": [
    "## 3.10　データフレーム"
   ]
  },
  {
   "cell_type": "markdown",
   "id": "3cb9fa7a",
   "metadata": {},
   "source": [
    "データサイエンスのプログラミングで非常に重要な概念にデータフレームがある。データフレームとは、Excelでいうシートに近いデータフォーマットであり、要するにデータを矩形、四角形にまとめたものである。"
   ]
  },
  {
   "attachments": {},
   "cell_type": "markdown",
   "id": "06883af9",
   "metadata": {},
   "source": [
    "例えば、以下のようにデータフレームを作成できる。"
   ]
  },
  {
   "cell_type": "code",
   "execution_count": null,
   "id": "5df3c4ec",
   "metadata": {},
   "outputs": [],
   "source": [
    "dat = pd.DataFrame({'X': [11, 18, 14, 16, 15, 19],\n",
    "                  'Y': ['A', 'A', 'B','B', 'C','C'],\n",
    "\t\t\t\t    'Z': [0.2, 0.8, 0.4, 0.6, 0.5, 0.9]})\n",
    "dat"
   ]
  },
  {
   "attachments": {},
   "cell_type": "markdown",
   "id": "c9acf57c",
   "metadata": {},
   "source": [
    "Excelのシートに似た形式のデータフォーマットになっている。これを**データフレーム**という。このデータフレームには変数が3列ある。データサイエンスにおいてデータを分析する場合、基本的にはデータをこのような形式に整える。左端の 0 から始める連番は、データの行番号である（Pythonでは index というが、データの一部というわけではない）。ほとんどのプログラミング言語では、行数や列数を表すのに 1 からではなく 0 から始まる。\n",
    "\n",
    "現実には、Excelファイルやデータベースから必要なデータ（ファイル）を読み込む処理を行うことでデータフレームを作成することになるだろう。\n",
    "\n",
    "平均値を求めてみよう。"
   ]
  },
  {
   "cell_type": "code",
   "execution_count": null,
   "id": "f3eb2337",
   "metadata": {},
   "outputs": [],
   "source": [
    "dat.mean()"
   ]
  },
  {
   "cell_type": "markdown",
   "id": "e4b3ae56",
   "metadata": {},
   "source": [
    "`mean()` を使うと `X` 列と `Z` 列の数値は平均が求められているが `Y` 列は無視されている。これは`Y`列の中身が文字であることから、平均値を求めるという処理に意味がないからである。\n",
    "\n",
    "ただ、平均値を求める場合、あるグループごとに求めたいという場合がある。例えば男女別に身長の平均値を求める場合である。\n",
    "\n",
    "`dat` データで `Y` 列の水準（ここでは \"A\",\"B\",\"C\"）ごとにグループ化して平均値を求めてみよう。"
   ]
  },
  {
   "cell_type": "code",
   "execution_count": null,
   "id": "b809c192",
   "metadata": {},
   "outputs": [],
   "source": [
    "dat.groupby('Y').mean()"
   ]
  },
  {
   "cell_type": "markdown",
   "id": "603ef384",
   "metadata": {},
   "source": [
    "`groupby()` という関数で、データを `Y` 列の水準ごとにグループ化し、それぞれの平均値を別々に求めることができる。"
   ]
  },
  {
   "attachments": {},
   "cell_type": "markdown",
   "id": "127cb6eb",
   "metadata": {},
   "source": [
    "## 3.11　グラフの作成"
   ]
  },
  {
   "cell_type": "markdown",
   "id": "756b97e8",
   "metadata": {},
   "source": [
    "次に、データ操作とグラフ作成の例を紹介しよう。**seaborn** というパッケージには `titanic` というデータがある。これは、大西洋を航行中の1912年4月15日の早朝、氷山と衝突して沈没した豪華客船の乗客のデータであり、乗客の名前、性別、年齢、船室の等級などに加え、その乗客の生存に関する情報が含まれている。"
   ]
  },
  {
   "cell_type": "code",
   "execution_count": null,
   "id": "9483b162",
   "metadata": {},
   "outputs": [],
   "source": [
    "%matplotlib inline\n",
    "import matplotlib.pyplot as plt\n",
    "import seaborn as sns\n",
    "titanic = sns.load_dataset('titanic')"
   ]
  },
  {
   "cell_type": "markdown",
   "id": "afe2f94b",
   "metadata": {},
   "source": [
    "最初の３行は、Pythonのデータ分析で標準的なデータ作成ツールを利用することを宣言している。４行目が、**seaborn** というデータ作成ライブラリに含まれているタイタニック号のデータを呼び出すコードである。"
   ]
  },
  {
   "attachments": {},
   "cell_type": "markdown",
   "id": "92352e4e",
   "metadata": {},
   "source": [
    "データの概要を見てみよう。"
   ]
  },
  {
   "cell_type": "code",
   "execution_count": null,
   "id": "fcae9682",
   "metadata": {},
   "outputs": [],
   "source": [
    "titanic.info()"
   ]
  },
  {
   "cell_type": "markdown",
   "id": "c90178d8",
   "metadata": {},
   "source": [
    "ここに並んでいるのは、列名とその内容（数値変数なのかカテゴリ変数なのか）、そして入力された個数である。数値が統一されていないのは、列（変数）によっては欠損値(NA)が含まれているからである。"
   ]
  },
  {
   "attachments": {},
   "cell_type": "markdown",
   "id": "85746251",
   "metadata": {},
   "source": [
    "`titanic` データの行数と列数を確認しよう。"
   ]
  },
  {
   "cell_type": "code",
   "execution_count": null,
   "id": "c3a1fdf3",
   "metadata": {},
   "outputs": [],
   "source": [
    "titanic.shape"
   ]
  },
  {
   "cell_type": "markdown",
   "id": "6f86ae9c",
   "metadata": {},
   "source": [
    "ちなみに、`shape` は関数ではなく、属性(propertyあるいはattribute)と呼ばれる要素なので、丸括弧をつけない。\n",
    "\n",
    "実際のタイタニック号には、二千人を超える乗客がいたそうだが、このデータには800人程度のサブセットとなっている。\n",
    "さて、これらの乗客の生存者数を確認してみよう。"
   ]
  },
  {
   "cell_type": "code",
   "execution_count": null,
   "id": "73b36e90",
   "metadata": {},
   "outputs": [],
   "source": [
    "titanic['survived'].value_counts()"
   ]
  },
  {
   "attachments": {},
   "cell_type": "markdown",
   "id": "86f39ab9",
   "metadata": {},
   "source": [
    "データフレームの列名を特定するのに、オブジェクト名(`titanic`)の後ろにカギかっこをおいて、引用符(single quotation)で列名を指定する。その後ろに `value_counts()` という関数をつなげると、指定されたカテゴリ変数の水準(level)の個数が表示される。ここで 0 は死亡を、1は生存に対応する。\n",
    "\n",
    "年齢のヒストグラムを作成してみよう。"
   ]
  },
  {
   "cell_type": "code",
   "execution_count": null,
   "id": "9460f2bd",
   "metadata": {},
   "outputs": [],
   "source": [
    "titanic['age'].hist()"
   ]
  },
  {
   "attachments": {},
   "cell_type": "markdown",
   "id": "74125a93",
   "metadata": {},
   "source": [
    "ヒストグラムについては、講義の第5回で説明予定だが、要するに、年齢区分ごとに該当する乗客が何人いるかを棒グラフで表現したものである。\n",
    "\n",
    "今度は、性別ごとの人数を確認してみよう。"
   ]
  },
  {
   "cell_type": "code",
   "execution_count": null,
   "id": "2d0affe7",
   "metadata": {},
   "outputs": [],
   "source": [
    "sns.countplot('sex', data=titanic, palette='rainbow')"
   ]
  },
  {
   "attachments": {},
   "cell_type": "markdown",
   "id": "833e85bc",
   "metadata": {},
   "source": [
    "船室の等級別の人数を確認しよう。"
   ]
  },
  {
   "cell_type": "code",
   "execution_count": null,
   "id": "1a7e2dde",
   "metadata": {},
   "outputs": [],
   "source": [
    "sns.countplot('pclass', data=titanic, palette='rainbow')"
   ]
  },
  {
   "attachments": {},
   "cell_type": "markdown",
   "id": "02c81d7d",
   "metadata": {},
   "source": [
    "船室の等級と、年齢の関係を見てみよう。"
   ]
  },
  {
   "cell_type": "code",
   "execution_count": null,
   "id": "554e223f",
   "metadata": {},
   "outputs": [],
   "source": [
    "sns.factorplot(x='pclass',y='age', hue='sex', data=titanic, palette='pastel')\n",
    "plt.show()"
   ]
  },
  {
   "attachments": {},
   "cell_type": "markdown",
   "id": "27c35c60",
   "metadata": {},
   "source": [
    "生存者数と性別の関係を棒グラフで確認してみよう。"
   ]
  },
  {
   "cell_type": "code",
   "execution_count": null,
   "id": "ab36a9f8",
   "metadata": {},
   "outputs": [],
   "source": [
    "sns.countplot('survived', data=titanic, hue='sex', palette='rainbow')"
   ]
  },
  {
   "cell_type": "markdown",
   "id": "f697aedd",
   "metadata": {},
   "source": [
    "さて、船室の等級と性別、そして生存割合を確認してみよう。"
   ]
  },
  {
   "cell_type": "code",
   "execution_count": null,
   "id": "e80ee576",
   "metadata": {},
   "outputs": [],
   "source": [
    "titanic.pivot_table(index=\"pclass\", columns= \"sex\", values=\"survived\")"
   ]
  },
  {
   "attachments": {},
   "cell_type": "markdown",
   "id": "bf9a119b",
   "metadata": {},
   "source": [
    "`pivot_table()` は**分割表**（クロステーブルcontingency table)を作成する命令である。分割表とは、行と列それぞれに変数を対応させ、その人数（個数）をまとめた表である。"
   ]
  },
  {
   "attachments": {},
   "cell_type": "markdown",
   "id": "6c0df3d5",
   "metadata": {},
   "source": [
    "<center>\n",
    "\n",
    "|                  | 賛成  | 反対  |\n",
    "|------------------|-------|-------|\n",
    "| 年齢層 20 歳未満 | 10 人 | 1 人  |\n",
    "| 年齢層 30 歳まで | 15 人 | 3 人  |\n",
    "| 年齢層 40 歳まで | 25 人 | 35 人 |\n",
    "| 年齢層 50 歳以上 | 30 人 | 12 人 |\n",
    "|------------------|-------|-------|\n",
    "</center>"
   ]
  },
  {
   "attachments": {},
   "cell_type": "markdown",
   "id": "44a3129f",
   "metadata": {},
   "source": [
    "タイタニック号は、生存者が、性別、年齢、そして船室の等級でかなり異なることが知られているデータである。簡単に言うと、性別が女性でそして、年齢が若い、つまり子供の場合、その多くが生存している。逆に、男性で年齢が上の場合、その多くが死亡している。ここから、乗船客の成人男性が、自らの命と引き換えに、女性や子供を率先して助けたことが見て取れるデータである。\n",
    "\n",
    "タイタニック号データは、この講義の統計モデリングの週で、もう少し詳しく分析する予定である。\n",
    "\n",
    "最後に、Jupyterに入力したデータを保存しておこう。その前に、デフォルトのフォルダを確認しておこう。"
   ]
  },
  {
   "cell_type": "code",
   "execution_count": null,
   "id": "de3fadd0",
   "metadata": {},
   "outputs": [],
   "source": [
    "import os\n",
    "os.getcwd()"
   ]
  },
  {
   "cell_type": "markdown",
   "id": "bc813b18",
   "metadata": {},
   "source": [
    "表示されたフォルダにJupyterのノートは保存される。Jupyterノートブックの左ロゴの隣にある Untilted を DataScience などと変更したうえで、保存ボタンを押せば良い。なお、次回 Jupyter を起動すると、最初の画面のファイルとフォルダの一覧に、今回作成した Jupyter Notebook が DataScience.ipynb として表示されているはずである。これをクリックすれば、前回の続きから入力できるようになる。\n",
    "\n",
    "Jupyter画面の右上にある logout を押す。\n",
    "\n",
    "また、別のウィンドウ（ターミナルまたはコマンドプロンプト）上で、Control を押しながらアルファベットの C を2回続けて押すことで Jupyter が完全に終了する。"
   ]
  },
  {
   "attachments": {},
   "cell_type": "markdown",
   "id": "3ec07443",
   "metadata": {},
   "source": [
    "Jupyter Notebookの使い方は、例えば以下のサイトなどを参照されたい。\n",
    "\n",
    "[データ分析で欠かせない！Jupyter Notebookの使い方【初心者向け】](https://techacademy.jp/magazine/17430)"
   ]
  },
  {
   "attachments": {},
   "cell_type": "markdown",
   "id": "5f0cd1be",
   "metadata": {},
   "source": [
    "## 3.12　小テストについて"
   ]
  },
  {
   "attachments": {},
   "cell_type": "markdown",
   "id": "70e5930b",
   "metadata": {},
   "source": [
    "このコンテンツを読んだあと、**「第３週小テスト（全員かならず回答すること）」** を回答すること。回答したことで、第３週の講義に出席したものとする。\n",
    "\n",
    "なお、小テストではPythonの基礎についての設問が多数出題される。上で推奨したサイトなどを一通り勉強しておくこと。特に「型」「配列」「条件分岐」「ライブラリのインポートと使い方」については、参考サイトの文章を読むだけでは不十分である。実際に、Jupterを起動して（あるいはGoogle Colabにアクセスし）、自分で入力し、実行してみること。そのうえで、Jupyterを起動した状態で小テストにのぞむこと。"
   ]
  }
 ],
 "metadata": {
  "jupytext": {
   "cell_metadata_filter": "name,tags,-all",
   "main_language": "R",
   "notebook_metadata_filter": "-all"
  },
  "language_info": {
   "name": "python"
  }
 },
 "nbformat": 4,
 "nbformat_minor": 5
}
