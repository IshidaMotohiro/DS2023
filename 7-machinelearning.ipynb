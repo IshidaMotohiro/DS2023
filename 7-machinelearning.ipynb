{
 "cells": [
  {
   "attachments": {},
   "cell_type": "markdown",
   "id": "ce67a836",
   "metadata": {},
   "source": [
    "# 第７週：機械学習"
   ]
  },
  {
   "attachments": {},
   "cell_type": "markdown",
   "id": "39f3fc1a",
   "metadata": {},
   "source": [
    "<span style=\"color: red; \">Key Points of Today's Lecture</span>\n",
    "\n",
    "<iframe width=\"560\" height=\"315\" src=\"https://www.youtube.com/embed/EuBBz3bI-aA\" frameborder=\"0\" allow=\"accelerometer; autoplay; encrypted-media; gyroscope; picture-in-picture\" allowfullscreen></iframe>"
   ]
  },
  {
   "attachments": {},
   "cell_type": "markdown",
   "id": "38004726",
   "metadata": {},
   "source": [
    "なお、以下、留学生用に今回の講義内容を５分前後で説明している動画（Youtube）へのURLを随所に挿入している。\n",
    "\n",
    "英語が聞き取りやすく、説明もわかりやすいショート動画を選んだつもりなので、日本語ねーてぃぶの学生諸氏にもぜひ視聴してほしい。"
   ]
  },
  {
   "attachments": {},
   "cell_type": "markdown",
   "id": "d9a46e28",
   "metadata": {},
   "source": [
    "## 機械学習とは"
   ]
  },
  {
   "attachments": {},
   "cell_type": "markdown",
   "id": "1b0a1fa5",
   "metadata": {},
   "source": [
    "AI、人工知能という言葉が頻繁に（ひんぱん、たびたび）使われるようになっている。実は、一般にAIという場合、そこには先週学んだ統計的検定や、今日から学ぶ機械学習の技術も含まれていることがほとんどである。"
   ]
  },
  {
   "attachments": {},
   "cell_type": "markdown",
   "id": "94e42068",
   "metadata": {},
   "source": [
    "機械学習（きかいがくしゅう：machine learning）という言葉は聞きなれないかもしれないが、我々の日常生活においてはすでに多くの場面で使われている技術である。たとえば、メールのスパム対策、クレジットカードの不正利用の検知、画像認識、 Amazonなどの商品レコメンデーション、医療診断、株式取引、顧客セグメンテーションなどなど、応用事例は数え切れない。\n",
    "\n",
    "<span style=\"color: red; \">Key Points of Today's Lecture</span>\n",
    "\n",
    "<iframe width=\"560\" height=\"315\" src=\"https://www.youtube.com/embed/ukzFI9rgwfU\" frameborder=\"0\" allow=\"accelerometer; autoplay; encrypted-media; gyroscope; picture-in-picture\" allowfullscreen></iframe>\n",
    "\n",
    "（英語の聞き取りが苦手であれば画面右下で字幕をONにしよう）"
   ]
  },
  {
   "attachments": {},
   "cell_type": "markdown",
   "id": "ad1e4c77",
   "metadata": {},
   "source": [
    "人間が、経験（というデータ）から学んで知識（かくとく）を獲得していくように、機械学習は蓄積（ちくせき）されたデータから学んで知識を獲得する。ただし、機械なので、人間では処理しきれない大量のデータを一度にあつかうことができる。一方、人間は知覚を通してものごとの特徴を把握（はあく）するのが得意であるが、機械は人間の知覚ではとらえきれない特徴を見つけ出すことができる。他方で、人間が日常、簡単に行っていることが、機械にはまだ難しかったりする（たとえば、日本語でいう「空気を読む」ことは機械にはできないだろう・・・多分、まだ、しばらくは）。\n",
    "\n",
    "機械学習は数学的な理論と、それをコンピュータで実現するための技術、そして大量のデータが揃って実現している。この授業では、機械学習をコンピュータで実現するための技術を中心に、簡単な応用例を紹介する。"
   ]
  },
  {
   "attachments": {},
   "cell_type": "markdown",
   "id": "a975bca5",
   "metadata": {},
   "source": [
    "## データサイエンスの中核技術"
   ]
  },
  {
   "attachments": {},
   "cell_type": "markdown",
   "id": "9e798f04",
   "metadata": {},
   "source": [
    "統計的検定は、どちらかというと小規模な（標本サイズがふた桁程度の）データの分析のために開発されてきた。小規模データでは、意味のある差と、意味のない差をわけることが難しいが、伝統的な統計学では確率分布について仮定（前提）を立て、また厳密（げんみつ）な分析手順を定めることによって、データにもとづく意思決定を可能にしていた。\n",
    "\n",
    "一方、機械学習（きかいがくしゅう：machine learning）は比較的規模の大きなデータを対象とする。機械学習の目的は、データを**学習**（がくしゅう：learn）し、学習した結果（モデル）にもとづいて、新しく得られるデータから**予測**（よそく：predict）を行うことにある。機械学習は、データサイエンスの中核技術であり、応用範囲はきわめて広い。"
   ]
  },
  {
   "attachments": {},
   "cell_type": "markdown",
   "id": "bcb86cf2",
   "metadata": {},
   "source": [
    "## 学習"
   ]
  },
  {
   "attachments": {},
   "cell_type": "markdown",
   "id": "209f0d67",
   "metadata": {},
   "source": [
    "機械学習はデータから学習する技法であるが、どのように学習を行うかという観点（かんてん）から、大きく3つに分けられる。\n",
    "\n",
    "1. 教師あり学習\n",
    "2. 教師なし学習\n",
    "3. 強化学習"
   ]
  },
  {
   "attachments": {},
   "cell_type": "markdown",
   "id": "7005292b",
   "metadata": {},
   "source": [
    "### 教師あり学習"
   ]
  },
  {
   "attachments": {},
   "cell_type": "markdown",
   "id": "e8dcf245",
   "metadata": {},
   "source": [
    "たとえば、選挙（せんきょ：election）でどの政党（せいとう：party）に投票（とうひょう：vote）するかを、有権者（ゆうけんしゃ：voters）の属性（ぞくせい）から予測したいとしよう。ここで属性とは、年齢や性別、さらには学歴（がくれき）、年収、居住地などを表す。別の見方をすると、ある特定の政党に投票する人たちに共通の属性は何かを知ることでもある。似たような属性を持つ個人は、投票する政党（あるいは投票行動）も似てくるだろうと考えるのである。\n",
    "\n",
    "もしも10000人の有権者の投票行動（とうひょうこうどう）について、こうした属性が記録された**属性データA**があるとする。また、一方、データAに登録された有権者について、過去に投票した政党名が**投票データB**としてある。属性データAと投票データBの関係を学習するのが機械学習である。ここで、過去に投票した政党をラベルと呼ぶ。機械学習では、**ラベル**(label)と、さまざまな属性の関連性（かんれんせい）をデータから学習する。属性データAから、投票データBという正解を導き出す規則（ルール）を発見するのが、**教師あり学習**(supervised learning)である。\n",
    "\n",
    "このように学習した結果（学習モデルなどとよぶが、「モデル」については後述）ができると、新たに別の人々の**属性データC**が与えられたとき、データCに登録された有権者の属性情報から、彼らの投票政党（投票結果D）を予測できるようになる。つまり属性データＣの人々を、「自民党」「立憲民政党」「共産党」などに分けることに相当する。こうした課題を**分類**（ぶんるい：classification）と呼ぶ。\n",
    "\n",
    "一方、属性データAに登録された有権者について、その全員の年収についての情報が**年収データE**として得られたとする。この場合、属性データAと、年収データEの関係を学習することができる。学習がうまくいけば、別の人々の属性データCから彼らの年収を予測できる。たとえば、女性で数理系の大学院卒の場合、年収はどれくらいかを予想できる。この課題は、どのラベル（政党）に属するかではなく、どれくらいの数値（年収）になるかを予想する課題である。この課題を**回帰**（かいき：regression）という。\n",
    "\n",
    "つまり、教師あり学習では、ある入力（属性データA）とすでにある出力（投票データBや年収データE）の関係をデータから学習し、この学習結果にもとづいて、新しい入力（属性データC）から、未知の（手に入っていない）出力（ラベルあるいは数値）を予測することを試みるのである。"
   ]
  },
  {
   "attachments": {},
   "cell_type": "markdown",
   "id": "d04ec7fd",
   "metadata": {},
   "source": [
    "### 教師なし学習"
   ]
  },
  {
   "attachments": {},
   "cell_type": "markdown",
   "id": "a207dd68",
   "metadata": {},
   "source": [
    "上で説明した教師あり学習では、学習対象となるデータ（属性データA）について、同時に政党データBや年収データEが与えられていた。これに対して、**教師なし学習**(unsupervised learning)では、学習対象となるデータ（属性データA）以外には、なんのデータも与えられていない。\n",
    "\n",
    "しかし、属性データAから、趣味（しゅみ）や好みを共有していそうな人々をグループ分けしたい。あるいは、今後、数年以内にカップルとなりそうなグループ、さらには、カップルとして相性のよいペアを見つけたい。今後、数年以内に破産しそうな人々のグループを見つけたい、数年以内に肥満になりそうな人々のグループを見つけ出したい。年収がいまの2倍になりそうな人々のグループを見つけたい、などなどの課題が考えられるだろう。いずれも、与えられたデータには正解が含まれていない。この正解を、与えられたデータだけから導き出すルールを見つけるのが教師なし学習である。\n",
    "\n",
    "よく知られた例として、メールが迷惑（spam）かどうかを判定することがあげられる。メールそのものには（当然であるが）「このメールは迷惑です」とか「このメールは迷惑メールではありません」などというラベルが含まれているわけではない。教師なし学習では、受信メールの文章などの特徴から、迷惑か迷惑でないかを判断するために学習をおこなう。（もしも、迷惑メールとそうでないメールの過去データセットがはじめから与えられていて、そのデータから学習するのであれば、教師あり学習ということになる。ただし、迷惑メールはアンチウィルス対策ソフトによる検出を回避するため、文章表現を巧妙（こうみょう、うまく）に変えていくので、最初に一度学習したモデルを、いつまでもそのまま使っていては、メールが迷惑かどうかの判定は難しくなっていくだろう。）\n",
    "\n",
    "また、やや特殊な例となるが、ある製造ラインにおいて不定期に不良品の割合が高まることを予測するのも、教師なし学習である。この場合、製造機械（せいぞくきかい）や環境などからの属性（時間帯やモータの回転数、室温など）を入力とし、不良品の割合が増加する兆候（ちょうこう：signs）を予測することが期待される。これを異常検知（いじょうけんち：anomaly detection）という。"
   ]
  },
  {
   "attachments": {},
   "cell_type": "markdown",
   "id": "e1132294",
   "metadata": {},
   "source": [
    "### 強化学習"
   ]
  },
  {
   "attachments": {},
   "cell_type": "markdown",
   "id": "7e09bd8a",
   "metadata": {},
   "source": [
    "強化学習（きょうかがくしゅう：reinforcement）は、教師あり学習に近いが、ラベルそのものは与えられない。学習モデルは、ある状態（環境）において何らかの行動を取る（処理を行う）ことで、その行動（処理）に応じた報酬（ほうしゅう：reward）を獲得する。学習モデルは、その報酬を最大化することを自ら学んでいく。この過程で、予測精度を最大化する方法を獲得していくというのが、強化学習の基本的なアイデアである。\n",
    "\n",
    "強化学習は、囲碁（いご）の世界チャンピオン（人間）に勝利したGooleのAlphaGoで使われているほか、自動運転技術(self-driving)などにも応用されている。\n",
    "\n",
    "本書では、強化学習については説明しないが、興味のある読者は検索サイトで「AlphaGo」などをキーワードに調べてみるといいいだろう。"
   ]
  },
  {
   "attachments": {},
   "cell_type": "markdown",
   "id": "2345242b",
   "metadata": {},
   "source": [
    "### 回帰とクラスタリング"
   ]
  },
  {
   "attachments": {},
   "cell_type": "markdown",
   "id": "cb3b170f",
   "metadata": {},
   "source": [
    "今週は、数値ないしラベルを予測する手法の代表として、回帰分析（かいきぶんせき：regression analysis）とクラスター分析（cluster analysis）を紹介する。ただし、回帰分析もクラスター分析も、予測という観点からは、それほど精度は高くない。機械学習では、より予測精度の高い手法が多数考案されている。\n",
    "\n",
    "しかし、分析手法をより高度な手法に変えるだけでは、予測精度を上げるのには一般には不十分である。分析手法を適用する前に、入力となるデータの選別や調整などの前作業も非常に重要となる。こうした作業については、次週の統計モデリングで紹介する。まずは、データにモデルを当てはめるという考え方を学んでいく。"
   ]
  },
  {
   "attachments": {},
   "cell_type": "markdown",
   "id": "21bcc121",
   "metadata": {},
   "source": [
    "### ＊ここまでの要約ビデオ１（過去の講義の録画です）\n",
    "\n",
    "<font color=\"red\">石田講義録画</font>\n",
    "<iframe width=\"640\" height=\"360\" src=\"https://web.microsoftstream.com/embed/video/4089cb3d-f87c-494f-9bb9-d3ff5436b842?autoplay=false&showinfo=true\" allowfullscreen style=\"border:none;\"></iframe>"
   ]
  },
  {
   "attachments": {},
   "cell_type": "markdown",
   "id": "00a483bd",
   "metadata": {},
   "source": [
    "## モデル"
   ]
  },
  {
   "attachments": {},
   "cell_type": "markdown",
   "id": "61c2655a",
   "metadata": {},
   "source": [
    "教師あり機械学習では、一般にデータにモデルを当てはめて考える。\n",
    "モデルとは、予測や分類の対象となる変数($y$)がどのように生成されるのか、その仕組み（しくみ：mechanism）を表現したものである。\n",
    "\n",
    "たとえば $y = x_1 + x_2 + x_3$ は、予測ないし分類の対象である変数 $y$ の値（先に説明した例では政党データBや年収データE）が  $x_1,x_2,x_3$ \n",
    "という別の３つの変数（先の例では、属性データA）によって決まることを表している。ただし、場合によっては \n",
    " $x_1,x_2,x_3$ のうち、$y$ にもっとも影響するのが $x_1$ で、次に影響度が強いのが \n",
    " $x_3$ であり、$x_2$ の影響はそれほど強くないのかもしれない。\n",
    " この場合、 $y = 0.6 x_1 + 0.1 x_2 + 0.3 x_3$ のように、変数 $x_1,x_2,x_3$ のそれぞれに数値をかけて影響度を表す。\n",
    " この影響度を表す数値を係数（けいすう：coefficients）という。\n",
    " \n",
    "このように、 $y$ が生成される仕組みを $y = 0.6 x_1 + 0.3 x_2 + 0.1 x_3$ などで表現したものが**モデル**である。\n",
    "\n",
    "ただし、データサイエンスの分野で対象となるデータでは、変数 $y$ が実際にどのような仕組みで生成するかは分からないのが普通である。\n",
    "\n",
    "また$y$ に影響するであろう変数をすべて手に入れることもできないだろう。つまり、本当は$x_4,x_5,x_6$ （属性データAであれば、親の財産とか、交友関係とか）のような変数の影響も考慮されるべきであるのだが、それらの変数は測定されていないか、あるいは、そもそも我々は、そういった要因（よういん：factor）の存在に気がついていないのかもしれない。\n",
    "\n",
    "$y = 0.6 x_1 + 0.3 x_2 + 0.1 x_3$ と分析者が考えたモデルは、現実に$y$が決定される仕組みを正しくは反映していないのかもしれない。正しくないのかもしれないが、高い精度で$y$を予測ないし分類することができれば、*現実の課題を解決する*のに役立てることができる。\n",
    "\n",
    "そこで、モデル式に、$\\epsilon$ （イプシロン、とよむ）という**誤差**（ごさ：error）を加えて考える。\n",
    "\n",
    "$$\n",
    "y = a_1 x_1 + a_2 x_2 + a_3 x_3 + \\epsilon\n",
    "$$\n",
    "\n",
    "$y$ に影響する変数も他にもあるだろうし、かつ手に入っている $x_1,x_2,x_3$ さえ、そもそも正確に測定されているとは限らない。そのため$y$ との間に誤差が生じていると考えるのである。"
   ]
  },
  {
   "attachments": {},
   "cell_type": "markdown",
   "id": "86f1f244",
   "metadata": {},
   "source": [
    "機械学習では $y = a_1 x_1 + a_2 x_2 + a_3 x_3 + \\epsilon$ というモデルを立て、$y$ を予測するためにもっとも有効な係数（けいすう：coefficients） $a_1,a_2,a_3$ を推測する。ここで係数 $a_1,a_2,a_3$ を**パラメータ**と表現する。つまり、機械学習ではパラメータの推定が非常に重要になる。機械学習とは、単純にいうと、まず $x_1,x_2,x_3$ など $y$ に関係ありさそうな変数を選び、これらの影響度を表す $a_1,a_2,a_3$ を推測し、さらに、できるだけ誤差 $\\epsilon$ を小さくして $y$ を予測する手法（しゅほう）だといえる。\n",
    "\n",
    "機械学習のこうした発想を、もっともシンプルに体現（たいげん、表現）しているのが、次に紹介する**回帰分析**である。回帰モデルは数値の予測を行う手法であるが、応用として、分類（たとえばYesかNoか、いずれのラベルかを予測すること）もできる。\n"
   ]
  },
  {
   "attachments": {},
   "cell_type": "markdown",
   "id": "af0549c8",
   "metadata": {},
   "source": [
    "以下、今週は教師あり学習である回帰分析（回帰モデルともいう）について、やや詳細に説明し、最後に教師なし学習の代表例であるクラスター分析について簡単に紹介する。\n",
    "\n",
    "ただし、現実のデータにもとづいて予測を行う場合、通常の回帰分析やクラスター分析では十分な精度を得られないことが多い。\n",
    "このような場合、より性能の高い手法を利用することになるが、手法だけでなく、データ（変数）の選択や設定、さらにパラメータの調整なども、分析においては重要な作業となる。\n",
    "これらについては、次週の「統計モデリング」で解説する。\n"
   ]
  },
  {
   "attachments": {},
   "cell_type": "markdown",
   "id": "002e433b",
   "metadata": {},
   "source": [
    "## ＊ここまでの要約ビデオ２（過去の講義の録画です）\n",
    "\n",
    "<font color=\"red\">石田講義録画</font>\n",
    "<iframe width=\"640\" height=\"360\" src=\"https://web.microsoftstream.com/embed/video/9fa7eb0b-2a36-44ad-a8d2-d52c09aafc23?autoplay=false&showinfo=true\" allowfullscreen style=\"border:none;\"></iframe>"
   ]
  },
  {
   "attachments": {},
   "cell_type": "markdown",
   "id": "2aa668f8",
   "metadata": {},
   "source": [
    "## 回帰モデル"
   ]
  },
  {
   "attachments": {},
   "cell_type": "markdown",
   "id": "100d141c",
   "metadata": {},
   "source": [
    "<span style=\"color: red; \">Key Points of Today's Lecture</span>\n",
    "\n",
    "<iframe width=\"560\" height=\"315\" src=\"https://www.youtube.com/embed/PaFPbb66DxQ\" title=\"YouTube video player\" frameborder=\"0\" allow=\"accelerometer; autoplay; clipboard-write; encrypted-media; gyroscope; picture-in-picture; web-share\" allowfullscreen></iframe>"
   ]
  },
  {
   "attachments": {},
   "cell_type": "markdown",
   "id": "dbbac972",
   "metadata": {},
   "source": [
    "ある変数と別の変数に相関がある場合、一方から他方を予測するモデルを作成することができる。機械学習では、手もとのデータから、予測すべき変数と、それに影響を与えている変数の関係を学習し、この結果を使って新しいデータの予測を行うことが可能である。これを回帰モデルという。回帰モデルは、教師あり学習の代表的な手法である。"
   ]
  },
  {
   "attachments": {},
   "cell_type": "markdown",
   "id": "32bb7b0c",
   "metadata": {},
   "source": [
    "### 相関\n",
    "\n",
    "ある変数と別の変数に相関がある場合、一方から他方を予測するモデルを作成することができる。機械学習では、手もとのデータから、予測すべき変数と、それに影響を与えている変数の関係を学習し、この結果を使って新しいデータの予測を行うことが可能である。これを回帰モデルという。回帰モデルは、教師あり学習の代表的な手法である。\n",
    "\n",
    "相関係数は、ある変数と別の変数の関係をあらわす指標（しひょう：indicator）であった。\n",
    "\n",
    "[外部サイト：ウィキペディア：相関係数](https://ja.wikipedia.org/wiki/%E7%9B%B8%E9%96%A2%E4%BF%82%E6%95%B0)"
   ]
  },
  {
   "attachments": {},
   "cell_type": "markdown",
   "id": "d1fd8298",
   "metadata": {},
   "source": [
    "いま一方の変数を y とし、他方を x とする。もしも２つの変数が*完全に*相関しているのであれば、x の値が定まると、y の値も自動的に定まる。$y = a x$ という関係ならば、ある $x$ の値を $a$ 倍すると $y$  の値になるとわかる。"
   ]
  },
  {
   "attachments": {},
   "cell_type": "markdown",
   "id": "d471b159",
   "metadata": {},
   "source": [
    "一方、y と x の関係が弱い場合、x の値が定まっても y の値が一意に定まることはない。それでも、x 値から y の値をある程度は予測することが可能と考えられる。そこで $y = a x + \\epsilon$ という式を考える。$\\epsilon$ は **誤差** （ごさ：error）である。\n",
    "\n",
    "誤差には、まず測定（そくてい：measure）する際に生じる不正確さ（長さを測るとき目盛りをおおざっぱに読み取ってしまうとか）がある。他に、データとして得られていない他の要因の影響もこの場合、誤差に含まれる。たとえば、テストでどれだけ高得点をとるかを予測するのに必要なデータは何だろうか？ある生徒の毎日の勉強時間は重要だろうが、その他にもテストの成績に与える影響はあるだろう（前日の睡眠時間とか）。要するに、テストの得点に影響を与えるものは多数あるだろうが、それらを全部知ることも、仮に知っていたとしても、すべてを正確に記録して取っておくことは不可能である（可能な限りデータは集めるべきであるが）。こうした記録されていない影響も誤差には含まれていると考えられる。\n"
   ]
  },
  {
   "attachments": {},
   "cell_type": "markdown",
   "id": "11b7e910",
   "metadata": {},
   "source": [
    "一般に、誤差はまったくランダムな値と想定する。ランダムという意味は、誤差は平均すると 0 になるということである。\n",
    "すなわち $y$ は $x$ の値を $a$ 倍した結果に、 $0$ から大きくははなれていない値が加わった結果と考えるのである。\n",
    "\n",
    "このように考えて変数 $y$ の予測を行う手法を**回帰分析**（かいきぶんせき：regeression）、あるいは回帰モデルという。\n",
    "回帰分析では、誤差として正規分布を想定することが多い\n",
    "（ただし、回帰分析を適用するにはデータの誤差、あるいは変数の分布が正規分布でなければならないということはない）。"
   ]
  },
  {
   "attachments": {},
   "cell_type": "markdown",
   "id": "6baa5b3a",
   "metadata": {},
   "source": [
    "## 回帰分析"
   ]
  },
  {
   "attachments": {},
   "cell_type": "markdown",
   "id": "db495918",
   "metadata": {},
   "source": [
    "回帰分析では、$y$ を**応答変数** （おうとうへんすう：response variable）$x$ を**説明変数** （せつめいへんすう：predicator）という。応答変数を従属変数（じゅうぞくへんすう）、説明変数を独立変数（どくりつへんすう）と呼ぶこともある。特に機械学習の文脈では、説明変数を**特徴量** （とくちょうりょう：features）と表現することも多い。また $y = b + a x + \\epsilon$ を**回帰式**（かいきしき）という。ただし、一般には  $y \\sim b + a x$ というふうに、チルダ記号（〜）を使って書く（$\\epsilon$ は書かない）。チルダ記号（〜）を使うのは、誤差 ($\\epsilon$) が別に存在する($y = b + a x + \\epsilon$) ため、イコールとはならないのである。$b$ は**切片**（せっぺん：intercept）であり、$x$ が 0 の場合の $y$ の値になる。また $a$ は**係数**（けいすう：coefficient）という。回帰分析の目的は $y$ を予測するのに役立つ切片 $b$ と係数 $a$ を推定することにある。"
   ]
  },
  {
   "attachments": {},
   "cell_type": "markdown",
   "id": "54eb28de",
   "metadata": {},
   "source": [
    "<span style=\"color: red; \">Key Points of Today's Lecture</span>\n",
    "\n",
    "<iframe width=\"560\" height=\"315\" src=\"https://www.youtube.com/embed/I8Dr1OGUdZQ\" title=\"YouTube video player\" frameborder=\"0\" allow=\"accelerometer; autoplay; clipboard-write; encrypted-media; gyroscope; picture-in-picture; web-share\" allowfullscreen></iframe>"
   ]
  },
  {
   "attachments": {},
   "cell_type": "markdown",
   "id": "8d8ebdcd",
   "metadata": {},
   "source": [
    "具体例を使って話を進めよう。"
   ]
  },
  {
   "attachments": {},
   "cell_type": "markdown",
   "id": "cc4c9ffc",
   "metadata": {},
   "source": [
    "賃貸住宅（ちんたいじゅうたく）では、家賃（やちん）はその物件の間取り（広さ）と相関があるだろう。\n",
    "そこで家賃を応答変数、広さを説明変数にした回帰モデルが考えられる。授業用に用意したデータがあるので、これを読み込む。\n"
   ]
  },
  {
   "cell_type": "code",
   "execution_count": 23,
   "id": "5fcba7ce",
   "metadata": {
    "lines_to_next_cell": 2,
    "name": "rent"
   },
   "outputs": [
    {
     "data": {
      "text/html": [
       "<div>\n",
       "<style scoped>\n",
       "    .dataframe tbody tr th:only-of-type {\n",
       "        vertical-align: middle;\n",
       "    }\n",
       "\n",
       "    .dataframe tbody tr th {\n",
       "        vertical-align: top;\n",
       "    }\n",
       "\n",
       "    .dataframe thead th {\n",
       "        text-align: right;\n",
       "    }\n",
       "</style>\n",
       "<table border=\"1\" class=\"dataframe\">\n",
       "  <thead>\n",
       "    <tr style=\"text-align: right;\">\n",
       "      <th></th>\n",
       "      <th>No.</th>\n",
       "      <th>square</th>\n",
       "      <th>rent</th>\n",
       "    </tr>\n",
       "  </thead>\n",
       "  <tbody>\n",
       "    <tr>\n",
       "      <th>0</th>\n",
       "      <td>1</td>\n",
       "      <td>81.784</td>\n",
       "      <td>125000.0</td>\n",
       "    </tr>\n",
       "    <tr>\n",
       "      <th>1</th>\n",
       "      <td>2</td>\n",
       "      <td>86.736</td>\n",
       "      <td>147500.0</td>\n",
       "    </tr>\n",
       "    <tr>\n",
       "      <th>2</th>\n",
       "      <td>3</td>\n",
       "      <td>84.152</td>\n",
       "      <td>150000.0</td>\n",
       "    </tr>\n",
       "    <tr>\n",
       "      <th>3</th>\n",
       "      <td>4</td>\n",
       "      <td>84.152</td>\n",
       "      <td>150000.0</td>\n",
       "    </tr>\n",
       "    <tr>\n",
       "      <th>4</th>\n",
       "      <td>5</td>\n",
       "      <td>81.784</td>\n",
       "      <td>156250.0</td>\n",
       "    </tr>\n",
       "    <tr>\n",
       "      <th>...</th>\n",
       "      <td>...</td>\n",
       "      <td>...</td>\n",
       "      <td>...</td>\n",
       "    </tr>\n",
       "    <tr>\n",
       "      <th>63</th>\n",
       "      <td>64</td>\n",
       "      <td>66.472</td>\n",
       "      <td>93750.0</td>\n",
       "    </tr>\n",
       "    <tr>\n",
       "      <th>64</th>\n",
       "      <td>65</td>\n",
       "      <td>68.240</td>\n",
       "      <td>103750.0</td>\n",
       "    </tr>\n",
       "    <tr>\n",
       "      <th>65</th>\n",
       "      <td>66</td>\n",
       "      <td>68.272</td>\n",
       "      <td>112500.0</td>\n",
       "    </tr>\n",
       "    <tr>\n",
       "      <th>66</th>\n",
       "      <td>67</td>\n",
       "      <td>92.328</td>\n",
       "      <td>162500.0</td>\n",
       "    </tr>\n",
       "    <tr>\n",
       "      <th>67</th>\n",
       "      <td>68</td>\n",
       "      <td>108.168</td>\n",
       "      <td>187500.0</td>\n",
       "    </tr>\n",
       "  </tbody>\n",
       "</table>\n",
       "<p>68 rows × 3 columns</p>\n",
       "</div>"
      ],
      "text/plain": [
       "    No.   square      rent\n",
       "0     1   81.784  125000.0\n",
       "1     2   86.736  147500.0\n",
       "2     3   84.152  150000.0\n",
       "3     4   84.152  150000.0\n",
       "4     5   81.784  156250.0\n",
       "..  ...      ...       ...\n",
       "63   64   66.472   93750.0\n",
       "64   65   68.240  103750.0\n",
       "65   66   68.272  112500.0\n",
       "66   67   92.328  162500.0\n",
       "67   68  108.168  187500.0\n",
       "\n",
       "[68 rows x 3 columns]"
      ]
     },
     "execution_count": 23,
     "metadata": {},
     "output_type": "execute_result"
    }
   ],
   "source": [
    "import pandas as pd\n",
    "df = pd.read_csv(\"https://infoart.ait231.tokushima-u.ac.jp/public/rent.csv\")\n",
    "df"
   ]
  },
  {
   "attachments": {},
   "cell_type": "markdown",
   "id": "1293777f",
   "metadata": {},
   "source": [
    "データには3つの列があるが最初の列 (`No.`) は物件の番号である。次の `square` （平米、へいべい）が物件の面積であり、`rent` が家賃である（日本円）。ここでは、`rent` と`square` の関係を学習させ、`square` から`rent` を予測したい。こうした2変数のデータがある場合、最初に行うべきは散布図を描いてみることである。\n",
    "\n",
    "まず、実際に相関が認められるかを確認してみよう。散布図で確認し、念のため相関係数も求めてみる。"
   ]
  },
  {
   "cell_type": "code",
   "execution_count": 24,
   "id": "da50b95c",
   "metadata": {
    "lines_to_next_cell": 0,
    "name": "rent_scatter"
   },
   "outputs": [
    {
     "data": {
      "text/plain": [
       "<Axes: xlabel='square', ylabel='rent'>"
      ]
     },
     "execution_count": 24,
     "metadata": {},
     "output_type": "execute_result"
    },
    {
     "data": {
      "image/png": "[encoded data removed]",
      "text/plain": [
       "<Figure size 640x480 with 1 Axes>"
      ]
     },
     "metadata": {},
     "output_type": "display_data"
    }
   ],
   "source": [
    "import matplotlib.pyplot as plt\n",
    "import seaborn as sns\n",
    "plt.style.use('ggplot')\n",
    "sns.scatterplot(x = 'square',y='rent', data = df)"
   ]
  },
  {
   "attachments": {},
   "cell_type": "markdown",
   "id": "f613ea11",
   "metadata": {},
   "source": [
    "散布図を見ると、`square` と`rent` にははっきりと正の相関が認められる。\n",
    "相関係数は以下のようにして求められる。\n",
    "\n"
   ]
  },
  {
   "cell_type": "code",
   "execution_count": 25,
   "id": "1ad01ca9",
   "metadata": {
    "lines_to_next_cell": 2,
    "name": "rent_scatter_corr"
   },
   "outputs": [
    {
     "data": {
      "text/html": [
       "<div>\n",
       "<style scoped>\n",
       "    .dataframe tbody tr th:only-of-type {\n",
       "        vertical-align: middle;\n",
       "    }\n",
       "\n",
       "    .dataframe tbody tr th {\n",
       "        vertical-align: top;\n",
       "    }\n",
       "\n",
       "    .dataframe thead th {\n",
       "        text-align: right;\n",
       "    }\n",
       "</style>\n",
       "<table border=\"1\" class=\"dataframe\">\n",
       "  <thead>\n",
       "    <tr style=\"text-align: right;\">\n",
       "      <th></th>\n",
       "      <th>No.</th>\n",
       "      <th>square</th>\n",
       "      <th>rent</th>\n",
       "    </tr>\n",
       "  </thead>\n",
       "  <tbody>\n",
       "    <tr>\n",
       "      <th>No.</th>\n",
       "      <td>1.000000</td>\n",
       "      <td>-0.200447</td>\n",
       "      <td>-0.225166</td>\n",
       "    </tr>\n",
       "    <tr>\n",
       "      <th>square</th>\n",
       "      <td>-0.200447</td>\n",
       "      <td>1.000000</td>\n",
       "      <td>0.929797</td>\n",
       "    </tr>\n",
       "    <tr>\n",
       "      <th>rent</th>\n",
       "      <td>-0.225166</td>\n",
       "      <td>0.929797</td>\n",
       "      <td>1.000000</td>\n",
       "    </tr>\n",
       "  </tbody>\n",
       "</table>\n",
       "</div>"
      ],
      "text/plain": [
       "             No.    square      rent\n",
       "No.     1.000000 -0.200447 -0.225166\n",
       "square -0.200447  1.000000  0.929797\n",
       "rent   -0.225166  0.929797  1.000000"
      ]
     },
     "execution_count": 25,
     "metadata": {},
     "output_type": "execute_result"
    }
   ],
   "source": [
    "df.corr()\n",
    "# No.はただの連番なので相関係数を求めても意味がないので次のようにしてもよい\n",
    "# df.drop(\"No.\",axis=1).corr()"
   ]
  },
  {
   "attachments": {},
   "cell_type": "markdown",
   "id": "fdb3600c",
   "metadata": {},
   "source": [
    "`square` と`rent` の相関係数は約0.93であり、きわめて高い（相関係数が-1.0から1.0の間の数値であったことを思い出そう）。\n",
    "\n",
    "ただし、`square` （平米）がある一定の水準（x軸の真ん中あたり）を超えると、家賃`rent` がやや高くなる物件があることもわかる。また、もっとも広い物件（180平米）の家賃がやや安いことなど、気になる点もあるが、これらの点については保留（ほりゅう、むし）して、回帰分析を適用してみよう。\n"
   ]
  },
  {
   "attachments": {},
   "cell_type": "markdown",
   "id": "32752551",
   "metadata": {},
   "source": [
    "さて、回帰式は $\\text{家賃} \\sim b + a \\text{平米}$ となる。ちなみに、この式は直線を表している。単純な回帰問題は、データをよく表す直線を求める問題であるといえる。\n",
    "\n",
    "Pythonで回帰問題を解くには **statsmodels** ライブラリや**scikit-learn**ライブラリ（サイキットラーンと読む）を利用するのが簡単である。ここでは**statsmodels** を利用する。PythonのインストールにAnacondaを使っていない場合は、コマンドプロンプト（ターミナル）で `pip3 install statsmodels ` を実行して、インストールしておこう。"
   ]
  },
  {
   "attachments": {},
   "cell_type": "markdown",
   "id": "40c17b1b",
   "metadata": {},
   "source": [
    "最初に**statsmodels** ライブラリを使うことを `import` で宣言し、続いて回帰式を指定する。"
   ]
  },
  {
   "cell_type": "code",
   "execution_count": 26,
   "id": "9367ddee",
   "metadata": {
    "lines_to_next_cell": 2,
    "name": "ols"
   },
   "outputs": [],
   "source": [
    "import statsmodels.formula.api as smf\n",
    "model = smf.ols(formula = 'rent ~ square', data=df)\n",
    "results = model.fit()"
   ]
  },
  {
   "attachments": {},
   "cell_type": "markdown",
   "id": "2bcf723b",
   "metadata": {},
   "source": [
    "`smf.ols()`が回帰分析を実行する関数である。`rent ~ square` は、線形モデルを表すのによく使われる表記方法である。$y = b + a x$ に対応する（切片 $b$ と係数 $a$ は自動的に加えられるので、わざわざ指定しない）。`rent = square` と指定せずチルダ記号（〜）を使うのは、誤差 ($\\epsilon$) が別に存在する($y = b + a x + \\epsilon$) ため、イコールとはならないのである（回帰式には含まれていた誤差も、上のコードでは指定していない）。\n",
    "\n",
    "線形モデルを指定したあと、`fit()`を適用すると、係数と切片の推定が行われる。\n",
    "結果を確認するには `summary()` を使う。\n"
   ]
  },
  {
   "cell_type": "code",
   "execution_count": 27,
   "id": "8211e946",
   "metadata": {
    "lines_to_next_cell": 2,
    "name": "ols2"
   },
   "outputs": [
    {
     "data": {
      "text/html": [
       "<table class=\"simpletable\">\n",
       "<caption>OLS Regression Results</caption>\n",
       "<tr>\n",
       "  <th>Dep. Variable:</th>          <td>rent</td>       <th>  R-squared:         </th> <td>   0.865</td>\n",
       "</tr>\n",
       "<tr>\n",
       "  <th>Model:</th>                   <td>OLS</td>       <th>  Adj. R-squared:    </th> <td>   0.862</td>\n",
       "</tr>\n",
       "<tr>\n",
       "  <th>Method:</th>             <td>Least Squares</td>  <th>  F-statistic:       </th> <td>   421.2</td>\n",
       "</tr>\n",
       "<tr>\n",
       "  <th>Date:</th>             <td>Thu, 01 Jun 2023</td> <th>  Prob (F-statistic):</th> <td>2.36e-30</td>\n",
       "</tr>\n",
       "<tr>\n",
       "  <th>Time:</th>                 <td>18:16:59</td>     <th>  Log-Likelihood:    </th> <td> -761.00</td>\n",
       "</tr>\n",
       "<tr>\n",
       "  <th>No. Observations:</th>      <td>    68</td>      <th>  AIC:               </th> <td>   1526.</td>\n",
       "</tr>\n",
       "<tr>\n",
       "  <th>Df Residuals:</th>          <td>    66</td>      <th>  BIC:               </th> <td>   1530.</td>\n",
       "</tr>\n",
       "<tr>\n",
       "  <th>Df Model:</th>              <td>     1</td>      <th>                     </th>     <td> </td>   \n",
       "</tr>\n",
       "<tr>\n",
       "  <th>Covariance Type:</th>      <td>nonrobust</td>    <th>                     </th>     <td> </td>   \n",
       "</tr>\n",
       "</table>\n",
       "<table class=\"simpletable\">\n",
       "<tr>\n",
       "      <td></td>         <th>coef</th>     <th>std err</th>      <th>t</th>      <th>P>|t|</th>  <th>[0.025</th>    <th>0.975]</th>  \n",
       "</tr>\n",
       "<tr>\n",
       "  <th>Intercept</th> <td> -1.49e+04</td> <td> 5939.032</td> <td>   -2.509</td> <td> 0.015</td> <td>-2.68e+04</td> <td>-3041.049</td>\n",
       "</tr>\n",
       "<tr>\n",
       "  <th>square</th>    <td> 1621.1734</td> <td>   78.996</td> <td>   20.522</td> <td> 0.000</td> <td> 1463.453</td> <td> 1778.894</td>\n",
       "</tr>\n",
       "</table>\n",
       "<table class=\"simpletable\">\n",
       "<tr>\n",
       "  <th>Omnibus:</th>       <td> 5.055</td> <th>  Durbin-Watson:     </th> <td>   0.982</td>\n",
       "</tr>\n",
       "<tr>\n",
       "  <th>Prob(Omnibus):</th> <td> 0.080</td> <th>  Jarque-Bera (JB):  </th> <td>   6.777</td>\n",
       "</tr>\n",
       "<tr>\n",
       "  <th>Skew:</th>          <td>-0.084</td> <th>  Prob(JB):          </th> <td>  0.0338</td>\n",
       "</tr>\n",
       "<tr>\n",
       "  <th>Kurtosis:</th>      <td> 4.537</td> <th>  Cond. No.          </th> <td>    207.</td>\n",
       "</tr>\n",
       "</table><br/><br/>Notes:<br/>[1] Standard Errors assume that the covariance matrix of the errors is correctly specified."
      ],
      "text/plain": [
       "<class 'statsmodels.iolib.summary.Summary'>\n",
       "\"\"\"\n",
       "                            OLS Regression Results                            \n",
       "==============================================================================\n",
       "Dep. Variable:                   rent   R-squared:                       0.865\n",
       "Model:                            OLS   Adj. R-squared:                  0.862\n",
       "Method:                 Least Squares   F-statistic:                     421.2\n",
       "Date:                Thu, 01 Jun 2023   Prob (F-statistic):           2.36e-30\n",
       "Time:                        18:16:59   Log-Likelihood:                -761.00\n",
       "No. Observations:                  68   AIC:                             1526.\n",
       "Df Residuals:                      66   BIC:                             1530.\n",
       "Df Model:                           1                                         \n",
       "Covariance Type:            nonrobust                                         \n",
       "==============================================================================\n",
       "                 coef    std err          t      P>|t|      [0.025      0.975]\n",
       "------------------------------------------------------------------------------\n",
       "Intercept   -1.49e+04   5939.032     -2.509      0.015   -2.68e+04   -3041.049\n",
       "square      1621.1734     78.996     20.522      0.000    1463.453    1778.894\n",
       "==============================================================================\n",
       "Omnibus:                        5.055   Durbin-Watson:                   0.982\n",
       "Prob(Omnibus):                  0.080   Jarque-Bera (JB):                6.777\n",
       "Skew:                          -0.084   Prob(JB):                       0.0338\n",
       "Kurtosis:                       4.537   Cond. No.                         207.\n",
       "==============================================================================\n",
       "\n",
       "Notes:\n",
       "[1] Standard Errors assume that the covariance matrix of the errors is correctly specified.\n",
       "\"\"\""
      ]
     },
     "execution_count": 27,
     "metadata": {},
     "output_type": "execute_result"
    }
   ],
   "source": [
    "results.summary()"
   ]
  },
  {
   "attachments": {},
   "cell_type": "markdown",
   "id": "1f60ea7e",
   "metadata": {},
   "source": [
    "非常に多くの情報が出力されているが、まず、係数（と切片）の推定値を確認しよう。"
   ]
  },
  {
   "attachments": {},
   "cell_type": "markdown",
   "id": "9eacff81",
   "metadata": {},
   "source": [
    "<center>\n",
    "\n",
    "|           | coef      | std err   | t        | P>t    | [0.025 | 0.975]    |\n",
    "|-----------|-----------|----------|--------|--------|-----------|-----------|\n",
    "| Intercept | -1.49e+04 | 5939.032 | -2.509 | 0.015  | -2.68e+04 | -3041.049 |\n",
    "| square    | 1621.1734 | 78.996   | 20.522 | 0.000  | 1463.453  | 1778.894  |\n",
    "</center>"
   ]
  },
  {
   "attachments": {},
   "cell_type": "markdown",
   "id": "cc7cbdf7",
   "metadata": {},
   "source": [
    "`square` の係数（`coef`）は1621.1734と推定されている。` std err`は標準誤差で、推定された係数は確定値ではなく、誤差があることを示している。tは、前の週に学習した ｔ 分布の値である。ｔが、推定された係数を標準誤差で割った値であることがわかるだろうか。\n",
    "\n",
    "この場合、係数の平均値を標準誤差で割るというのは、推定された平均値から 0 （0は係数に効果がないことを表す）を引き、これに推定された標準偏差をデータ数の平方根（へいほうこん：square root）で割った値で割ることを意味する（前の週のｔ分布の説明を参照されたい）。\n",
    "\n",
    "このｔ値が大きいのか小さい（普通）なのかは、ｔ値の確率で求める。ｔ値の確率は、Pythonでは以下のように求められる。ｔ分布は自由度で分布が決まるが、ここの回帰分析で自由度は、データ数から説明変数の係数１つと切片１つ（つまり２）を引いた数になる。上の出力では `Df Residuals` という項目にある 66 である。\n"
   ]
  },
  {
   "cell_type": "code",
   "execution_count": 28,
   "id": "b7486696",
   "metadata": {
    "name": "estimated_t_p"
   },
   "outputs": [
    {
     "data": {
      "text/plain": [
       "0.0"
      ]
     },
     "execution_count": 28,
     "metadata": {},
     "output_type": "execute_result"
    }
   ],
   "source": [
    "import scipy.stats as ss\n",
    "1 - ss.t.cdf(20.522, 66)"
   ]
  },
  {
   "attachments": {},
   "cell_type": "markdown",
   "id": "3ffe8aa4",
   "metadata": {},
   "source": [
    "このp値が 0.05 よりも小さいならば、帰無仮説である「係数は0である」を棄却し、対立仮説である「係数は0ではない」を採択することになる。係数が0というのは `rent = intercept + 0 x square ` ということで、広さは家賃にまったく関係しないことになるので、その説明変数（ここでは`square`）に意味がないことになる。上の分析結果では `square`のｐ値は0である（0に近い）ため、帰無仮説は棄却され、対立仮説が採択される。つまり、推定された係数に意味があると解釈される。\n",
    "\n",
    "結局、回帰式として $\\text{家賃} \\sim -14899 + 1621 \\times x$ が推定されたことになる。ここで説明変数の係数は、`square` が1単位（1平米）増えると、`rent` が1621円増えることを意味している。ちなみに、切片はマイナスの値になっているので、そのまま解釈すると、広さが0のときは家賃がマイナス、すなわち逆に家賃を返してもらえると解釈できそうにみえる。しかし、これは意味をなさない。"
   ]
  },
  {
   "attachments": {},
   "cell_type": "markdown",
   "id": "7ea091f4",
   "metadata": {},
   "source": [
    "## ＊ここまでの要約講義３ （過去の講義の録画です）\n",
    "\n",
    "<font color=\"red\">石田講義録画</font>\n",
    "<iframe width=\"640\" height=\"360\" src=\"https://web.microsoftstream.com/embed/video/a5bdef91-935d-4a4a-93f4-f68f77a99cda?autoplay=false&showinfo=true\" allowfullscreen style=\"border:none;\"></iframe>"
   ]
  },
  {
   "attachments": {},
   "cell_type": "markdown",
   "id": "632a67df",
   "metadata": {},
   "source": [
    "## 切片の解釈について"
   ]
  },
  {
   "attachments": {},
   "cell_type": "markdown",
   "id": "72666c7d",
   "metadata": {},
   "source": [
    "回帰分析では、データから学習して係数を推定するが、説明変数（この分析では `square`）の範囲が 0 から離れている場合、推定された切片に積極的な意味を見出すことはできない。ちなみに、このデータで説明変数の範囲は 28平米から 183平米である。 \n",
    "xが0のとき、yも0となることが確かであれば、回帰分析で切片を0として分析することも考えられるが、家賃と広さの関係の場合、そもそも広さが0の物件を貸し出すという状況は考えられないので、切片を0とすることが、必ずしも妥当ではないだろう（たとえば、バネに重りを下げる場合に重さをx、バネの伸び量をyとするような実験では切片を0に固定することには意味があるだろう）。"
   ]
  },
  {
   "attachments": {},
   "cell_type": "markdown",
   "id": "72953c04",
   "metadata": {},
   "source": [
    "データサイエンスにおいて、データを表現した式（あるいは考え方）を**モデル**という。データサイエンスはデータに対してモデルを当てはめるための理論と技術であるともいえる。ここで扱っている回帰問題は、データを直線で表すモデルだと言える（**回帰モデル**ともいう）。以下に、散布図にいくつかの直線を引いてみた。\n"
   ]
  },
  {
   "cell_type": "code",
   "execution_count": 29,
   "id": "f8589809",
   "metadata": {
    "eval": false,
    "name": "poly_regression_1",
    "show": false,
    "tags": [
     "remove_input"
    ]
   },
   "outputs": [
    {
     "data": {
      "text/plain": [
       "[<matplotlib.lines.Line2D at 0x7f1c28cc7190>]"
      ]
     },
     "execution_count": 29,
     "metadata": {},
     "output_type": "execute_result"
    },
    {
     "data": {
      "image/png": "[encoded data removed]",
      "text/plain": [
       "<Figure size 640x480 with 1 Axes>"
      ]
     },
     "metadata": {},
     "output_type": "display_data"
    }
   ],
   "source": [
    "import numpy as np\n",
    "from sklearn.linear_model import LinearRegression\n",
    "\n",
    "plt.xlabel(\"square\")\n",
    "plt.ylabel(\"rent\")\n",
    "plt.scatter(x='square', y='rent', data=df, c=\"black\");\n",
    "\n",
    "rent_lm = LinearRegression()\n",
    "rent_lm.fit(df[['square']], df['rent'])\n",
    "slope = rent_lm.coef_[0]\n",
    "intercept = rent_lm.intercept_\n",
    "plt.plot(df['square'], slope * df['square'] + intercept, alpha=0.6, c=\"black\")\n",
    "plt.plot(df['square'], slope * 0.8 * df['square'] + (intercept - 1), linestyle='--', c=\"blue\")\n",
    "plt.plot(df['square'], slope * 1.2 * df['square'] + (intercept + 3), linestyle=':', c=\"blue\")"
   ]
  },
  {
   "attachments": {},
   "cell_type": "markdown",
   "id": "fcf74b04",
   "metadata": {},
   "source": [
    "この直線を表す式には誤差が入っていないため、現実に観測されたデータ（黒い点）のほとんどは、この直線の上にはのっていない（重なっていない）。いずれの直線も、現実のデータの上か下を通り過ぎている。その意味では、どの直線もデータを完全に表していない。しかし、あえて現実のデータに近いと表現できそうな直線はどれだろうか？回帰問題では、散らばったデータ点の間を縫うように通る直線が、データをよく表現していると考える。それは、回帰直線とデータ点との誤差が総じて最小になるからである。\n",
    "\n",
    "ちなみに、直線ではなく、曲線を使えば、このデータにもっとフィットさせることができると思うかもしれない。"
   ]
  },
  {
   "cell_type": "code",
   "execution_count": 10,
   "id": "ff4d425f",
   "metadata": {
    "lines_to_next_cell": 0,
    "name": "regplot"
   },
   "outputs": [
    {
     "data": {
      "text/plain": [
       "(0.0, 300000.0)"
      ]
     },
     "execution_count": 10,
     "metadata": {},
     "output_type": "execute_result"
    },
    {
     "data": {
      "image/png": "[encoded data removed]",
      "text/plain": [
       "<Figure size 640x480 with 1 Axes>"
      ]
     },
     "metadata": {},
     "output_type": "display_data"
    }
   ],
   "source": [
    "import seaborn as sns\n",
    "sns.regplot(x='square', y='rent', data=df, order=3)\n",
    "plt.ylim(0, 300000)"
   ]
  },
  {
   "cell_type": "code",
   "execution_count": 11,
   "id": "2325cf8a",
   "metadata": {
    "name": "lineplot"
   },
   "outputs": [
    {
     "data": {
      "text/plain": [
       "<Axes: xlabel='square', ylabel='rent'>"
      ]
     },
     "execution_count": 11,
     "metadata": {},
     "output_type": "execute_result"
    },
    {
     "data": {
      "image/png": "[encoded data removed]",
      "text/plain": [
       "<Figure size 640x480 with 1 Axes>"
      ]
     },
     "metadata": {},
     "output_type": "display_data"
    }
   ],
   "source": [
    "sns.scatterplot(x='square', y='rent', data=df)\n",
    "sns.lineplot(x='square', y='rent', data=df)"
   ]
  },
  {
   "attachments": {},
   "cell_type": "markdown",
   "id": "f0033c59",
   "metadata": {},
   "source": [
    "確かに、直線とくらべるならば上の２つのグラフはどちらもデータの点に近くなっているだろう。しかし、これはそれほど役にはたたない。\n",
    "\n",
    "なぜなら、この曲線は、いま、てもとにあるデータに当てはめられすぎているため、新しく別のデータ $x$ が得られても、それ対応する $y$ の予測を大きく外す可能性があるからである。データサイエンスの分野では、これを**過学習**（かがくしゅう：overfitting）と呼び、過学習を避けるためにさまざまな工夫を行なっている（次週の統計モデリングでより詳しく説明する予定である）。"
   ]
  },
  {
   "attachments": {},
   "cell_type": "markdown",
   "id": "e36335d8",
   "metadata": {},
   "source": [
    "<span style=\"color: red; \">Key Points of Today's Lecture</span>\n",
    "\n",
    "<iframe width=\"560\" height=\"315\" src=\"https://www.youtube.com/embed/EuBBz3bI-aA\" title=\"YouTube video player\" frameborder=\"0\" allow=\"accelerometer; autoplay; clipboard-write; encrypted-media; gyroscope; picture-in-picture; web-share\" allowfullscreen></iframe>"
   ]
  },
  {
   "attachments": {},
   "cell_type": "markdown",
   "id": "e4d57f19",
   "metadata": {},
   "source": [
    "## 最小二乗法"
   ]
  },
  {
   "attachments": {},
   "cell_type": "markdown",
   "id": "fc946bee",
   "metadata": {},
   "source": [
    "一般には、シンプルな直線でデータへの当てはめが可能であれば、その方が汎化性能（はんかせいのう：generalization performance ）が高い（つまり、新しいデータを正しく予測できる可能性が高い）。\n",
    "\n",
    "誤差が最小になるような直線を選ぶ（切片と係数を推定する）方法を**最小二乗法**（さいしょうじじょうほう：Ordinary Least Squares regression, OLS）という。\n",
    "また応答変数との誤差を最小化するということは、応答変数の値を「答え」として利用するのだから、教師あり学習ということになる。"
   ]
  },
  {
   "attachments": {},
   "cell_type": "markdown",
   "id": "5c1e613f",
   "metadata": {},
   "source": [
    "### 線形"
   ]
  },
  {
   "attachments": {},
   "cell_type": "markdown",
   "id": "b3542698",
   "metadata": {},
   "source": [
    "データサイエンスの文脈で、しばしば**線形**（せんけい：linear）という言葉が出てくるが、これは係数について線形関数であることを意味する。たとえば、あとで説明する重回帰分析（じゅうかいきぶんせき：multiple regression）では、説明変数が複数ある。つまり、$y = b + a_1 x_1 + a_2 x_2 \\dots a_n x_n$ となるので、推定すべき係数 $a$ も複数ある。このとき $x_i$ には、別の $x$ の自乗や対数、平方根であっても（つまり $y = b + a_1 x + a_2 x^2 + a_3 log(x)$ は）**モデルとしては線形**である。\n",
    "\n",
    "[外部サイト：ウィキペディア：線形方程式](https://ja.wikipedia.org/wiki/%E7%B7%9A%E5%9E%8B%E6%96%B9%E7%A8%8B%E5%BC%8F)"
   ]
  },
  {
   "attachments": {},
   "cell_type": "markdown",
   "id": "0fba29ad",
   "metadata": {},
   "source": [
    "最小二乗法について簡単に説明しよう。\n",
    "\n",
    "いま、回帰式が $f(x) = a x + b$ だとする。この $x$ にデータのある値を代入すると、回帰式による予測値が求められる ($\\hat{y} = f(x)$)。ちなみに $\\hat{y}$ はワイハットと読み、$y$ の予測値（よそくち：predicted values）という意味である。実際のデータから予測値を引いた値（誤差）を、**残差**（ざんさ：residuals) という。ちなみに、標準的な回帰分析においては、残差が正規分布にしたがうとして分析されることが多いが、、一般化線形モデル（いっぱんかせんけいもでる）という枠組みを使うと、データの分布にポアソン分布などを仮定した回帰モデルも利用できる。"
   ]
  },
  {
   "attachments": {},
   "cell_type": "markdown",
   "id": "32e9bd7d",
   "metadata": {},
   "source": [
    "![](images/residuals.jpg)\n",
    "\n"
   ]
  },
  {
   "attachments": {},
   "cell_type": "markdown",
   "id": "6930867b",
   "metadata": {},
   "source": [
    "観測値のすべてについて残差を求めて自乗し、すべてを合計した値を**残差平方和**（ざんさへいほうわ：residual sum of squares, RSS）という。\n",
    "\n",
    "$$\n",
    "\\sum_i^N (y - \\hat{y})^2\n",
    "$$\n",
    "\n",
    "これは、観測データと、回帰式との不一致（ふいっち）を表す指標（しひょう）である。この合計値が小さいほど回帰式は観測データによく適合（てきごう：fitted）していると評価される。これをデータサイエンスでは**当てはめ** (fitting)が良いなどと表現することが多い。"
   ]
  },
  {
   "attachments": {},
   "cell_type": "markdown",
   "id": "85ab3190",
   "metadata": {},
   "source": [
    "最小二乗法（さいしょうじじょうほう：Ordinary Least Squares regression, OLS）は、この残差の自乗和が最小になる**傾き** $a$ と**切片** $b$ を選ぶ方法である。\n",
    "\n",
    "![](images/LS.png)"
   ]
  },
  {
   "attachments": {},
   "cell_type": "markdown",
   "id": "d0aab2ae",
   "metadata": {},
   "source": [
    "[外部サイト：ウィキペディア：最小二乗法](https://ja.wikipedia.org/wiki/%E6%9C%80%E5%B0%8F%E4%BA%8C%E4%B9%97%E6%B3%95)\n",
    "\n",
    "傾きと切片のようにデータから推定される未知数を**パラメータ** (parameter)という。機械学習では、モデルを構築（こうちく：build）し、予測の精度を最大にするパラメータを推定する手法だともいえる。"
   ]
  },
  {
   "attachments": {},
   "cell_type": "markdown",
   "id": "8a4cc657",
   "metadata": {},
   "source": [
    "### モデルの評価"
   ]
  },
  {
   "attachments": {},
   "cell_type": "markdown",
   "id": "6e3e23bf",
   "metadata": {},
   "source": [
    "データにモデルを当てはめ、パラメータを推定した結果については、その適合度（てきごうど：Goodness of fit）の良し悪しが評価（ひょうか：evaluate）されなければならない。一般にデータに適切なモデルは一つとは限らない。あるいは、本当に適切なモデルというのは、結局は分からない。\n",
    "データサイエンス（あるいはAI）で行うのは、パラメータを推定する方法を調整しつつ、複数のモデルを構築し、\n",
    "その中から目的（たとえば、家賃の予測）にもっとも役立つモデルを選ぶことである。\n",
    "\n",
    "モデルの構築と、最適なモデルの選択を**統計的モデリング**などと表現するが、これについては第８週で解説する。\n",
    "\n",
    "なお、伝統的なデータ分析では、回帰係数が適切かどうかを判定する尺度として、**決定係数**（けっていけいすう： coefficient of determination）が使われることが多い。\n",
    "これは、回帰式による予測と、実測値のズレの大きさを表す指標であり、0 から 1 の範囲の数値として求められる。先のPythonの出力では `R-squared:0.865` と出力されている。\n",
    "\n",
    "決定係数は残差平方和から計算される数値なのだが、残差平方和の大きさはデータによって異なるので相対的にしか評価できない（残差平方和が大きいか小さいかはデータ次第である）。\n",
    "一方、決定係数は 1 に近いほど、回帰式の予測が観測値に近いことを表す。そのため、評価がしやすく、しばしば利用されている。\n",
    "\n",
    "ただし、決定係数が1に近くとも、新しいデータに対して予測を行ってみると、必ずしも良好な結果が得られるわけではない。\n",
    "また機械学習では、決定係数ではなく、残差平方和そのものを評価の基準としていることが多い（後述する）。"
   ]
  },
  {
   "attachments": {},
   "cell_type": "markdown",
   "id": "89631aa4",
   "metadata": {},
   "source": [
    "### 決定係数"
   ]
  },
  {
   "attachments": {},
   "cell_type": "markdown",
   "id": "5e67c86d",
   "metadata": {},
   "source": [
    "<span style=\"color: red; \">Key Points of Today's Lecture</span>\n",
    "\n",
    "<iframe width=\"560\" height=\"315\" src=\"https://www.youtube.com/embed/2AQKmw14mHM\" title=\"YouTube video player\" frameborder=\"0\" allow=\"accelerometer; autoplay; clipboard-write; encrypted-media; gyroscope; picture-in-picture; web-share\" allowfullscreen></iframe>"
   ]
  },
  {
   "attachments": {},
   "cell_type": "markdown",
   "id": "2f9d2b63",
   "metadata": {},
   "source": [
    "決定係数について簡単に説明しよう。\n",
    "\n",
    "以下の式で求められる数値を**残差平方和**（ざんさへいほうわ：residual sum of squares）という。\n",
    "<!--最小二乗法では、残差平方和を推定に利用したが、モデルの適合についても、残差平方和が使われる。残差平方和は次の式で求められる。-->"
   ]
  },
  {
   "attachments": {},
   "cell_type": "markdown",
   "id": "b3760c53",
   "metadata": {},
   "source": [
    "$$\n",
    "\\sum_{i=1}^n (y_i - \\hat{y_i})^2\n",
    "$$\n",
    "\n",
    "$\\hat{y_i}$ は回帰モデルから予測された観測値$i$ の値である。\n",
    "一方、入力データの応答変数のすべてについて応答変数の平均値を引く。この値を自乗して合計した値を**全平方和**（ぜんへいほうわ：Total sum of squares）とよぶ。\n",
    "\n",
    "$$\n",
    "\\sum_{i=1}^n (y_i - \\bar{y})^2\n",
    "$$\n",
    "\n",
    "回帰モデルによる予測値から、応答変数の平均値を引いて、自乗して合計する。これを**回帰平方和** （かいきへいほうわ：Regression sum of squares）と呼ぶ。"
   ]
  },
  {
   "attachments": {},
   "cell_type": "markdown",
   "id": "a184d952",
   "metadata": {},
   "source": [
    "$$\n",
    "\\sum_{i=1}^n (\\hat{y_i} - \\bar{y})^2\n",
    "$$\n",
    "\n",
    "ここで $\\text{全平方和} = \\text{回帰平方和} + \\text{残差平方和}$ が成り立っていることに注意されたい。\n",
    "\n",
    "ここで全平方和に占める回帰平方和の割合を**決定係数**$R^2$と呼び、この割合が大きい場合、回帰モデルの予測精度が高いとみなす。"
   ]
  },
  {
   "attachments": {},
   "cell_type": "markdown",
   "id": "486005a0",
   "metadata": {},
   "source": [
    "\\begin {align}\n",
    "        R^2 &= \\frac{ \\sum_{i=1}^n (\\hat{y_i} - \\bar{y})^2} {\\sum_{i=1}^n (y_i - \\bar{y})^2} \\\\\n",
    "            &= 1- \\frac {\\sum_{i=1}^n (y_i - \\hat{y})^2 } {\\sum_{i=1}^n (y_i - \\bar{y})^2 } \\\\\n",
    "\\end {align}"
   ]
  },
  {
   "attachments": {},
   "cell_type": "markdown",
   "id": "b14d5b5c",
   "metadata": {},
   "source": [
    "割合であるから $R^2$ は 0.0 から 1.0 の範囲の数値になり、値が大きいほど、回帰モデルの当てはめが良いと判断される。ただし、観測値の数と説明変数の数が近いと、決定係数は無条件に良くなることが知られている。回帰モデルでは、応答変数とは無関係な説明変数であっても、モデルに組み込むと全体として決定係数が1に近づくという性質がある。そこで、説明変数の数を評価に組み込んだ**自由度調整（修正）済み決定係数** （じゆうどちょうせいずみけっていけいすう：adjusted coefficient of freedom） という指標が使われる。"
   ]
  },
  {
   "attachments": {},
   "cell_type": "markdown",
   "id": "81bd8950",
   "metadata": {},
   "source": [
    "\\begin {align}\n",
    "        R^2 &= 1- \\frac{ \\frac{\\sum_{i=1}^n (y_i - \\hat{y})^2} {n - k - 1} } { \\frac{\\sum_{i=1}^n (y_i - \\bar{y})^2} {n - 1}}   \\\\\n",
    "\\end {align}"
   ]
  },
  {
   "attachments": {},
   "cell_type": "markdown",
   "id": "42d22a09",
   "metadata": {},
   "source": [
    "先の決定係数は平方和の割合であったが、自由度調整済み決定係数においては、分母が観測値の数（と1を足した値）で、また分子が観測値の数から説明変数の数（と1を足した値）で割られてる。\n",
    "つまり、自由度調整済み決定係数は平均平方和の割合であり、説明変数あたりの平均的な効果を見ているわけである。\n"
   ]
  },
  {
   "attachments": {},
   "cell_type": "markdown",
   "id": "69a91863",
   "metadata": {},
   "source": [
    "## 重回帰モデル"
   ]
  },
  {
   "attachments": {},
   "cell_type": "markdown",
   "id": "4c76eb6d",
   "metadata": {},
   "source": [
    "**重回帰モデル** （じゅうかいきもでる：multiple regression model）とは、前節の回帰モデルで説明変数が２つ以上になった場合を指す。これに対して、説明変数が1つの場合を **単回帰モデル** と呼ぶことがある。説明変数が $N$ 個あるならば、モデルは $Y = a_1 \\, X_1 + a_2 \\, X_2 + \\dots + a_n \\,  X_n$ ということになる。重回帰分析では、応答変数を説明する変数の選択と*交互作用*（こうごさよう：interaction）の検討が重要になる。応答変数を「一日あたりのビールの消費量」とした場合を検討しよう。まず、説明変数の候補としては「その日の気温」、「湿度（しつど）」、「天候」が考えられるとする。この3つの変数は、もちろんビールの消費量にそれぞれ影響を与えるだろう。しかしながら、この3つの中で消費量への影響力の強さを比較すると、「気温」＞「天候」＞「湿度」の順になり、特に最初の２つの影響が大きいと確信しているとする。これは、応答変数を予測するのには「気温」と「天候」の２つだけでも十分に役に立つと考えていることになる。このように説明変数を選ぶことが、変数選択である。\n",
    "\n",
    "一方、気温だけが高い日よりも、同時に湿度も高い日のほうが、ビールの売上はあがるかもしれない。これは相乗効果（そうじょうこうか：synergy effect）だが、重回帰では交互作用という。"
   ]
  },
  {
   "attachments": {},
   "cell_type": "markdown",
   "id": "6b6a6328",
   "metadata": {},
   "source": [
    "ただし、複数の説明変数を使う場合、説明変数どうしの相関が高すぎるのは好ましくない。賃貸住宅の場合、家賃に影響がありそうな要因として、「駅から徒歩での時間」と「駅からの距離」があげられるだろう。常識的には、「駅から徒歩での時間」と「駅からの距離」には強い相関があるだろう。説明変数間に強い相関がある場合、**多重共線性**（たじゅうきょうせんせい：multicollinearity） という問題が生じることがある。変数の間に多重共線性があると、パラメータの値を一意（いちい）に求めることができないことがある。そのため、相関の高い説明変数は、どちらかを取り除くか、あるいは統合してしまう（つまり、相関の高い変数から別の第3の変数を作り出すなどする）。"
   ]
  },
  {
   "attachments": {},
   "cell_type": "markdown",
   "id": "aa1f3b27",
   "metadata": {},
   "source": [
    "重回帰分析の例として、米国ボストン市郊外における地域別の住宅価格のデータセットを利用する。これが機械学習の学習ツールとしてしばしば利用される有名なデータセットである。"
   ]
  },
  {
   "cell_type": "code",
   "execution_count": 12,
   "id": "6402104e",
   "metadata": {
    "name": "boston_housing"
   },
   "outputs": [
    {
     "data": {
      "text/html": [
       "<div>\n",
       "<style scoped>\n",
       "    .dataframe tbody tr th:only-of-type {\n",
       "        vertical-align: middle;\n",
       "    }\n",
       "\n",
       "    .dataframe tbody tr th {\n",
       "        vertical-align: top;\n",
       "    }\n",
       "\n",
       "    .dataframe thead th {\n",
       "        text-align: right;\n",
       "    }\n",
       "</style>\n",
       "<table border=\"1\" class=\"dataframe\">\n",
       "  <thead>\n",
       "    <tr style=\"text-align: right;\">\n",
       "      <th></th>\n",
       "      <th>CRIM</th>\n",
       "      <th>ZN</th>\n",
       "      <th>INDUS</th>\n",
       "      <th>CHAS</th>\n",
       "      <th>NOX</th>\n",
       "      <th>RM</th>\n",
       "      <th>AGE</th>\n",
       "      <th>DIS</th>\n",
       "      <th>RAD</th>\n",
       "      <th>TAX</th>\n",
       "      <th>PTRATIO</th>\n",
       "      <th>B</th>\n",
       "      <th>LSTAT</th>\n",
       "      <th>MEDV</th>\n",
       "    </tr>\n",
       "  </thead>\n",
       "  <tbody>\n",
       "    <tr>\n",
       "      <th>0</th>\n",
       "      <td>0.00632</td>\n",
       "      <td>18.0</td>\n",
       "      <td>2.31</td>\n",
       "      <td>0</td>\n",
       "      <td>0.538</td>\n",
       "      <td>6.575</td>\n",
       "      <td>65.2</td>\n",
       "      <td>4.0900</td>\n",
       "      <td>1</td>\n",
       "      <td>296.0</td>\n",
       "      <td>15.3</td>\n",
       "      <td>396.90</td>\n",
       "      <td>4.98</td>\n",
       "      <td>24.0</td>\n",
       "    </tr>\n",
       "    <tr>\n",
       "      <th>1</th>\n",
       "      <td>0.02731</td>\n",
       "      <td>0.0</td>\n",
       "      <td>7.07</td>\n",
       "      <td>0</td>\n",
       "      <td>0.469</td>\n",
       "      <td>6.421</td>\n",
       "      <td>78.9</td>\n",
       "      <td>4.9671</td>\n",
       "      <td>2</td>\n",
       "      <td>242.0</td>\n",
       "      <td>17.8</td>\n",
       "      <td>396.90</td>\n",
       "      <td>9.14</td>\n",
       "      <td>21.6</td>\n",
       "    </tr>\n",
       "    <tr>\n",
       "      <th>2</th>\n",
       "      <td>0.02729</td>\n",
       "      <td>0.0</td>\n",
       "      <td>7.07</td>\n",
       "      <td>0</td>\n",
       "      <td>0.469</td>\n",
       "      <td>7.185</td>\n",
       "      <td>61.1</td>\n",
       "      <td>4.9671</td>\n",
       "      <td>2</td>\n",
       "      <td>242.0</td>\n",
       "      <td>17.8</td>\n",
       "      <td>392.83</td>\n",
       "      <td>4.03</td>\n",
       "      <td>34.7</td>\n",
       "    </tr>\n",
       "    <tr>\n",
       "      <th>3</th>\n",
       "      <td>0.03237</td>\n",
       "      <td>0.0</td>\n",
       "      <td>2.18</td>\n",
       "      <td>0</td>\n",
       "      <td>0.458</td>\n",
       "      <td>6.998</td>\n",
       "      <td>45.8</td>\n",
       "      <td>6.0622</td>\n",
       "      <td>3</td>\n",
       "      <td>222.0</td>\n",
       "      <td>18.7</td>\n",
       "      <td>394.63</td>\n",
       "      <td>2.94</td>\n",
       "      <td>33.4</td>\n",
       "    </tr>\n",
       "    <tr>\n",
       "      <th>4</th>\n",
       "      <td>0.06905</td>\n",
       "      <td>0.0</td>\n",
       "      <td>2.18</td>\n",
       "      <td>0</td>\n",
       "      <td>0.458</td>\n",
       "      <td>7.147</td>\n",
       "      <td>54.2</td>\n",
       "      <td>6.0622</td>\n",
       "      <td>3</td>\n",
       "      <td>222.0</td>\n",
       "      <td>18.7</td>\n",
       "      <td>396.90</td>\n",
       "      <td>5.33</td>\n",
       "      <td>36.2</td>\n",
       "    </tr>\n",
       "  </tbody>\n",
       "</table>\n",
       "</div>"
      ],
      "text/plain": [
       "      CRIM    ZN  INDUS  CHAS    NOX     RM   AGE     DIS  RAD    TAX  \\\n",
       "0  0.00632  18.0   2.31     0  0.538  6.575  65.2  4.0900    1  296.0   \n",
       "1  0.02731   0.0   7.07     0  0.469  6.421  78.9  4.9671    2  242.0   \n",
       "2  0.02729   0.0   7.07     0  0.469  7.185  61.1  4.9671    2  242.0   \n",
       "3  0.03237   0.0   2.18     0  0.458  6.998  45.8  6.0622    3  222.0   \n",
       "4  0.06905   0.0   2.18     0  0.458  7.147  54.2  6.0622    3  222.0   \n",
       "\n",
       "   PTRATIO       B  LSTAT  MEDV  \n",
       "0     15.3  396.90   4.98  24.0  \n",
       "1     17.8  396.90   9.14  21.6  \n",
       "2     17.8  392.83   4.03  34.7  \n",
       "3     18.7  394.63   2.94  33.4  \n",
       "4     18.7  396.90   5.33  36.2  "
      ]
     },
     "execution_count": 12,
     "metadata": {},
     "output_type": "execute_result"
    }
   ],
   "source": [
    "import pandas as pd\n",
    "df = pd.read_csv('https://archive.ics.uci.edu/ml/machine-learning-databases/housing/housing.data',\n",
    "                 header=None, sep='\\s+')\n",
    "df.columns = ['CRIM', 'ZN', 'INDUS', 'CHAS', 'NOX', 'RM', 'AGE', 'DIS', 'RAD',\n",
    "              'TAX', 'PTRATIO', 'B', 'LSTAT', 'MEDV']\n",
    "df.head()"
   ]
  },
  {
   "attachments": {},
   "cell_type": "markdown",
   "id": "08333a74",
   "metadata": {},
   "source": [
    "14個の変数があるが、それぞれについて簡単に説明する。\n",
    "\n",
    "| 変数名  | その内容                                                       |\n",
    "|---------|----------------------------------------------------------------|\n",
    "| CRIM    | 人口 1 人当たりの犯罪発生数                                    |\n",
    "| ZN      | 25000 平方（フィート）以上の住居区画の占める割合                  |\n",
    "| INDUS   | 小売業以外の商業が占める面積の割合                             |\n",
    "| CHAS    | チャールズ川によるダミー変数 (1: 川の周辺, 0: それ以外)        |\n",
    "| NOX     | NOx の濃度                                                     |\n",
    "| RM      | 住居の平均部屋数                                               |\n",
    "| AGE     | 1940 年より前に建てられた物件の割合                            |\n",
    "| DIS     | 5 つのボストン市の雇用施設からの距離 (重み付け済)              |\n",
    "| RAD     | 環状高速道路へのアクセスしやすさ                               |\n",
    "| TAX     | 10000 ドルあたりの不動産税率の総計                           |\n",
    "| PTRATIO | 町毎の児童と教師の比率                                         |\n",
    "| B       | 町毎の黒人 (Bk) の比率を1000(Bk – 0.63)^2 で表した指標|\n",
    "| LSTAT   | 低所得層の人口割合 (%)                         |\n",
    "| MEDV    | 家屋の中央値（単位千ドル）                   |"
   ]
  },
  {
   "attachments": {},
   "cell_type": "markdown",
   "id": "a9705de0",
   "metadata": {},
   "source": [
    "ここで、`MEDV ` を応答変数($y$)とし、その他13個を説明変数を使うモデルを構築する。\n"
   ]
  },
  {
   "cell_type": "code",
   "execution_count": 13,
   "id": "13f589be",
   "metadata": {
    "lines_to_next_cell": 2,
    "name": "boston_housing_pls"
   },
   "outputs": [
    {
     "name": "stderr",
     "output_type": "stream",
     "text": [
      "/tmp/ipykernel_8470/1426646398.py:2: FutureWarning: In a future version of pandas all arguments of DataFrame.drop except for the argument 'labels' will be keyword-only.\n",
      "  X = df.drop('MEDV', 1)\n"
     ]
    },
    {
     "data": {
      "text/html": [
       "<table class=\"simpletable\">\n",
       "<caption>OLS Regression Results</caption>\n",
       "<tr>\n",
       "  <th>Dep. Variable:</th>          <td>MEDV</td>       <th>  R-squared:         </th> <td>   0.741</td> \n",
       "</tr>\n",
       "<tr>\n",
       "  <th>Model:</th>                   <td>OLS</td>       <th>  Adj. R-squared:    </th> <td>   0.734</td> \n",
       "</tr>\n",
       "<tr>\n",
       "  <th>Method:</th>             <td>Least Squares</td>  <th>  F-statistic:       </th> <td>   108.1</td> \n",
       "</tr>\n",
       "<tr>\n",
       "  <th>Date:</th>             <td>Thu, 01 Jun 2023</td> <th>  Prob (F-statistic):</th> <td>6.72e-135</td>\n",
       "</tr>\n",
       "<tr>\n",
       "  <th>Time:</th>                 <td>18:12:36</td>     <th>  Log-Likelihood:    </th> <td> -1498.8</td> \n",
       "</tr>\n",
       "<tr>\n",
       "  <th>No. Observations:</th>      <td>   506</td>      <th>  AIC:               </th> <td>   3026.</td> \n",
       "</tr>\n",
       "<tr>\n",
       "  <th>Df Residuals:</th>          <td>   492</td>      <th>  BIC:               </th> <td>   3085.</td> \n",
       "</tr>\n",
       "<tr>\n",
       "  <th>Df Model:</th>              <td>    13</td>      <th>                     </th>     <td> </td>    \n",
       "</tr>\n",
       "<tr>\n",
       "  <th>Covariance Type:</th>      <td>nonrobust</td>    <th>                     </th>     <td> </td>    \n",
       "</tr>\n",
       "</table>\n",
       "<table class=\"simpletable\">\n",
       "<tr>\n",
       "     <td></td>        <th>coef</th>     <th>std err</th>      <th>t</th>      <th>P>|t|</th>  <th>[0.025</th>    <th>0.975]</th>  \n",
       "</tr>\n",
       "<tr>\n",
       "  <th>const</th>   <td>   36.4595</td> <td>    5.103</td> <td>    7.144</td> <td> 0.000</td> <td>   26.432</td> <td>   46.487</td>\n",
       "</tr>\n",
       "<tr>\n",
       "  <th>CRIM</th>    <td>   -0.1080</td> <td>    0.033</td> <td>   -3.287</td> <td> 0.001</td> <td>   -0.173</td> <td>   -0.043</td>\n",
       "</tr>\n",
       "<tr>\n",
       "  <th>ZN</th>      <td>    0.0464</td> <td>    0.014</td> <td>    3.382</td> <td> 0.001</td> <td>    0.019</td> <td>    0.073</td>\n",
       "</tr>\n",
       "<tr>\n",
       "  <th>INDUS</th>   <td>    0.0206</td> <td>    0.061</td> <td>    0.334</td> <td> 0.738</td> <td>   -0.100</td> <td>    0.141</td>\n",
       "</tr>\n",
       "<tr>\n",
       "  <th>CHAS</th>    <td>    2.6867</td> <td>    0.862</td> <td>    3.118</td> <td> 0.002</td> <td>    0.994</td> <td>    4.380</td>\n",
       "</tr>\n",
       "<tr>\n",
       "  <th>NOX</th>     <td>  -17.7666</td> <td>    3.820</td> <td>   -4.651</td> <td> 0.000</td> <td>  -25.272</td> <td>  -10.262</td>\n",
       "</tr>\n",
       "<tr>\n",
       "  <th>RM</th>      <td>    3.8099</td> <td>    0.418</td> <td>    9.116</td> <td> 0.000</td> <td>    2.989</td> <td>    4.631</td>\n",
       "</tr>\n",
       "<tr>\n",
       "  <th>AGE</th>     <td>    0.0007</td> <td>    0.013</td> <td>    0.052</td> <td> 0.958</td> <td>   -0.025</td> <td>    0.027</td>\n",
       "</tr>\n",
       "<tr>\n",
       "  <th>DIS</th>     <td>   -1.4756</td> <td>    0.199</td> <td>   -7.398</td> <td> 0.000</td> <td>   -1.867</td> <td>   -1.084</td>\n",
       "</tr>\n",
       "<tr>\n",
       "  <th>RAD</th>     <td>    0.3060</td> <td>    0.066</td> <td>    4.613</td> <td> 0.000</td> <td>    0.176</td> <td>    0.436</td>\n",
       "</tr>\n",
       "<tr>\n",
       "  <th>TAX</th>     <td>   -0.0123</td> <td>    0.004</td> <td>   -3.280</td> <td> 0.001</td> <td>   -0.020</td> <td>   -0.005</td>\n",
       "</tr>\n",
       "<tr>\n",
       "  <th>PTRATIO</th> <td>   -0.9527</td> <td>    0.131</td> <td>   -7.283</td> <td> 0.000</td> <td>   -1.210</td> <td>   -0.696</td>\n",
       "</tr>\n",
       "<tr>\n",
       "  <th>B</th>       <td>    0.0093</td> <td>    0.003</td> <td>    3.467</td> <td> 0.001</td> <td>    0.004</td> <td>    0.015</td>\n",
       "</tr>\n",
       "<tr>\n",
       "  <th>LSTAT</th>   <td>   -0.5248</td> <td>    0.051</td> <td>  -10.347</td> <td> 0.000</td> <td>   -0.624</td> <td>   -0.425</td>\n",
       "</tr>\n",
       "</table>\n",
       "<table class=\"simpletable\">\n",
       "<tr>\n",
       "  <th>Omnibus:</th>       <td>178.041</td> <th>  Durbin-Watson:     </th> <td>   1.078</td> \n",
       "</tr>\n",
       "<tr>\n",
       "  <th>Prob(Omnibus):</th> <td> 0.000</td>  <th>  Jarque-Bera (JB):  </th> <td> 783.126</td> \n",
       "</tr>\n",
       "<tr>\n",
       "  <th>Skew:</th>          <td> 1.521</td>  <th>  Prob(JB):          </th> <td>8.84e-171</td>\n",
       "</tr>\n",
       "<tr>\n",
       "  <th>Kurtosis:</th>      <td> 8.281</td>  <th>  Cond. No.          </th> <td>1.51e+04</td> \n",
       "</tr>\n",
       "</table><br/><br/>Notes:<br/>[1] Standard Errors assume that the covariance matrix of the errors is correctly specified.<br/>[2] The condition number is large, 1.51e+04. This might indicate that there are<br/>strong multicollinearity or other numerical problems."
      ],
      "text/plain": [
       "<class 'statsmodels.iolib.summary.Summary'>\n",
       "\"\"\"\n",
       "                            OLS Regression Results                            \n",
       "==============================================================================\n",
       "Dep. Variable:                   MEDV   R-squared:                       0.741\n",
       "Model:                            OLS   Adj. R-squared:                  0.734\n",
       "Method:                 Least Squares   F-statistic:                     108.1\n",
       "Date:                Thu, 01 Jun 2023   Prob (F-statistic):          6.72e-135\n",
       "Time:                        18:12:36   Log-Likelihood:                -1498.8\n",
       "No. Observations:                 506   AIC:                             3026.\n",
       "Df Residuals:                     492   BIC:                             3085.\n",
       "Df Model:                          13                                         \n",
       "Covariance Type:            nonrobust                                         \n",
       "==============================================================================\n",
       "                 coef    std err          t      P>|t|      [0.025      0.975]\n",
       "------------------------------------------------------------------------------\n",
       "const         36.4595      5.103      7.144      0.000      26.432      46.487\n",
       "CRIM          -0.1080      0.033     -3.287      0.001      -0.173      -0.043\n",
       "ZN             0.0464      0.014      3.382      0.001       0.019       0.073\n",
       "INDUS          0.0206      0.061      0.334      0.738      -0.100       0.141\n",
       "CHAS           2.6867      0.862      3.118      0.002       0.994       4.380\n",
       "NOX          -17.7666      3.820     -4.651      0.000     -25.272     -10.262\n",
       "RM             3.8099      0.418      9.116      0.000       2.989       4.631\n",
       "AGE            0.0007      0.013      0.052      0.958      -0.025       0.027\n",
       "DIS           -1.4756      0.199     -7.398      0.000      -1.867      -1.084\n",
       "RAD            0.3060      0.066      4.613      0.000       0.176       0.436\n",
       "TAX           -0.0123      0.004     -3.280      0.001      -0.020      -0.005\n",
       "PTRATIO       -0.9527      0.131     -7.283      0.000      -1.210      -0.696\n",
       "B              0.0093      0.003      3.467      0.001       0.004       0.015\n",
       "LSTAT         -0.5248      0.051    -10.347      0.000      -0.624      -0.425\n",
       "==============================================================================\n",
       "Omnibus:                      178.041   Durbin-Watson:                   1.078\n",
       "Prob(Omnibus):                  0.000   Jarque-Bera (JB):              783.126\n",
       "Skew:                           1.521   Prob(JB):                    8.84e-171\n",
       "Kurtosis:                       8.281   Cond. No.                     1.51e+04\n",
       "==============================================================================\n",
       "\n",
       "Notes:\n",
       "[1] Standard Errors assume that the covariance matrix of the errors is correctly specified.\n",
       "[2] The condition number is large, 1.51e+04. This might indicate that there are\n",
       "strong multicollinearity or other numerical problems.\n",
       "\"\"\""
      ]
     },
     "execution_count": 13,
     "metadata": {},
     "output_type": "execute_result"
    }
   ],
   "source": [
    "import statsmodels.api as smp\n",
    "X = df.drop('MEDV', 1)\n",
    "X = smp.add_constant(X)\n",
    "Y = df['MEDV']\n",
    "model = smp.OLS(Y, X)\n",
    "result = model.fit()\n",
    "result.summary()"
   ]
  },
  {
   "attachments": {},
   "cell_type": "markdown",
   "id": "aa1f6576",
   "metadata": {},
   "source": [
    "出力の係数表の P 値から、`MEDV` に影響のある変数は、`CRIM` と `ZN` 、`CHAS` 、`NOX` 、`RM`、`DIS`、`RAD`、`TAX`、`PTRATIO`、`B`、`LSTAT` の11個ということになる。\n",
    "たとえば、`CHAS` の係数は2.6867とある。`CHAS`はチャールズ川の周辺の住宅であれば 1 さもなければ 0 が値として記録されている。したがって、他の（説明変数として有用な）11個の変数の条件がまったく同じで、川の周辺かどうかという1点だけが異なる物件があった場合、川の周辺にある家屋（の中央値）は、2686ドル高いと予想されることになる。\n",
    "\n",
    "重回帰分析において、応答変数の予測に役立つ説明変数を選択する手法については、次章で扱う統計モデリングで重要な課題であり、詳しく説明する。\n"
   ]
  },
  {
   "attachments": {},
   "cell_type": "markdown",
   "id": "eddf3537",
   "metadata": {},
   "source": [
    "### 交互作用\n",
    "\n",
    "（数式について小テストで出すことはない）"
   ]
  },
  {
   "attachments": {},
   "cell_type": "markdown",
   "id": "0990b1fd",
   "metadata": {},
   "source": [
    "説明変数が複数ある場合、組み合わせによる相乗効果（そうじょうこうか：synergy effect）が考えられることがある。\n",
    "\n",
    "たとえば、喫煙者（きつえんしゃ：smoker）は非喫煙者に比べて肺ガンの発症（はっしょう、発病）リスクが高いが、喫煙者で飲酒（いんしゅ）量の多い者では、肺ガン発症リスクがさらに高まると考えられている。これを**交互作用**と呼ぶ。"
   ]
  },
  {
   "attachments": {},
   "cell_type": "markdown",
   "id": "078a8657",
   "metadata": {},
   "source": [
    "二つの説明変数 $x_1$ と $x_2$ 、そして、その交互作用を考慮した回帰分析は次のモデルで表される。２つの変数を掛け算した値と、その係数が追加される。"
   ]
  },
  {
   "attachments": {},
   "cell_type": "markdown",
   "id": "aaba20db",
   "metadata": {},
   "source": [
    "$$\n",
    "y \\sim b + a_1 \\,  x_1 + a_2 \\,  x_2 + a_3 \\, x_1 \\, x_2\n",
    "$$\n",
    "\n",
    "仮に3つ変数がある場合、それらすべての交互作用を検討するならば、以下のモデルとなる。\n",
    "\n",
    "$$\n",
    "y \\sim b + a_1 \\, x_1 + a_2 \\,  x_2 + a_3 \\, x_3 + \n",
    "           a_4 \\, x_1 x_2 + a_5 \\,  x_1 x_3 + a_6 \\, x_2 x_3 + \n",
    "\t\t   a_7 \\,  x_1 x_2 x_3\n",
    "$$"
   ]
  },
  {
   "attachments": {},
   "cell_type": "markdown",
   "id": "08dc5b2c",
   "metadata": {},
   "source": [
    "ただし、説明変数が複数ある場合に、必ず、こうした交互作用をモデルに組みこなければいけないということはない。\n",
    "\n",
    "なお、因果（いんが、結果と原因）の観点からすると、飲酒量が増えたからといって、かならず肺ガンになるわけではない。つまり飲酒が直接的に肺がんのリスクを高めるとはいえない。\n",
    "実際には、飲酒量の多い者は一般にヘビースモーカーであるということである。この場合、喫煙は**交絡**（こうらく：confounding）因子と呼ばれる。交絡因子は、原因と相関を持ち、結果とは因果関係がある（飲酒と喫煙は相関し、喫煙は肺ガンのリスクを高めるが、飲酒と喫煙に相関とは別に、因果の関係があるわけではない）。"
   ]
  },
  {
   "attachments": {},
   "cell_type": "markdown",
   "id": "afce026e",
   "metadata": {},
   "source": [
    "### ダミー変数"
   ]
  },
  {
   "attachments": {},
   "cell_type": "markdown",
   "id": "43909eab",
   "metadata": {},
   "source": [
    "重回帰モデルでは、説明変数にカテゴリ変数を加えることができる。\n",
    "高校生の体重を身長から予測しようとするのであれば、性別が考慮されるべきであろう。\n",
    "そこで、「女」「男」「どちらでもない」の3つの水準からなるカテゴリ変数をモデルに投入するわけだが、\n",
    "モデルを考えるのであれば、次のようになるだろう。\n",
    "\n",
    "$$\n",
    "\\text{体重} \\sim b + a_1 \\times \\text{身長} \\times a_2 \\text{性別}\n",
    "$$\n",
    "\n",
    "ただし、性別はカテゴリ水準なので（数値ではないので）、ここままではこのモデルを計算できない。\n",
    "そこで、カテゴリ変数は数値化する。もっとも簡単な方法は、該当する水準には1を、それ以外には0をあてはめることである。"
   ]
  },
  {
   "attachments": {},
   "cell_type": "markdown",
   "id": "dfd8dc68",
   "metadata": {},
   "source": [
    "<center>\n",
    "\n",
    "| 女 | 男 | 他 |\n",
    "|----|----|----|\n",
    "| 1  | 0  | 0  |\n",
    "| 0  | 1  | 0  |\n",
    "| 0  | 0  | 1  |\n",
    "</center>"
   ]
  },
  {
   "attachments": {},
   "cell_type": "markdown",
   "id": "35b5f575",
   "metadata": {},
   "source": [
    "水準が0か1に置き換えられたカテゴリ変数を、**ダミー変数**(dummy variable)という。また、機械学習の文脈では**ワンホットエンコーディング**(one hot encoding)ともいう。\n",
    "\n",
    "一般にカテゴリ変数をダミー変数に置き換える作業は、分析者がなにもせずともソフトウェアの方で勝手に実行してくれるのだが、機械学習でよく使われるPythonの**scikit-learn**ライブラリでは、分析者があらかじめダミー変数に置き換えることはっきりと指定しておく必要がある）。なお、Anaconda以外でPythonの環境を整えた受講生は `pip3 install scikit-learn` を実行して **sklearn** (scikit-learn)ライブラリをインストールしておくこと。"
   ]
  },
  {
   "attachments": {},
   "cell_type": "markdown",
   "id": "89312062",
   "metadata": {},
   "source": [
    "ただし、回帰モデルではダミー化（ワンホットエンコード）された変数はそのまま使えない。一般にダミー変数を設定する場合、そのうち１つの水準を省略される。たとえば、次の例では女という水準が消えている（通常は、これもソフトウェアが自動的に設定するが、注意が必要である）。"
   ]
  },
  {
   "attachments": {},
   "cell_type": "markdown",
   "id": "87ee1fe2",
   "metadata": {},
   "source": [
    "<center>\n",
    "\n",
    "| 男 | 他 | \n",
    "|----|----|\n",
    "| 1  | 0  |\n",
    "| 0  | 1  |\n",
    "</center>"
   ]
  },
  {
   "attachments": {},
   "cell_type": "markdown",
   "id": "d73aad28",
   "metadata": {},
   "source": [
    "これは「女」というデータが消されたということではない。女性の平均身長が基準値（ベース）と解釈され、これに「男」あるいは「他」という属性の被験者の場合に\n",
    "どれくらいプラスないしマイナスがあるかが推定されるのである。\n",
    "\n",
    "すると、回帰分析の係数として、次のような結果が示される。"
   ]
  },
  {
   "attachments": {},
   "cell_type": "markdown",
   "id": "922c126a",
   "metadata": {},
   "source": [
    "<center>\n",
    "\n",
    "| 身長 | 0.4 |\n",
    "|----|----|\n",
    "| 性別 | 男 0.5 |\n",
    "| 性別 | 他 0.2 |\n",
    "</center>"
   ]
  },
  {
   "attachments": {},
   "cell_type": "markdown",
   "id": "f7300141",
   "metadata": {},
   "source": [
    "これは、身長が1センチ伸びるごとに、体重が 0.4 キロ増えることを意味する（実際にそういう研究結果があるわけではない）が、\n",
    "これに加えて、性別が（女性ではなく）「男」だと、さらに体重が 0.5 キロのプラスとなり、また（女性ではなく）「他」の場合だと 0.2 キロ増えることを表してる。\n",
    "ダミー変数化された分析で、係数表に表示されていない水準は、基準値となっているのである。これを**参照水準**（さんしょうすいじゅん：reference level）などとよぶ。\n",
    "\n",
    "\n"
   ]
  },
  {
   "attachments": {},
   "cell_type": "markdown",
   "id": "7745a0c6",
   "metadata": {},
   "source": [
    "伝統的な統計学の分野では、数値の変数とカテゴリ変数の両方を含むモデルを**共分散分析**（きょうぶんさんぶんせき：analysis of covariance）と呼ぶ場合もある。\n"
   ]
  },
  {
   "attachments": {},
   "cell_type": "markdown",
   "id": "07351f94",
   "metadata": {},
   "source": [
    "## ＊ここまでの要約ビデオ４（過去の講義の録画です）\n",
    "\n",
    "<font color=\"red\">石田講義録画</font>\n",
    "<iframe width=\"640\" height=\"360\" src=\"https://web.microsoftstream.com/embed/video/144e7410-07e5-46d1-ada0-8fd0b95689dc?autoplay=false&showinfo=true\" allowfullscreen style=\"border:none;\"></iframe>"
   ]
  },
  {
   "attachments": {},
   "cell_type": "markdown",
   "id": "10719a37",
   "metadata": {},
   "source": [
    "## ロジスティク回帰モデル"
   ]
  },
  {
   "attachments": {},
   "cell_type": "markdown",
   "id": "f0e8b717",
   "metadata": {},
   "source": [
    "<span style=\"color: red; \">Key Points of Today's Lecture</span>\n",
    "<iframe width=\"560\" height=\"315\" src=\"https://www.youtube.com/embed/yIYKR4sgzI8\" title=\"YouTube video player\" frameborder=\"0\" allow=\"accelerometer; autoplay; clipboard-write; encrypted-media; gyroscope; picture-in-picture; web-share\" allowfullscreen></iframe>"
   ]
  },
  {
   "attachments": {},
   "cell_type": "markdown",
   "id": "8e62fd86",
   "metadata": {},
   "source": [
    "前節の回帰モデルでは、応答変数が実数であった。回帰モデルは、応答変数がカテゴリ変数の場合に拡張することができる。特に、応答変数が２値の場合はロジスティク回帰モデルといい、応用範囲がきわめて広い。２値とは、たとえば、内閣を「支持する」あるいは「支持しない」、検査で「陽性positive」あるいは「陰性negative」、試みが「成功」あるいは「失敗」など、水準が2つに限定されたカテゴリ変数のことである。応答変数と説明変数の関係をデータから探るので、**教師あり学習** モデルということになる。ロジスティク回帰モデルの目的は、応答変数を **分類** することにある。\n",
    "\n",
    "二値の応答変数を扱う場合、ロジスティク回帰モデルでは一方に数値の 1、他方に 0 を割り当ててるのが一般的である。すなわち説明変数から、応答変数が 1 となるか 0 となるかを予想する。\n",
    "ただし、ロジスティク回帰モデルが実際に予測するのは、応答変数が 1 となる確率である。"
   ]
  },
  {
   "attachments": {},
   "cell_type": "markdown",
   "id": "f63abf95",
   "metadata": {},
   "source": [
    "住宅ローン（housing loan）を例にとろう。ここで借り手がデフォルト（返済不能）になるかどうかを予想したいとする。ここで返済不能(default)を1とし、返済を0とする場合、ロジスティク回帰分析は、ある顧客がデフォルトになる確率を求める。この確率が 0.5 を超えているのであれば 1（デフォルト）、さもなければ 0 （返済） と予測する。\n",
    "確率であるので、その値は 0 から 1.0 の範囲でなければならない。ここでは実際に、ロジスティック回帰分析を実行し、出力の解釈などについて説明しよう。\n"
   ]
  },
  {
   "attachments": {},
   "cell_type": "markdown",
   "id": "01d0eabf",
   "metadata": {},
   "source": [
    "### ロジット関数"
   ]
  },
  {
   "attachments": {},
   "cell_type": "markdown",
   "id": "5c0a087a",
   "metadata": {},
   "source": [
    "ある個体（たとえば借り手）について、複数の測定値（性別、年収、学歴など）が記録されており、これを $x_1, x_2, \\dots,  x_n$ と表そう。そして、その個体について 1 となる（返済不能となる）確率を $z$ とする。重回帰モデルで $z = b + a_1 x_1 +  a_2 x_2 \\dots +  a_n x_n$  としたいところだが、このままでは $z$ が確率として 0 から 1 の間に収まることが保証されない。\n",
    "\n",
    "ところが、この式を以下の式にすると確率としての $p$ が 0 から 1.0 の間の数値におさまさる。\n",
    "この変形を行う関数を**ロジスティク関数**あるいはシグモイド関数という。\n",
    "\n",
    "$$\n",
    "p = \\frac{1}{1+e^{-z}}\n",
    "$$\n",
    "\n",
    "Pythonでロジスティック関数を確認してみよう。\n",
    "\n"
   ]
  },
  {
   "cell_type": "code",
   "execution_count": 14,
   "id": "e1d222cd",
   "metadata": {
    "name": "sigmoid"
   },
   "outputs": [
    {
     "data": {
      "image/png": "[encoded data removed]",
      "text/plain": [
       "<Figure size 640x480 with 1 Axes>"
      ]
     },
     "metadata": {},
     "output_type": "display_data"
    }
   ],
   "source": [
    "import numpy as np\n",
    "import matplotlib.pyplot as plt\n",
    "\n",
    "# -6, 6 の範囲を0.1間隔でとった配列\n",
    "z = np.arange(-8, 8, 0.1)\n",
    "# xにロジスティック関数を適用する\n",
    "p = 1 / (1 + np.exp(-z) )\n",
    "# グラフの設定\n",
    "plt.plot(z, p) \n",
    "plt.xlim(-6, 6) \n",
    "plt.ylim(-0.1, 1.1) \n",
    "plt.grid() "
   ]
  },
  {
   "attachments": {},
   "cell_type": "markdown",
   "id": "70ce1d23",
   "metadata": {},
   "source": [
    "ロジスティック関数を適用するとY軸のPの範囲が 0 から 1.0 になっているのが確認できるだろう。"
   ]
  },
  {
   "attachments": {},
   "cell_type": "markdown",
   "id": "48f39f21",
   "metadata": {},
   "source": [
    "この関数を回帰モデルに応用することを考える。まず、重回帰モデルが以下のように表されるとしよう。\n",
    "\n",
    "$$\n",
    "z = b + a_1 x_1 +  a_2 x_2 \\dots +  a_n x_n\n",
    "$$\n",
    "\n",
    "すでに述べたように、このままでは、$z$ は 0 から 1.0 の間におさまらない。ところで、先のロジスティック関数にあった $z$ をくくりだすと、以下のような形になる。\n",
    "\n",
    "$$\n",
    "exp(z) = \\frac{p}{1-p}\n",
    "$$\n",
    "\n",
    "この両辺の対数を取ると、以下のようになる。\n",
    "\n",
    "$$\n",
    "log(exp(z)) = log(\\frac{p}{1-p}) = z\n",
    "$$\n",
    "\n",
    "ここで $z$ が、線形モデルの $z = b + a_1 x_1 +  a_2 x_2 \\dots +  a_n x_n$ だと読み替えよう。すると、線形モデルの式と、確率 $p$ が対応付けられることになる。\n",
    "\n",
    "ここでを$log(\\frac{p}{1-p})$ を**ロジット**という。\n",
    "\n",
    "ちなみに $\\frac{p}{1-p}$ は確率の比のことであるが、これを**オッズ**(odds)という（医療分野でリスクの近似値として使われる）。たとえば $p$ が成功する確率ならば、オッズは成功する確率が失敗する確率の何倍であるかを意味する。成功する確率が 0.7 ならば（失敗する確率は0.3なので）オッズは 0.7/0.3 = 2.33 となる。つまり、成功する確率は失敗する確率の約2.3倍あると解釈される。\n",
    "\n",
    "$log(\\frac{p}{1-p})$ は、この対数なので、**対数オッズ**という。"
   ]
  },
  {
   "attachments": {},
   "cell_type": "markdown",
   "id": "2f3d3938",
   "metadata": {},
   "source": [
    "また、$f(p) = log(\\frac{p}{1-p})$ と定義すると、この関数 $f$ を**ロジット関数**(logit)という。\n",
    "ただし、ロジスティック回帰分析では、ロジット関数を**リンク関数**(link function)ということもある。\n",
    "\n",
    "ロジット関数は、先のシグモイド関数（ロジスティック関数）の逆関数ということになる。\n",
    "リンク関数を使うことにより。説明変数の線形モデル $z$ と、応答変数（ここでは確率 $p$）を関連付けることができるのである。\n",
    "\n",
    "なおロジスティック回帰分析の予測結果について、その精度を調べる場合、通常の回帰分析における決定係数ような指標は使えない（そもそも予測するのが数値ではないので）。\n",
    "代わりに、正解と不正解の割合のような指標が使われる。これらについては次週の統計的モデリングで紹介する。"
   ]
  },
  {
   "attachments": {},
   "cell_type": "markdown",
   "id": "56c3eb3a",
   "metadata": {},
   "source": [
    "## ロジスティック回帰分析を実行する"
   ]
  },
  {
   "attachments": {},
   "cell_type": "markdown",
   "id": "fb6869ab",
   "metadata": {},
   "source": [
    "実際にロジスティック回帰分析を実行してみよう。"
   ]
  },
  {
   "attachments": {},
   "cell_type": "markdown",
   "id": "05a2e348",
   "metadata": {},
   "source": [
    "**statsmodels** ライブラリに学業成績に関するデータがあるので、それを利用しよう。\n",
    "\n",
    "[外部サイト：Spector and Mazzeo (1980) - Program Effectiveness Data](https://www.statsmodels.org/stable/datasets/generated/spector.html)"
   ]
  },
  {
   "cell_type": "code",
   "execution_count": 15,
   "id": "fccde7ac",
   "metadata": {
    "name": "spector"
   },
   "outputs": [
    {
     "data": {
      "text/html": [
       "<div>\n",
       "<style scoped>\n",
       "    .dataframe tbody tr th:only-of-type {\n",
       "        vertical-align: middle;\n",
       "    }\n",
       "\n",
       "    .dataframe tbody tr th {\n",
       "        vertical-align: top;\n",
       "    }\n",
       "\n",
       "    .dataframe thead th {\n",
       "        text-align: right;\n",
       "    }\n",
       "</style>\n",
       "<table border=\"1\" class=\"dataframe\">\n",
       "  <thead>\n",
       "    <tr style=\"text-align: right;\">\n",
       "      <th></th>\n",
       "      <th>GPA</th>\n",
       "      <th>TUCE</th>\n",
       "      <th>PSI</th>\n",
       "      <th>GRADE</th>\n",
       "    </tr>\n",
       "  </thead>\n",
       "  <tbody>\n",
       "    <tr>\n",
       "      <th>0</th>\n",
       "      <td>2.66</td>\n",
       "      <td>20.0</td>\n",
       "      <td>0.0</td>\n",
       "      <td>0.0</td>\n",
       "    </tr>\n",
       "    <tr>\n",
       "      <th>1</th>\n",
       "      <td>2.89</td>\n",
       "      <td>22.0</td>\n",
       "      <td>0.0</td>\n",
       "      <td>0.0</td>\n",
       "    </tr>\n",
       "    <tr>\n",
       "      <th>2</th>\n",
       "      <td>3.28</td>\n",
       "      <td>24.0</td>\n",
       "      <td>0.0</td>\n",
       "      <td>0.0</td>\n",
       "    </tr>\n",
       "    <tr>\n",
       "      <th>3</th>\n",
       "      <td>2.92</td>\n",
       "      <td>12.0</td>\n",
       "      <td>0.0</td>\n",
       "      <td>0.0</td>\n",
       "    </tr>\n",
       "    <tr>\n",
       "      <th>4</th>\n",
       "      <td>4.00</td>\n",
       "      <td>21.0</td>\n",
       "      <td>0.0</td>\n",
       "      <td>1.0</td>\n",
       "    </tr>\n",
       "    <tr>\n",
       "      <th>5</th>\n",
       "      <td>2.86</td>\n",
       "      <td>17.0</td>\n",
       "      <td>0.0</td>\n",
       "      <td>0.0</td>\n",
       "    </tr>\n",
       "    <tr>\n",
       "      <th>6</th>\n",
       "      <td>2.76</td>\n",
       "      <td>17.0</td>\n",
       "      <td>0.0</td>\n",
       "      <td>0.0</td>\n",
       "    </tr>\n",
       "    <tr>\n",
       "      <th>7</th>\n",
       "      <td>2.87</td>\n",
       "      <td>21.0</td>\n",
       "      <td>0.0</td>\n",
       "      <td>0.0</td>\n",
       "    </tr>\n",
       "    <tr>\n",
       "      <th>8</th>\n",
       "      <td>3.03</td>\n",
       "      <td>25.0</td>\n",
       "      <td>0.0</td>\n",
       "      <td>0.0</td>\n",
       "    </tr>\n",
       "    <tr>\n",
       "      <th>9</th>\n",
       "      <td>3.92</td>\n",
       "      <td>29.0</td>\n",
       "      <td>0.0</td>\n",
       "      <td>1.0</td>\n",
       "    </tr>\n",
       "    <tr>\n",
       "      <th>10</th>\n",
       "      <td>2.63</td>\n",
       "      <td>20.0</td>\n",
       "      <td>0.0</td>\n",
       "      <td>0.0</td>\n",
       "    </tr>\n",
       "    <tr>\n",
       "      <th>11</th>\n",
       "      <td>3.32</td>\n",
       "      <td>23.0</td>\n",
       "      <td>0.0</td>\n",
       "      <td>0.0</td>\n",
       "    </tr>\n",
       "    <tr>\n",
       "      <th>12</th>\n",
       "      <td>3.57</td>\n",
       "      <td>23.0</td>\n",
       "      <td>0.0</td>\n",
       "      <td>0.0</td>\n",
       "    </tr>\n",
       "    <tr>\n",
       "      <th>13</th>\n",
       "      <td>3.26</td>\n",
       "      <td>25.0</td>\n",
       "      <td>0.0</td>\n",
       "      <td>1.0</td>\n",
       "    </tr>\n",
       "    <tr>\n",
       "      <th>14</th>\n",
       "      <td>3.53</td>\n",
       "      <td>26.0</td>\n",
       "      <td>0.0</td>\n",
       "      <td>0.0</td>\n",
       "    </tr>\n",
       "    <tr>\n",
       "      <th>15</th>\n",
       "      <td>2.74</td>\n",
       "      <td>19.0</td>\n",
       "      <td>0.0</td>\n",
       "      <td>0.0</td>\n",
       "    </tr>\n",
       "    <tr>\n",
       "      <th>16</th>\n",
       "      <td>2.75</td>\n",
       "      <td>25.0</td>\n",
       "      <td>0.0</td>\n",
       "      <td>0.0</td>\n",
       "    </tr>\n",
       "    <tr>\n",
       "      <th>17</th>\n",
       "      <td>2.83</td>\n",
       "      <td>19.0</td>\n",
       "      <td>0.0</td>\n",
       "      <td>0.0</td>\n",
       "    </tr>\n",
       "    <tr>\n",
       "      <th>18</th>\n",
       "      <td>3.12</td>\n",
       "      <td>23.0</td>\n",
       "      <td>1.0</td>\n",
       "      <td>0.0</td>\n",
       "    </tr>\n",
       "    <tr>\n",
       "      <th>19</th>\n",
       "      <td>3.16</td>\n",
       "      <td>25.0</td>\n",
       "      <td>1.0</td>\n",
       "      <td>1.0</td>\n",
       "    </tr>\n",
       "    <tr>\n",
       "      <th>20</th>\n",
       "      <td>2.06</td>\n",
       "      <td>22.0</td>\n",
       "      <td>1.0</td>\n",
       "      <td>0.0</td>\n",
       "    </tr>\n",
       "    <tr>\n",
       "      <th>21</th>\n",
       "      <td>3.62</td>\n",
       "      <td>28.0</td>\n",
       "      <td>1.0</td>\n",
       "      <td>1.0</td>\n",
       "    </tr>\n",
       "    <tr>\n",
       "      <th>22</th>\n",
       "      <td>2.89</td>\n",
       "      <td>14.0</td>\n",
       "      <td>1.0</td>\n",
       "      <td>0.0</td>\n",
       "    </tr>\n",
       "    <tr>\n",
       "      <th>23</th>\n",
       "      <td>3.51</td>\n",
       "      <td>26.0</td>\n",
       "      <td>1.0</td>\n",
       "      <td>0.0</td>\n",
       "    </tr>\n",
       "    <tr>\n",
       "      <th>24</th>\n",
       "      <td>3.54</td>\n",
       "      <td>24.0</td>\n",
       "      <td>1.0</td>\n",
       "      <td>1.0</td>\n",
       "    </tr>\n",
       "    <tr>\n",
       "      <th>25</th>\n",
       "      <td>2.83</td>\n",
       "      <td>27.0</td>\n",
       "      <td>1.0</td>\n",
       "      <td>1.0</td>\n",
       "    </tr>\n",
       "    <tr>\n",
       "      <th>26</th>\n",
       "      <td>3.39</td>\n",
       "      <td>17.0</td>\n",
       "      <td>1.0</td>\n",
       "      <td>1.0</td>\n",
       "    </tr>\n",
       "    <tr>\n",
       "      <th>27</th>\n",
       "      <td>2.67</td>\n",
       "      <td>24.0</td>\n",
       "      <td>1.0</td>\n",
       "      <td>0.0</td>\n",
       "    </tr>\n",
       "    <tr>\n",
       "      <th>28</th>\n",
       "      <td>3.65</td>\n",
       "      <td>21.0</td>\n",
       "      <td>1.0</td>\n",
       "      <td>1.0</td>\n",
       "    </tr>\n",
       "    <tr>\n",
       "      <th>29</th>\n",
       "      <td>4.00</td>\n",
       "      <td>23.0</td>\n",
       "      <td>1.0</td>\n",
       "      <td>1.0</td>\n",
       "    </tr>\n",
       "    <tr>\n",
       "      <th>30</th>\n",
       "      <td>3.10</td>\n",
       "      <td>21.0</td>\n",
       "      <td>1.0</td>\n",
       "      <td>0.0</td>\n",
       "    </tr>\n",
       "    <tr>\n",
       "      <th>31</th>\n",
       "      <td>2.39</td>\n",
       "      <td>19.0</td>\n",
       "      <td>1.0</td>\n",
       "      <td>1.0</td>\n",
       "    </tr>\n",
       "  </tbody>\n",
       "</table>\n",
       "</div>"
      ],
      "text/plain": [
       "     GPA  TUCE  PSI  GRADE\n",
       "0   2.66  20.0  0.0    0.0\n",
       "1   2.89  22.0  0.0    0.0\n",
       "2   3.28  24.0  0.0    0.0\n",
       "3   2.92  12.0  0.0    0.0\n",
       "4   4.00  21.0  0.0    1.0\n",
       "5   2.86  17.0  0.0    0.0\n",
       "6   2.76  17.0  0.0    0.0\n",
       "7   2.87  21.0  0.0    0.0\n",
       "8   3.03  25.0  0.0    0.0\n",
       "9   3.92  29.0  0.0    1.0\n",
       "10  2.63  20.0  0.0    0.0\n",
       "11  3.32  23.0  0.0    0.0\n",
       "12  3.57  23.0  0.0    0.0\n",
       "13  3.26  25.0  0.0    1.0\n",
       "14  3.53  26.0  0.0    0.0\n",
       "15  2.74  19.0  0.0    0.0\n",
       "16  2.75  25.0  0.0    0.0\n",
       "17  2.83  19.0  0.0    0.0\n",
       "18  3.12  23.0  1.0    0.0\n",
       "19  3.16  25.0  1.0    1.0\n",
       "20  2.06  22.0  1.0    0.0\n",
       "21  3.62  28.0  1.0    1.0\n",
       "22  2.89  14.0  1.0    0.0\n",
       "23  3.51  26.0  1.0    0.0\n",
       "24  3.54  24.0  1.0    1.0\n",
       "25  2.83  27.0  1.0    1.0\n",
       "26  3.39  17.0  1.0    1.0\n",
       "27  2.67  24.0  1.0    0.0\n",
       "28  3.65  21.0  1.0    1.0\n",
       "29  4.00  23.0  1.0    1.0\n",
       "30  3.10  21.0  1.0    0.0\n",
       "31  2.39  19.0  1.0    1.0"
      ]
     },
     "execution_count": 15,
     "metadata": {},
     "output_type": "execute_result"
    }
   ],
   "source": [
    "import statsmodels.api as sm\n",
    "import pandas as pd\n",
    "df = sm.datasets.spector.load().data\n",
    "df = pd.DataFrame(df)\n",
    "df"
   ]
  },
  {
   "attachments": {},
   "cell_type": "markdown",
   "id": "285875d4",
   "metadata": {},
   "source": [
    "応答変数は `GRADE` で、ある学期の後期で成績があがったかを 1 （上がった）、0（上がらなかった）で表している。説明変数は、`GPA` `TUCE` `PSI` で、前期の成績ランク、統一テストの結果、ある教育プログラムを受けたかどうかである。\n",
    "\n",
    "目的は、後期の成績が上がったかどうかを、前期の成績、テスト結果、教育プログラムの受講の有無、などから予測することにある。\n",
    "\n",
    "Pythonでロジスティック回帰分析を実行してみよう。"
   ]
  },
  {
   "cell_type": "code",
   "execution_count": 16,
   "id": "d502f8a3",
   "metadata": {
    "name": "spector2"
   },
   "outputs": [
    {
     "name": "stdout",
     "output_type": "stream",
     "text": [
      "Optimization terminated successfully.\n",
      "         Current function value: 0.402801\n",
      "         Iterations 7\n"
     ]
    },
    {
     "data": {
      "text/html": [
       "<table class=\"simpletable\">\n",
       "<caption>Logit Regression Results</caption>\n",
       "<tr>\n",
       "  <th>Dep. Variable:</th>         <td>GRADE</td>      <th>  No. Observations:  </th>  <td>    32</td> \n",
       "</tr>\n",
       "<tr>\n",
       "  <th>Model:</th>                 <td>Logit</td>      <th>  Df Residuals:      </th>  <td>    28</td> \n",
       "</tr>\n",
       "<tr>\n",
       "  <th>Method:</th>                 <td>MLE</td>       <th>  Df Model:          </th>  <td>     3</td> \n",
       "</tr>\n",
       "<tr>\n",
       "  <th>Date:</th>            <td>Thu, 01 Jun 2023</td> <th>  Pseudo R-squ.:     </th>  <td>0.3740</td> \n",
       "</tr>\n",
       "<tr>\n",
       "  <th>Time:</th>                <td>18:13:03</td>     <th>  Log-Likelihood:    </th> <td> -12.890</td>\n",
       "</tr>\n",
       "<tr>\n",
       "  <th>converged:</th>             <td>True</td>       <th>  LL-Null:           </th> <td> -20.592</td>\n",
       "</tr>\n",
       "<tr>\n",
       "  <th>Covariance Type:</th>     <td>nonrobust</td>    <th>  LLR p-value:       </th> <td>0.001502</td>\n",
       "</tr>\n",
       "</table>\n",
       "<table class=\"simpletable\">\n",
       "<tr>\n",
       "      <td></td>         <th>coef</th>     <th>std err</th>      <th>z</th>      <th>P>|z|</th>  <th>[0.025</th>    <th>0.975]</th>  \n",
       "</tr>\n",
       "<tr>\n",
       "  <th>Intercept</th> <td>  -13.0213</td> <td>    4.931</td> <td>   -2.641</td> <td> 0.008</td> <td>  -22.687</td> <td>   -3.356</td>\n",
       "</tr>\n",
       "<tr>\n",
       "  <th>GPA</th>       <td>    2.8261</td> <td>    1.263</td> <td>    2.238</td> <td> 0.025</td> <td>    0.351</td> <td>    5.301</td>\n",
       "</tr>\n",
       "<tr>\n",
       "  <th>TUCE</th>      <td>    0.0952</td> <td>    0.142</td> <td>    0.672</td> <td> 0.501</td> <td>   -0.182</td> <td>    0.373</td>\n",
       "</tr>\n",
       "<tr>\n",
       "  <th>PSI</th>       <td>    2.3787</td> <td>    1.065</td> <td>    2.234</td> <td> 0.025</td> <td>    0.292</td> <td>    4.465</td>\n",
       "</tr>\n",
       "</table>"
      ],
      "text/plain": [
       "<class 'statsmodels.iolib.summary.Summary'>\n",
       "\"\"\"\n",
       "                           Logit Regression Results                           \n",
       "==============================================================================\n",
       "Dep. Variable:                  GRADE   No. Observations:                   32\n",
       "Model:                          Logit   Df Residuals:                       28\n",
       "Method:                           MLE   Df Model:                            3\n",
       "Date:                Thu, 01 Jun 2023   Pseudo R-squ.:                  0.3740\n",
       "Time:                        18:13:03   Log-Likelihood:                -12.890\n",
       "converged:                       True   LL-Null:                       -20.592\n",
       "Covariance Type:            nonrobust   LLR p-value:                  0.001502\n",
       "==============================================================================\n",
       "                 coef    std err          z      P>|z|      [0.025      0.975]\n",
       "------------------------------------------------------------------------------\n",
       "Intercept    -13.0213      4.931     -2.641      0.008     -22.687      -3.356\n",
       "GPA            2.8261      1.263      2.238      0.025       0.351       5.301\n",
       "TUCE           0.0952      0.142      0.672      0.501      -0.182       0.373\n",
       "PSI            2.3787      1.065      2.234      0.025       0.292       4.465\n",
       "==============================================================================\n",
       "\"\"\""
      ]
     },
     "execution_count": 16,
     "metadata": {},
     "output_type": "execute_result"
    }
   ],
   "source": [
    "import statsmodels.formula.api as smf\n",
    "model = smf.logit('GRADE ~ GPA + TUCE + PSI', data = df)\n",
    "res = model.fit()\n",
    "res.summary()"
   ]
  },
  {
   "attachments": {},
   "cell_type": "markdown",
   "id": "327fa19b",
   "metadata": {},
   "source": [
    "`GRADE ~ GPA + TUCE + PSI` の部分が、ロジスティック回帰のモデルを指定した部分である。\n",
    "\n",
    "出力であるが、`coef` という欄をみると、`GPA` は 2.8261、`TUCE` は0.0952、`PSI` は2.3787 と推定されている。この値は何だろうか？これらは線形モデル式の  $z = b + a_1 x_1 +  a_2 x_2 \\dots +  a_n x_n$ における $a_1$ や $a_2$ に対応する。\n",
    "\n"
   ]
  },
  {
   "attachments": {},
   "cell_type": "markdown",
   "id": "231266c2",
   "metadata": {},
   "source": [
    "ところで、この線形モデル式の $z$ は以下のリンク関数で確率 $p$ と結び付けられていた。 \n",
    "\n",
    "$$\n",
    "log(\\frac{p}{1-p}) = z = b + a_1 x_1 +  a_2 x_2 \\dots +  a_n x_n\n",
    "$$\n",
    "\n",
    "いま $z_1, z_2$ という2つの結果があって $x_1$ について一方は1で他方は0だとする。そして、$x_2, x_3 \\dots x_n$ については、まったく同じだとする。"
   ]
  },
  {
   "attachments": {},
   "cell_type": "markdown",
   "id": "28a02806",
   "metadata": {},
   "source": [
    "$$\n",
    "z_1 = log(\\frac{p_1}{1-p_1}) = b + a_1 \\times 1 +  a_2 x_2 \\dots +  a_n x_n\n",
    "$$\n",
    "\n",
    "$$\n",
    "z_2 =log(\\frac{p_2}{1-p_2}) = b + a_1 \\times 0 +  a_2 x_2 \\dots +  a_n x_n\n",
    "$$\n",
    "\n",
    "$z_1$ と $z_2$ の引き算をすると以下の結果となる。\n",
    "\n",
    "$$\n",
    "z_1 - z_2 = log(\\frac{p_1}{1-p_1}) - log(\\frac{p_2}{1-p_2}) = a_1 \n",
    "$$"
   ]
  },
  {
   "attachments": {},
   "cell_type": "markdown",
   "id": "af53da1a",
   "metadata": {},
   "source": [
    "$$\n",
    "z_1 - z_2 = log(\\frac{ \\frac{p_1}{1-p_1} } { \\frac{p_2}{1-p_2} }) = a_1 \n",
    "$$"
   ]
  },
  {
   "attachments": {},
   "cell_type": "markdown",
   "id": "522874e4",
   "metadata": {},
   "source": [
    "つまり、係数 $a_1$ は対数オッズ**比**ということになる。`exp()` をとるとオッズ比になる。"
   ]
  },
  {
   "attachments": {},
   "cell_type": "markdown",
   "id": "0bf72c20",
   "metadata": {},
   "source": [
    "[外部サイト：ウィキペディア：オッズ比](https://ja.wikipedia.org/wiki/%E3%82%AA%E3%83%83%E3%82%BA%E6%AF%94)\n",
    "\n",
    "ここで出力の `coef` に話を戻すと、`GPA` の係数として推定された 2.8261 は `exp()` を適用するとオッズ比ということになる。"
   ]
  },
  {
   "cell_type": "code",
   "execution_count": 17,
   "id": "0c42a950",
   "metadata": {
    "name": "odds"
   },
   "outputs": [
    {
     "data": {
      "text/plain": [
       "16.87950223018679"
      ]
     },
     "execution_count": 17,
     "metadata": {},
     "output_type": "execute_result"
    }
   ],
   "source": [
    "import numpy as np\n",
    "np.exp(2.8261)"
   ]
  },
  {
   "attachments": {},
   "cell_type": "markdown",
   "id": "24be50de",
   "metadata": {},
   "source": [
    "つまり、前期の成績ランクが1高いと、後期の成績が上がるオッズ（確率そのものではなく、確率の比、成績が上がらない確率に比べて）は約17倍になることを意味している。`TUCE` の0.0952、`PSI` の2.3787 についても、同様に解釈される。\n",
    "ただし、それぞれの係数は推定値であり、`GPA` の場合最小で 0.351 最大で 5.301 と幅があることは注意しておく必要がある。\n",
    "`TUCE` については p値が 0.5 となっているので帰無仮説（係数は０である）は棄却できない。つまり、`TUCE`の係数は 0である可能性が否定できない。実際、推定値の95％範囲として下限が-0.182 で上限が0.373と推定されている。この範囲に0が含まれている可能性があるので、後期の成績を予測する説明変数としては、あまり役に立たないことが分かる。\n",
    "\n"
   ]
  },
  {
   "attachments": {},
   "cell_type": "markdown",
   "id": "8af781a1",
   "metadata": {},
   "source": [
    "### 一般化線形モデル"
   ]
  },
  {
   "attachments": {},
   "cell_type": "markdown",
   "id": "b07ac9dc",
   "metadata": {},
   "source": [
    "<span style=\"color: red; \">Key Points of Today's Lecture</span>\n",
    "\n",
    "<iframe width=\"560\" height=\"315\" src=\"https://www.youtube.com/embed/ddCO2714W-o\" title=\"YouTube video player\" frameborder=\"0\" allow=\"accelerometer; autoplay; clipboard-write; encrypted-media; gyroscope; picture-in-picture; web-share\" allowfullscreen></iframe>"
   ]
  },
  {
   "attachments": {},
   "cell_type": "markdown",
   "id": "09adabd9",
   "metadata": {},
   "source": [
    "ロジスティック回帰分析では、応答変数が2値であった。簡単にいえば、 1 か 0 のどちらかになる変数である。確率 $p$ で一方の値、確率 $1-p$ でもう一方の値がでるような分布を**ベルヌーイ分布**（bernoulli  distribution）という。また、ベルヌーイ分布にしたがう値の集まり（コインを10回投げて、表と裏それぞれが出た回数）は**二項分布**（にこうぶんぷ：binomial distribution）にしたがう。ただし、データサイエンスの分野では、ベルヌーイ分布は、二項分布の特殊な場合（$N=1$）として、いずれも二項分布と表現することも多い。"
   ]
  },
  {
   "attachments": {},
   "cell_type": "markdown",
   "id": "dacba351",
   "metadata": {},
   "source": [
    "ちなみに一般に回帰分析では、応答変数として（誤差が正規分布にしたがう）実数値を想定している。一方、ロジスティック回帰では応答変数は2値である。この他にも、応答変数にカウント（出現回数）を想定したポアソン回帰という手法もある。\n",
    "そこで、これらをまとめて**一般化線形モデル**（いっぱんかせんけいもでる：Generalized linear model）ということも多い。\n"
   ]
  },
  {
   "attachments": {},
   "cell_type": "markdown",
   "id": "cee41511",
   "metadata": {},
   "source": [
    "### 最尤法"
   ]
  },
  {
   "attachments": {},
   "cell_type": "markdown",
   "id": "19ea58f4",
   "metadata": {},
   "source": [
    "回帰モデルでは残差が正規分布にしたがうとして、最小二乗法でパラメータを推定した。\n",
    "ロジスティック回帰においても、残差が近似的に（つまり、だいたい）正規分布にしたがうとみなして、最小二乗法が使われることがあるが、最尤法で計算を繰り返し推定することも行われている。\n",
    "\n",
    "コインで表が出ることを１、裏が出ることを０と表現し、コインを数回投げたとしよう。この例で、**最尤法** （さいゆうほう：method of maximum likelihood）は、データの応答変数の分布（ロジスティック回帰の場合は 1 と 0 それぞれの個数）から、1 （ないし 0） が生成される確率を推定する方法ということになる。\n",
    "\n",
    "たとえば、コインを5回投げて3回表がでたとする。コイン投げで我々は、（普通は）コインの表が出る確率は 1/2 と考えている。しかし、5回投げて表が3回出たという結果だけを考えた場合、表が出る確率は 3/5 ということになる。手もとのデータからすれば（つまり、コインで表が出る確率は1/2だという知識がなければ）、 3/5 と考えるのが妥当（尤もらしい、もっともらしい）と判断するのである。 \n",
    "5枚のうち3枚が表となったのだから 3/5 となるのは直感的に明らかであろうが、これをもう少し具体的に計算してみよう。\n",
    "\n",
    "あるコインでは表と裏それぞれの細工（さいく）が異なるので、表が出る確率も0.5とはみなせないかも知れない。そこで、なんども繰り返した結果から、表が出る確率 $p$ を推定したい。\n",
    "100回投げたところ、70回で表がでた。すると、表がでる確率は以下の式で表現される。\n",
    "\n",
    "\\begin{aligned}\n",
    "L(p)={}_{100}\\mathrm{C}_{70} \\, p^{70}(1-p)^{30}\n",
    "\\end{aligned}\n",
    "\n",
    "$L$ は尤度関数（ゆうどかんすう：likelihood function）を表すが、この $L(p)$ が最大値になる $p$ を求めるのが最尤法である。\n",
    "要は、表が70回出る確率と、裏が30回出る確率の積を、組み合わさの数だけ乗じているのである。$L(p)$ の実際の値が重要なのではなく、$p$ を最大化することが重要なので、計算のあつかいにくい乗算を避け、対数の加算に変えるのが一般的である。\n",
    "\n",
    "\\begin{aligned}\n",
    "\\log L(p)=70 \\log p + 30 \\log (1-p) + \\log {}_{100}\\mathrm{C}_{70}\n",
    "\\end{aligned}\n",
    "\n",
    "これを $p$ で微分する。\n",
    "\n",
    "\\begin{aligned}\n",
    "\\frac{d}{d p}\\log L(p)= \\frac{70}{p} - \\frac{30}{1-p}\n",
    "\\end{aligned}\n",
    "\n",
    "以下の式を 0 とおくと、結局、$p= 0.7$ がもっともらしい（尤もらしい）。 \n",
    "\n",
    "\\begin{aligned}\n",
    "\\frac{70}{p}-\\frac{30}{1-p}=0\n",
    "\\end{aligned}\n"
   ]
  },
  {
   "attachments": {},
   "cell_type": "markdown",
   "id": "eac50ae3",
   "metadata": {},
   "source": [
    "\n",
    "<span style=\"color: red; \">Key Points of Today's Lecture</span>\n",
    "\n",
    "<iframe width=\"560\" height=\"315\" src=\"https://www.youtube.com/embed/4KKV9yZCoM4\" frameborder=\"0\" allow=\"accelerometer; autoplay; encrypted-media; gyroscope; picture-in-picture\" allowfullscreen></iframe>\n",
    "\n",
    "確率と尤度の違いについて\n",
    "\n",
    "<iframe width=\"560\" height=\"315\" src=\"https://www.youtube.com/embed/pYxNSUDSFH4\" title=\"YouTube video player\" frameborder=\"0\" allow=\"accelerometer; autoplay; clipboard-write; encrypted-media; gyroscope; picture-in-picture; web-share\" allowfullscreen></iframe>"
   ]
  },
  {
   "attachments": {},
   "cell_type": "markdown",
   "id": "73946789",
   "metadata": {},
   "source": [
    "## クラスター分析"
   ]
  },
  {
   "attachments": {},
   "cell_type": "markdown",
   "id": "07271fc4",
   "metadata": {},
   "source": [
    "**クラスター分析**は、観測値をクラスター（グループ）に分ける手法である。あるいは、マーケッティング分野では、セグメントとも表現する。\n",
    "たとえば、ある商品を購入しそうな客と、そうではない客はセグメントとして分けられるだろう。客をセグメントに分けるには、その客の属性（性別、年齢）や、過去の購買履歴（こうばいりれき）などが説明変数となる。\n",
    "ただし、それぞれの客が実際に購入するかどうかは、分析の段階では分からない。つまり、データに教師（答え）となるべき変数は含まれていない。そのため、クラスター分析（セグメント分類）は、*教師なし学習* ということになる。\n",
    "\n",
    "クラスター分析は、データにモデルを仮定する分析方法ではなく、ヒューリスティック(heuristic)な分類手法である。\n",
    "ヒューリスティクスは発見的なと訳されることがあるが、要するに、完全な正解を得られるという保証はないが、それに近い回答を求めることができる手法、試行錯誤だと考えてよいだろう。逆にいうと、完全な正解が想定されていないので、結果の正しさを判断する基準もない。そのため、応用範囲あるいは実用性は狭いが、結果をグラフ（デンドログラム）として表示できるため、てもとのデータの傾向を確認する手法として、よく利用される。"
   ]
  },
  {
   "attachments": {},
   "cell_type": "markdown",
   "id": "a0703a56",
   "metadata": {},
   "source": [
    "また、教師なしのクラスタリングでは、クラスター（セグメント）の数を事前に指定できない場合が多い。クラスターの数を判断する指標はいくつか提案されているが、最終的には、予測の精度などを比較して決めることになるだろう。\n",
    "\n",
    "以下のデータを例にクラスター分析を実行してみよう。"
   ]
  },
  {
   "attachments": {},
   "cell_type": "markdown",
   "id": "fb7d3a0c",
   "metadata": {},
   "source": [
    "ここでも、前の週に利用した `iris` データで分析を行ってみよう。`iris` データは、３種類のあやめの品種からそれぞれ５０個体が採集され、それぞれについてガクおよび花弁の長さと幅が記録されたデータであった。前の週は `seaborn` 付属の `iris` を利用したが、ここでは `scikit learn` 付属の `iris` を使ってみよう。前者は単純なデータフレームであったが、こちらの `iris` はやや複雑なデータになっている。"
   ]
  },
  {
   "cell_type": "code",
   "execution_count": 18,
   "id": "e16d89e3",
   "metadata": {},
   "outputs": [
    {
     "data": {
      "text/plain": [
       "{'data': array([[5.1, 3.5, 1.4, 0.2],\n",
       "        [4.9, 3. , 1.4, 0.2],\n",
       "        [4.7, 3.2, 1.3, 0.2],\n",
       "        [4.6, 3.1, 1.5, 0.2],\n",
       "        [5. , 3.6, 1.4, 0.2],\n",
       "        [5.4, 3.9, 1.7, 0.4],\n",
       "        [4.6, 3.4, 1.4, 0.3],\n",
       "        [5. , 3.4, 1.5, 0.2],\n",
       "        [4.4, 2.9, 1.4, 0.2],\n",
       "        [4.9, 3.1, 1.5, 0.1],\n",
       "        [5.4, 3.7, 1.5, 0.2],\n",
       "        [4.8, 3.4, 1.6, 0.2],\n",
       "        [4.8, 3. , 1.4, 0.1],\n",
       "        [4.3, 3. , 1.1, 0.1],\n",
       "        [5.8, 4. , 1.2, 0.2],\n",
       "        [5.7, 4.4, 1.5, 0.4],\n",
       "        [5.4, 3.9, 1.3, 0.4],\n",
       "        [5.1, 3.5, 1.4, 0.3],\n",
       "        [5.7, 3.8, 1.7, 0.3],\n",
       "        [5.1, 3.8, 1.5, 0.3],\n",
       "        [5.4, 3.4, 1.7, 0.2],\n",
       "        [5.1, 3.7, 1.5, 0.4],\n",
       "        [4.6, 3.6, 1. , 0.2],\n",
       "        [5.1, 3.3, 1.7, 0.5],\n",
       "        [4.8, 3.4, 1.9, 0.2],\n",
       "        [5. , 3. , 1.6, 0.2],\n",
       "        [5. , 3.4, 1.6, 0.4],\n",
       "        [5.2, 3.5, 1.5, 0.2],\n",
       "        [5.2, 3.4, 1.4, 0.2],\n",
       "        [4.7, 3.2, 1.6, 0.2],\n",
       "        [4.8, 3.1, 1.6, 0.2],\n",
       "        [5.4, 3.4, 1.5, 0.4],\n",
       "        [5.2, 4.1, 1.5, 0.1],\n",
       "        [5.5, 4.2, 1.4, 0.2],\n",
       "        [4.9, 3.1, 1.5, 0.2],\n",
       "        [5. , 3.2, 1.2, 0.2],\n",
       "        [5.5, 3.5, 1.3, 0.2],\n",
       "        [4.9, 3.6, 1.4, 0.1],\n",
       "        [4.4, 3. , 1.3, 0.2],\n",
       "        [5.1, 3.4, 1.5, 0.2],\n",
       "        [5. , 3.5, 1.3, 0.3],\n",
       "        [4.5, 2.3, 1.3, 0.3],\n",
       "        [4.4, 3.2, 1.3, 0.2],\n",
       "        [5. , 3.5, 1.6, 0.6],\n",
       "        [5.1, 3.8, 1.9, 0.4],\n",
       "        [4.8, 3. , 1.4, 0.3],\n",
       "        [5.1, 3.8, 1.6, 0.2],\n",
       "        [4.6, 3.2, 1.4, 0.2],\n",
       "        [5.3, 3.7, 1.5, 0.2],\n",
       "        [5. , 3.3, 1.4, 0.2],\n",
       "        [7. , 3.2, 4.7, 1.4],\n",
       "        [6.4, 3.2, 4.5, 1.5],\n",
       "        [6.9, 3.1, 4.9, 1.5],\n",
       "        [5.5, 2.3, 4. , 1.3],\n",
       "        [6.5, 2.8, 4.6, 1.5],\n",
       "        [5.7, 2.8, 4.5, 1.3],\n",
       "        [6.3, 3.3, 4.7, 1.6],\n",
       "        [4.9, 2.4, 3.3, 1. ],\n",
       "        [6.6, 2.9, 4.6, 1.3],\n",
       "        [5.2, 2.7, 3.9, 1.4],\n",
       "        [5. , 2. , 3.5, 1. ],\n",
       "        [5.9, 3. , 4.2, 1.5],\n",
       "        [6. , 2.2, 4. , 1. ],\n",
       "        [6.1, 2.9, 4.7, 1.4],\n",
       "        [5.6, 2.9, 3.6, 1.3],\n",
       "        [6.7, 3.1, 4.4, 1.4],\n",
       "        [5.6, 3. , 4.5, 1.5],\n",
       "        [5.8, 2.7, 4.1, 1. ],\n",
       "        [6.2, 2.2, 4.5, 1.5],\n",
       "        [5.6, 2.5, 3.9, 1.1],\n",
       "        [5.9, 3.2, 4.8, 1.8],\n",
       "        [6.1, 2.8, 4. , 1.3],\n",
       "        [6.3, 2.5, 4.9, 1.5],\n",
       "        [6.1, 2.8, 4.7, 1.2],\n",
       "        [6.4, 2.9, 4.3, 1.3],\n",
       "        [6.6, 3. , 4.4, 1.4],\n",
       "        [6.8, 2.8, 4.8, 1.4],\n",
       "        [6.7, 3. , 5. , 1.7],\n",
       "        [6. , 2.9, 4.5, 1.5],\n",
       "        [5.7, 2.6, 3.5, 1. ],\n",
       "        [5.5, 2.4, 3.8, 1.1],\n",
       "        [5.5, 2.4, 3.7, 1. ],\n",
       "        [5.8, 2.7, 3.9, 1.2],\n",
       "        [6. , 2.7, 5.1, 1.6],\n",
       "        [5.4, 3. , 4.5, 1.5],\n",
       "        [6. , 3.4, 4.5, 1.6],\n",
       "        [6.7, 3.1, 4.7, 1.5],\n",
       "        [6.3, 2.3, 4.4, 1.3],\n",
       "        [5.6, 3. , 4.1, 1.3],\n",
       "        [5.5, 2.5, 4. , 1.3],\n",
       "        [5.5, 2.6, 4.4, 1.2],\n",
       "        [6.1, 3. , 4.6, 1.4],\n",
       "        [5.8, 2.6, 4. , 1.2],\n",
       "        [5. , 2.3, 3.3, 1. ],\n",
       "        [5.6, 2.7, 4.2, 1.3],\n",
       "        [5.7, 3. , 4.2, 1.2],\n",
       "        [5.7, 2.9, 4.2, 1.3],\n",
       "        [6.2, 2.9, 4.3, 1.3],\n",
       "        [5.1, 2.5, 3. , 1.1],\n",
       "        [5.7, 2.8, 4.1, 1.3],\n",
       "        [6.3, 3.3, 6. , 2.5],\n",
       "        [5.8, 2.7, 5.1, 1.9],\n",
       "        [7.1, 3. , 5.9, 2.1],\n",
       "        [6.3, 2.9, 5.6, 1.8],\n",
       "        [6.5, 3. , 5.8, 2.2],\n",
       "        [7.6, 3. , 6.6, 2.1],\n",
       "        [4.9, 2.5, 4.5, 1.7],\n",
       "        [7.3, 2.9, 6.3, 1.8],\n",
       "        [6.7, 2.5, 5.8, 1.8],\n",
       "        [7.2, 3.6, 6.1, 2.5],\n",
       "        [6.5, 3.2, 5.1, 2. ],\n",
       "        [6.4, 2.7, 5.3, 1.9],\n",
       "        [6.8, 3. , 5.5, 2.1],\n",
       "        [5.7, 2.5, 5. , 2. ],\n",
       "        [5.8, 2.8, 5.1, 2.4],\n",
       "        [6.4, 3.2, 5.3, 2.3],\n",
       "        [6.5, 3. , 5.5, 1.8],\n",
       "        [7.7, 3.8, 6.7, 2.2],\n",
       "        [7.7, 2.6, 6.9, 2.3],\n",
       "        [6. , 2.2, 5. , 1.5],\n",
       "        [6.9, 3.2, 5.7, 2.3],\n",
       "        [5.6, 2.8, 4.9, 2. ],\n",
       "        [7.7, 2.8, 6.7, 2. ],\n",
       "        [6.3, 2.7, 4.9, 1.8],\n",
       "        [6.7, 3.3, 5.7, 2.1],\n",
       "        [7.2, 3.2, 6. , 1.8],\n",
       "        [6.2, 2.8, 4.8, 1.8],\n",
       "        [6.1, 3. , 4.9, 1.8],\n",
       "        [6.4, 2.8, 5.6, 2.1],\n",
       "        [7.2, 3. , 5.8, 1.6],\n",
       "        [7.4, 2.8, 6.1, 1.9],\n",
       "        [7.9, 3.8, 6.4, 2. ],\n",
       "        [6.4, 2.8, 5.6, 2.2],\n",
       "        [6.3, 2.8, 5.1, 1.5],\n",
       "        [6.1, 2.6, 5.6, 1.4],\n",
       "        [7.7, 3. , 6.1, 2.3],\n",
       "        [6.3, 3.4, 5.6, 2.4],\n",
       "        [6.4, 3.1, 5.5, 1.8],\n",
       "        [6. , 3. , 4.8, 1.8],\n",
       "        [6.9, 3.1, 5.4, 2.1],\n",
       "        [6.7, 3.1, 5.6, 2.4],\n",
       "        [6.9, 3.1, 5.1, 2.3],\n",
       "        [5.8, 2.7, 5.1, 1.9],\n",
       "        [6.8, 3.2, 5.9, 2.3],\n",
       "        [6.7, 3.3, 5.7, 2.5],\n",
       "        [6.7, 3. , 5.2, 2.3],\n",
       "        [6.3, 2.5, 5. , 1.9],\n",
       "        [6.5, 3. , 5.2, 2. ],\n",
       "        [6.2, 3.4, 5.4, 2.3],\n",
       "        [5.9, 3. , 5.1, 1.8]]),\n",
       " 'target': array([0, 0, 0, 0, 0, 0, 0, 0, 0, 0, 0, 0, 0, 0, 0, 0, 0, 0, 0, 0, 0, 0,\n",
       "        0, 0, 0, 0, 0, 0, 0, 0, 0, 0, 0, 0, 0, 0, 0, 0, 0, 0, 0, 0, 0, 0,\n",
       "        0, 0, 0, 0, 0, 0, 1, 1, 1, 1, 1, 1, 1, 1, 1, 1, 1, 1, 1, 1, 1, 1,\n",
       "        1, 1, 1, 1, 1, 1, 1, 1, 1, 1, 1, 1, 1, 1, 1, 1, 1, 1, 1, 1, 1, 1,\n",
       "        1, 1, 1, 1, 1, 1, 1, 1, 1, 1, 1, 1, 2, 2, 2, 2, 2, 2, 2, 2, 2, 2,\n",
       "        2, 2, 2, 2, 2, 2, 2, 2, 2, 2, 2, 2, 2, 2, 2, 2, 2, 2, 2, 2, 2, 2,\n",
       "        2, 2, 2, 2, 2, 2, 2, 2, 2, 2, 2, 2, 2, 2, 2, 2, 2, 2]),\n",
       " 'frame': None,\n",
       " 'target_names': array(['setosa', 'versicolor', 'virginica'], dtype='<U10'),\n",
       " 'DESCR': '.. _iris_dataset:\\n\\nIris plants dataset\\n--------------------\\n\\n**Data Set Characteristics:**\\n\\n    :Number of Instances: 150 (50 in each of three classes)\\n    :Number of Attributes: 4 numeric, predictive attributes and the class\\n    :Attribute Information:\\n        - sepal length in cm\\n        - sepal width in cm\\n        - petal length in cm\\n        - petal width in cm\\n        - class:\\n                - Iris-Setosa\\n                - Iris-Versicolour\\n                - Iris-Virginica\\n                \\n    :Summary Statistics:\\n\\n    ============== ==== ==== ======= ===== ====================\\n                    Min  Max   Mean    SD   Class Correlation\\n    ============== ==== ==== ======= ===== ====================\\n    sepal length:   4.3  7.9   5.84   0.83    0.7826\\n    sepal width:    2.0  4.4   3.05   0.43   -0.4194\\n    petal length:   1.0  6.9   3.76   1.76    0.9490  (high!)\\n    petal width:    0.1  2.5   1.20   0.76    0.9565  (high!)\\n    ============== ==== ==== ======= ===== ====================\\n\\n    :Missing Attribute Values: None\\n    :Class Distribution: 33.3% for each of 3 classes.\\n    :Creator: R.A. Fisher\\n    :Donor: Michael Marshall (MARSHALL%PLU@io.arc.nasa.gov)\\n    :Date: July, 1988\\n\\nThe famous Iris database, first used by Sir R.A. Fisher. The dataset is taken\\nfrom Fisher\\'s paper. Note that it\\'s the same as in R, but not as in the UCI\\nMachine Learning Repository, which has two wrong data points.\\n\\nThis is perhaps the best known database to be found in the\\npattern recognition literature.  Fisher\\'s paper is a classic in the field and\\nis referenced frequently to this day.  (See Duda & Hart, for example.)  The\\ndata set contains 3 classes of 50 instances each, where each class refers to a\\ntype of iris plant.  One class is linearly separable from the other 2; the\\nlatter are NOT linearly separable from each other.\\n\\n.. topic:: References\\n\\n   - Fisher, R.A. \"The use of multiple measurements in taxonomic problems\"\\n     Annual Eugenics, 7, Part II, 179-188 (1936); also in \"Contributions to\\n     Mathematical Statistics\" (John Wiley, NY, 1950).\\n   - Duda, R.O., & Hart, P.E. (1973) Pattern Classification and Scene Analysis.\\n     (Q327.D83) John Wiley & Sons.  ISBN 0-471-22361-1.  See page 218.\\n   - Dasarathy, B.V. (1980) \"Nosing Around the Neighborhood: A New System\\n     Structure and Classification Rule for Recognition in Partially Exposed\\n     Environments\".  IEEE Transactions on Pattern Analysis and Machine\\n     Intelligence, Vol. PAMI-2, No. 1, 67-71.\\n   - Gates, G.W. (1972) \"The Reduced Nearest Neighbor Rule\".  IEEE Transactions\\n     on Information Theory, May 1972, 431-433.\\n   - See also: 1988 MLC Proceedings, 54-64.  Cheeseman et al\"s AUTOCLASS II\\n     conceptual clustering system finds 3 classes in the data.\\n   - Many, many more ...',\n",
       " 'feature_names': ['sepal length (cm)',\n",
       "  'sepal width (cm)',\n",
       "  'petal length (cm)',\n",
       "  'petal width (cm)'],\n",
       " 'filename': 'iris.csv',\n",
       " 'data_module': 'sklearn.datasets.data'}"
      ]
     },
     "execution_count": 18,
     "metadata": {},
     "output_type": "execute_result"
    }
   ],
   "source": [
    "import numpy as np\n",
    "from matplotlib import pyplot as plt\n",
    "from scipy.cluster.hierarchy import dendrogram\n",
    "from sklearn.datasets import load_iris\n",
    "from sklearn.cluster import AgglomerativeClustering\n",
    "iris = load_iris()\n",
    "iris"
   ]
  },
  {
   "attachments": {},
   "cell_type": "markdown",
   "id": "280c57a4",
   "metadata": {},
   "source": [
    "ちなみに、以下のように実行すると `iris` データの説明が表"
   ]
  },
  {
   "cell_type": "code",
   "execution_count": 19,
   "id": "80d56c40",
   "metadata": {},
   "outputs": [
    {
     "name": "stdout",
     "output_type": "stream",
     "text": [
      ".. _iris_dataset:\n",
      "\n",
      "Iris plants dataset\n",
      "--------------------\n",
      "\n",
      "**Data Set Characteristics:**\n",
      "\n",
      "    :Number of Instances: 150 (50 in each of three classes)\n",
      "    :Number of Attributes: 4 numeric, predictive attributes and the class\n",
      "    :Attribute Information:\n",
      "        - sepal length in cm\n",
      "        - sepal width in cm\n",
      "        - petal length in cm\n",
      "        - petal width in cm\n",
      "        - class:\n",
      "                - Iris-Setosa\n",
      "                - Iris-Versicolour\n",
      "                - Iris-Virginica\n",
      "                \n",
      "    :Summary Statistics:\n",
      "\n",
      "    ============== ==== ==== ======= ===== ====================\n",
      "                    Min  Max   Mean    SD   Class Correlation\n",
      "    ============== ==== ==== ======= ===== ====================\n",
      "    sepal length:   4.3  7.9   5.84   0.83    0.7826\n",
      "    sepal width:    2.0  4.4   3.05   0.43   -0.4194\n",
      "    petal length:   1.0  6.9   3.76   1.76    0.9490  (high!)\n",
      "    petal width:    0.1  2.5   1.20   0.76    0.9565  (high!)\n",
      "    ============== ==== ==== ======= ===== ====================\n",
      "\n",
      "    :Missing Attribute Values: None\n",
      "    :Class Distribution: 33.3% for each of 3 classes.\n",
      "    :Creator: R.A. Fisher\n",
      "    :Donor: Michael Marshall (MARSHALL%PLU@io.arc.nasa.gov)\n",
      "    :Date: July, 1988\n",
      "\n",
      "The famous Iris database, first used by Sir R.A. Fisher. The dataset is taken\n",
      "from Fisher's paper. Note that it's the same as in R, but not as in the UCI\n",
      "Machine Learning Repository, which has two wrong data points.\n",
      "\n",
      "This is perhaps the best known database to be found in the\n",
      "pattern recognition literature.  Fisher's paper is a classic in the field and\n",
      "is referenced frequently to this day.  (See Duda & Hart, for example.)  The\n",
      "data set contains 3 classes of 50 instances each, where each class refers to a\n",
      "type of iris plant.  One class is linearly separable from the other 2; the\n",
      "latter are NOT linearly separable from each other.\n",
      "\n",
      ".. topic:: References\n",
      "\n",
      "   - Fisher, R.A. \"The use of multiple measurements in taxonomic problems\"\n",
      "     Annual Eugenics, 7, Part II, 179-188 (1936); also in \"Contributions to\n",
      "     Mathematical Statistics\" (John Wiley, NY, 1950).\n",
      "   - Duda, R.O., & Hart, P.E. (1973) Pattern Classification and Scene Analysis.\n",
      "     (Q327.D83) John Wiley & Sons.  ISBN 0-471-22361-1.  See page 218.\n",
      "   - Dasarathy, B.V. (1980) \"Nosing Around the Neighborhood: A New System\n",
      "     Structure and Classification Rule for Recognition in Partially Exposed\n",
      "     Environments\".  IEEE Transactions on Pattern Analysis and Machine\n",
      "     Intelligence, Vol. PAMI-2, No. 1, 67-71.\n",
      "   - Gates, G.W. (1972) \"The Reduced Nearest Neighbor Rule\".  IEEE Transactions\n",
      "     on Information Theory, May 1972, 431-433.\n",
      "   - See also: 1988 MLC Proceedings, 54-64.  Cheeseman et al\"s AUTOCLASS II\n",
      "     conceptual clustering system finds 3 classes in the data.\n",
      "   - Many, many more ...\n"
     ]
    }
   ],
   "source": [
    "print(iris.DESCR)"
   ]
  },
  {
   "attachments": {},
   "cell_type": "markdown",
   "id": "0ef020d7",
   "metadata": {},
   "source": [
    "クラスター分析では、４つの計測値を利用するので、これを `X` として保存しておく。"
   ]
  },
  {
   "cell_type": "code",
   "execution_count": 20,
   "id": "44568a88",
   "metadata": {},
   "outputs": [
    {
     "data": {
      "text/plain": [
       "(150, 4)"
      ]
     },
     "execution_count": 20,
     "metadata": {},
     "output_type": "execute_result"
    }
   ],
   "source": [
    "X = iris.data\n",
    "X.shape"
   ]
  },
  {
   "attachments": {},
   "cell_type": "markdown",
   "id": "2747a10d",
   "metadata": {},
   "source": [
    "150行4列の行列としてデータが取り出された。\n",
    "\n",
    "とりあえず、クラスター分析を実行し、グラフを描くと次のようになる。なお、以下のコードは scikit-learn 公式マニュアル(https://scikit-learn.org/stable/auto_examples/cluster/plot_agglomerative_dendrogram.html)に掲載されている（一部変更している）。"
   ]
  },
  {
   "cell_type": "code",
   "execution_count": 21,
   "id": "7fca0f8b",
   "metadata": {},
   "outputs": [
    {
     "name": "stderr",
     "output_type": "stream",
     "text": [
      "/home/ishida/.pyenv/versions/3.10.10/lib/python3.10/site-packages/sklearn/cluster/_agglomerative.py:983: FutureWarning: Attribute `affinity` was deprecated in version 1.2 and will be removed in 1.4. Use `metric` instead\n",
      "  warnings.warn(\n"
     ]
    },
    {
     "data": {
      "image/png": "[encoded data removed]",
      "text/plain": [
       "<Figure size 640x480 with 1 Axes>"
      ]
     },
     "metadata": {},
     "output_type": "display_data"
    }
   ],
   "source": [
    "model = AgglomerativeClustering(affinity='euclidean', linkage='ward',\n",
    "                                distance_threshold=0, n_clusters=None)\n",
    "\n",
    "model = model.fit(X)\n",
    "def plot_dendrogram(model, **kwargs):\n",
    "    # Create linkage matrix and then plot the dendrogram\n",
    "    # create the counts of samples under each node\n",
    "    counts = np.zeros(model.children_.shape[0])\n",
    "    n_samples = len(model.labels_)\n",
    "    for i, merge in enumerate(model.children_):\n",
    "        current_count = 0\n",
    "        for child_idx in merge:\n",
    "            if child_idx < n_samples:\n",
    "                current_count += 1  # leaf node\n",
    "            else:\n",
    "                current_count += counts[child_idx - n_samples]\n",
    "        counts[i] = current_count\n",
    "\n",
    "    linkage_matrix = np.column_stack([model.children_, model.distances_,\n",
    "                                      counts]).astype(float)\n",
    "\n",
    "    # Plot the corresponding dendrogram\n",
    "    dendrogram(linkage_matrix, **kwargs)\n",
    "\n",
    "plt.style.use('ggplot')   \n",
    "plt.title('Cluster Analysis')\n",
    "plot_dendrogram(model, truncate_mode='level', p=10)"
   ]
  },
  {
   "attachments": {},
   "cell_type": "markdown",
   "id": "85b6e10b",
   "metadata": {},
   "source": [
    "X軸の下に並んでいるのが、あやめの個体の番号である。その上にあみだくじのような線分がつながっている。 下から、４つの計測値が似ている個体が1つのクラスターに配分され、さらに上にいくと、クラスターどうしが結合し、最後に全体で1つのクラスターにまとめられている。このグラフを**デンドログラム**という。クラスター分析の結果は、こうしたデンドログラムにもとづいて解釈される。\n",
    "\n",
    "ここで使われているグループ化の手法を**階層的クラスター分析**（かいそうてきくらすたーぶんせき：hierachy clustering）という。これは、個体それぞれの観測値から、それぞれの個体どうしの距離（きょり：distance）をもとめ、その距離の近さを基準として、次々とクラスター化（グループ化）していく手法である。完成したクラスターは**デンドログラム**と呼ばれるグラフで表現されることが多い。"
   ]
  },
  {
   "attachments": {},
   "cell_type": "markdown",
   "id": "13d6c393",
   "metadata": {},
   "source": [
    "階層クラスタリングでは、個々の観測値どうしの距離と、その観測値が属するクラスターの距離にもとづいてクラスター化を行う（数学的な方法については省略する）。 つまり以下の手順で分類がおこなわれる。\n",
    "\n",
    "1. すべての観測値同士の距離（非類似度）を計算する\n",
    "2. 個々の観測値を独立したクラスターとみなす\n",
    "3. クラスター間の距離がもっとも近いクラスターを結合する\n",
    "4. クラスターに属する個体について距離を再計算する\n",
    "5. 全体が1つのクラスターになるまで手順3と4を繰り返す"
   ]
  },
  {
   "attachments": {},
   "cell_type": "markdown",
   "id": "e4b2d896",
   "metadata": {},
   "source": [
    "階層的クラスタリングでは、観測値同士の距離の測り方と、クラスターを結合するアルゴリズムの組み合わせによって、作成されるクラスターが異なることが多い。\n",
    "\n",
    "<!--\n",
    "たとえば、$X$ と $Y$ という二つの観測値は、それぞれが $n$ 個の変数が記録されている。\n",
    "ユークリッド距離では、$X$ と $Y$ の非類似度は以下のように求められる。\n",
    "\n",
    "$$\n",
    "d(X, Y) = \\sqrt{(X_1 - Y_1)^2 + (X_2 - Y_2)^2 + \\dots  + (X_n - Y_n)^2}\n",
    "$$\n",
    "\n",
    "距離の求め方には、他にもマンハッタン法やマハラノビス距離などが提案されている。\n",
    "\n",
    "それぞれのクラスター（初期の段階では観測値が1つ）のペアごとに距離を求めたら、もっとも近いペアを1つのクラスターに併合（へいごう、統合）する。\n",
    "ここで、もっとも近いペアを求める方法にも多数の提案がある。\n",
    "たとえば、２つのクラスターをペアとし、それぞれから1個ずつ観測値を選んで距離を求める。\n",
    "この距離の最小値をクラスター間の距離とする方法（単連結法たんれけつほう、最近隣法しきんりんほう）や、逆に距離の最大値をクラスター間の距離とする方法（完全連結法かんぜんれんけつほう、最遠隣法さいえんりんほう）、\n",
    "２つのクラスターのグループ内の分散と、グループ間の分散の比を最大化する方法（ウォード法）などがある。\n",
    "\n",
    "一般には、解釈のしやすい結果を得られる組み合わせを選ぶことになるが、その意味では、結果が恣意的になるとも言える。\n",
    "また、個々の観測値の距離を総当りで求めるため、計算の負荷も高い。\n",
    "ただ、デンドログラムによるクラスター表現は直感的に分かりやすいため、現在も多くの場面で使われる分類技法である。\n",
    "-->\n",
    "\n",
    "クラスター分析には、他に**非階層クラスター分析**があり、k-means法が代表である。この講義では取り上げないが、検索サイトを使って、具体的な事例を確認してほしい。\n",
    "\n",
    "<span style=\"color: red; \">Key Points of Today's Lecture</span>\n",
    "\n",
    "<iframe width=\"560\" height=\"315\" src=\"https://www.youtube.com/embed/4F80lCKzpEU\" frameborder=\"0\" allow=\"accelerometer; autoplay; encrypted-media; gyroscope; picture-in-picture\" allowfullscreen></iframe>\n"
   ]
  },
  {
   "attachments": {},
   "cell_type": "markdown",
   "id": "8be01452",
   "metadata": {},
   "source": [
    "## ＊ここまでの要約ビデオ５（過去の講義の録画です）\n",
    "\n",
    "<font color=\"red\">石田講義録画</font>\n",
    "<iframe width=\"640\" height=\"360\" src=\"https://web.microsoftstream.com/embed/video/8800a272-829d-469b-ad4f-d27e966f2fe2?autoplay=false&showinfo=true\" allowfullscreen style=\"border:none;\"></iframe>"
   ]
  },
  {
   "attachments": {},
   "cell_type": "markdown",
   "id": "79ebb766",
   "metadata": {},
   "source": [
    "## 付録\n",
    "\n",
    "データサイエンスのトライアルに使えるデータ集"
   ]
  },
  {
   "attachments": {},
   "cell_type": "markdown",
   "id": "6016bbb6",
   "metadata": {},
   "source": [
    "- 理科ネットワーク「科学の道具箱」データライブラリー授業で使えるデータ集 https://rika-net.com/contents/cp0530/contents/index.html\n",
    "- 新学習指導要領　情報Ⅰ，Ⅱ　「データの活用・データサイエンス」授業で使用可能なPOSデータ https://estat.sci.kagoshima-u.ac.jp/data/cgi-bin/data/whats_display.cgi?id:data+filter:1!ct!08\n",
    "- コロナウィルス関連のデータOur World in Data https://ourworldindata.org/coronavirus\n",
    "- 機械学習用データセット一覧（フリー素材） https://phy-lum.com/opendata/machine-learning-dataset.html\n"
   ]
  }
 ],
 "metadata": {
  "jupytext": {
   "cell_metadata_filter": "tags,show,eval,name,message,-all",
   "main_language": "python",
   "notebook_metadata_filter": "-all"
  },
  "kernelspec": {
   "display_name": "Python 3",
   "language": "python",
   "name": "python3"
  },
  "language_info": {
   "codemirror_mode": {
    "name": "ipython",
    "version": 3
   },
   "file_extension": ".py",
   "mimetype": "text/x-python",
   "name": "python",
   "nbconvert_exporter": "python",
   "pygments_lexer": "ipython3",
   "version": "3.10.10"
  }
 },
 "nbformat": 4,
 "nbformat_minor": 5
}
